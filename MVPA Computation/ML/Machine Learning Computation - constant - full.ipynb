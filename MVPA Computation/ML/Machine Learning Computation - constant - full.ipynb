{
 "cells": [
  {
   "cell_type": "code",
   "execution_count": 1,
   "metadata": {
    "id": "Cs4vCXzHXrFL"
   },
   "outputs": [],
   "source": [
    "import numpy as np\n",
    "import pandas as pd\n",
    "from numpy import array\n",
    "import matplotlib.pyplot as plt\n",
    "\n",
    "from sklearn.feature_selection import f_classif, mutual_info_classif, SelectFdr\n",
    "\n",
    "from sklearn.feature_selection import GenericUnivariateSelect\n",
    "from sklearn.svm import LinearSVC, NuSVC\n",
    "from sklearn.model_selection import train_test_split\n",
    "from sklearn.ensemble import RandomForestClassifier \n",
    "\n",
    "from scipy.stats import uniform, randint\n",
    "\n",
    "import numpy as np\n",
    "import matplotlib.pyplot as plt\n",
    "from sklearn.naive_bayes import GaussianNB\n",
    "from sklearn.svm import SVC\n",
    "from sklearn.datasets import load_digits\n",
    "from sklearn.model_selection import learning_curve\n",
    "from sklearn.model_selection import ShuffleSplit\n",
    "from sklearn.model_selection import cross_val_score\n",
    "\n",
    "import xgboost as xgb\n",
    "from sklearn.metrics import auc, accuracy_score, confusion_matrix, mean_squared_error\n",
    "from sklearn.model_selection import cross_val_score, GridSearchCV, KFold, RandomizedSearchCV, train_test_split\n",
    "\n",
    "from warnings import filterwarnings\n",
    "filterwarnings('ignore')\n"
   ]
  },
  {
   "cell_type": "code",
   "execution_count": 2,
   "metadata": {
    "id": "F9rXqu8pJW8o"
   },
   "outputs": [],
   "source": [
    "\n",
    "def plot_learning_curve(estimator, title, X, y, axes=None, ylim=None, cv=None,\n",
    "                        n_jobs=None, train_sizes=np.linspace(.1, 1.0, 5)):\n",
    "    \"\"\"\n",
    "    Generate 3 plots: the test and training learning curve, the training\n",
    "    samples vs fit times curve, the fit times vs score curve.\n",
    "\n",
    "    Parameters\n",
    "    ----------\n",
    "    estimator : object type that implements the \"fit\" and \"predict\" methods\n",
    "        An object of that type which is cloned for each validation.\n",
    "\n",
    "    title : string\n",
    "        Title for the chart.\n",
    "\n",
    "    X : array-like, shape (n_samples, n_features)\n",
    "        Training vector, where n_samples is the number of samples and\n",
    "        n_features is the number of features.\n",
    "\n",
    "    y : array-like, shape (n_samples) or (n_samples, n_features), optional\n",
    "        Target relative to X for classification or regression;\n",
    "        None for unsupervised learning.\n",
    "\n",
    "    axes : array of 3 axes, optional (default=None)\n",
    "        Axes to use for plotting the curves.\n",
    "\n",
    "    ylim : tuple, shape (ymin, ymax), optional\n",
    "        Defines minimum and maximum yvalues plotted.\n",
    "\n",
    "    cv : int, cross-validation generator or an iterable, optional\n",
    "        Determines the cross-validation splitting strategy.\n",
    "        Possible inputs for cv are:\n",
    "\n",
    "          - None, to use the default 5-fold cross-validation,\n",
    "          - integer, to specify the number of folds.\n",
    "          - :term:`CV splitter`,\n",
    "          - An iterable yielding (train, test) splits as arrays of indices.\n",
    "\n",
    "        For integer/None inputs, if ``y`` is binary or multiclass,\n",
    "        :class:`StratifiedKFold` used. If the estimator is not a classifier\n",
    "        or if ``y`` is neither binary nor multiclass, :class:`KFold` is used.\n",
    "\n",
    "        Refer :ref:`User Guide <cross_validation>` for the various\n",
    "        cross-validators that can be used here.\n",
    "\n",
    "    n_jobs : int or None, optional (default=None)\n",
    "        Number of jobs to run in parallel.\n",
    "        ``None`` means 1 unless in a :obj:`joblib.parallel_backend` context.\n",
    "        ``-1`` means using all processors. See :term:`Glossary <n_jobs>`\n",
    "        for more details.\n",
    "\n",
    "    train_sizes : array-like, shape (n_ticks,), dtype float or int\n",
    "        Relative or absolute numbers of training examples that will be used to\n",
    "        generate the learning curve. If the dtype is float, it is regarded as a\n",
    "        fraction of the maximum size of the training set (that is determined\n",
    "        by the selected validation method), i.e. it has to be within (0, 1].\n",
    "        Otherwise it is interpreted as absolute sizes of the training sets.\n",
    "        Note that for classification the number of samples usually have to\n",
    "        be big enough to contain at least one sample from each class.\n",
    "        (default: np.linspace(0.1, 1.0, 5))\n",
    "    \"\"\"\n",
    "    if axes is None:\n",
    "        _, axes = plt.subplots(1, 3, figsize=(20, 5))\n",
    "\n",
    "    axes[0].set_title(title)\n",
    "    if ylim is not None:\n",
    "        axes[0].set_ylim(*ylim)\n",
    "    axes[0].set_xlabel(\"Training examples\")\n",
    "    axes[0].set_ylabel(\"Score\")\n",
    "\n",
    "    train_sizes, train_scores, test_scores, fit_times, _ = \\\n",
    "        learning_curve(estimator, X, y, cv=cv, n_jobs=n_jobs,\n",
    "                       train_sizes=train_sizes,\n",
    "                       return_times=True)\n",
    "    train_scores_mean = np.mean(train_scores, axis=1)\n",
    "    train_scores_std = np.std(train_scores, axis=1)\n",
    "    test_scores_mean = np.mean(test_scores, axis=1)\n",
    "    test_scores_std = np.std(test_scores, axis=1)\n",
    "    fit_times_mean = np.mean(fit_times, axis=1)\n",
    "    fit_times_std = np.std(fit_times, axis=1)\n",
    "\n",
    "    # Plot learning curve\n",
    "    axes[0].grid()\n",
    "    axes[0].fill_between(train_sizes, train_scores_mean - train_scores_std,\n",
    "                         train_scores_mean + train_scores_std, alpha=0.1,\n",
    "                         color=\"r\")\n",
    "    axes[0].fill_between(train_sizes, test_scores_mean - test_scores_std,\n",
    "                         test_scores_mean + test_scores_std, alpha=0.1,\n",
    "                         color=\"g\")\n",
    "    axes[0].plot(train_sizes, train_scores_mean, 'o-', color=\"r\",\n",
    "                 label=\"Training score\")\n",
    "    axes[0].plot(train_sizes, test_scores_mean, 'o-', color=\"g\",\n",
    "                 label=\"Cross-validation score\")\n",
    "    axes[0].legend(loc=\"best\")\n",
    "\n",
    "    # Plot n_samples vs fit_times\n",
    "    axes[1].grid()\n",
    "    axes[1].plot(train_sizes, fit_times_mean, 'o-')\n",
    "    axes[1].fill_between(train_sizes, fit_times_mean - fit_times_std,\n",
    "                         fit_times_mean + fit_times_std, alpha=0.1)\n",
    "    axes[1].set_xlabel(\"Training examples\")\n",
    "    axes[1].set_ylabel(\"fit_times\")\n",
    "    axes[1].set_title(\"Scalability of the model\")\n",
    "\n",
    "    # Plot fit_time vs score\n",
    "    axes[2].grid()\n",
    "    axes[2].plot(fit_times_mean, test_scores_mean, 'o-')\n",
    "    axes[2].fill_between(fit_times_mean, test_scores_mean - test_scores_std,\n",
    "                         test_scores_mean + test_scores_std, alpha=0.1)\n",
    "    axes[2].set_xlabel(\"fit_times\")\n",
    "    axes[2].set_ylabel(\"Score\")\n",
    "    axes[2].set_title(\"Performance of the model\")\n",
    "\n",
    "    return plt"
   ]
  },
  {
   "cell_type": "code",
   "execution_count": 398,
   "metadata": {
    "id": "0KzSKSrn_INa"
   },
   "outputs": [],
   "source": [
    "def hyper_opt_procedure(model_object,params,cv,perf_df,X,y):\n",
    "\n",
    "\n",
    "  model = model_object()\n",
    "\n",
    "  # Initial Model Fit with stock hyper_params\n",
    "\n",
    "  init_score = np.mean(cross_val_score(model,X,y,cv=cv))\n",
    "\n",
    "  perf_df = perf_df.append({'Model Iteration': 'Stock Params',\n",
    "                              'Score':init_score}, ignore_index=True)\n",
    "\n",
    "  print('Initial Model with Stock Params Score : {}'.format(init_score))\n",
    "\n",
    "  # Random Search Cross Validation\n",
    "\n",
    "\n",
    "  search_model = RandomizedSearchCV(model,\n",
    "                                         param_distributions=params,\n",
    "                                         random_state=42, \n",
    "                                         n_iter=300, \n",
    "                                         cv=cv, \n",
    "                                         verbose=1, \n",
    "                                         n_jobs=1, \n",
    "                                         return_train_score=True)\n",
    "\n",
    "  search_model.fit(X,y)\n",
    "\n",
    "  best_search_model = search_model.best_estimator_\n",
    "\n",
    "  best_search_model_score = search_model.best_score_\n",
    "\n",
    "  perf_df = perf_df.append({'Model Iteration': 'Random HP Search Best Model',\n",
    "                      'Score':best_search_model_score}, ignore_index=True)\n",
    "\n",
    "  rd_score_improv = ((best_search_model_score - init_score)/init_score) * 100\n",
    "\n",
    "  print('Random HP Search Best Model Score : {}'.format(best_search_model_score))\n",
    "\n",
    "  print('Improvement of {}% relative to the initial model'.format(rd_score_improv))\n",
    "  \n",
    "  \n",
    "\n",
    "\n",
    "  return model, best_search_model\n",
    "   \n",
    "\n",
    "\n",
    "\n",
    "class hyper_model:\n",
    "    \n",
    "    def __init__(self,model_name,validation_approach,X,y):\n",
    "        \n",
    "        self.model_name = model_name\n",
    "        self.X = X\n",
    "        self.y = y\n",
    "        self.validation_approach= validation_approach\n",
    "        self.best_model = None\n",
    "        self.best_params = None\n",
    "        self.all_models_perf = pd.DataFrame(None,columns=['Model Iteration','Score'])\n",
    "        self.stock_model = None\n",
    "        self.rd_model = None\n",
    "\n",
    "\n",
    "    def fit(self):\n",
    "\n",
    "\n",
    "      if self.validation_approach == 'leave-one-run-out':\n",
    "\n",
    "        cv = KFold(n_splits=8, shuffle=False)\n",
    "\n",
    "      elif self.validation_approach == 'leave-one-run-out-shuffled':\n",
    "\n",
    "        cv = KFold(n_splits=8, shuffle=True, random_state=42)\n",
    "\n",
    "      elif self.validation_approach == 'leave-one-task-out':\n",
    "\n",
    "        cv = KFold(n_splits=4, shuffle=False)\n",
    "\n",
    "      elif self.validation_approach == 'leave-one-task-out-shuffled':\n",
    "\n",
    "        cv = KFold(n_splits=4, shuffle=True, random_state=42)    \n",
    "\n",
    "\n",
    " \n",
    "        \n",
    "        # Linear SVM\n",
    "\n",
    "      if self.model_name == 'linear_svm':\n",
    "\n",
    "        params = {'C': [0.1, 1, 10]} \n",
    "\n",
    "        self.stock_model, self.rd_model = hyper_opt_procedure(model_object=LinearSVC,\n",
    "                                                                                                 params=params,cv=cv,\n",
    "                                                                                                 perf_df=self.all_models_perf,\n",
    "                                                                                                 X=self.X,y=self.y)\n",
    "\n",
    "         \n",
    "\n",
    "      # Non Linear SVM\n",
    "\n",
    "\n",
    "      elif self.model_name == 'non_linear_svm':\n",
    "\n",
    "        params = { 'kernel': ['rbf','sigmoid']\n",
    "                       }\n",
    "\n",
    "\n",
    "        self.stock_model, self.rd_model = hyper_opt_procedure(model_object=NuSVC,\n",
    "                                                                                                 params=params,cv=cv,\n",
    "                                                                                                 perf_df=self.all_models_perf,\n",
    "                                                                                                 X=self.X,y=self.y)\n",
    "\n",
    "          \n",
    "      # Random Forest Classifier\n",
    "\n",
    "\n",
    "      elif self.model_name == 'random_forest_classifier':\n",
    "\n",
    "\n",
    "        params = {'bootstrap': [True],\n",
    "                    'max_depth': [60],\n",
    "                    'max_features': ['auto'],\n",
    "                    'min_samples_leaf': [4],\n",
    "                    'min_samples_split': [2, 5],\n",
    "                    'n_estimators': [1000]\n",
    "                   }\n",
    "\n",
    "\n",
    "        self.stock_model, self.rd_model = hyper_opt_procedure(model_object=RandomForestClassifier,\n",
    "                                                                                                 params=params,cv=cv,\n",
    "                                                                                                 perf_df=self.all_models_perf,\n",
    "                                                                                                 X=self.X,y=self.y)\n",
    "          \n",
    "\n",
    "\n",
    "\n",
    "      # XG Boost Classifier\n",
    "\n",
    "\n",
    "      elif self.model_name == 'xg_boost':\n",
    "\n",
    "        params = {\n",
    "              \"gamma\": [0.25,0.5]\n",
    "              }\n",
    "\n",
    "        self.stock_model, self.rd_model = hyper_opt_procedure(model_object=xgb.XGBClassifier,\n",
    "                                                                                                 params=params,cv=cv,\n",
    "                                                                                                 perf_df=self.all_models_perf,\n",
    "                                                                                                 X=self.X,y=self.y)  \n",
    "\n",
    "                \n",
    "                "
   ]
  },
  {
   "cell_type": "code",
   "execution_count": 4,
   "metadata": {
    "id": "mK0bYtMjvknM"
   },
   "outputs": [],
   "source": [
    "X = np.load('../../data/X_pref_lss_shift_constant_full.npy')"
   ]
  },
  {
   "cell_type": "code",
   "execution_count": 5,
   "metadata": {
    "colab": {
     "base_uri": "https://localhost:8080/"
    },
    "executionInfo": {
     "elapsed": 1448,
     "status": "ok",
     "timestamp": 1606957514653,
     "user": {
      "displayName": "Zakaria Bekkar",
      "photoUrl": "",
      "userId": "11013878220604787588"
     },
     "user_tz": -60
    },
    "id": "uqbxJx6gxbey",
    "outputId": "4540a493-73f0-46aa-eafc-bfd765fcc897"
   },
   "outputs": [
    {
     "data": {
      "text/plain": [
       "(480, 32898)"
      ]
     },
     "execution_count": 5,
     "metadata": {},
     "output_type": "execute_result"
    }
   ],
   "source": [
    "X.shape"
   ]
  },
  {
   "cell_type": "code",
   "execution_count": 6,
   "metadata": {
    "id": "Iojp3abFv1W0"
   },
   "outputs": [],
   "source": [
    "y = np.load('../../data/y_pref_lss_shift_constant_full.npy')"
   ]
  },
  {
   "cell_type": "code",
   "execution_count": 7,
   "metadata": {
    "colab": {
     "base_uri": "https://localhost:8080/"
    },
    "executionInfo": {
     "elapsed": 755,
     "status": "ok",
     "timestamp": 1606957516590,
     "user": {
      "displayName": "Zakaria Bekkar",
      "photoUrl": "",
      "userId": "11013878220604787588"
     },
     "user_tz": -60
    },
    "id": "HRfd5YRExl6M",
    "outputId": "3cebc92b-cee7-4648-a7e7-860612e6f3be"
   },
   "outputs": [
    {
     "data": {
      "text/plain": [
       "(480, 1)"
      ]
     },
     "execution_count": 7,
     "metadata": {},
     "output_type": "execute_result"
    }
   ],
   "source": [
    "y.shape"
   ]
  },
  {
   "cell_type": "markdown",
   "metadata": {
    "id": "-eDis182XeSE"
   },
   "source": [
    "## Features Selection"
   ]
  },
  {
   "cell_type": "markdown",
   "metadata": {
    "id": "G7d7JTJmXgwj"
   },
   "source": [
    "### Filter"
   ]
  },
  {
   "cell_type": "code",
   "execution_count": 8,
   "metadata": {
    "id": "Kexq1fnyXkRY"
   },
   "outputs": [],
   "source": [
    "transformer = GenericUnivariateSelect(mutual_info_classif, mode='k_best', param=550)"
   ]
  },
  {
   "cell_type": "code",
   "execution_count": 9,
   "metadata": {
    "id": "FAZkKRmhXnPo"
   },
   "outputs": [],
   "source": [
    "X_trans = transformer.fit_transform(X, y)"
   ]
  },
  {
   "cell_type": "code",
   "execution_count": 10,
   "metadata": {
    "colab": {
     "base_uri": "https://localhost:8080/"
    },
    "executionInfo": {
     "elapsed": 169101,
     "status": "ok",
     "timestamp": 1606958090011,
     "user": {
      "displayName": "Zakaria Bekkar",
      "photoUrl": "",
      "userId": "11013878220604787588"
     },
     "user_tz": -60
    },
    "id": "BKKN66taXoz0",
    "outputId": "ea31f2fe-9ba8-4b58-fb87-f54efbbaf77b"
   },
   "outputs": [
    {
     "data": {
      "text/plain": [
       "(480, 550)"
      ]
     },
     "execution_count": 10,
     "metadata": {},
     "output_type": "execute_result"
    }
   ],
   "source": [
    "X_trans.shape"
   ]
  },
  {
   "cell_type": "markdown",
   "metadata": {
    "id": "cC_RDtVZYwG0"
   },
   "source": [
    "### Data Preparation"
   ]
  },
  {
   "cell_type": "code",
   "execution_count": 11,
   "metadata": {
    "id": "8OmeM2TuYzDd"
   },
   "outputs": [],
   "source": [
    "X_train, X_test, y_train, y_test = train_test_split(X, y, test_size=0.10, random_state=42)"
   ]
  },
  {
   "cell_type": "markdown",
   "metadata": {
    "id": "3rxGDdS1Y2A6"
   },
   "source": [
    "## Linear Support Vector Machine"
   ]
  },
  {
   "cell_type": "markdown",
   "metadata": {
    "id": "3e6kNyHGxE_w"
   },
   "source": [
    "### Stock Model"
   ]
  },
  {
   "cell_type": "markdown",
   "metadata": {
    "id": "oK0OX_9xnzWv"
   },
   "source": [
    "#### *leave-one-task-out* cross validation"
   ]
  },
  {
   "cell_type": "markdown",
   "metadata": {
    "id": "P0slq_QtT_P1"
   },
   "source": [
    "##### Training"
   ]
  },
  {
   "cell_type": "code",
   "execution_count": 12,
   "metadata": {
    "id": "url-dxiyoJsT"
   },
   "outputs": [],
   "source": [
    "hm_linear_svm_to = hyper_model(model_name='linear_svm',\n",
    "                            validation_approach = 'leave-one-task-out',\n",
    "                            X=X,\n",
    "                            y=y)"
   ]
  },
  {
   "cell_type": "code",
   "execution_count": 13,
   "metadata": {
    "colab": {
     "base_uri": "https://localhost:8080/"
    },
    "executionInfo": {
     "elapsed": 1042536,
     "status": "ok",
     "timestamp": 1606959981927,
     "user": {
      "displayName": "Zakaria Bekkar",
      "photoUrl": "",
      "userId": "11013878220604787588"
     },
     "user_tz": -60
    },
    "id": "MATeUxpJo9DC",
    "outputId": "3525c782-86d2-4352-ac2a-827120885a8e"
   },
   "outputs": [
    {
     "name": "stdout",
     "output_type": "stream",
     "text": [
      "Initial Model with Stock Params Score : 0.47291666666666665\n",
      "Fitting 4 folds for each of 3 candidates, totalling 12 fits\n"
     ]
    },
    {
     "name": "stderr",
     "output_type": "stream",
     "text": [
      "[Parallel(n_jobs=1)]: Using backend SequentialBackend with 1 concurrent workers.\n",
      "[Parallel(n_jobs=1)]: Done  12 out of  12 | elapsed:  4.6min finished\n"
     ]
    },
    {
     "name": "stdout",
     "output_type": "stream",
     "text": [
      "Random HP Search Best Model Score : 0.5020833333333333\n",
      "Improvement of 6.1674008810572705% relative to the initial model\n"
     ]
    }
   ],
   "source": [
    "hm_linear_svm_to.fit()"
   ]
  },
  {
   "cell_type": "code",
   "execution_count": 14,
   "metadata": {
    "colab": {
     "base_uri": "https://localhost:8080/",
     "height": 49
    },
    "executionInfo": {
     "elapsed": 1042504,
     "status": "ok",
     "timestamp": 1606959981928,
     "user": {
      "displayName": "Zakaria Bekkar",
      "photoUrl": "",
      "userId": "11013878220604787588"
     },
     "user_tz": -60
    },
    "id": "-LuUfzJYuZ5c",
    "outputId": "7d5d8d91-b2c4-4ae8-f294-cb8f72df7b50"
   },
   "outputs": [
    {
     "data": {
      "text/html": [
       "<div>\n",
       "<style scoped>\n",
       "    .dataframe tbody tr th:only-of-type {\n",
       "        vertical-align: middle;\n",
       "    }\n",
       "\n",
       "    .dataframe tbody tr th {\n",
       "        vertical-align: top;\n",
       "    }\n",
       "\n",
       "    .dataframe thead th {\n",
       "        text-align: right;\n",
       "    }\n",
       "</style>\n",
       "<table border=\"1\" class=\"dataframe\">\n",
       "  <thead>\n",
       "    <tr style=\"text-align: right;\">\n",
       "      <th></th>\n",
       "      <th>Model Iteration</th>\n",
       "      <th>Score</th>\n",
       "    </tr>\n",
       "  </thead>\n",
       "  <tbody>\n",
       "  </tbody>\n",
       "</table>\n",
       "</div>"
      ],
      "text/plain": [
       "Empty DataFrame\n",
       "Columns: [Model Iteration, Score]\n",
       "Index: []"
      ]
     },
     "execution_count": 14,
     "metadata": {},
     "output_type": "execute_result"
    }
   ],
   "source": [
    "hm_linear_svm_to.all_models_perf"
   ]
  },
  {
   "cell_type": "code",
   "execution_count": null,
   "metadata": {
    "id": "hlwfN3l9XDr-"
   },
   "outputs": [],
   "source": []
  },
  {
   "cell_type": "markdown",
   "metadata": {
    "id": "WnDMByUhXMfO"
   },
   "source": [
    "##### Test"
   ]
  },
  {
   "cell_type": "code",
   "execution_count": 15,
   "metadata": {
    "id": "obSzi-BEXMfO"
   },
   "outputs": [],
   "source": [
    "# leave-one-task-out test\n",
    "cv = KFold(n_splits=4,shuffle=False)\n",
    "\n",
    "scores = cross_val_score(estimator=hm_linear_svm_to.stock_model,cv=cv,X=X,y=y)\n",
    "\n",
    "mean_score = np.mean(scores)\n",
    "\n"
   ]
  },
  {
   "cell_type": "code",
   "execution_count": 16,
   "metadata": {
    "colab": {
     "base_uri": "https://localhost:8080/"
    },
    "executionInfo": {
     "elapsed": 1203723,
     "status": "ok",
     "timestamp": 1606960143185,
     "user": {
      "displayName": "Zakaria Bekkar",
      "photoUrl": "",
      "userId": "11013878220604787588"
     },
     "user_tz": -60
    },
    "id": "aPPDOaCxXMfO",
    "outputId": "c745febc-9c57-48eb-a363-f7242b0ecada"
   },
   "outputs": [
    {
     "data": {
      "text/plain": [
       "array([0.50833333, 0.44166667, 0.50833333, 0.49166667])"
      ]
     },
     "execution_count": 16,
     "metadata": {},
     "output_type": "execute_result"
    }
   ],
   "source": [
    "scores"
   ]
  },
  {
   "cell_type": "code",
   "execution_count": 17,
   "metadata": {
    "colab": {
     "base_uri": "https://localhost:8080/"
    },
    "executionInfo": {
     "elapsed": 1203712,
     "status": "ok",
     "timestamp": 1606960143185,
     "user": {
      "displayName": "Zakaria Bekkar",
      "photoUrl": "",
      "userId": "11013878220604787588"
     },
     "user_tz": -60
    },
    "id": "9l85G4epXMfO",
    "outputId": "55da4972-2fc2-44b1-bad4-3d96cf250666"
   },
   "outputs": [
    {
     "name": "stdout",
     "output_type": "stream",
     "text": [
      "The history saving thread hit an unexpected error (OperationalError('database is locked')).History will not be written to the database."
     ]
    },
    {
     "data": {
      "text/plain": [
       "0.4875"
      ]
     },
     "execution_count": 17,
     "metadata": {},
     "output_type": "execute_result"
    },
    {
     "name": "stdout",
     "output_type": "stream",
     "text": [
      "\n"
     ]
    }
   ],
   "source": [
    "mean_score"
   ]
  },
  {
   "cell_type": "code",
   "execution_count": 18,
   "metadata": {
    "id": "nZiTeY6mXMfO"
   },
   "outputs": [],
   "source": [
    "# leave-one-task-out-shuffed test\n",
    "cv = KFold(n_splits=4,shuffle=True,random_state=42)\n",
    "\n",
    "scores = cross_val_score(estimator=hm_linear_svm_to.stock_model,cv=cv,X=X,y=y)\n",
    "\n",
    "mean_score = np.mean(scores)\n"
   ]
  },
  {
   "cell_type": "code",
   "execution_count": 19,
   "metadata": {
    "colab": {
     "base_uri": "https://localhost:8080/"
    },
    "executionInfo": {
     "elapsed": 1267345,
     "status": "ok",
     "timestamp": 1606960206841,
     "user": {
      "displayName": "Zakaria Bekkar",
      "photoUrl": "",
      "userId": "11013878220604787588"
     },
     "user_tz": -60
    },
    "id": "Imp-qfZeXMfO",
    "outputId": "cf74a78b-17cf-4206-e4c1-01b5e44de858"
   },
   "outputs": [
    {
     "data": {
      "text/plain": [
       "array([0.125     , 0.15833333, 0.09166667, 0.09166667])"
      ]
     },
     "execution_count": 19,
     "metadata": {},
     "output_type": "execute_result"
    }
   ],
   "source": [
    "scores"
   ]
  },
  {
   "cell_type": "code",
   "execution_count": 20,
   "metadata": {
    "colab": {
     "base_uri": "https://localhost:8080/"
    },
    "executionInfo": {
     "elapsed": 1267333,
     "status": "ok",
     "timestamp": 1606960206841,
     "user": {
      "displayName": "Zakaria Bekkar",
      "photoUrl": "",
      "userId": "11013878220604787588"
     },
     "user_tz": -60
    },
    "id": "y6HNpYl_XMfO",
    "outputId": "1fd9d100-6b6d-4b19-e770-838ce8b5fb7c"
   },
   "outputs": [
    {
     "data": {
      "text/plain": [
       "0.11666666666666667"
      ]
     },
     "execution_count": 20,
     "metadata": {},
     "output_type": "execute_result"
    }
   ],
   "source": [
    "mean_score"
   ]
  },
  {
   "cell_type": "code",
   "execution_count": null,
   "metadata": {
    "id": "osKpbfvyXMfO"
   },
   "outputs": [],
   "source": []
  },
  {
   "cell_type": "code",
   "execution_count": 21,
   "metadata": {
    "id": "w2SlhLffXMfO"
   },
   "outputs": [],
   "source": [
    "# leave-one-run-out test\n",
    "cv = KFold(n_splits=8,shuffle=False)\n",
    "\n",
    "scores = cross_val_score(estimator=hm_linear_svm_to.stock_model,cv=cv,X=X,y=y)\n",
    "\n",
    "mean_score = np.mean(scores)\n"
   ]
  },
  {
   "cell_type": "code",
   "execution_count": 22,
   "metadata": {
    "colab": {
     "base_uri": "https://localhost:8080/"
    },
    "executionInfo": {
     "elapsed": 1646853,
     "status": "ok",
     "timestamp": 1606960586398,
     "user": {
      "displayName": "Zakaria Bekkar",
      "photoUrl": "",
      "userId": "11013878220604787588"
     },
     "user_tz": -60
    },
    "id": "FqjIqTD1XMfO",
    "outputId": "02edcd96-97b0-4a31-ce1a-3725074e15a7"
   },
   "outputs": [
    {
     "data": {
      "text/plain": [
       "array([0.43333333, 0.43333333, 0.41666667, 0.45      , 0.51666667,\n",
       "       0.51666667, 0.5       , 0.51666667])"
      ]
     },
     "execution_count": 22,
     "metadata": {},
     "output_type": "execute_result"
    }
   ],
   "source": [
    "scores"
   ]
  },
  {
   "cell_type": "code",
   "execution_count": 23,
   "metadata": {
    "colab": {
     "base_uri": "https://localhost:8080/"
    },
    "executionInfo": {
     "elapsed": 1646835,
     "status": "ok",
     "timestamp": 1606960586398,
     "user": {
      "displayName": "Zakaria Bekkar",
      "photoUrl": "",
      "userId": "11013878220604787588"
     },
     "user_tz": -60
    },
    "id": "yZVtOibiXMfO",
    "outputId": "c4a303d7-1feb-420f-8f5b-5201e774ed80"
   },
   "outputs": [
    {
     "data": {
      "text/plain": [
       "0.47291666666666665"
      ]
     },
     "execution_count": 23,
     "metadata": {},
     "output_type": "execute_result"
    }
   ],
   "source": [
    "mean_score"
   ]
  },
  {
   "cell_type": "code",
   "execution_count": 24,
   "metadata": {
    "id": "oajU1LQ3XMfP"
   },
   "outputs": [],
   "source": [
    "# leave-one-run-out-shuffed test\n",
    "cv = KFold(n_splits=8,shuffle=True,random_state=42)\n",
    "\n",
    "\n",
    "\n",
    "scores = cross_val_score(estimator=hm_linear_svm_to.stock_model,cv=cv,X=X,y=y)\n",
    "\n",
    "mean_score = np.mean(scores)\n"
   ]
  },
  {
   "cell_type": "code",
   "execution_count": 25,
   "metadata": {
    "colab": {
     "base_uri": "https://localhost:8080/"
    },
    "executionInfo": {
     "elapsed": 1977343,
     "status": "ok",
     "timestamp": 1606960916933,
     "user": {
      "displayName": "Zakaria Bekkar",
      "photoUrl": "",
      "userId": "11013878220604787588"
     },
     "user_tz": -60
    },
    "id": "ADNditLZXMfP",
    "outputId": "72c44914-7318-4992-8af5-d52377d7698d"
   },
   "outputs": [
    {
     "data": {
      "text/plain": [
       "array([0.05      , 0.08333333, 0.03333333, 0.08333333, 0.25      ,\n",
       "       0.08333333, 0.06666667, 0.03333333])"
      ]
     },
     "execution_count": 25,
     "metadata": {},
     "output_type": "execute_result"
    }
   ],
   "source": [
    "scores"
   ]
  },
  {
   "cell_type": "code",
   "execution_count": 26,
   "metadata": {
    "colab": {
     "base_uri": "https://localhost:8080/"
    },
    "executionInfo": {
     "elapsed": 1977329,
     "status": "ok",
     "timestamp": 1606960916934,
     "user": {
      "displayName": "Zakaria Bekkar",
      "photoUrl": "",
      "userId": "11013878220604787588"
     },
     "user_tz": -60
    },
    "id": "goo-B_3cXMfP",
    "outputId": "7b5baee7-368d-4e5b-ca0c-bb7194366a4f"
   },
   "outputs": [
    {
     "data": {
      "text/plain": [
       "0.08541666666666667"
      ]
     },
     "execution_count": 26,
     "metadata": {},
     "output_type": "execute_result"
    }
   ],
   "source": [
    "mean_score"
   ]
  },
  {
   "cell_type": "code",
   "execution_count": 27,
   "metadata": {
    "id": "P-5MwWHhXMfP"
   },
   "outputs": [],
   "source": [
    "# other metrics + graphs\n",
    "\n",
    "\n"
   ]
  },
  {
   "cell_type": "markdown",
   "metadata": {
    "id": "Gb-Qqwn8oJ7d"
   },
   "source": [
    "#### *leave-one-task-out-shuffled* cross validation"
   ]
  },
  {
   "cell_type": "markdown",
   "metadata": {
    "id": "R4mMDLPsWAmE"
   },
   "source": [
    "##### Training"
   ]
  },
  {
   "cell_type": "code",
   "execution_count": 28,
   "metadata": {
    "id": "8Cee0jzzPIFx"
   },
   "outputs": [],
   "source": [
    "hm_linear_svm_tos = hyper_model(model_name='linear_svm',\n",
    "                            validation_approach = 'leave-one-task-out-shuffled',\n",
    "                            X=X,\n",
    "                            y=y)"
   ]
  },
  {
   "cell_type": "code",
   "execution_count": 29,
   "metadata": {
    "colab": {
     "base_uri": "https://localhost:8080/"
    },
    "executionInfo": {
     "elapsed": 2409484,
     "status": "ok",
     "timestamp": 1606961349130,
     "user": {
      "displayName": "Zakaria Bekkar",
      "photoUrl": "",
      "userId": "11013878220604787588"
     },
     "user_tz": -60
    },
    "id": "JGJS_yz6PIFy",
    "outputId": "19bdee2a-7ecd-4e21-98c3-62d5fd91d436"
   },
   "outputs": [
    {
     "name": "stdout",
     "output_type": "stream",
     "text": [
      "Initial Model with Stock Params Score : 0.11666666666666667\n",
      "Fitting 4 folds for each of 3 candidates, totalling 12 fits\n"
     ]
    },
    {
     "name": "stderr",
     "output_type": "stream",
     "text": [
      "[Parallel(n_jobs=1)]: Using backend SequentialBackend with 1 concurrent workers.\n",
      "[Parallel(n_jobs=1)]: Done  12 out of  12 | elapsed:  1.8min finished\n"
     ]
    },
    {
     "name": "stdout",
     "output_type": "stream",
     "text": [
      "Random HP Search Best Model Score : 0.11666666666666667\n",
      "Improvement of 0.0% relative to the initial model\n"
     ]
    }
   ],
   "source": [
    "hm_linear_svm_tos.fit()"
   ]
  },
  {
   "cell_type": "code",
   "execution_count": 30,
   "metadata": {
    "colab": {
     "base_uri": "https://localhost:8080/",
     "height": 49
    },
    "executionInfo": {
     "elapsed": 2409472,
     "status": "ok",
     "timestamp": 1606961349131,
     "user": {
      "displayName": "Zakaria Bekkar",
      "photoUrl": "",
      "userId": "11013878220604787588"
     },
     "user_tz": -60
    },
    "id": "JAf3le69PIFy",
    "outputId": "cb58bc72-9655-4942-ffcc-97b2b8851251"
   },
   "outputs": [
    {
     "data": {
      "text/html": [
       "<div>\n",
       "<style scoped>\n",
       "    .dataframe tbody tr th:only-of-type {\n",
       "        vertical-align: middle;\n",
       "    }\n",
       "\n",
       "    .dataframe tbody tr th {\n",
       "        vertical-align: top;\n",
       "    }\n",
       "\n",
       "    .dataframe thead th {\n",
       "        text-align: right;\n",
       "    }\n",
       "</style>\n",
       "<table border=\"1\" class=\"dataframe\">\n",
       "  <thead>\n",
       "    <tr style=\"text-align: right;\">\n",
       "      <th></th>\n",
       "      <th>Model Iteration</th>\n",
       "      <th>Score</th>\n",
       "    </tr>\n",
       "  </thead>\n",
       "  <tbody>\n",
       "  </tbody>\n",
       "</table>\n",
       "</div>"
      ],
      "text/plain": [
       "Empty DataFrame\n",
       "Columns: [Model Iteration, Score]\n",
       "Index: []"
      ]
     },
     "execution_count": 30,
     "metadata": {},
     "output_type": "execute_result"
    }
   ],
   "source": [
    "hm_linear_svm_tos.all_models_perf"
   ]
  },
  {
   "cell_type": "code",
   "execution_count": null,
   "metadata": {
    "id": "WIsSLawaoR-_"
   },
   "outputs": [],
   "source": []
  },
  {
   "cell_type": "markdown",
   "metadata": {
    "id": "CMPrOUDoWFWr"
   },
   "source": [
    "##### Test"
   ]
  },
  {
   "cell_type": "code",
   "execution_count": 31,
   "metadata": {
    "id": "Vd_umY9HWFWr"
   },
   "outputs": [],
   "source": [
    "# leave-one-task-out test\n",
    "cv = KFold(n_splits=4,shuffle=False)\n",
    "\n",
    "scores = cross_val_score(estimator=hm_linear_svm_tos.stock_model,cv=cv,X=X,y=y)\n",
    "\n",
    "mean_score = np.mean(scores)\n",
    "\n"
   ]
  },
  {
   "cell_type": "code",
   "execution_count": 32,
   "metadata": {
    "colab": {
     "base_uri": "https://localhost:8080/"
    },
    "executionInfo": {
     "elapsed": 2569580,
     "status": "ok",
     "timestamp": 1606961509275,
     "user": {
      "displayName": "Zakaria Bekkar",
      "photoUrl": "",
      "userId": "11013878220604787588"
     },
     "user_tz": -60
    },
    "id": "tpxUGequWFWr",
    "outputId": "72f861ce-36e9-434b-b9e2-2f969d5f74e2"
   },
   "outputs": [
    {
     "data": {
      "text/plain": [
       "array([0.5       , 0.50833333, 0.5       , 0.45833333])"
      ]
     },
     "execution_count": 32,
     "metadata": {},
     "output_type": "execute_result"
    }
   ],
   "source": [
    "scores"
   ]
  },
  {
   "cell_type": "code",
   "execution_count": 33,
   "metadata": {
    "colab": {
     "base_uri": "https://localhost:8080/"
    },
    "executionInfo": {
     "elapsed": 2569570,
     "status": "ok",
     "timestamp": 1606961509276,
     "user": {
      "displayName": "Zakaria Bekkar",
      "photoUrl": "",
      "userId": "11013878220604787588"
     },
     "user_tz": -60
    },
    "id": "LCzQufNtWFWr",
    "outputId": "ebf58ca1-0cb8-40b6-ae58-793354cf6990"
   },
   "outputs": [
    {
     "data": {
      "text/plain": [
       "0.49166666666666664"
      ]
     },
     "execution_count": 33,
     "metadata": {},
     "output_type": "execute_result"
    }
   ],
   "source": [
    "mean_score"
   ]
  },
  {
   "cell_type": "code",
   "execution_count": 34,
   "metadata": {
    "id": "pSmKo3hZWFWr"
   },
   "outputs": [],
   "source": [
    "# leave-one-task-out-shuffed test\n",
    "cv = KFold(n_splits=4,shuffle=True,random_state=42)\n",
    "\n",
    "scores = cross_val_score(estimator=hm_linear_svm_tos.stock_model,cv=cv,X=X,y=y)\n",
    "\n",
    "mean_score = np.mean(scores)\n"
   ]
  },
  {
   "cell_type": "code",
   "execution_count": 35,
   "metadata": {
    "colab": {
     "base_uri": "https://localhost:8080/"
    },
    "executionInfo": {
     "elapsed": 2632123,
     "status": "ok",
     "timestamp": 1606961571852,
     "user": {
      "displayName": "Zakaria Bekkar",
      "photoUrl": "",
      "userId": "11013878220604787588"
     },
     "user_tz": -60
    },
    "id": "7hn8vbGCWFWr",
    "outputId": "07684052-0148-4278-a8a8-837a7db04d15"
   },
   "outputs": [
    {
     "data": {
      "text/plain": [
       "array([0.125     , 0.15833333, 0.09166667, 0.09166667])"
      ]
     },
     "execution_count": 35,
     "metadata": {},
     "output_type": "execute_result"
    }
   ],
   "source": [
    "scores"
   ]
  },
  {
   "cell_type": "code",
   "execution_count": 36,
   "metadata": {
    "colab": {
     "base_uri": "https://localhost:8080/"
    },
    "executionInfo": {
     "elapsed": 2632109,
     "status": "ok",
     "timestamp": 1606961571853,
     "user": {
      "displayName": "Zakaria Bekkar",
      "photoUrl": "",
      "userId": "11013878220604787588"
     },
     "user_tz": -60
    },
    "id": "PxVtKHfUWFWr",
    "outputId": "7ae9b375-7c23-43e4-a7e9-b223552083f8"
   },
   "outputs": [
    {
     "data": {
      "text/plain": [
       "0.11666666666666667"
      ]
     },
     "execution_count": 36,
     "metadata": {},
     "output_type": "execute_result"
    }
   ],
   "source": [
    "mean_score"
   ]
  },
  {
   "cell_type": "code",
   "execution_count": null,
   "metadata": {
    "id": "ChZvGrkeWFWr"
   },
   "outputs": [],
   "source": []
  },
  {
   "cell_type": "code",
   "execution_count": 37,
   "metadata": {
    "id": "3uCFUnE0WFWr"
   },
   "outputs": [],
   "source": [
    "# leave-one-run-out test\n",
    "cv = KFold(n_splits=8,shuffle=False)\n",
    "\n",
    "scores = cross_val_score(estimator=hm_linear_svm_tos.stock_model,cv=cv,X=X,y=y)\n",
    "\n",
    "mean_score = np.mean(scores)\n"
   ]
  },
  {
   "cell_type": "code",
   "execution_count": 38,
   "metadata": {
    "colab": {
     "base_uri": "https://localhost:8080/"
    },
    "executionInfo": {
     "elapsed": 3003082,
     "status": "ok",
     "timestamp": 1606961942863,
     "user": {
      "displayName": "Zakaria Bekkar",
      "photoUrl": "",
      "userId": "11013878220604787588"
     },
     "user_tz": -60
    },
    "id": "8CGhPtsfWFWr",
    "outputId": "be678392-58d3-4a1f-dddb-0f6c51cc4f4d"
   },
   "outputs": [
    {
     "data": {
      "text/plain": [
       "array([0.48333333, 0.51666667, 0.5       , 0.48333333, 0.48333333,\n",
       "       0.5       , 0.51666667, 0.51666667])"
      ]
     },
     "execution_count": 38,
     "metadata": {},
     "output_type": "execute_result"
    }
   ],
   "source": [
    "scores"
   ]
  },
  {
   "cell_type": "code",
   "execution_count": 39,
   "metadata": {
    "colab": {
     "base_uri": "https://localhost:8080/"
    },
    "executionInfo": {
     "elapsed": 3003070,
     "status": "ok",
     "timestamp": 1606961942864,
     "user": {
      "displayName": "Zakaria Bekkar",
      "photoUrl": "",
      "userId": "11013878220604787588"
     },
     "user_tz": -60
    },
    "id": "D0iWmziUWFWr",
    "outputId": "f47f0817-e304-4780-f18a-b0c5a051c3b0"
   },
   "outputs": [
    {
     "data": {
      "text/plain": [
       "0.5"
      ]
     },
     "execution_count": 39,
     "metadata": {},
     "output_type": "execute_result"
    }
   ],
   "source": [
    "mean_score"
   ]
  },
  {
   "cell_type": "code",
   "execution_count": 40,
   "metadata": {
    "id": "xdhCavSlWFWr"
   },
   "outputs": [],
   "source": [
    "# leave-one-run-out-shuffed test\n",
    "cv = KFold(n_splits=8,shuffle=True,random_state=42)\n",
    "\n",
    "\n",
    "\n",
    "scores = cross_val_score(estimator=hm_linear_svm_tos.stock_model,cv=cv,X=X,y=y)\n",
    "\n",
    "mean_score = np.mean(scores)\n"
   ]
  },
  {
   "cell_type": "code",
   "execution_count": 41,
   "metadata": {
    "colab": {
     "base_uri": "https://localhost:8080/"
    },
    "executionInfo": {
     "elapsed": 3331821,
     "status": "ok",
     "timestamp": 1606962271642,
     "user": {
      "displayName": "Zakaria Bekkar",
      "photoUrl": "",
      "userId": "11013878220604787588"
     },
     "user_tz": -60
    },
    "id": "1JmYYZIwWFWr",
    "outputId": "7bc92f9b-91b4-49d6-9c2d-b7c53d8b7c08"
   },
   "outputs": [
    {
     "data": {
      "text/plain": [
       "array([0.05      , 0.08333333, 0.03333333, 0.08333333, 0.26666667,\n",
       "       0.08333333, 0.06666667, 0.03333333])"
      ]
     },
     "execution_count": 41,
     "metadata": {},
     "output_type": "execute_result"
    }
   ],
   "source": [
    "scores"
   ]
  },
  {
   "cell_type": "code",
   "execution_count": 42,
   "metadata": {
    "colab": {
     "base_uri": "https://localhost:8080/"
    },
    "executionInfo": {
     "elapsed": 3331808,
     "status": "ok",
     "timestamp": 1606962271642,
     "user": {
      "displayName": "Zakaria Bekkar",
      "photoUrl": "",
      "userId": "11013878220604787588"
     },
     "user_tz": -60
    },
    "id": "9JDZ-36UWFWr",
    "outputId": "f97c0ea6-ce97-48eb-bee7-1bb149707c0f"
   },
   "outputs": [
    {
     "data": {
      "text/plain": [
       "0.0875"
      ]
     },
     "execution_count": 42,
     "metadata": {},
     "output_type": "execute_result"
    }
   ],
   "source": [
    "mean_score"
   ]
  },
  {
   "cell_type": "code",
   "execution_count": 43,
   "metadata": {
    "id": "nbRpu_f0WFWr"
   },
   "outputs": [],
   "source": [
    "# other metrics + graphs\n",
    "\n",
    "\n"
   ]
  },
  {
   "cell_type": "markdown",
   "metadata": {
    "id": "yk1VAnOFoSCu"
   },
   "source": [
    "#### *leave-one-run-out* cross validation"
   ]
  },
  {
   "cell_type": "markdown",
   "metadata": {
    "id": "qK7ud6-dWV9T"
   },
   "source": [
    "##### Training"
   ]
  },
  {
   "cell_type": "code",
   "execution_count": 44,
   "metadata": {
    "id": "BjBXz_jRPPJO"
   },
   "outputs": [],
   "source": [
    "hm_linear_svm_ro = hyper_model(model_name='linear_svm',\n",
    "                            validation_approach = 'leave-one-run-out',\n",
    "                            X=X,\n",
    "                            y=y)"
   ]
  },
  {
   "cell_type": "code",
   "execution_count": 45,
   "metadata": {
    "colab": {
     "base_uri": "https://localhost:8080/"
    },
    "executionInfo": {
     "elapsed": 5619156,
     "status": "ok",
     "timestamp": 1606964559029,
     "user": {
      "displayName": "Zakaria Bekkar",
      "photoUrl": "",
      "userId": "11013878220604787588"
     },
     "user_tz": -60
    },
    "id": "CnbTertnPPJO",
    "outputId": "6712c619-fe11-4a96-bcf5-a8f9c7ebc7d4"
   },
   "outputs": [
    {
     "name": "stdout",
     "output_type": "stream",
     "text": [
      "Initial Model with Stock Params Score : 0.5083333333333333\n",
      "Fitting 8 folds for each of 3 candidates, totalling 24 fits\n"
     ]
    },
    {
     "name": "stderr",
     "output_type": "stream",
     "text": [
      "[Parallel(n_jobs=1)]: Using backend SequentialBackend with 1 concurrent workers.\n",
      "[Parallel(n_jobs=1)]: Done  24 out of  24 | elapsed: 11.8min finished\n"
     ]
    },
    {
     "name": "stdout",
     "output_type": "stream",
     "text": [
      "Random HP Search Best Model Score : 0.5145833333333334\n",
      "Improvement of 1.229508196721329% relative to the initial model\n"
     ]
    }
   ],
   "source": [
    "hm_linear_svm_ro.fit()"
   ]
  },
  {
   "cell_type": "code",
   "execution_count": 46,
   "metadata": {
    "colab": {
     "base_uri": "https://localhost:8080/",
     "height": 49
    },
    "executionInfo": {
     "elapsed": 5619145,
     "status": "ok",
     "timestamp": 1606964559030,
     "user": {
      "displayName": "Zakaria Bekkar",
      "photoUrl": "",
      "userId": "11013878220604787588"
     },
     "user_tz": -60
    },
    "id": "sHMdRLUsPPJP",
    "outputId": "62f90cf4-6923-4ef8-c441-67b15dc6a632"
   },
   "outputs": [
    {
     "data": {
      "text/html": [
       "<div>\n",
       "<style scoped>\n",
       "    .dataframe tbody tr th:only-of-type {\n",
       "        vertical-align: middle;\n",
       "    }\n",
       "\n",
       "    .dataframe tbody tr th {\n",
       "        vertical-align: top;\n",
       "    }\n",
       "\n",
       "    .dataframe thead th {\n",
       "        text-align: right;\n",
       "    }\n",
       "</style>\n",
       "<table border=\"1\" class=\"dataframe\">\n",
       "  <thead>\n",
       "    <tr style=\"text-align: right;\">\n",
       "      <th></th>\n",
       "      <th>Model Iteration</th>\n",
       "      <th>Score</th>\n",
       "    </tr>\n",
       "  </thead>\n",
       "  <tbody>\n",
       "  </tbody>\n",
       "</table>\n",
       "</div>"
      ],
      "text/plain": [
       "Empty DataFrame\n",
       "Columns: [Model Iteration, Score]\n",
       "Index: []"
      ]
     },
     "execution_count": 46,
     "metadata": {},
     "output_type": "execute_result"
    }
   ],
   "source": [
    "hm_linear_svm_ro.all_models_perf"
   ]
  },
  {
   "cell_type": "code",
   "execution_count": null,
   "metadata": {
    "id": "VhkTeBlsoSGf"
   },
   "outputs": [],
   "source": []
  },
  {
   "cell_type": "markdown",
   "metadata": {
    "id": "ffRmE2HzXfw2"
   },
   "source": [
    "##### Test"
   ]
  },
  {
   "cell_type": "code",
   "execution_count": 47,
   "metadata": {
    "id": "xjJzKwpEXfw2"
   },
   "outputs": [],
   "source": [
    "# leave-one-task-out test\n",
    "cv = KFold(n_splits=4,shuffle=False)\n",
    "\n",
    "scores = cross_val_score(estimator=hm_linear_svm_ro.stock_model,cv=cv,X=X,y=y)\n",
    "\n",
    "mean_score = np.mean(scores)\n",
    "\n"
   ]
  },
  {
   "cell_type": "code",
   "execution_count": 48,
   "metadata": {
    "colab": {
     "base_uri": "https://localhost:8080/"
    },
    "executionInfo": {
     "elapsed": 5779370,
     "status": "ok",
     "timestamp": 1606964719290,
     "user": {
      "displayName": "Zakaria Bekkar",
      "photoUrl": "",
      "userId": "11013878220604787588"
     },
     "user_tz": -60
    },
    "id": "FfqjXtzaXfw2",
    "outputId": "231c0a7a-fbaa-4629-8666-e0992be2fffd"
   },
   "outputs": [
    {
     "data": {
      "text/plain": [
       "array([0.525     , 0.45833333, 0.525     , 0.5       ])"
      ]
     },
     "execution_count": 48,
     "metadata": {},
     "output_type": "execute_result"
    }
   ],
   "source": [
    "scores"
   ]
  },
  {
   "cell_type": "code",
   "execution_count": 49,
   "metadata": {
    "colab": {
     "base_uri": "https://localhost:8080/"
    },
    "executionInfo": {
     "elapsed": 5779359,
     "status": "ok",
     "timestamp": 1606964719291,
     "user": {
      "displayName": "Zakaria Bekkar",
      "photoUrl": "",
      "userId": "11013878220604787588"
     },
     "user_tz": -60
    },
    "id": "XCi4tf0uXfw2",
    "outputId": "0bcf9ee8-6dfe-4919-96d3-b2fcf442cabf"
   },
   "outputs": [
    {
     "data": {
      "text/plain": [
       "0.5020833333333333"
      ]
     },
     "execution_count": 49,
     "metadata": {},
     "output_type": "execute_result"
    }
   ],
   "source": [
    "mean_score"
   ]
  },
  {
   "cell_type": "code",
   "execution_count": 50,
   "metadata": {
    "id": "f4rrkYJUXfw2"
   },
   "outputs": [],
   "source": [
    "# leave-one-task-out-shuffed test\n",
    "cv = KFold(n_splits=4,shuffle=True,random_state=42)\n",
    "\n",
    "scores = cross_val_score(estimator=hm_linear_svm_ro.stock_model,cv=cv,X=X,y=y)\n",
    "\n",
    "mean_score = np.mean(scores)\n"
   ]
  },
  {
   "cell_type": "code",
   "execution_count": 51,
   "metadata": {
    "colab": {
     "base_uri": "https://localhost:8080/"
    },
    "executionInfo": {
     "elapsed": 5841702,
     "status": "ok",
     "timestamp": 1606964781656,
     "user": {
      "displayName": "Zakaria Bekkar",
      "photoUrl": "",
      "userId": "11013878220604787588"
     },
     "user_tz": -60
    },
    "id": "ldUaBM8oXfw2",
    "outputId": "dc0b4f90-54a9-4880-96d2-6772da0c76f7"
   },
   "outputs": [
    {
     "data": {
      "text/plain": [
       "array([0.125     , 0.15833333, 0.09166667, 0.09166667])"
      ]
     },
     "execution_count": 51,
     "metadata": {},
     "output_type": "execute_result"
    }
   ],
   "source": [
    "scores"
   ]
  },
  {
   "cell_type": "code",
   "execution_count": 52,
   "metadata": {
    "colab": {
     "base_uri": "https://localhost:8080/"
    },
    "executionInfo": {
     "elapsed": 5841691,
     "status": "ok",
     "timestamp": 1606964781657,
     "user": {
      "displayName": "Zakaria Bekkar",
      "photoUrl": "",
      "userId": "11013878220604787588"
     },
     "user_tz": -60
    },
    "id": "kiw1b1y8Xfw2",
    "outputId": "98f87594-bd73-4e14-8748-ffab1a01e7c6"
   },
   "outputs": [
    {
     "data": {
      "text/plain": [
       "0.11666666666666667"
      ]
     },
     "execution_count": 52,
     "metadata": {},
     "output_type": "execute_result"
    }
   ],
   "source": [
    "mean_score"
   ]
  },
  {
   "cell_type": "code",
   "execution_count": null,
   "metadata": {
    "id": "bNAQZX5ZXfw2"
   },
   "outputs": [],
   "source": []
  },
  {
   "cell_type": "code",
   "execution_count": 53,
   "metadata": {
    "id": "RYc1l8DXXfw2"
   },
   "outputs": [],
   "source": [
    "# leave-one-run-out test\n",
    "cv = KFold(n_splits=8,shuffle=False)\n",
    "\n",
    "scores = cross_val_score(estimator=hm_linear_svm_ro.stock_model,cv=cv,X=X,y=y)\n",
    "\n",
    "mean_score = np.mean(scores)\n"
   ]
  },
  {
   "cell_type": "code",
   "execution_count": 54,
   "metadata": {
    "colab": {
     "base_uri": "https://localhost:8080/"
    },
    "executionInfo": {
     "elapsed": 6214081,
     "status": "ok",
     "timestamp": 1606965154082,
     "user": {
      "displayName": "Zakaria Bekkar",
      "photoUrl": "",
      "userId": "11013878220604787588"
     },
     "user_tz": -60
    },
    "id": "69s38be1Xfw2",
    "outputId": "351a3359-e51f-4d65-b3ae-8d7f2e748e68"
   },
   "outputs": [
    {
     "data": {
      "text/plain": [
       "array([0.56666667, 0.53333333, 0.41666667, 0.53333333, 0.6       ,\n",
       "       0.53333333, 0.55      , 0.41666667])"
      ]
     },
     "execution_count": 54,
     "metadata": {},
     "output_type": "execute_result"
    }
   ],
   "source": [
    "scores"
   ]
  },
  {
   "cell_type": "code",
   "execution_count": 55,
   "metadata": {
    "colab": {
     "base_uri": "https://localhost:8080/"
    },
    "executionInfo": {
     "elapsed": 6214071,
     "status": "ok",
     "timestamp": 1606965154083,
     "user": {
      "displayName": "Zakaria Bekkar",
      "photoUrl": "",
      "userId": "11013878220604787588"
     },
     "user_tz": -60
    },
    "id": "nVk4MjlQXfw2",
    "outputId": "1207f0e9-9526-4ac7-9dbc-239ddde0104d"
   },
   "outputs": [
    {
     "data": {
      "text/plain": [
       "0.51875"
      ]
     },
     "execution_count": 55,
     "metadata": {},
     "output_type": "execute_result"
    }
   ],
   "source": [
    "mean_score"
   ]
  },
  {
   "cell_type": "code",
   "execution_count": 56,
   "metadata": {
    "id": "88KOXS3VXfw2"
   },
   "outputs": [],
   "source": [
    "# leave-one-run-out-shuffed test\n",
    "cv = KFold(n_splits=8,shuffle=True,random_state=42)\n",
    "\n",
    "\n",
    "\n",
    "scores = cross_val_score(estimator=hm_linear_svm_ro.stock_model,cv=cv,X=X,y=y)\n",
    "\n",
    "mean_score = np.mean(scores)\n"
   ]
  },
  {
   "cell_type": "code",
   "execution_count": 57,
   "metadata": {
    "colab": {
     "base_uri": "https://localhost:8080/"
    },
    "executionInfo": {
     "elapsed": 6543601,
     "status": "ok",
     "timestamp": 1606965483640,
     "user": {
      "displayName": "Zakaria Bekkar",
      "photoUrl": "",
      "userId": "11013878220604787588"
     },
     "user_tz": -60
    },
    "id": "bImXksWpXfw2",
    "outputId": "bc470523-ae9d-451b-93c0-419b70db1a81"
   },
   "outputs": [
    {
     "data": {
      "text/plain": [
       "array([0.05      , 0.1       , 0.03333333, 0.08333333, 0.26666667,\n",
       "       0.08333333, 0.06666667, 0.03333333])"
      ]
     },
     "execution_count": 57,
     "metadata": {},
     "output_type": "execute_result"
    }
   ],
   "source": [
    "scores"
   ]
  },
  {
   "cell_type": "code",
   "execution_count": 58,
   "metadata": {
    "colab": {
     "base_uri": "https://localhost:8080/"
    },
    "executionInfo": {
     "elapsed": 6543588,
     "status": "ok",
     "timestamp": 1606965483641,
     "user": {
      "displayName": "Zakaria Bekkar",
      "photoUrl": "",
      "userId": "11013878220604787588"
     },
     "user_tz": -60
    },
    "id": "QWbqk81KXfw2",
    "outputId": "3618ef7d-703b-48e3-8997-c493f9efca69"
   },
   "outputs": [
    {
     "data": {
      "text/plain": [
       "0.08958333333333333"
      ]
     },
     "execution_count": 58,
     "metadata": {},
     "output_type": "execute_result"
    }
   ],
   "source": [
    "mean_score"
   ]
  },
  {
   "cell_type": "code",
   "execution_count": 59,
   "metadata": {
    "id": "gvhldUdEXfw2"
   },
   "outputs": [],
   "source": [
    "# other metrics + graphs\n",
    "\n",
    "\n"
   ]
  },
  {
   "cell_type": "code",
   "execution_count": null,
   "metadata": {
    "id": "ryKXIhosWkY_"
   },
   "outputs": [],
   "source": []
  },
  {
   "cell_type": "code",
   "execution_count": null,
   "metadata": {
    "id": "LuqDNEUVXem2"
   },
   "outputs": [],
   "source": []
  },
  {
   "cell_type": "markdown",
   "metadata": {
    "id": "8Z7a-FGHoSKO"
   },
   "source": [
    "#### *leave-one-run-out-shuffled* cross validation"
   ]
  },
  {
   "cell_type": "markdown",
   "metadata": {
    "id": "Wjkj4swhXhgq"
   },
   "source": [
    "##### Training"
   ]
  },
  {
   "cell_type": "code",
   "execution_count": 60,
   "metadata": {
    "id": "eWJfI5YnPPzE"
   },
   "outputs": [],
   "source": [
    "hm_linear_svm_ros = hyper_model(model_name='linear_svm',\n",
    "                            validation_approach = 'leave-one-run-out-shuffled',\n",
    "                            X=X,\n",
    "                            y=y)"
   ]
  },
  {
   "cell_type": "code",
   "execution_count": 61,
   "metadata": {
    "colab": {
     "base_uri": "https://localhost:8080/"
    },
    "executionInfo": {
     "elapsed": 8565391,
     "status": "ok",
     "timestamp": 1606967505511,
     "user": {
      "displayName": "Zakaria Bekkar",
      "photoUrl": "",
      "userId": "11013878220604787588"
     },
     "user_tz": -60
    },
    "id": "-QFW2J0HPPzE",
    "outputId": "985339f7-a5ca-4dbd-c14e-b0a4e8cbb270"
   },
   "outputs": [
    {
     "name": "stdout",
     "output_type": "stream",
     "text": [
      "Initial Model with Stock Params Score : 0.0875\n",
      "Fitting 8 folds for each of 3 candidates, totalling 24 fits\n"
     ]
    },
    {
     "name": "stderr",
     "output_type": "stream",
     "text": [
      "[Parallel(n_jobs=1)]: Using backend SequentialBackend with 1 concurrent workers.\n",
      "[Parallel(n_jobs=1)]: Done  24 out of  24 | elapsed: 11.6min finished\n"
     ]
    },
    {
     "name": "stdout",
     "output_type": "stream",
     "text": [
      "Random HP Search Best Model Score : 0.08958333333333332\n",
      "Improvement of 2.3809523809523725% relative to the initial model\n"
     ]
    }
   ],
   "source": [
    "hm_linear_svm_ros.fit()"
   ]
  },
  {
   "cell_type": "code",
   "execution_count": 62,
   "metadata": {
    "colab": {
     "base_uri": "https://localhost:8080/",
     "height": 49
    },
    "executionInfo": {
     "elapsed": 8565378,
     "status": "ok",
     "timestamp": 1606967505511,
     "user": {
      "displayName": "Zakaria Bekkar",
      "photoUrl": "",
      "userId": "11013878220604787588"
     },
     "user_tz": -60
    },
    "id": "Diwlgrr6PPzE",
    "outputId": "9efe0662-324f-4735-9166-6db9d3e385ce"
   },
   "outputs": [
    {
     "data": {
      "text/html": [
       "<div>\n",
       "<style scoped>\n",
       "    .dataframe tbody tr th:only-of-type {\n",
       "        vertical-align: middle;\n",
       "    }\n",
       "\n",
       "    .dataframe tbody tr th {\n",
       "        vertical-align: top;\n",
       "    }\n",
       "\n",
       "    .dataframe thead th {\n",
       "        text-align: right;\n",
       "    }\n",
       "</style>\n",
       "<table border=\"1\" class=\"dataframe\">\n",
       "  <thead>\n",
       "    <tr style=\"text-align: right;\">\n",
       "      <th></th>\n",
       "      <th>Model Iteration</th>\n",
       "      <th>Score</th>\n",
       "    </tr>\n",
       "  </thead>\n",
       "  <tbody>\n",
       "  </tbody>\n",
       "</table>\n",
       "</div>"
      ],
      "text/plain": [
       "Empty DataFrame\n",
       "Columns: [Model Iteration, Score]\n",
       "Index: []"
      ]
     },
     "execution_count": 62,
     "metadata": {},
     "output_type": "execute_result"
    }
   ],
   "source": [
    "hm_linear_svm_ros.all_models_perf"
   ]
  },
  {
   "cell_type": "code",
   "execution_count": null,
   "metadata": {
    "id": "p_zezBW2SWjz"
   },
   "outputs": [],
   "source": [
    "\n"
   ]
  },
  {
   "cell_type": "markdown",
   "metadata": {
    "id": "rjvf3p9eXkKN"
   },
   "source": [
    "##### Test"
   ]
  },
  {
   "cell_type": "code",
   "execution_count": 63,
   "metadata": {
    "id": "Nic0nOPtXkKN"
   },
   "outputs": [],
   "source": [
    "# leave-one-task-out test\n",
    "cv = KFold(n_splits=4,shuffle=False)\n",
    "\n",
    "scores = cross_val_score(estimator=hm_linear_svm_ros.stock_model,cv=cv,X=X,y=y)\n",
    "\n",
    "mean_score = np.mean(scores)\n",
    "\n"
   ]
  },
  {
   "cell_type": "code",
   "execution_count": 64,
   "metadata": {
    "colab": {
     "base_uri": "https://localhost:8080/"
    },
    "executionInfo": {
     "elapsed": 8723962,
     "status": "ok",
     "timestamp": 1606967664132,
     "user": {
      "displayName": "Zakaria Bekkar",
      "photoUrl": "",
      "userId": "11013878220604787588"
     },
     "user_tz": -60
    },
    "id": "J-OqyJx4XkKO",
    "outputId": "c44dda61-3546-49cd-8f4a-674a8f622782"
   },
   "outputs": [
    {
     "data": {
      "text/plain": [
       "array([0.5       , 0.43333333, 0.50833333, 0.48333333])"
      ]
     },
     "execution_count": 64,
     "metadata": {},
     "output_type": "execute_result"
    }
   ],
   "source": [
    "scores"
   ]
  },
  {
   "cell_type": "code",
   "execution_count": 65,
   "metadata": {
    "colab": {
     "base_uri": "https://localhost:8080/"
    },
    "executionInfo": {
     "elapsed": 8723951,
     "status": "ok",
     "timestamp": 1606967664133,
     "user": {
      "displayName": "Zakaria Bekkar",
      "photoUrl": "",
      "userId": "11013878220604787588"
     },
     "user_tz": -60
    },
    "id": "I2V919yeXkKO",
    "outputId": "151343e3-e51a-465b-9231-edfd12f10235"
   },
   "outputs": [
    {
     "data": {
      "text/plain": [
       "0.48125"
      ]
     },
     "execution_count": 65,
     "metadata": {},
     "output_type": "execute_result"
    }
   ],
   "source": [
    "mean_score"
   ]
  },
  {
   "cell_type": "code",
   "execution_count": 66,
   "metadata": {
    "id": "CQo-9ubKXkKO"
   },
   "outputs": [],
   "source": [
    "# leave-one-task-out-shuffed test\n",
    "cv = KFold(n_splits=4,shuffle=True,random_state=42)\n",
    "\n",
    "scores = cross_val_score(estimator=hm_linear_svm_ros.stock_model,cv=cv,X=X,y=y)\n",
    "\n",
    "mean_score = np.mean(scores)\n"
   ]
  },
  {
   "cell_type": "code",
   "execution_count": 67,
   "metadata": {
    "colab": {
     "base_uri": "https://localhost:8080/"
    },
    "executionInfo": {
     "elapsed": 8785986,
     "status": "ok",
     "timestamp": 1606967726192,
     "user": {
      "displayName": "Zakaria Bekkar",
      "photoUrl": "",
      "userId": "11013878220604787588"
     },
     "user_tz": -60
    },
    "id": "YTzKNz4rXkKO",
    "outputId": "bcc41cd9-cc92-4d99-d537-ec85eed304cc"
   },
   "outputs": [
    {
     "data": {
      "text/plain": [
       "array([0.125     , 0.15833333, 0.09166667, 0.09166667])"
      ]
     },
     "execution_count": 67,
     "metadata": {},
     "output_type": "execute_result"
    }
   ],
   "source": [
    "scores"
   ]
  },
  {
   "cell_type": "code",
   "execution_count": 68,
   "metadata": {
    "colab": {
     "base_uri": "https://localhost:8080/"
    },
    "executionInfo": {
     "elapsed": 8785975,
     "status": "ok",
     "timestamp": 1606967726193,
     "user": {
      "displayName": "Zakaria Bekkar",
      "photoUrl": "",
      "userId": "11013878220604787588"
     },
     "user_tz": -60
    },
    "id": "2GWAFm_6XkKO",
    "outputId": "66fda09d-1a90-4e78-e14e-5255575657fc"
   },
   "outputs": [
    {
     "data": {
      "text/plain": [
       "0.11666666666666667"
      ]
     },
     "execution_count": 68,
     "metadata": {},
     "output_type": "execute_result"
    }
   ],
   "source": [
    "mean_score"
   ]
  },
  {
   "cell_type": "code",
   "execution_count": null,
   "metadata": {
    "id": "-c5IHn17XkKO"
   },
   "outputs": [],
   "source": []
  },
  {
   "cell_type": "code",
   "execution_count": 69,
   "metadata": {
    "id": "Okf-45vIXkKO"
   },
   "outputs": [],
   "source": [
    "# leave-one-run-out test\n",
    "cv = KFold(n_splits=8,shuffle=False)\n",
    "\n",
    "scores = cross_val_score(estimator=hm_linear_svm_ros.stock_model,cv=cv,X=X,y=y)\n",
    "\n",
    "mean_score = np.mean(scores)\n"
   ]
  },
  {
   "cell_type": "code",
   "execution_count": 70,
   "metadata": {
    "colab": {
     "base_uri": "https://localhost:8080/"
    },
    "executionInfo": {
     "elapsed": 9155231,
     "status": "ok",
     "timestamp": 1606968095488,
     "user": {
      "displayName": "Zakaria Bekkar",
      "photoUrl": "",
      "userId": "11013878220604787588"
     },
     "user_tz": -60
    },
    "id": "HfQ03o7aXkKO",
    "outputId": "9713aec6-af0a-4a68-99ab-da8d34ab5144"
   },
   "outputs": [
    {
     "data": {
      "text/plain": [
       "array([0.55      , 0.46666667, 0.33333333, 0.46666667, 0.55      ,\n",
       "       0.45      , 0.51666667, 0.53333333])"
      ]
     },
     "execution_count": 70,
     "metadata": {},
     "output_type": "execute_result"
    }
   ],
   "source": [
    "scores"
   ]
  },
  {
   "cell_type": "code",
   "execution_count": 71,
   "metadata": {
    "colab": {
     "base_uri": "https://localhost:8080/"
    },
    "executionInfo": {
     "elapsed": 9155220,
     "status": "ok",
     "timestamp": 1606968095489,
     "user": {
      "displayName": "Zakaria Bekkar",
      "photoUrl": "",
      "userId": "11013878220604787588"
     },
     "user_tz": -60
    },
    "id": "5XRG6jEEXkKO",
    "outputId": "fb63660d-e334-4bcc-a06f-8f65545d6e6a"
   },
   "outputs": [
    {
     "data": {
      "text/plain": [
       "0.4833333333333333"
      ]
     },
     "execution_count": 71,
     "metadata": {},
     "output_type": "execute_result"
    }
   ],
   "source": [
    "mean_score"
   ]
  },
  {
   "cell_type": "code",
   "execution_count": 72,
   "metadata": {
    "id": "7-0CnEaYXkKO"
   },
   "outputs": [],
   "source": [
    "# leave-one-run-out-shuffed test\n",
    "cv = KFold(n_splits=8,shuffle=True,random_state=42)\n",
    "\n",
    "\n",
    "\n",
    "scores = cross_val_score(estimator=hm_linear_svm_ros.stock_model,cv=cv,X=X,y=y)\n",
    "\n",
    "mean_score = np.mean(scores)\n"
   ]
  },
  {
   "cell_type": "code",
   "execution_count": 73,
   "metadata": {
    "colab": {
     "base_uri": "https://localhost:8080/"
    },
    "executionInfo": {
     "elapsed": 9481339,
     "status": "ok",
     "timestamp": 1606968421631,
     "user": {
      "displayName": "Zakaria Bekkar",
      "photoUrl": "",
      "userId": "11013878220604787588"
     },
     "user_tz": -60
    },
    "id": "-0quuBcgXkKO",
    "outputId": "502f1a07-0f7b-45e0-882c-2ef728fdd1a5"
   },
   "outputs": [
    {
     "data": {
      "text/plain": [
       "array([0.05      , 0.08333333, 0.03333333, 0.08333333, 0.25      ,\n",
       "       0.08333333, 0.06666667, 0.03333333])"
      ]
     },
     "execution_count": 73,
     "metadata": {},
     "output_type": "execute_result"
    }
   ],
   "source": [
    "scores"
   ]
  },
  {
   "cell_type": "code",
   "execution_count": 74,
   "metadata": {
    "colab": {
     "base_uri": "https://localhost:8080/"
    },
    "executionInfo": {
     "elapsed": 9481327,
     "status": "ok",
     "timestamp": 1606968421631,
     "user": {
      "displayName": "Zakaria Bekkar",
      "photoUrl": "",
      "userId": "11013878220604787588"
     },
     "user_tz": -60
    },
    "id": "X16n6fn-XkKO",
    "outputId": "ca346c3d-9918-4e68-ac7d-7d7f92d8ded4"
   },
   "outputs": [
    {
     "data": {
      "text/plain": [
       "0.08541666666666667"
      ]
     },
     "execution_count": 74,
     "metadata": {},
     "output_type": "execute_result"
    }
   ],
   "source": [
    "mean_score"
   ]
  },
  {
   "cell_type": "code",
   "execution_count": 75,
   "metadata": {
    "id": "UDRY8j-5XkKO"
   },
   "outputs": [],
   "source": [
    "# other metrics + graphs\n",
    "\n",
    "\n"
   ]
  },
  {
   "cell_type": "code",
   "execution_count": null,
   "metadata": {
    "id": "Lja4q_wLTg0R"
   },
   "outputs": [],
   "source": []
  },
  {
   "cell_type": "code",
   "execution_count": null,
   "metadata": {
    "id": "stZ6DO2sThIc"
   },
   "outputs": [],
   "source": []
  },
  {
   "cell_type": "markdown",
   "metadata": {
    "id": "TTW32YjnxcFK"
   },
   "source": [
    "### Hyper_optimized model"
   ]
  },
  {
   "cell_type": "markdown",
   "metadata": {
    "id": "mvKVuHmJxcFL"
   },
   "source": [
    "#### *leave-one-task-out* cross validation"
   ]
  },
  {
   "cell_type": "markdown",
   "metadata": {
    "id": "JYV5csm3xcFL"
   },
   "source": [
    "##### Training"
   ]
  },
  {
   "cell_type": "code",
   "execution_count": 76,
   "metadata": {
    "id": "OzOIKjnrxcFL"
   },
   "outputs": [],
   "source": [
    "hm_linear_svm_to = hyper_model(model_name='linear_svm',\n",
    "                            validation_approach = 'leave-one-task-out',\n",
    "                            X=X,\n",
    "                            y=y)"
   ]
  },
  {
   "cell_type": "code",
   "execution_count": 77,
   "metadata": {
    "colab": {
     "base_uri": "https://localhost:8080/"
    },
    "executionInfo": {
     "elapsed": 10479607,
     "status": "ok",
     "timestamp": 1606969419972,
     "user": {
      "displayName": "Zakaria Bekkar",
      "photoUrl": "",
      "userId": "11013878220604787588"
     },
     "user_tz": -60
    },
    "id": "ugzTVwdBxcFL",
    "outputId": "7b7e65ab-8794-4f32-f939-8caa8b82013f"
   },
   "outputs": [
    {
     "name": "stdout",
     "output_type": "stream",
     "text": [
      "Initial Model with Stock Params Score : 0.47708333333333336\n",
      "Fitting 4 folds for each of 3 candidates, totalling 12 fits\n"
     ]
    },
    {
     "name": "stderr",
     "output_type": "stream",
     "text": [
      "[Parallel(n_jobs=1)]: Using backend SequentialBackend with 1 concurrent workers.\n",
      "[Parallel(n_jobs=1)]: Done  12 out of  12 | elapsed:  5.6min finished\n"
     ]
    },
    {
     "name": "stdout",
     "output_type": "stream",
     "text": [
      "Random HP Search Best Model Score : 0.5145833333333333\n",
      "Improvement of 7.860262008733608% relative to the initial model\n"
     ]
    }
   ],
   "source": [
    "hm_linear_svm_to.fit()"
   ]
  },
  {
   "cell_type": "code",
   "execution_count": 78,
   "metadata": {
    "colab": {
     "base_uri": "https://localhost:8080/",
     "height": 49
    },
    "executionInfo": {
     "elapsed": 10479595,
     "status": "ok",
     "timestamp": 1606969419973,
     "user": {
      "displayName": "Zakaria Bekkar",
      "photoUrl": "",
      "userId": "11013878220604787588"
     },
     "user_tz": -60
    },
    "id": "BcoF6XGAxcFL",
    "outputId": "3991040b-027f-4657-9216-f265b6109699"
   },
   "outputs": [
    {
     "data": {
      "text/html": [
       "<div>\n",
       "<style scoped>\n",
       "    .dataframe tbody tr th:only-of-type {\n",
       "        vertical-align: middle;\n",
       "    }\n",
       "\n",
       "    .dataframe tbody tr th {\n",
       "        vertical-align: top;\n",
       "    }\n",
       "\n",
       "    .dataframe thead th {\n",
       "        text-align: right;\n",
       "    }\n",
       "</style>\n",
       "<table border=\"1\" class=\"dataframe\">\n",
       "  <thead>\n",
       "    <tr style=\"text-align: right;\">\n",
       "      <th></th>\n",
       "      <th>Model Iteration</th>\n",
       "      <th>Score</th>\n",
       "    </tr>\n",
       "  </thead>\n",
       "  <tbody>\n",
       "  </tbody>\n",
       "</table>\n",
       "</div>"
      ],
      "text/plain": [
       "Empty DataFrame\n",
       "Columns: [Model Iteration, Score]\n",
       "Index: []"
      ]
     },
     "execution_count": 78,
     "metadata": {},
     "output_type": "execute_result"
    }
   ],
   "source": [
    "hm_linear_svm_to.all_models_perf"
   ]
  },
  {
   "cell_type": "code",
   "execution_count": null,
   "metadata": {
    "id": "Gz3DAOnAxcFM"
   },
   "outputs": [],
   "source": []
  },
  {
   "cell_type": "markdown",
   "metadata": {
    "id": "MU1PmbLuxcFM"
   },
   "source": [
    "##### Test"
   ]
  },
  {
   "cell_type": "code",
   "execution_count": 79,
   "metadata": {
    "id": "R_IY4nR0xcFM"
   },
   "outputs": [],
   "source": [
    "# leave-one-task-out test\n",
    "cv = KFold(n_splits=4,shuffle=False)\n",
    "\n",
    "scores = cross_val_score(estimator=hm_linear_svm_to.rd_model,cv=cv,X=X,y=y)\n",
    "\n",
    "mean_score = np.mean(scores)\n",
    "\n"
   ]
  },
  {
   "cell_type": "code",
   "execution_count": 80,
   "metadata": {
    "colab": {
     "base_uri": "https://localhost:8080/"
    },
    "executionInfo": {
     "elapsed": 10637071,
     "status": "ok",
     "timestamp": 1606969577486,
     "user": {
      "displayName": "Zakaria Bekkar",
      "photoUrl": "",
      "userId": "11013878220604787588"
     },
     "user_tz": -60
    },
    "id": "LXgqGhMMxcFM",
    "outputId": "62cd8099-f6eb-4aa9-f1db-4ed640197770"
   },
   "outputs": [
    {
     "data": {
      "text/plain": [
       "array([0.48333333, 0.425     , 0.525     , 0.475     ])"
      ]
     },
     "execution_count": 80,
     "metadata": {},
     "output_type": "execute_result"
    }
   ],
   "source": [
    "scores"
   ]
  },
  {
   "cell_type": "code",
   "execution_count": 81,
   "metadata": {
    "colab": {
     "base_uri": "https://localhost:8080/"
    },
    "executionInfo": {
     "elapsed": 10637057,
     "status": "ok",
     "timestamp": 1606969577487,
     "user": {
      "displayName": "Zakaria Bekkar",
      "photoUrl": "",
      "userId": "11013878220604787588"
     },
     "user_tz": -60
    },
    "id": "cQSax0c_xcFM",
    "outputId": "18566049-99f0-4960-d954-082aaf1d3f12"
   },
   "outputs": [
    {
     "data": {
      "text/plain": [
       "0.4770833333333333"
      ]
     },
     "execution_count": 81,
     "metadata": {},
     "output_type": "execute_result"
    }
   ],
   "source": [
    "mean_score"
   ]
  },
  {
   "cell_type": "code",
   "execution_count": 82,
   "metadata": {
    "id": "B6QFFuZoxcFM"
   },
   "outputs": [],
   "source": [
    "# leave-one-task-out-shuffed test\n",
    "cv = KFold(n_splits=4,shuffle=True,random_state=42)\n",
    "\n",
    "scores = cross_val_score(estimator=hm_linear_svm_to.rd_model,cv=cv,X=X,y=y)\n",
    "\n",
    "mean_score = np.mean(scores)\n"
   ]
  },
  {
   "cell_type": "code",
   "execution_count": 83,
   "metadata": {
    "colab": {
     "base_uri": "https://localhost:8080/"
    },
    "executionInfo": {
     "elapsed": 10698292,
     "status": "ok",
     "timestamp": 1606969638746,
     "user": {
      "displayName": "Zakaria Bekkar",
      "photoUrl": "",
      "userId": "11013878220604787588"
     },
     "user_tz": -60
    },
    "id": "jpdF-f29xcFM",
    "outputId": "648c85fd-4cd0-43a4-f6f8-ddf6043ca9d4"
   },
   "outputs": [
    {
     "data": {
      "text/plain": [
       "array([0.125     , 0.15833333, 0.09166667, 0.09166667])"
      ]
     },
     "execution_count": 83,
     "metadata": {},
     "output_type": "execute_result"
    }
   ],
   "source": [
    "scores"
   ]
  },
  {
   "cell_type": "code",
   "execution_count": 84,
   "metadata": {
    "colab": {
     "base_uri": "https://localhost:8080/"
    },
    "executionInfo": {
     "elapsed": 10698282,
     "status": "ok",
     "timestamp": 1606969638747,
     "user": {
      "displayName": "Zakaria Bekkar",
      "photoUrl": "",
      "userId": "11013878220604787588"
     },
     "user_tz": -60
    },
    "id": "tWt6NvLnxcFM",
    "outputId": "800761b5-3072-4ee9-cccc-91b8bea23843"
   },
   "outputs": [
    {
     "data": {
      "text/plain": [
       "0.11666666666666667"
      ]
     },
     "execution_count": 84,
     "metadata": {},
     "output_type": "execute_result"
    }
   ],
   "source": [
    "mean_score"
   ]
  },
  {
   "cell_type": "code",
   "execution_count": null,
   "metadata": {
    "id": "mrvkWQG2xcFM"
   },
   "outputs": [],
   "source": []
  },
  {
   "cell_type": "code",
   "execution_count": 85,
   "metadata": {
    "id": "f6ono8bWxcFM"
   },
   "outputs": [],
   "source": [
    "# leave-one-run-out test\n",
    "cv = KFold(n_splits=8,shuffle=False)\n",
    "\n",
    "scores = cross_val_score(estimator=hm_linear_svm_to.rd_model,cv=cv,X=X,y=y)\n",
    "\n",
    "mean_score = np.mean(scores)\n"
   ]
  },
  {
   "cell_type": "code",
   "execution_count": 86,
   "metadata": {
    "colab": {
     "base_uri": "https://localhost:8080/"
    },
    "executionInfo": {
     "elapsed": 11066069,
     "status": "ok",
     "timestamp": 1606970006570,
     "user": {
      "displayName": "Zakaria Bekkar",
      "photoUrl": "",
      "userId": "11013878220604787588"
     },
     "user_tz": -60
    },
    "id": "opbGpr4qxcFM",
    "outputId": "db0fc448-0e37-4b8a-c57c-556924876161"
   },
   "outputs": [
    {
     "data": {
      "text/plain": [
       "array([0.53333333, 0.5       , 0.43333333, 0.53333333, 0.46666667,\n",
       "       0.55      , 0.48333333, 0.45      ])"
      ]
     },
     "execution_count": 86,
     "metadata": {},
     "output_type": "execute_result"
    }
   ],
   "source": [
    "scores"
   ]
  },
  {
   "cell_type": "code",
   "execution_count": 87,
   "metadata": {
    "colab": {
     "base_uri": "https://localhost:8080/"
    },
    "executionInfo": {
     "elapsed": 11066057,
     "status": "ok",
     "timestamp": 1606970006571,
     "user": {
      "displayName": "Zakaria Bekkar",
      "photoUrl": "",
      "userId": "11013878220604787588"
     },
     "user_tz": -60
    },
    "id": "K1ZpmNBAxcFM",
    "outputId": "c3530515-8c32-4567-db5a-2907e61a5070"
   },
   "outputs": [
    {
     "data": {
      "text/plain": [
       "0.49375"
      ]
     },
     "execution_count": 87,
     "metadata": {},
     "output_type": "execute_result"
    }
   ],
   "source": [
    "mean_score"
   ]
  },
  {
   "cell_type": "code",
   "execution_count": 88,
   "metadata": {
    "id": "jm7mkIIdxcFM"
   },
   "outputs": [],
   "source": [
    "# leave-one-run-out-shuffed test\n",
    "cv = KFold(n_splits=8,shuffle=True,random_state=42)\n",
    "\n",
    "\n",
    "\n",
    "scores = cross_val_score(estimator=hm_linear_svm_to.rd_model,cv=cv,X=X,y=y)\n",
    "\n",
    "mean_score = np.mean(scores)\n"
   ]
  },
  {
   "cell_type": "code",
   "execution_count": 89,
   "metadata": {
    "colab": {
     "base_uri": "https://localhost:8080/"
    },
    "executionInfo": {
     "elapsed": 11391803,
     "status": "ok",
     "timestamp": 1606970332341,
     "user": {
      "displayName": "Zakaria Bekkar",
      "photoUrl": "",
      "userId": "11013878220604787588"
     },
     "user_tz": -60
    },
    "id": "pvspMz5zxcFM",
    "outputId": "8968a400-be45-4581-b7dc-5499334fd687"
   },
   "outputs": [
    {
     "data": {
      "text/plain": [
       "array([0.05      , 0.08333333, 0.03333333, 0.08333333, 0.23333333,\n",
       "       0.08333333, 0.06666667, 0.03333333])"
      ]
     },
     "execution_count": 89,
     "metadata": {},
     "output_type": "execute_result"
    }
   ],
   "source": [
    "scores"
   ]
  },
  {
   "cell_type": "code",
   "execution_count": 90,
   "metadata": {
    "colab": {
     "base_uri": "https://localhost:8080/"
    },
    "executionInfo": {
     "elapsed": 11391791,
     "status": "ok",
     "timestamp": 1606970332341,
     "user": {
      "displayName": "Zakaria Bekkar",
      "photoUrl": "",
      "userId": "11013878220604787588"
     },
     "user_tz": -60
    },
    "id": "xBjz_G5TxcFM",
    "outputId": "906f163d-eab2-4fc4-f460-db6d6767b3a9"
   },
   "outputs": [
    {
     "data": {
      "text/plain": [
       "0.08333333333333333"
      ]
     },
     "execution_count": 90,
     "metadata": {},
     "output_type": "execute_result"
    }
   ],
   "source": [
    "mean_score"
   ]
  },
  {
   "cell_type": "code",
   "execution_count": 91,
   "metadata": {
    "id": "dC9pWR3WxcFM"
   },
   "outputs": [],
   "source": [
    "# other metrics + graphs\n",
    "\n",
    "\n"
   ]
  },
  {
   "cell_type": "markdown",
   "metadata": {
    "id": "XedkRZHwxcFM"
   },
   "source": [
    "#### *leave-one-task-out-shuffled* cross validation"
   ]
  },
  {
   "cell_type": "markdown",
   "metadata": {
    "id": "9HiVDnozxcFM"
   },
   "source": [
    "##### Training"
   ]
  },
  {
   "cell_type": "code",
   "execution_count": 92,
   "metadata": {
    "id": "uwuuHEYlxcFM"
   },
   "outputs": [],
   "source": [
    "hm_linear_svm_tos = hyper_model(model_name='linear_svm',\n",
    "                            validation_approach = 'leave-one-task-out-shuffled',\n",
    "                            X=X,\n",
    "                            y=y)"
   ]
  },
  {
   "cell_type": "code",
   "execution_count": 93,
   "metadata": {
    "colab": {
     "base_uri": "https://localhost:8080/"
    },
    "executionInfo": {
     "elapsed": 11815707,
     "status": "ok",
     "timestamp": 1606970756294,
     "user": {
      "displayName": "Zakaria Bekkar",
      "photoUrl": "",
      "userId": "11013878220604787588"
     },
     "user_tz": -60
    },
    "id": "l-XinugXxcFM",
    "outputId": "ce87304b-e176-4706-ffc6-527c899e2622"
   },
   "outputs": [
    {
     "name": "stdout",
     "output_type": "stream",
     "text": [
      "Initial Model with Stock Params Score : 0.11666666666666667\n",
      "Fitting 4 folds for each of 3 candidates, totalling 12 fits\n"
     ]
    },
    {
     "name": "stderr",
     "output_type": "stream",
     "text": [
      "[Parallel(n_jobs=1)]: Using backend SequentialBackend with 1 concurrent workers.\n",
      "[Parallel(n_jobs=1)]: Done  12 out of  12 | elapsed:  2.3min finished\n"
     ]
    },
    {
     "name": "stdout",
     "output_type": "stream",
     "text": [
      "Random HP Search Best Model Score : 0.11666666666666667\n",
      "Improvement of 0.0% relative to the initial model\n"
     ]
    }
   ],
   "source": [
    "hm_linear_svm_tos.fit()"
   ]
  },
  {
   "cell_type": "code",
   "execution_count": 94,
   "metadata": {
    "colab": {
     "base_uri": "https://localhost:8080/",
     "height": 49
    },
    "executionInfo": {
     "elapsed": 11815696,
     "status": "ok",
     "timestamp": 1606970756295,
     "user": {
      "displayName": "Zakaria Bekkar",
      "photoUrl": "",
      "userId": "11013878220604787588"
     },
     "user_tz": -60
    },
    "id": "7tvjFgLoxcFM",
    "outputId": "61130e6b-d68a-4f3d-f5b1-1651bbf7cf86"
   },
   "outputs": [
    {
     "data": {
      "text/html": [
       "<div>\n",
       "<style scoped>\n",
       "    .dataframe tbody tr th:only-of-type {\n",
       "        vertical-align: middle;\n",
       "    }\n",
       "\n",
       "    .dataframe tbody tr th {\n",
       "        vertical-align: top;\n",
       "    }\n",
       "\n",
       "    .dataframe thead th {\n",
       "        text-align: right;\n",
       "    }\n",
       "</style>\n",
       "<table border=\"1\" class=\"dataframe\">\n",
       "  <thead>\n",
       "    <tr style=\"text-align: right;\">\n",
       "      <th></th>\n",
       "      <th>Model Iteration</th>\n",
       "      <th>Score</th>\n",
       "    </tr>\n",
       "  </thead>\n",
       "  <tbody>\n",
       "  </tbody>\n",
       "</table>\n",
       "</div>"
      ],
      "text/plain": [
       "Empty DataFrame\n",
       "Columns: [Model Iteration, Score]\n",
       "Index: []"
      ]
     },
     "execution_count": 94,
     "metadata": {},
     "output_type": "execute_result"
    }
   ],
   "source": [
    "hm_linear_svm_tos.all_models_perf"
   ]
  },
  {
   "cell_type": "code",
   "execution_count": null,
   "metadata": {
    "id": "EbZRWXTwxcFM"
   },
   "outputs": [],
   "source": []
  },
  {
   "cell_type": "markdown",
   "metadata": {
    "id": "qEfs8n21xcFM"
   },
   "source": [
    "##### Test"
   ]
  },
  {
   "cell_type": "code",
   "execution_count": 95,
   "metadata": {
    "id": "QGT0CuzPxcFM"
   },
   "outputs": [],
   "source": [
    "# leave-one-task-out test\n",
    "cv = KFold(n_splits=4,shuffle=False)\n",
    "\n",
    "scores = cross_val_score(estimator=hm_linear_svm_tos.rd_model,cv=cv,X=X,y=y)\n",
    "\n",
    "mean_score = np.mean(scores)\n",
    "\n"
   ]
  },
  {
   "cell_type": "code",
   "execution_count": 96,
   "metadata": {
    "colab": {
     "base_uri": "https://localhost:8080/"
    },
    "executionInfo": {
     "elapsed": 11973821,
     "status": "ok",
     "timestamp": 1606970914456,
     "user": {
      "displayName": "Zakaria Bekkar",
      "photoUrl": "",
      "userId": "11013878220604787588"
     },
     "user_tz": -60
    },
    "id": "O65IF5P6xcFM",
    "outputId": "f01c9f72-c583-42a5-e6cc-7d277de7a177"
   },
   "outputs": [
    {
     "data": {
      "text/plain": [
       "array([0.55      , 0.45833333, 0.49166667, 0.5       ])"
      ]
     },
     "execution_count": 96,
     "metadata": {},
     "output_type": "execute_result"
    }
   ],
   "source": [
    "scores"
   ]
  },
  {
   "cell_type": "code",
   "execution_count": 97,
   "metadata": {
    "colab": {
     "base_uri": "https://localhost:8080/"
    },
    "executionInfo": {
     "elapsed": 11973810,
     "status": "ok",
     "timestamp": 1606970914457,
     "user": {
      "displayName": "Zakaria Bekkar",
      "photoUrl": "",
      "userId": "11013878220604787588"
     },
     "user_tz": -60
    },
    "id": "g135jDm3xcFM",
    "outputId": "b9191535-b965-4820-8ca2-a40db6797edd"
   },
   "outputs": [
    {
     "data": {
      "text/plain": [
       "0.5"
      ]
     },
     "execution_count": 97,
     "metadata": {},
     "output_type": "execute_result"
    }
   ],
   "source": [
    "mean_score"
   ]
  },
  {
   "cell_type": "code",
   "execution_count": 98,
   "metadata": {
    "id": "U4ZzCpkwxcFM"
   },
   "outputs": [],
   "source": [
    "# leave-one-task-out-shuffed test\n",
    "cv = KFold(n_splits=4,shuffle=True,random_state=42)\n",
    "\n",
    "scores = cross_val_score(estimator=hm_linear_svm_tos.rd_model,cv=cv,X=X,y=y)\n",
    "\n",
    "mean_score = np.mean(scores)\n"
   ]
  },
  {
   "cell_type": "code",
   "execution_count": 99,
   "metadata": {
    "colab": {
     "base_uri": "https://localhost:8080/"
    },
    "executionInfo": {
     "elapsed": 12035243,
     "status": "ok",
     "timestamp": 1606970975914,
     "user": {
      "displayName": "Zakaria Bekkar",
      "photoUrl": "",
      "userId": "11013878220604787588"
     },
     "user_tz": -60
    },
    "id": "ghEGnajnxcFM",
    "outputId": "95c2dee3-5a5c-46eb-9819-630fcf53fd63"
   },
   "outputs": [
    {
     "data": {
      "text/plain": [
       "array([0.125     , 0.15833333, 0.09166667, 0.09166667])"
      ]
     },
     "execution_count": 99,
     "metadata": {},
     "output_type": "execute_result"
    }
   ],
   "source": [
    "scores"
   ]
  },
  {
   "cell_type": "code",
   "execution_count": 100,
   "metadata": {
    "colab": {
     "base_uri": "https://localhost:8080/"
    },
    "executionInfo": {
     "elapsed": 12035233,
     "status": "ok",
     "timestamp": 1606970975915,
     "user": {
      "displayName": "Zakaria Bekkar",
      "photoUrl": "",
      "userId": "11013878220604787588"
     },
     "user_tz": -60
    },
    "id": "1dQIJEXixcFM",
    "outputId": "c86e231f-9d27-4bf9-bff4-119baebe3c44"
   },
   "outputs": [
    {
     "data": {
      "text/plain": [
       "0.11666666666666667"
      ]
     },
     "execution_count": 100,
     "metadata": {},
     "output_type": "execute_result"
    }
   ],
   "source": [
    "mean_score"
   ]
  },
  {
   "cell_type": "code",
   "execution_count": null,
   "metadata": {
    "id": "8Bx9r41ixcFM"
   },
   "outputs": [],
   "source": []
  },
  {
   "cell_type": "code",
   "execution_count": 101,
   "metadata": {
    "id": "_PSdLsDqxcFM"
   },
   "outputs": [],
   "source": [
    "# leave-one-run-out test\n",
    "cv = KFold(n_splits=8,shuffle=False)\n",
    "\n",
    "scores = cross_val_score(estimator=hm_linear_svm_tos.rd_model,cv=cv,X=X,y=y)\n",
    "\n",
    "mean_score = np.mean(scores)\n"
   ]
  },
  {
   "cell_type": "code",
   "execution_count": 102,
   "metadata": {
    "colab": {
     "base_uri": "https://localhost:8080/"
    },
    "executionInfo": {
     "elapsed": 12404343,
     "status": "ok",
     "timestamp": 1606971345061,
     "user": {
      "displayName": "Zakaria Bekkar",
      "photoUrl": "",
      "userId": "11013878220604787588"
     },
     "user_tz": -60
    },
    "id": "r1C0gBd-xcFM",
    "outputId": "02d5f3ee-e47b-4cbf-9ff7-d16177c036b5"
   },
   "outputs": [
    {
     "data": {
      "text/plain": [
       "array([0.51666667, 0.5       , 0.46666667, 0.41666667, 0.48333333,\n",
       "       0.53333333, 0.58333333, 0.51666667])"
      ]
     },
     "execution_count": 102,
     "metadata": {},
     "output_type": "execute_result"
    }
   ],
   "source": [
    "scores"
   ]
  },
  {
   "cell_type": "code",
   "execution_count": 103,
   "metadata": {
    "colab": {
     "base_uri": "https://localhost:8080/"
    },
    "executionInfo": {
     "elapsed": 12404332,
     "status": "ok",
     "timestamp": 1606971345062,
     "user": {
      "displayName": "Zakaria Bekkar",
      "photoUrl": "",
      "userId": "11013878220604787588"
     },
     "user_tz": -60
    },
    "id": "sd_600a3xcFM",
    "outputId": "309afc3d-c75d-4542-cec4-e980079b5fc5"
   },
   "outputs": [
    {
     "data": {
      "text/plain": [
       "0.5020833333333333"
      ]
     },
     "execution_count": 103,
     "metadata": {},
     "output_type": "execute_result"
    }
   ],
   "source": [
    "mean_score"
   ]
  },
  {
   "cell_type": "code",
   "execution_count": 104,
   "metadata": {
    "id": "NTsPzbnSxcFM"
   },
   "outputs": [],
   "source": [
    "# leave-one-run-out-shuffed test\n",
    "cv = KFold(n_splits=8,shuffle=True,random_state=42)\n",
    "\n",
    "\n",
    "\n",
    "scores = cross_val_score(estimator=hm_linear_svm_tos.rd_model,cv=cv,X=X,y=y)\n",
    "\n",
    "mean_score = np.mean(scores)\n"
   ]
  },
  {
   "cell_type": "code",
   "execution_count": 105,
   "metadata": {
    "colab": {
     "base_uri": "https://localhost:8080/"
    },
    "executionInfo": {
     "elapsed": 12730989,
     "status": "ok",
     "timestamp": 1606971671745,
     "user": {
      "displayName": "Zakaria Bekkar",
      "photoUrl": "",
      "userId": "11013878220604787588"
     },
     "user_tz": -60
    },
    "id": "jb5RMb-pxcFM",
    "outputId": "e1ff44c5-254b-4ef7-bea6-fc0992122f52"
   },
   "outputs": [
    {
     "data": {
      "text/plain": [
       "array([0.05      , 0.08333333, 0.03333333, 0.08333333, 0.25      ,\n",
       "       0.08333333, 0.06666667, 0.03333333])"
      ]
     },
     "execution_count": 105,
     "metadata": {},
     "output_type": "execute_result"
    }
   ],
   "source": [
    "scores"
   ]
  },
  {
   "cell_type": "code",
   "execution_count": 106,
   "metadata": {
    "colab": {
     "base_uri": "https://localhost:8080/"
    },
    "executionInfo": {
     "elapsed": 12730978,
     "status": "ok",
     "timestamp": 1606971671746,
     "user": {
      "displayName": "Zakaria Bekkar",
      "photoUrl": "",
      "userId": "11013878220604787588"
     },
     "user_tz": -60
    },
    "id": "sdOno854xcFM",
    "outputId": "c707fe28-fa9e-4224-f52d-560a90fbe1e4"
   },
   "outputs": [
    {
     "data": {
      "text/plain": [
       "0.08541666666666667"
      ]
     },
     "execution_count": 106,
     "metadata": {},
     "output_type": "execute_result"
    }
   ],
   "source": [
    "mean_score"
   ]
  },
  {
   "cell_type": "code",
   "execution_count": 107,
   "metadata": {
    "id": "awfIV9pZxcFM"
   },
   "outputs": [],
   "source": [
    "# other metrics + graphs\n",
    "\n",
    "\n"
   ]
  },
  {
   "cell_type": "markdown",
   "metadata": {
    "id": "3Km95QOvxcFM"
   },
   "source": [
    "#### *leave-one-run-out* cross validation"
   ]
  },
  {
   "cell_type": "markdown",
   "metadata": {
    "id": "4HGGgdeIxcFM"
   },
   "source": [
    "##### Training"
   ]
  },
  {
   "cell_type": "code",
   "execution_count": 108,
   "metadata": {
    "id": "oaYNByAsxcFM"
   },
   "outputs": [],
   "source": [
    "hm_linear_svm_ro = hyper_model(model_name='linear_svm',\n",
    "                            validation_approach = 'leave-one-run-out',\n",
    "                            X=X,\n",
    "                            y=y)"
   ]
  },
  {
   "cell_type": "code",
   "execution_count": 109,
   "metadata": {
    "colab": {
     "base_uri": "https://localhost:8080/"
    },
    "executionInfo": {
     "elapsed": 15000518,
     "status": "ok",
     "timestamp": 1606973941322,
     "user": {
      "displayName": "Zakaria Bekkar",
      "photoUrl": "",
      "userId": "11013878220604787588"
     },
     "user_tz": -60
    },
    "id": "G63hlZ4kxcFM",
    "outputId": "aa7eaf19-597d-46ac-f8d0-b6a6d03c5502"
   },
   "outputs": [
    {
     "name": "stdout",
     "output_type": "stream",
     "text": [
      "Initial Model with Stock Params Score : 0.5\n",
      "Fitting 8 folds for each of 3 candidates, totalling 24 fits\n"
     ]
    },
    {
     "name": "stderr",
     "output_type": "stream",
     "text": [
      "[Parallel(n_jobs=1)]: Using backend SequentialBackend with 1 concurrent workers.\n",
      "[Parallel(n_jobs=1)]: Done  24 out of  24 | elapsed: 13.6min finished\n"
     ]
    },
    {
     "name": "stdout",
     "output_type": "stream",
     "text": [
      "Random HP Search Best Model Score : 0.5333333333333333\n",
      "Improvement of 6.666666666666665% relative to the initial model\n"
     ]
    }
   ],
   "source": [
    "hm_linear_svm_ro.fit()"
   ]
  },
  {
   "cell_type": "code",
   "execution_count": 110,
   "metadata": {
    "colab": {
     "base_uri": "https://localhost:8080/",
     "height": 49
    },
    "executionInfo": {
     "elapsed": 15000507,
     "status": "ok",
     "timestamp": 1606973941323,
     "user": {
      "displayName": "Zakaria Bekkar",
      "photoUrl": "",
      "userId": "11013878220604787588"
     },
     "user_tz": -60
    },
    "id": "PpMulicsxcFM",
    "outputId": "859dc2cf-b00f-4b57-eb33-1c6e24d14288"
   },
   "outputs": [
    {
     "data": {
      "text/html": [
       "<div>\n",
       "<style scoped>\n",
       "    .dataframe tbody tr th:only-of-type {\n",
       "        vertical-align: middle;\n",
       "    }\n",
       "\n",
       "    .dataframe tbody tr th {\n",
       "        vertical-align: top;\n",
       "    }\n",
       "\n",
       "    .dataframe thead th {\n",
       "        text-align: right;\n",
       "    }\n",
       "</style>\n",
       "<table border=\"1\" class=\"dataframe\">\n",
       "  <thead>\n",
       "    <tr style=\"text-align: right;\">\n",
       "      <th></th>\n",
       "      <th>Model Iteration</th>\n",
       "      <th>Score</th>\n",
       "    </tr>\n",
       "  </thead>\n",
       "  <tbody>\n",
       "  </tbody>\n",
       "</table>\n",
       "</div>"
      ],
      "text/plain": [
       "Empty DataFrame\n",
       "Columns: [Model Iteration, Score]\n",
       "Index: []"
      ]
     },
     "execution_count": 110,
     "metadata": {},
     "output_type": "execute_result"
    }
   ],
   "source": [
    "hm_linear_svm_ro.all_models_perf"
   ]
  },
  {
   "cell_type": "code",
   "execution_count": null,
   "metadata": {
    "id": "gtkUY73bxcFM"
   },
   "outputs": [],
   "source": []
  },
  {
   "cell_type": "markdown",
   "metadata": {
    "id": "4ad7FRzfxcFM"
   },
   "source": [
    "##### Test"
   ]
  },
  {
   "cell_type": "code",
   "execution_count": 111,
   "metadata": {
    "id": "5Pi0us0CxcFM"
   },
   "outputs": [],
   "source": [
    "# leave-one-task-out test\n",
    "cv = KFold(n_splits=4,shuffle=False)\n",
    "\n",
    "scores = cross_val_score(estimator=hm_linear_svm_ro.rd_model,cv=cv,X=X,y=y)\n",
    "\n",
    "mean_score = np.mean(scores)\n",
    "\n"
   ]
  },
  {
   "cell_type": "code",
   "execution_count": 112,
   "metadata": {
    "colab": {
     "base_uri": "https://localhost:8080/"
    },
    "executionInfo": {
     "elapsed": 15159087,
     "status": "ok",
     "timestamp": 1606974099939,
     "user": {
      "displayName": "Zakaria Bekkar",
      "photoUrl": "",
      "userId": "11013878220604787588"
     },
     "user_tz": -60
    },
    "id": "P2ReLTMmxcFM",
    "outputId": "c63aa243-4bbe-4058-8b9c-5f7e4cf222bf"
   },
   "outputs": [
    {
     "data": {
      "text/plain": [
       "array([0.54166667, 0.41666667, 0.54166667, 0.45      ])"
      ]
     },
     "execution_count": 112,
     "metadata": {},
     "output_type": "execute_result"
    }
   ],
   "source": [
    "scores"
   ]
  },
  {
   "cell_type": "code",
   "execution_count": 113,
   "metadata": {
    "colab": {
     "base_uri": "https://localhost:8080/"
    },
    "executionInfo": {
     "elapsed": 15159077,
     "status": "ok",
     "timestamp": 1606974099940,
     "user": {
      "displayName": "Zakaria Bekkar",
      "photoUrl": "",
      "userId": "11013878220604787588"
     },
     "user_tz": -60
    },
    "id": "zQe_P4vtxcFM",
    "outputId": "9a0218dc-a7c9-4093-89ad-802e47c87371"
   },
   "outputs": [
    {
     "data": {
      "text/plain": [
       "0.4875"
      ]
     },
     "execution_count": 113,
     "metadata": {},
     "output_type": "execute_result"
    }
   ],
   "source": [
    "mean_score"
   ]
  },
  {
   "cell_type": "code",
   "execution_count": 114,
   "metadata": {
    "id": "-fLvGqsBxcFM"
   },
   "outputs": [],
   "source": [
    "# leave-one-task-out-shuffed test\n",
    "cv = KFold(n_splits=4,shuffle=True,random_state=42)\n",
    "\n",
    "scores = cross_val_score(estimator=hm_linear_svm_ro.rd_model,cv=cv,X=X,y=y)\n",
    "\n",
    "mean_score = np.mean(scores)\n"
   ]
  },
  {
   "cell_type": "code",
   "execution_count": 115,
   "metadata": {
    "colab": {
     "base_uri": "https://localhost:8080/"
    },
    "executionInfo": {
     "elapsed": 15221019,
     "status": "ok",
     "timestamp": 1606974161905,
     "user": {
      "displayName": "Zakaria Bekkar",
      "photoUrl": "",
      "userId": "11013878220604787588"
     },
     "user_tz": -60
    },
    "id": "vH6BJYeCxcFM",
    "outputId": "c3ef438a-a740-433c-d0b3-390e6dafbf31"
   },
   "outputs": [
    {
     "data": {
      "text/plain": [
       "array([0.125     , 0.15833333, 0.09166667, 0.09166667])"
      ]
     },
     "execution_count": 115,
     "metadata": {},
     "output_type": "execute_result"
    }
   ],
   "source": [
    "scores"
   ]
  },
  {
   "cell_type": "code",
   "execution_count": 116,
   "metadata": {
    "colab": {
     "base_uri": "https://localhost:8080/"
    },
    "executionInfo": {
     "elapsed": 15221008,
     "status": "ok",
     "timestamp": 1606974161906,
     "user": {
      "displayName": "Zakaria Bekkar",
      "photoUrl": "",
      "userId": "11013878220604787588"
     },
     "user_tz": -60
    },
    "id": "iWKygSBFxcFM",
    "outputId": "69bf184b-d8fa-48c0-c81f-9a7a8c449eb7"
   },
   "outputs": [
    {
     "data": {
      "text/plain": [
       "0.11666666666666667"
      ]
     },
     "execution_count": 116,
     "metadata": {},
     "output_type": "execute_result"
    }
   ],
   "source": [
    "mean_score"
   ]
  },
  {
   "cell_type": "code",
   "execution_count": null,
   "metadata": {
    "id": "H89-Ubk1xcFM"
   },
   "outputs": [],
   "source": []
  },
  {
   "cell_type": "code",
   "execution_count": 117,
   "metadata": {
    "id": "jystqc68xcFM"
   },
   "outputs": [],
   "source": [
    "# leave-one-run-out test\n",
    "cv = KFold(n_splits=8,shuffle=False)\n",
    "\n",
    "scores = cross_val_score(estimator=hm_linear_svm_ro.rd_model,cv=cv,X=X,y=y)\n",
    "\n",
    "mean_score = np.mean(scores)\n"
   ]
  },
  {
   "cell_type": "code",
   "execution_count": 118,
   "metadata": {
    "colab": {
     "base_uri": "https://localhost:8080/"
    },
    "executionInfo": {
     "elapsed": 15589946,
     "status": "ok",
     "timestamp": 1606974530879,
     "user": {
      "displayName": "Zakaria Bekkar",
      "photoUrl": "",
      "userId": "11013878220604787588"
     },
     "user_tz": -60
    },
    "id": "me7J6W3jxcFM",
    "outputId": "bc077cc7-eac8-4023-a794-58543095edc5"
   },
   "outputs": [
    {
     "data": {
      "text/plain": [
       "array([0.51666667, 0.43333333, 0.46666667, 0.51666667, 0.51666667,\n",
       "       0.51666667, 0.51666667, 0.56666667])"
      ]
     },
     "execution_count": 118,
     "metadata": {},
     "output_type": "execute_result"
    }
   ],
   "source": [
    "scores"
   ]
  },
  {
   "cell_type": "code",
   "execution_count": 119,
   "metadata": {
    "colab": {
     "base_uri": "https://localhost:8080/"
    },
    "executionInfo": {
     "elapsed": 15589936,
     "status": "ok",
     "timestamp": 1606974530880,
     "user": {
      "displayName": "Zakaria Bekkar",
      "photoUrl": "",
      "userId": "11013878220604787588"
     },
     "user_tz": -60
    },
    "id": "b4GFz5MExcFM",
    "outputId": "5fdf187f-1a4d-4ed3-b0fd-3c2eaee91a4c"
   },
   "outputs": [
    {
     "data": {
      "text/plain": [
       "0.5062500000000001"
      ]
     },
     "execution_count": 119,
     "metadata": {},
     "output_type": "execute_result"
    }
   ],
   "source": [
    "mean_score"
   ]
  },
  {
   "cell_type": "code",
   "execution_count": 120,
   "metadata": {
    "id": "xuQVuhiQxcFM"
   },
   "outputs": [],
   "source": [
    "# leave-one-run-out-shuffed test\n",
    "cv = KFold(n_splits=8,shuffle=True,random_state=42)\n",
    "\n",
    "\n",
    "\n",
    "scores = cross_val_score(estimator=hm_linear_svm_ro.rd_model,cv=cv,X=X,y=y)\n",
    "\n",
    "mean_score = np.mean(scores)\n"
   ]
  },
  {
   "cell_type": "code",
   "execution_count": 121,
   "metadata": {
    "colab": {
     "base_uri": "https://localhost:8080/"
    },
    "executionInfo": {
     "elapsed": 15917173,
     "status": "ok",
     "timestamp": 1606974858140,
     "user": {
      "displayName": "Zakaria Bekkar",
      "photoUrl": "",
      "userId": "11013878220604787588"
     },
     "user_tz": -60
    },
    "id": "laTiM7yyxcFM",
    "outputId": "2da5dca2-7204-449c-cbc2-f2c4c1c6213b"
   },
   "outputs": [
    {
     "data": {
      "text/plain": [
       "array([0.06666667, 0.08333333, 0.03333333, 0.08333333, 0.23333333,\n",
       "       0.08333333, 0.06666667, 0.03333333])"
      ]
     },
     "execution_count": 121,
     "metadata": {},
     "output_type": "execute_result"
    }
   ],
   "source": [
    "scores"
   ]
  },
  {
   "cell_type": "code",
   "execution_count": 122,
   "metadata": {
    "colab": {
     "base_uri": "https://localhost:8080/"
    },
    "executionInfo": {
     "elapsed": 15917161,
     "status": "ok",
     "timestamp": 1606974858140,
     "user": {
      "displayName": "Zakaria Bekkar",
      "photoUrl": "",
      "userId": "11013878220604787588"
     },
     "user_tz": -60
    },
    "id": "5YEpQA8MxcFM",
    "outputId": "63ce9d64-72fd-4ea2-a924-a34a51c21924"
   },
   "outputs": [
    {
     "data": {
      "text/plain": [
       "0.08541666666666667"
      ]
     },
     "execution_count": 122,
     "metadata": {},
     "output_type": "execute_result"
    }
   ],
   "source": [
    "mean_score"
   ]
  },
  {
   "cell_type": "code",
   "execution_count": 123,
   "metadata": {
    "id": "e9j2dV-0xcFN"
   },
   "outputs": [],
   "source": [
    "# other metrics + graphs\n",
    "\n",
    "\n"
   ]
  },
  {
   "cell_type": "code",
   "execution_count": null,
   "metadata": {
    "id": "In9JIEELxcFN"
   },
   "outputs": [],
   "source": []
  },
  {
   "cell_type": "code",
   "execution_count": null,
   "metadata": {
    "id": "QBdhZ-WaxcFN"
   },
   "outputs": [],
   "source": []
  },
  {
   "cell_type": "markdown",
   "metadata": {
    "id": "M_bDhah3xcFN"
   },
   "source": [
    "#### *leave-one-run-out-shuffled* cross validation"
   ]
  },
  {
   "cell_type": "markdown",
   "metadata": {
    "id": "SB0mgXXvxcFN"
   },
   "source": [
    "##### Training"
   ]
  },
  {
   "cell_type": "code",
   "execution_count": 124,
   "metadata": {
    "id": "BqKnbg_JxcFN"
   },
   "outputs": [],
   "source": [
    "hm_linear_svm_ros = hyper_model(model_name='linear_svm',\n",
    "                            validation_approach = 'leave-one-run-out-shuffled',\n",
    "                            X=X,\n",
    "                            y=y)"
   ]
  },
  {
   "cell_type": "code",
   "execution_count": 125,
   "metadata": {
    "colab": {
     "base_uri": "https://localhost:8080/"
    },
    "executionInfo": {
     "elapsed": 17939974,
     "status": "ok",
     "timestamp": 1606976881013,
     "user": {
      "displayName": "Zakaria Bekkar",
      "photoUrl": "",
      "userId": "11013878220604787588"
     },
     "user_tz": -60
    },
    "id": "DdLP80jqxcFN",
    "outputId": "1f454bfd-3ace-4e7e-baca-c99020bf2935"
   },
   "outputs": [
    {
     "name": "stdout",
     "output_type": "stream",
     "text": [
      "Initial Model with Stock Params Score : 0.09166666666666666\n",
      "Fitting 8 folds for each of 3 candidates, totalling 24 fits\n"
     ]
    },
    {
     "name": "stderr",
     "output_type": "stream",
     "text": [
      "[Parallel(n_jobs=1)]: Using backend SequentialBackend with 1 concurrent workers.\n",
      "[Parallel(n_jobs=1)]: Done  24 out of  24 | elapsed: 11.9min finished\n"
     ]
    },
    {
     "name": "stdout",
     "output_type": "stream",
     "text": [
      "Random HP Search Best Model Score : 0.09166666666666666\n",
      "Improvement of 0.0% relative to the initial model\n"
     ]
    }
   ],
   "source": [
    "hm_linear_svm_ros.fit()"
   ]
  },
  {
   "cell_type": "code",
   "execution_count": 126,
   "metadata": {
    "colab": {
     "base_uri": "https://localhost:8080/",
     "height": 49
    },
    "executionInfo": {
     "elapsed": 17939963,
     "status": "ok",
     "timestamp": 1606976881014,
     "user": {
      "displayName": "Zakaria Bekkar",
      "photoUrl": "",
      "userId": "11013878220604787588"
     },
     "user_tz": -60
    },
    "id": "O-pGzTR8xcFN",
    "outputId": "da46315a-ba05-4d99-e797-55f1e3f4f837"
   },
   "outputs": [
    {
     "data": {
      "text/html": [
       "<div>\n",
       "<style scoped>\n",
       "    .dataframe tbody tr th:only-of-type {\n",
       "        vertical-align: middle;\n",
       "    }\n",
       "\n",
       "    .dataframe tbody tr th {\n",
       "        vertical-align: top;\n",
       "    }\n",
       "\n",
       "    .dataframe thead th {\n",
       "        text-align: right;\n",
       "    }\n",
       "</style>\n",
       "<table border=\"1\" class=\"dataframe\">\n",
       "  <thead>\n",
       "    <tr style=\"text-align: right;\">\n",
       "      <th></th>\n",
       "      <th>Model Iteration</th>\n",
       "      <th>Score</th>\n",
       "    </tr>\n",
       "  </thead>\n",
       "  <tbody>\n",
       "  </tbody>\n",
       "</table>\n",
       "</div>"
      ],
      "text/plain": [
       "Empty DataFrame\n",
       "Columns: [Model Iteration, Score]\n",
       "Index: []"
      ]
     },
     "execution_count": 126,
     "metadata": {},
     "output_type": "execute_result"
    }
   ],
   "source": [
    "hm_linear_svm_ros.all_models_perf"
   ]
  },
  {
   "cell_type": "code",
   "execution_count": null,
   "metadata": {
    "id": "mm_UBr-JxcFN"
   },
   "outputs": [],
   "source": [
    "\n"
   ]
  },
  {
   "cell_type": "markdown",
   "metadata": {
    "id": "37SLrvJMxcFN"
   },
   "source": [
    "##### Test"
   ]
  },
  {
   "cell_type": "code",
   "execution_count": 127,
   "metadata": {
    "id": "UOiflGaYxcFN"
   },
   "outputs": [],
   "source": [
    "# leave-one-task-out test\n",
    "cv = KFold(n_splits=4,shuffle=False)\n",
    "\n",
    "scores = cross_val_score(estimator=hm_linear_svm_ros.rd_model,cv=cv,X=X,y=y)\n",
    "\n",
    "mean_score = np.mean(scores)\n",
    "\n"
   ]
  },
  {
   "cell_type": "code",
   "execution_count": 128,
   "metadata": {
    "colab": {
     "base_uri": "https://localhost:8080/"
    },
    "executionInfo": {
     "elapsed": 18097117,
     "status": "ok",
     "timestamp": 1606977038205,
     "user": {
      "displayName": "Zakaria Bekkar",
      "photoUrl": "",
      "userId": "11013878220604787588"
     },
     "user_tz": -60
    },
    "id": "uSGfcU8QxcFN",
    "outputId": "50ffb8c4-45f5-46f1-8cb3-8db39f9bb64b"
   },
   "outputs": [
    {
     "data": {
      "text/plain": [
       "array([0.55833333, 0.525     , 0.575     , 0.51666667])"
      ]
     },
     "execution_count": 128,
     "metadata": {},
     "output_type": "execute_result"
    }
   ],
   "source": [
    "scores"
   ]
  },
  {
   "cell_type": "code",
   "execution_count": 129,
   "metadata": {
    "colab": {
     "base_uri": "https://localhost:8080/"
    },
    "executionInfo": {
     "elapsed": 18097106,
     "status": "ok",
     "timestamp": 1606977038206,
     "user": {
      "displayName": "Zakaria Bekkar",
      "photoUrl": "",
      "userId": "11013878220604787588"
     },
     "user_tz": -60
    },
    "id": "xoi4Bd7NxcFN",
    "outputId": "b486fc16-c110-4f1e-c2e2-491fd36f7dfa"
   },
   "outputs": [
    {
     "data": {
      "text/plain": [
       "0.5437500000000001"
      ]
     },
     "execution_count": 129,
     "metadata": {},
     "output_type": "execute_result"
    }
   ],
   "source": [
    "mean_score"
   ]
  },
  {
   "cell_type": "code",
   "execution_count": 130,
   "metadata": {
    "id": "wNJLv2rYxcFN"
   },
   "outputs": [],
   "source": [
    "# leave-one-task-out-shuffed test\n",
    "cv = KFold(n_splits=4,shuffle=True,random_state=42)\n",
    "\n",
    "scores = cross_val_score(estimator=hm_linear_svm_ros.rd_model,cv=cv,X=X,y=y)\n",
    "\n",
    "mean_score = np.mean(scores)\n"
   ]
  },
  {
   "cell_type": "code",
   "execution_count": 131,
   "metadata": {
    "colab": {
     "base_uri": "https://localhost:8080/"
    },
    "executionInfo": {
     "elapsed": 18158400,
     "status": "ok",
     "timestamp": 1606977099523,
     "user": {
      "displayName": "Zakaria Bekkar",
      "photoUrl": "",
      "userId": "11013878220604787588"
     },
     "user_tz": -60
    },
    "id": "V7rgWJWOxcFN",
    "outputId": "1dba7a54-c8d6-4cba-c94b-d4e149ca236d"
   },
   "outputs": [
    {
     "data": {
      "text/plain": [
       "array([0.125     , 0.15833333, 0.09166667, 0.09166667])"
      ]
     },
     "execution_count": 131,
     "metadata": {},
     "output_type": "execute_result"
    }
   ],
   "source": [
    "scores"
   ]
  },
  {
   "cell_type": "code",
   "execution_count": 132,
   "metadata": {
    "colab": {
     "base_uri": "https://localhost:8080/"
    },
    "executionInfo": {
     "elapsed": 18158389,
     "status": "ok",
     "timestamp": 1606977099524,
     "user": {
      "displayName": "Zakaria Bekkar",
      "photoUrl": "",
      "userId": "11013878220604787588"
     },
     "user_tz": -60
    },
    "id": "VDh6BucmxcFN",
    "outputId": "57365f73-60ea-4f0e-8ded-adc5153163dd"
   },
   "outputs": [
    {
     "data": {
      "text/plain": [
       "0.11666666666666667"
      ]
     },
     "execution_count": 132,
     "metadata": {},
     "output_type": "execute_result"
    }
   ],
   "source": [
    "mean_score"
   ]
  },
  {
   "cell_type": "code",
   "execution_count": null,
   "metadata": {
    "id": "HUaF3tqAxcFN"
   },
   "outputs": [],
   "source": []
  },
  {
   "cell_type": "code",
   "execution_count": 133,
   "metadata": {
    "id": "EuutIIFXxcFN"
   },
   "outputs": [],
   "source": [
    "# leave-one-run-out test\n",
    "cv = KFold(n_splits=8,shuffle=False)\n",
    "\n",
    "scores = cross_val_score(estimator=hm_linear_svm_ros.rd_model,cv=cv,X=X,y=y)\n",
    "\n",
    "mean_score = np.mean(scores)\n"
   ]
  },
  {
   "cell_type": "code",
   "execution_count": 134,
   "metadata": {
    "colab": {
     "base_uri": "https://localhost:8080/"
    },
    "executionInfo": {
     "elapsed": 18527810,
     "status": "ok",
     "timestamp": 1606977468980,
     "user": {
      "displayName": "Zakaria Bekkar",
      "photoUrl": "",
      "userId": "11013878220604787588"
     },
     "user_tz": -60
    },
    "id": "RAi3g167xcFN",
    "outputId": "864ee8d6-76b8-4094-875e-ab341e2b8a9a"
   },
   "outputs": [
    {
     "data": {
      "text/plain": [
       "array([0.45      , 0.46666667, 0.41666667, 0.48333333, 0.51666667,\n",
       "       0.48333333, 0.56666667, 0.5       ])"
      ]
     },
     "execution_count": 134,
     "metadata": {},
     "output_type": "execute_result"
    }
   ],
   "source": [
    "scores"
   ]
  },
  {
   "cell_type": "code",
   "execution_count": 135,
   "metadata": {
    "colab": {
     "base_uri": "https://localhost:8080/"
    },
    "executionInfo": {
     "elapsed": 18527798,
     "status": "ok",
     "timestamp": 1606977468981,
     "user": {
      "displayName": "Zakaria Bekkar",
      "photoUrl": "",
      "userId": "11013878220604787588"
     },
     "user_tz": -60
    },
    "id": "qRf2KlHuxcFN",
    "outputId": "e72db8fe-cbca-4ee0-9693-814aba8f5142"
   },
   "outputs": [
    {
     "data": {
      "text/plain": [
       "0.48541666666666666"
      ]
     },
     "execution_count": 135,
     "metadata": {},
     "output_type": "execute_result"
    }
   ],
   "source": [
    "mean_score"
   ]
  },
  {
   "cell_type": "code",
   "execution_count": 136,
   "metadata": {
    "id": "vc_-n4csxcFN"
   },
   "outputs": [],
   "source": [
    "# leave-one-run-out-shuffed test\n",
    "cv = KFold(n_splits=8,shuffle=True,random_state=42)\n",
    "\n",
    "\n",
    "\n",
    "scores = cross_val_score(estimator=hm_linear_svm_ros.rd_model,cv=cv,X=X,y=y)\n",
    "\n",
    "mean_score = np.mean(scores)\n"
   ]
  },
  {
   "cell_type": "code",
   "execution_count": 137,
   "metadata": {
    "colab": {
     "base_uri": "https://localhost:8080/"
    },
    "executionInfo": {
     "elapsed": 18855972,
     "status": "ok",
     "timestamp": 1606977797179,
     "user": {
      "displayName": "Zakaria Bekkar",
      "photoUrl": "",
      "userId": "11013878220604787588"
     },
     "user_tz": -60
    },
    "id": "Jln-g212xcFN",
    "outputId": "e4d86723-bc19-4908-a34f-ec48af1272ad"
   },
   "outputs": [
    {
     "data": {
      "text/plain": [
       "array([0.05      , 0.08333333, 0.03333333, 0.1       , 0.26666667,\n",
       "       0.08333333, 0.06666667, 0.03333333])"
      ]
     },
     "execution_count": 137,
     "metadata": {},
     "output_type": "execute_result"
    }
   ],
   "source": [
    "scores"
   ]
  },
  {
   "cell_type": "code",
   "execution_count": 138,
   "metadata": {
    "colab": {
     "base_uri": "https://localhost:8080/"
    },
    "executionInfo": {
     "elapsed": 18855961,
     "status": "ok",
     "timestamp": 1606977797180,
     "user": {
      "displayName": "Zakaria Bekkar",
      "photoUrl": "",
      "userId": "11013878220604787588"
     },
     "user_tz": -60
    },
    "id": "tlOVYKDCxcFN",
    "outputId": "91be5647-5bef-4f7b-e28b-b5a57a1be8f8"
   },
   "outputs": [
    {
     "data": {
      "text/plain": [
       "0.08958333333333332"
      ]
     },
     "execution_count": 138,
     "metadata": {},
     "output_type": "execute_result"
    }
   ],
   "source": [
    "mean_score"
   ]
  },
  {
   "cell_type": "code",
   "execution_count": 139,
   "metadata": {
    "id": "VIaGLGWLxcFN"
   },
   "outputs": [],
   "source": [
    "# other metrics + graphs\n",
    "\n",
    "\n"
   ]
  },
  {
   "cell_type": "code",
   "execution_count": null,
   "metadata": {
    "id": "i80BGb95xcFN"
   },
   "outputs": [],
   "source": []
  },
  {
   "cell_type": "code",
   "execution_count": null,
   "metadata": {
    "id": "eo8YKpR5ThY_"
   },
   "outputs": [],
   "source": []
  },
  {
   "cell_type": "code",
   "execution_count": null,
   "metadata": {
    "id": "oqugS205TiTt"
   },
   "outputs": [],
   "source": []
  },
  {
   "cell_type": "markdown",
   "metadata": {
    "id": "qeEgWCblzQnP"
   },
   "source": [
    "## Non Linear Support Vector Machine"
   ]
  },
  {
   "cell_type": "markdown",
   "metadata": {
    "id": "5GSv6mzky38n"
   },
   "source": [
    "### Stock Model"
   ]
  },
  {
   "cell_type": "markdown",
   "metadata": {
    "id": "7oULTVbEPi_U"
   },
   "source": [
    "#### *leave-one-task-out* cross validation"
   ]
  },
  {
   "cell_type": "markdown",
   "metadata": {
    "id": "0Cne7taDXqB-"
   },
   "source": [
    "##### Training"
   ]
  },
  {
   "cell_type": "code",
   "execution_count": 140,
   "metadata": {
    "id": "dq07br9mPi_U"
   },
   "outputs": [],
   "source": [
    "hm_non_linear_svm_to = hyper_model(model_name='non_linear_svm',\n",
    "                            validation_approach = 'leave-one-task-out',\n",
    "                            X=X,\n",
    "                            y=y)"
   ]
  },
  {
   "cell_type": "code",
   "execution_count": 141,
   "metadata": {
    "colab": {
     "base_uri": "https://localhost:8080/"
    },
    "id": "1V8keujMPi_U",
    "outputId": "11cdd1ab-660f-4544-d770-8b00bc0eddfe"
   },
   "outputs": [
    {
     "name": "stdout",
     "output_type": "stream",
     "text": [
      "Initial Model with Stock Params Score : 0.5041666666666667\n",
      "Fitting 4 folds for each of 2 candidates, totalling 8 fits\n"
     ]
    },
    {
     "name": "stderr",
     "output_type": "stream",
     "text": [
      "[Parallel(n_jobs=1)]: Using backend SequentialBackend with 1 concurrent workers.\n",
      "[Parallel(n_jobs=1)]: Done   8 out of   8 | elapsed:  1.2min finished\n"
     ]
    },
    {
     "name": "stdout",
     "output_type": "stream",
     "text": [
      "Random HP Search Best Model Score : 0.5041666666666667\n",
      "Improvement of 0.0% relative to the initial model\n"
     ]
    }
   ],
   "source": [
    "hm_non_linear_svm_to.fit()"
   ]
  },
  {
   "cell_type": "code",
   "execution_count": 142,
   "metadata": {
    "id": "0gD5AkJMPi_U"
   },
   "outputs": [
    {
     "data": {
      "text/html": [
       "<div>\n",
       "<style scoped>\n",
       "    .dataframe tbody tr th:only-of-type {\n",
       "        vertical-align: middle;\n",
       "    }\n",
       "\n",
       "    .dataframe tbody tr th {\n",
       "        vertical-align: top;\n",
       "    }\n",
       "\n",
       "    .dataframe thead th {\n",
       "        text-align: right;\n",
       "    }\n",
       "</style>\n",
       "<table border=\"1\" class=\"dataframe\">\n",
       "  <thead>\n",
       "    <tr style=\"text-align: right;\">\n",
       "      <th></th>\n",
       "      <th>Model Iteration</th>\n",
       "      <th>Score</th>\n",
       "    </tr>\n",
       "  </thead>\n",
       "  <tbody>\n",
       "  </tbody>\n",
       "</table>\n",
       "</div>"
      ],
      "text/plain": [
       "Empty DataFrame\n",
       "Columns: [Model Iteration, Score]\n",
       "Index: []"
      ]
     },
     "execution_count": 142,
     "metadata": {},
     "output_type": "execute_result"
    }
   ],
   "source": [
    "hm_non_linear_svm_to.all_models_perf"
   ]
  },
  {
   "cell_type": "code",
   "execution_count": null,
   "metadata": {
    "id": "XxxGNCDDPi_U"
   },
   "outputs": [],
   "source": []
  },
  {
   "cell_type": "markdown",
   "metadata": {
    "id": "R-4wu13DXt7S"
   },
   "source": [
    "##### Test"
   ]
  },
  {
   "cell_type": "code",
   "execution_count": 143,
   "metadata": {
    "id": "2zxO36oNXt7S"
   },
   "outputs": [],
   "source": [
    "# leave-one-task-out test\n",
    "cv = KFold(n_splits=4,shuffle=False)\n",
    "\n",
    "scores = cross_val_score(estimator=hm_non_linear_svm_to.stock_model,cv=cv,X=X,y=y)\n",
    "\n",
    "mean_score = np.mean(scores)\n",
    "\n"
   ]
  },
  {
   "cell_type": "code",
   "execution_count": 144,
   "metadata": {
    "id": "fsWhol8YXt7S"
   },
   "outputs": [
    {
     "data": {
      "text/plain": [
       "array([0.56666667, 0.39166667, 0.55      , 0.50833333])"
      ]
     },
     "execution_count": 144,
     "metadata": {},
     "output_type": "execute_result"
    }
   ],
   "source": [
    "scores"
   ]
  },
  {
   "cell_type": "code",
   "execution_count": 145,
   "metadata": {
    "id": "ymPirDLmXt7S"
   },
   "outputs": [
    {
     "data": {
      "text/plain": [
       "0.5041666666666667"
      ]
     },
     "execution_count": 145,
     "metadata": {},
     "output_type": "execute_result"
    }
   ],
   "source": [
    "mean_score"
   ]
  },
  {
   "cell_type": "code",
   "execution_count": 146,
   "metadata": {
    "id": "T0ta4ssHXt7S"
   },
   "outputs": [],
   "source": [
    "# leave-one-task-out-shuffed test\n",
    "cv = KFold(n_splits=4,shuffle=True,random_state=42)\n",
    "\n",
    "scores = cross_val_score(estimator=hm_non_linear_svm_to.stock_model,cv=cv,X=X,y=y)\n",
    "\n",
    "mean_score = np.mean(scores)\n"
   ]
  },
  {
   "cell_type": "code",
   "execution_count": 147,
   "metadata": {
    "id": "1RjKwn0pXt7S"
   },
   "outputs": [
    {
     "data": {
      "text/plain": [
       "array([0.24166667, 0.15      , 0.15833333, 0.225     ])"
      ]
     },
     "execution_count": 147,
     "metadata": {},
     "output_type": "execute_result"
    }
   ],
   "source": [
    "scores"
   ]
  },
  {
   "cell_type": "code",
   "execution_count": 148,
   "metadata": {
    "id": "CIBOvXeDXt7S"
   },
   "outputs": [
    {
     "data": {
      "text/plain": [
       "0.19375"
      ]
     },
     "execution_count": 148,
     "metadata": {},
     "output_type": "execute_result"
    }
   ],
   "source": [
    "mean_score"
   ]
  },
  {
   "cell_type": "code",
   "execution_count": null,
   "metadata": {
    "id": "1aTV6PZfXt7S"
   },
   "outputs": [],
   "source": []
  },
  {
   "cell_type": "code",
   "execution_count": 149,
   "metadata": {
    "id": "NNnTNmeiXt7S"
   },
   "outputs": [],
   "source": [
    "# leave-one-run-out test\n",
    "cv = KFold(n_splits=8,shuffle=False)\n",
    "\n",
    "scores = cross_val_score(estimator=hm_non_linear_svm_to.stock_model,cv=cv,X=X,y=y)\n",
    "\n",
    "mean_score = np.mean(scores)\n"
   ]
  },
  {
   "cell_type": "code",
   "execution_count": 150,
   "metadata": {
    "id": "XPMCwPjQXt7S"
   },
   "outputs": [
    {
     "data": {
      "text/plain": [
       "array([0.56666667, 0.51666667, 0.38333333, 0.43333333, 0.55      ,\n",
       "       0.6       , 0.58333333, 0.61666667])"
      ]
     },
     "execution_count": 150,
     "metadata": {},
     "output_type": "execute_result"
    }
   ],
   "source": [
    "scores"
   ]
  },
  {
   "cell_type": "code",
   "execution_count": 151,
   "metadata": {
    "id": "DRVwsyQLXt7S"
   },
   "outputs": [
    {
     "data": {
      "text/plain": [
       "0.53125"
      ]
     },
     "execution_count": 151,
     "metadata": {},
     "output_type": "execute_result"
    }
   ],
   "source": [
    "mean_score"
   ]
  },
  {
   "cell_type": "code",
   "execution_count": 152,
   "metadata": {
    "id": "vinSE87gXt7S"
   },
   "outputs": [],
   "source": [
    "# leave-one-run-out-shuffed test\n",
    "cv = KFold(n_splits=8,shuffle=True,random_state=42)\n",
    "\n",
    "\n",
    "\n",
    "scores = cross_val_score(estimator=hm_non_linear_svm_to.stock_model,cv=cv,X=X,y=y)\n",
    "\n",
    "mean_score = np.mean(scores)\n"
   ]
  },
  {
   "cell_type": "code",
   "execution_count": 153,
   "metadata": {
    "id": "xOuNRJLdXt7S"
   },
   "outputs": [
    {
     "data": {
      "text/plain": [
       "array([0.16666667, 0.26666667, 0.23333333, 0.15      , 0.23333333,\n",
       "       0.13333333, 0.23333333, 0.15      ])"
      ]
     },
     "execution_count": 153,
     "metadata": {},
     "output_type": "execute_result"
    }
   ],
   "source": [
    "scores"
   ]
  },
  {
   "cell_type": "code",
   "execution_count": 154,
   "metadata": {
    "id": "d4xnl7FcXt7S"
   },
   "outputs": [
    {
     "data": {
      "text/plain": [
       "0.19583333333333333"
      ]
     },
     "execution_count": 154,
     "metadata": {},
     "output_type": "execute_result"
    }
   ],
   "source": [
    "mean_score"
   ]
  },
  {
   "cell_type": "code",
   "execution_count": 155,
   "metadata": {
    "id": "eFy5EJT0Xt7S"
   },
   "outputs": [],
   "source": [
    "# other metrics + graphs\n",
    "\n",
    "\n"
   ]
  },
  {
   "cell_type": "code",
   "execution_count": null,
   "metadata": {
    "id": "l0KvHb0QXogu"
   },
   "outputs": [],
   "source": []
  },
  {
   "cell_type": "markdown",
   "metadata": {
    "id": "0Zs6BKtdPi_U"
   },
   "source": [
    "#### *leave-one-task-out-shuffled* cross validation"
   ]
  },
  {
   "cell_type": "markdown",
   "metadata": {
    "id": "8EAYpz-HXvUg"
   },
   "source": [
    "##### Training"
   ]
  },
  {
   "cell_type": "code",
   "execution_count": 156,
   "metadata": {
    "id": "CL0ybWLcPi_U"
   },
   "outputs": [],
   "source": [
    "hm_non_linear_svm_tos = hyper_model(model_name='non_linear_svm',\n",
    "                            validation_approach = 'leave-one-task-out-shuffled',\n",
    "                            X=X,\n",
    "                            y=y)"
   ]
  },
  {
   "cell_type": "code",
   "execution_count": 157,
   "metadata": {
    "id": "IktxzifQPi_U"
   },
   "outputs": [
    {
     "name": "stdout",
     "output_type": "stream",
     "text": [
      "Initial Model with Stock Params Score : 0.19375\n",
      "Fitting 4 folds for each of 2 candidates, totalling 8 fits\n"
     ]
    },
    {
     "name": "stderr",
     "output_type": "stream",
     "text": [
      "[Parallel(n_jobs=1)]: Using backend SequentialBackend with 1 concurrent workers.\n",
      "[Parallel(n_jobs=1)]: Done   8 out of   8 | elapsed:  1.3min finished\n"
     ]
    },
    {
     "name": "stdout",
     "output_type": "stream",
     "text": [
      "Random HP Search Best Model Score : 0.8041666666666666\n",
      "Improvement of 315.05376344086017% relative to the initial model\n"
     ]
    }
   ],
   "source": [
    "hm_non_linear_svm_tos.fit()"
   ]
  },
  {
   "cell_type": "code",
   "execution_count": 158,
   "metadata": {
    "id": "_P-nox5XPi_U"
   },
   "outputs": [
    {
     "data": {
      "text/html": [
       "<div>\n",
       "<style scoped>\n",
       "    .dataframe tbody tr th:only-of-type {\n",
       "        vertical-align: middle;\n",
       "    }\n",
       "\n",
       "    .dataframe tbody tr th {\n",
       "        vertical-align: top;\n",
       "    }\n",
       "\n",
       "    .dataframe thead th {\n",
       "        text-align: right;\n",
       "    }\n",
       "</style>\n",
       "<table border=\"1\" class=\"dataframe\">\n",
       "  <thead>\n",
       "    <tr style=\"text-align: right;\">\n",
       "      <th></th>\n",
       "      <th>Model Iteration</th>\n",
       "      <th>Score</th>\n",
       "    </tr>\n",
       "  </thead>\n",
       "  <tbody>\n",
       "  </tbody>\n",
       "</table>\n",
       "</div>"
      ],
      "text/plain": [
       "Empty DataFrame\n",
       "Columns: [Model Iteration, Score]\n",
       "Index: []"
      ]
     },
     "execution_count": 158,
     "metadata": {},
     "output_type": "execute_result"
    }
   ],
   "source": [
    "hm_non_linear_svm_tos.all_models_perf"
   ]
  },
  {
   "cell_type": "code",
   "execution_count": null,
   "metadata": {
    "id": "tWvOHDWQPi_U"
   },
   "outputs": [],
   "source": []
  },
  {
   "cell_type": "markdown",
   "metadata": {
    "id": "0198Uz5fXzwU"
   },
   "source": [
    "##### Test"
   ]
  },
  {
   "cell_type": "code",
   "execution_count": 159,
   "metadata": {
    "id": "RyahliyLXzwU"
   },
   "outputs": [],
   "source": [
    "# leave-one-task-out test\n",
    "cv = KFold(n_splits=4,shuffle=False)\n",
    "\n",
    "scores = cross_val_score(estimator=hm_non_linear_svm_tos.stock_model,cv=cv,X=X,y=y)\n",
    "\n",
    "mean_score = np.mean(scores)\n",
    "\n"
   ]
  },
  {
   "cell_type": "code",
   "execution_count": 160,
   "metadata": {
    "id": "zehjkRXnXzwU"
   },
   "outputs": [
    {
     "data": {
      "text/plain": [
       "array([0.56666667, 0.39166667, 0.55      , 0.50833333])"
      ]
     },
     "execution_count": 160,
     "metadata": {},
     "output_type": "execute_result"
    }
   ],
   "source": [
    "scores"
   ]
  },
  {
   "cell_type": "code",
   "execution_count": 161,
   "metadata": {
    "id": "WuJ2osi6XzwU"
   },
   "outputs": [
    {
     "data": {
      "text/plain": [
       "0.5041666666666667"
      ]
     },
     "execution_count": 161,
     "metadata": {},
     "output_type": "execute_result"
    }
   ],
   "source": [
    "mean_score"
   ]
  },
  {
   "cell_type": "code",
   "execution_count": 162,
   "metadata": {
    "id": "Ci44W-T2XzwU"
   },
   "outputs": [],
   "source": [
    "# leave-one-task-out-shuffed test\n",
    "cv = KFold(n_splits=4,shuffle=True,random_state=42)\n",
    "\n",
    "scores = cross_val_score(estimator=hm_non_linear_svm_tos.stock_model,cv=cv,X=X,y=y)\n",
    "\n",
    "mean_score = np.mean(scores)\n"
   ]
  },
  {
   "cell_type": "code",
   "execution_count": 163,
   "metadata": {
    "id": "vK4IjAABXzwU"
   },
   "outputs": [
    {
     "data": {
      "text/plain": [
       "array([0.24166667, 0.15      , 0.15833333, 0.225     ])"
      ]
     },
     "execution_count": 163,
     "metadata": {},
     "output_type": "execute_result"
    }
   ],
   "source": [
    "scores"
   ]
  },
  {
   "cell_type": "code",
   "execution_count": 164,
   "metadata": {
    "id": "xhWy-ohdXzwU"
   },
   "outputs": [
    {
     "data": {
      "text/plain": [
       "0.19375"
      ]
     },
     "execution_count": 164,
     "metadata": {},
     "output_type": "execute_result"
    }
   ],
   "source": [
    "mean_score"
   ]
  },
  {
   "cell_type": "code",
   "execution_count": null,
   "metadata": {
    "id": "CF7JcIMjXzwU"
   },
   "outputs": [],
   "source": []
  },
  {
   "cell_type": "code",
   "execution_count": 165,
   "metadata": {
    "id": "2oIQ_WXQXzwU"
   },
   "outputs": [],
   "source": [
    "# leave-one-run-out test\n",
    "cv = KFold(n_splits=8,shuffle=False)\n",
    "\n",
    "scores = cross_val_score(estimator=hm_non_linear_svm_tos.stock_model,cv=cv,X=X,y=y)\n",
    "\n",
    "mean_score = np.mean(scores)\n"
   ]
  },
  {
   "cell_type": "code",
   "execution_count": 166,
   "metadata": {
    "id": "UzV889JxXzwU"
   },
   "outputs": [
    {
     "data": {
      "text/plain": [
       "array([0.56666667, 0.51666667, 0.38333333, 0.43333333, 0.55      ,\n",
       "       0.6       , 0.58333333, 0.61666667])"
      ]
     },
     "execution_count": 166,
     "metadata": {},
     "output_type": "execute_result"
    }
   ],
   "source": [
    "scores"
   ]
  },
  {
   "cell_type": "code",
   "execution_count": 167,
   "metadata": {
    "id": "yL2hPRGYXzwU"
   },
   "outputs": [
    {
     "data": {
      "text/plain": [
       "0.53125"
      ]
     },
     "execution_count": 167,
     "metadata": {},
     "output_type": "execute_result"
    }
   ],
   "source": [
    "mean_score"
   ]
  },
  {
   "cell_type": "code",
   "execution_count": 168,
   "metadata": {
    "id": "-66NgtuSXzwU"
   },
   "outputs": [],
   "source": [
    "# leave-one-run-out-shuffed test\n",
    "cv = KFold(n_splits=8,shuffle=True,random_state=42)\n",
    "\n",
    "\n",
    "\n",
    "scores = cross_val_score(estimator=hm_non_linear_svm_tos.stock_model,cv=cv,X=X,y=y)\n",
    "\n",
    "mean_score = np.mean(scores)\n"
   ]
  },
  {
   "cell_type": "code",
   "execution_count": 169,
   "metadata": {
    "id": "WuB0T_n2XzwU"
   },
   "outputs": [
    {
     "data": {
      "text/plain": [
       "array([0.16666667, 0.26666667, 0.23333333, 0.15      , 0.23333333,\n",
       "       0.13333333, 0.23333333, 0.15      ])"
      ]
     },
     "execution_count": 169,
     "metadata": {},
     "output_type": "execute_result"
    }
   ],
   "source": [
    "scores"
   ]
  },
  {
   "cell_type": "code",
   "execution_count": 170,
   "metadata": {
    "id": "tKTaDJrDXzwU"
   },
   "outputs": [
    {
     "data": {
      "text/plain": [
       "0.19583333333333333"
      ]
     },
     "execution_count": 170,
     "metadata": {},
     "output_type": "execute_result"
    }
   ],
   "source": [
    "mean_score"
   ]
  },
  {
   "cell_type": "code",
   "execution_count": 171,
   "metadata": {
    "id": "cn3af9g-XzwU"
   },
   "outputs": [],
   "source": [
    "# other metrics + graphs\n",
    "\n",
    "\n"
   ]
  },
  {
   "cell_type": "markdown",
   "metadata": {
    "id": "uDs9TYKhPi_U"
   },
   "source": [
    "#### *leave-one-run-out* cross validation"
   ]
  },
  {
   "cell_type": "markdown",
   "metadata": {
    "id": "egAIdkvWX28i"
   },
   "source": [
    "##### Training"
   ]
  },
  {
   "cell_type": "code",
   "execution_count": 172,
   "metadata": {
    "id": "TC4Zs4C_Pi_U"
   },
   "outputs": [],
   "source": [
    "hm_non_linear_svm_ro = hyper_model(model_name='non_linear_svm',\n",
    "                            validation_approach = 'leave-one-run-out',\n",
    "                            X=X,\n",
    "                            y=y)"
   ]
  },
  {
   "cell_type": "code",
   "execution_count": 173,
   "metadata": {
    "id": "yYH5CASnPi_U"
   },
   "outputs": [
    {
     "name": "stdout",
     "output_type": "stream",
     "text": [
      "Initial Model with Stock Params Score : 0.53125\n",
      "Fitting 8 folds for each of 2 candidates, totalling 16 fits\n"
     ]
    },
    {
     "name": "stderr",
     "output_type": "stream",
     "text": [
      "[Parallel(n_jobs=1)]: Using backend SequentialBackend with 1 concurrent workers.\n",
      "[Parallel(n_jobs=1)]: Done  16 out of  16 | elapsed:  2.8min finished\n"
     ]
    },
    {
     "name": "stdout",
     "output_type": "stream",
     "text": [
      "Random HP Search Best Model Score : 0.53125\n",
      "Improvement of 0.0% relative to the initial model\n"
     ]
    }
   ],
   "source": [
    "hm_non_linear_svm_ro.fit()"
   ]
  },
  {
   "cell_type": "code",
   "execution_count": 174,
   "metadata": {
    "id": "Gew_wB7pPi_U"
   },
   "outputs": [
    {
     "data": {
      "text/html": [
       "<div>\n",
       "<style scoped>\n",
       "    .dataframe tbody tr th:only-of-type {\n",
       "        vertical-align: middle;\n",
       "    }\n",
       "\n",
       "    .dataframe tbody tr th {\n",
       "        vertical-align: top;\n",
       "    }\n",
       "\n",
       "    .dataframe thead th {\n",
       "        text-align: right;\n",
       "    }\n",
       "</style>\n",
       "<table border=\"1\" class=\"dataframe\">\n",
       "  <thead>\n",
       "    <tr style=\"text-align: right;\">\n",
       "      <th></th>\n",
       "      <th>Model Iteration</th>\n",
       "      <th>Score</th>\n",
       "    </tr>\n",
       "  </thead>\n",
       "  <tbody>\n",
       "  </tbody>\n",
       "</table>\n",
       "</div>"
      ],
      "text/plain": [
       "Empty DataFrame\n",
       "Columns: [Model Iteration, Score]\n",
       "Index: []"
      ]
     },
     "execution_count": 174,
     "metadata": {},
     "output_type": "execute_result"
    }
   ],
   "source": [
    "hm_non_linear_svm_ro.all_models_perf"
   ]
  },
  {
   "cell_type": "code",
   "execution_count": null,
   "metadata": {
    "id": "unaQIpFcPi_V"
   },
   "outputs": [],
   "source": []
  },
  {
   "cell_type": "markdown",
   "metadata": {
    "id": "nwAyHju5X6vP"
   },
   "source": [
    "##### Test"
   ]
  },
  {
   "cell_type": "code",
   "execution_count": 175,
   "metadata": {
    "id": "ZPOKqFjRX6vP"
   },
   "outputs": [],
   "source": [
    "# leave-one-task-out test\n",
    "cv = KFold(n_splits=4,shuffle=False)\n",
    "\n",
    "scores = cross_val_score(estimator=hm_non_linear_svm_ro.stock_model,cv=cv,X=X,y=y)\n",
    "\n",
    "mean_score = np.mean(scores)\n",
    "\n"
   ]
  },
  {
   "cell_type": "code",
   "execution_count": 176,
   "metadata": {
    "id": "fupMQc6EX6vP"
   },
   "outputs": [
    {
     "data": {
      "text/plain": [
       "array([0.56666667, 0.39166667, 0.55      , 0.50833333])"
      ]
     },
     "execution_count": 176,
     "metadata": {},
     "output_type": "execute_result"
    }
   ],
   "source": [
    "scores"
   ]
  },
  {
   "cell_type": "code",
   "execution_count": 177,
   "metadata": {
    "id": "M1CThpvVX6vP"
   },
   "outputs": [
    {
     "data": {
      "text/plain": [
       "0.5041666666666667"
      ]
     },
     "execution_count": 177,
     "metadata": {},
     "output_type": "execute_result"
    }
   ],
   "source": [
    "mean_score"
   ]
  },
  {
   "cell_type": "code",
   "execution_count": 178,
   "metadata": {
    "id": "9_gWEv7sX6vP"
   },
   "outputs": [],
   "source": [
    "# leave-one-task-out-shuffed test\n",
    "cv = KFold(n_splits=4,shuffle=True,random_state=42)\n",
    "\n",
    "scores = cross_val_score(estimator=hm_non_linear_svm_ro.stock_model,cv=cv,X=X,y=y)\n",
    "\n",
    "mean_score = np.mean(scores)\n"
   ]
  },
  {
   "cell_type": "code",
   "execution_count": 179,
   "metadata": {
    "id": "fiy7W5ffX6vP"
   },
   "outputs": [
    {
     "data": {
      "text/plain": [
       "array([0.24166667, 0.15      , 0.15833333, 0.225     ])"
      ]
     },
     "execution_count": 179,
     "metadata": {},
     "output_type": "execute_result"
    }
   ],
   "source": [
    "scores"
   ]
  },
  {
   "cell_type": "code",
   "execution_count": 180,
   "metadata": {
    "id": "lkjknhMeX6vP"
   },
   "outputs": [
    {
     "data": {
      "text/plain": [
       "0.19375"
      ]
     },
     "execution_count": 180,
     "metadata": {},
     "output_type": "execute_result"
    }
   ],
   "source": [
    "mean_score"
   ]
  },
  {
   "cell_type": "code",
   "execution_count": null,
   "metadata": {
    "id": "FTXiBdQLX6vP"
   },
   "outputs": [],
   "source": []
  },
  {
   "cell_type": "code",
   "execution_count": 181,
   "metadata": {
    "id": "t1r-sdlxX6vP"
   },
   "outputs": [],
   "source": [
    "# leave-one-run-out test\n",
    "cv = KFold(n_splits=8,shuffle=False)\n",
    "\n",
    "scores = cross_val_score(estimator=hm_non_linear_svm_ro.stock_model,cv=cv,X=X,y=y)\n",
    "\n",
    "mean_score = np.mean(scores)\n"
   ]
  },
  {
   "cell_type": "code",
   "execution_count": 182,
   "metadata": {
    "id": "CWGMzyK-X6vP"
   },
   "outputs": [
    {
     "data": {
      "text/plain": [
       "array([0.56666667, 0.51666667, 0.38333333, 0.43333333, 0.55      ,\n",
       "       0.6       , 0.58333333, 0.61666667])"
      ]
     },
     "execution_count": 182,
     "metadata": {},
     "output_type": "execute_result"
    }
   ],
   "source": [
    "scores"
   ]
  },
  {
   "cell_type": "code",
   "execution_count": 183,
   "metadata": {
    "id": "H0zLw18oX6vP"
   },
   "outputs": [
    {
     "data": {
      "text/plain": [
       "0.53125"
      ]
     },
     "execution_count": 183,
     "metadata": {},
     "output_type": "execute_result"
    }
   ],
   "source": [
    "mean_score"
   ]
  },
  {
   "cell_type": "code",
   "execution_count": 184,
   "metadata": {
    "id": "A8T5rsMmX6vP"
   },
   "outputs": [],
   "source": [
    "# leave-one-run-out-shuffed test\n",
    "cv = KFold(n_splits=8,shuffle=True,random_state=42)\n",
    "\n",
    "\n",
    "\n",
    "scores = cross_val_score(estimator=hm_non_linear_svm_ro.stock_model,cv=cv,X=X,y=y)\n",
    "\n",
    "mean_score = np.mean(scores)\n"
   ]
  },
  {
   "cell_type": "code",
   "execution_count": 185,
   "metadata": {
    "id": "M_t4UF1DX6vP"
   },
   "outputs": [
    {
     "data": {
      "text/plain": [
       "array([0.16666667, 0.26666667, 0.23333333, 0.15      , 0.23333333,\n",
       "       0.13333333, 0.23333333, 0.15      ])"
      ]
     },
     "execution_count": 185,
     "metadata": {},
     "output_type": "execute_result"
    }
   ],
   "source": [
    "scores"
   ]
  },
  {
   "cell_type": "code",
   "execution_count": 186,
   "metadata": {
    "id": "0fJTTwT7X6vP"
   },
   "outputs": [
    {
     "data": {
      "text/plain": [
       "0.19583333333333333"
      ]
     },
     "execution_count": 186,
     "metadata": {},
     "output_type": "execute_result"
    }
   ],
   "source": [
    "mean_score"
   ]
  },
  {
   "cell_type": "code",
   "execution_count": 187,
   "metadata": {
    "id": "1jmvoITgX6vP"
   },
   "outputs": [],
   "source": [
    "# other metrics + graphs\n",
    "\n",
    "\n"
   ]
  },
  {
   "cell_type": "markdown",
   "metadata": {
    "id": "9GrSc9C_Pi_V"
   },
   "source": [
    "#### *leave-one-run-out-shuffled* cross validation"
   ]
  },
  {
   "cell_type": "markdown",
   "metadata": {
    "id": "kD81hURuX8Gq"
   },
   "source": [
    "##### Training"
   ]
  },
  {
   "cell_type": "code",
   "execution_count": 188,
   "metadata": {
    "id": "VvTPL3JlPi_V"
   },
   "outputs": [],
   "source": [
    "hm_non_linear_svm_ros = hyper_model(model_name='non_linear_svm',\n",
    "                            validation_approach = 'leave-one-run-out-shuffled',\n",
    "                            X=X,\n",
    "                            y=y)"
   ]
  },
  {
   "cell_type": "code",
   "execution_count": 189,
   "metadata": {
    "id": "VrRmVRDrPi_V"
   },
   "outputs": [
    {
     "name": "stdout",
     "output_type": "stream",
     "text": [
      "Initial Model with Stock Params Score : 0.19583333333333333\n",
      "Fitting 8 folds for each of 2 candidates, totalling 16 fits\n"
     ]
    },
    {
     "name": "stderr",
     "output_type": "stream",
     "text": [
      "[Parallel(n_jobs=1)]: Using backend SequentialBackend with 1 concurrent workers.\n",
      "[Parallel(n_jobs=1)]: Done  16 out of  16 | elapsed:  3.1min finished\n"
     ]
    },
    {
     "name": "stdout",
     "output_type": "stream",
     "text": [
      "Random HP Search Best Model Score : 0.8208333333333333\n",
      "Improvement of 319.1489361702128% relative to the initial model\n"
     ]
    }
   ],
   "source": [
    "hm_non_linear_svm_ros.fit()"
   ]
  },
  {
   "cell_type": "code",
   "execution_count": 190,
   "metadata": {
    "id": "T_4U6bROPi_V"
   },
   "outputs": [
    {
     "data": {
      "text/html": [
       "<div>\n",
       "<style scoped>\n",
       "    .dataframe tbody tr th:only-of-type {\n",
       "        vertical-align: middle;\n",
       "    }\n",
       "\n",
       "    .dataframe tbody tr th {\n",
       "        vertical-align: top;\n",
       "    }\n",
       "\n",
       "    .dataframe thead th {\n",
       "        text-align: right;\n",
       "    }\n",
       "</style>\n",
       "<table border=\"1\" class=\"dataframe\">\n",
       "  <thead>\n",
       "    <tr style=\"text-align: right;\">\n",
       "      <th></th>\n",
       "      <th>Model Iteration</th>\n",
       "      <th>Score</th>\n",
       "    </tr>\n",
       "  </thead>\n",
       "  <tbody>\n",
       "  </tbody>\n",
       "</table>\n",
       "</div>"
      ],
      "text/plain": [
       "Empty DataFrame\n",
       "Columns: [Model Iteration, Score]\n",
       "Index: []"
      ]
     },
     "execution_count": 190,
     "metadata": {},
     "output_type": "execute_result"
    }
   ],
   "source": [
    "hm_non_linear_svm_ros.all_models_perf"
   ]
  },
  {
   "cell_type": "code",
   "execution_count": null,
   "metadata": {
    "id": "jvvT0I2zA-tR"
   },
   "outputs": [],
   "source": []
  },
  {
   "cell_type": "markdown",
   "metadata": {
    "id": "NBFCHmpSX_fT"
   },
   "source": [
    "##### Test"
   ]
  },
  {
   "cell_type": "code",
   "execution_count": 191,
   "metadata": {
    "id": "FpOCGtljX_fT"
   },
   "outputs": [],
   "source": [
    "# leave-one-task-out test\n",
    "cv = KFold(n_splits=4,shuffle=False)\n",
    "\n",
    "scores = cross_val_score(estimator=hm_non_linear_svm_ros.stock_model,cv=cv,X=X,y=y)\n",
    "\n",
    "mean_score = np.mean(scores)\n",
    "\n"
   ]
  },
  {
   "cell_type": "code",
   "execution_count": 192,
   "metadata": {
    "id": "7Qyp61qCX_fT"
   },
   "outputs": [
    {
     "data": {
      "text/plain": [
       "array([0.56666667, 0.39166667, 0.55      , 0.50833333])"
      ]
     },
     "execution_count": 192,
     "metadata": {},
     "output_type": "execute_result"
    }
   ],
   "source": [
    "scores"
   ]
  },
  {
   "cell_type": "code",
   "execution_count": 193,
   "metadata": {
    "id": "aIXn6G0DX_fT"
   },
   "outputs": [
    {
     "data": {
      "text/plain": [
       "0.5041666666666667"
      ]
     },
     "execution_count": 193,
     "metadata": {},
     "output_type": "execute_result"
    }
   ],
   "source": [
    "mean_score"
   ]
  },
  {
   "cell_type": "code",
   "execution_count": 194,
   "metadata": {
    "id": "Cd88yjZ2X_fT"
   },
   "outputs": [],
   "source": [
    "# leave-one-task-out-shuffed test\n",
    "cv = KFold(n_splits=4,shuffle=True,random_state=42)\n",
    "\n",
    "scores = cross_val_score(estimator=hm_non_linear_svm_ros.stock_model,cv=cv,X=X,y=y)\n",
    "\n",
    "mean_score = np.mean(scores)\n"
   ]
  },
  {
   "cell_type": "code",
   "execution_count": 195,
   "metadata": {
    "id": "TBGK1CCwX_fT"
   },
   "outputs": [
    {
     "data": {
      "text/plain": [
       "array([0.24166667, 0.15      , 0.15833333, 0.225     ])"
      ]
     },
     "execution_count": 195,
     "metadata": {},
     "output_type": "execute_result"
    }
   ],
   "source": [
    "scores"
   ]
  },
  {
   "cell_type": "code",
   "execution_count": 196,
   "metadata": {
    "id": "YrWrvhkgX_fT"
   },
   "outputs": [
    {
     "data": {
      "text/plain": [
       "0.19375"
      ]
     },
     "execution_count": 196,
     "metadata": {},
     "output_type": "execute_result"
    }
   ],
   "source": [
    "mean_score"
   ]
  },
  {
   "cell_type": "code",
   "execution_count": null,
   "metadata": {
    "id": "AxSU-XfPX_fU"
   },
   "outputs": [],
   "source": []
  },
  {
   "cell_type": "code",
   "execution_count": 197,
   "metadata": {
    "id": "AmBIkKpYX_fU"
   },
   "outputs": [],
   "source": [
    "# leave-one-run-out test\n",
    "cv = KFold(n_splits=8,shuffle=False)\n",
    "\n",
    "scores = cross_val_score(estimator=hm_non_linear_svm_ros.stock_model,cv=cv,X=X,y=y)\n",
    "\n",
    "mean_score = np.mean(scores)\n"
   ]
  },
  {
   "cell_type": "code",
   "execution_count": 198,
   "metadata": {
    "id": "_V5IbN68X_fU"
   },
   "outputs": [
    {
     "data": {
      "text/plain": [
       "array([0.56666667, 0.51666667, 0.38333333, 0.43333333, 0.55      ,\n",
       "       0.6       , 0.58333333, 0.61666667])"
      ]
     },
     "execution_count": 198,
     "metadata": {},
     "output_type": "execute_result"
    }
   ],
   "source": [
    "scores"
   ]
  },
  {
   "cell_type": "code",
   "execution_count": 199,
   "metadata": {
    "id": "TWaCN8l7X_fU"
   },
   "outputs": [
    {
     "data": {
      "text/plain": [
       "0.53125"
      ]
     },
     "execution_count": 199,
     "metadata": {},
     "output_type": "execute_result"
    }
   ],
   "source": [
    "mean_score"
   ]
  },
  {
   "cell_type": "code",
   "execution_count": 200,
   "metadata": {
    "id": "syrzAL9rX_fU"
   },
   "outputs": [],
   "source": [
    "# leave-one-run-out-shuffed test\n",
    "cv = KFold(n_splits=8,shuffle=True,random_state=42)\n",
    "\n",
    "\n",
    "\n",
    "scores = cross_val_score(estimator=hm_non_linear_svm_ros.stock_model,cv=cv,X=X,y=y)\n",
    "\n",
    "mean_score = np.mean(scores)\n"
   ]
  },
  {
   "cell_type": "code",
   "execution_count": 201,
   "metadata": {
    "id": "NsiBn2glX_fU"
   },
   "outputs": [
    {
     "data": {
      "text/plain": [
       "array([0.16666667, 0.26666667, 0.23333333, 0.15      , 0.23333333,\n",
       "       0.13333333, 0.23333333, 0.15      ])"
      ]
     },
     "execution_count": 201,
     "metadata": {},
     "output_type": "execute_result"
    }
   ],
   "source": [
    "scores"
   ]
  },
  {
   "cell_type": "code",
   "execution_count": 202,
   "metadata": {
    "id": "LtMnsPToX_fU"
   },
   "outputs": [
    {
     "data": {
      "text/plain": [
       "0.19583333333333333"
      ]
     },
     "execution_count": 202,
     "metadata": {},
     "output_type": "execute_result"
    }
   ],
   "source": [
    "mean_score"
   ]
  },
  {
   "cell_type": "code",
   "execution_count": 203,
   "metadata": {
    "id": "0DqFlfKnX_fU"
   },
   "outputs": [],
   "source": [
    "# other metrics + graphs\n",
    "\n",
    "\n"
   ]
  },
  {
   "cell_type": "markdown",
   "metadata": {
    "id": "8XqHy9Y-zFbi"
   },
   "source": [
    "### Hyper_optimized model"
   ]
  },
  {
   "cell_type": "markdown",
   "metadata": {
    "id": "7JuJVcluzKap"
   },
   "source": [
    "### Stock Model"
   ]
  },
  {
   "cell_type": "markdown",
   "metadata": {
    "id": "nDanBmu2zKap"
   },
   "source": [
    "#### *leave-one-task-out* cross validation"
   ]
  },
  {
   "cell_type": "markdown",
   "metadata": {
    "id": "vXdh3OxCzKap"
   },
   "source": [
    "##### Training"
   ]
  },
  {
   "cell_type": "code",
   "execution_count": 204,
   "metadata": {
    "id": "pMbR3zyvzKap"
   },
   "outputs": [],
   "source": [
    "hm_non_linear_svm_to = hyper_model(model_name='non_linear_svm',\n",
    "                            validation_approach = 'leave-one-task-out',\n",
    "                            X=X,\n",
    "                            y=y)"
   ]
  },
  {
   "cell_type": "code",
   "execution_count": 205,
   "metadata": {
    "id": "RQK687eXzKap"
   },
   "outputs": [
    {
     "name": "stdout",
     "output_type": "stream",
     "text": [
      "Initial Model with Stock Params Score : 0.5041666666666667\n",
      "Fitting 4 folds for each of 2 candidates, totalling 8 fits\n"
     ]
    },
    {
     "name": "stderr",
     "output_type": "stream",
     "text": [
      "[Parallel(n_jobs=1)]: Using backend SequentialBackend with 1 concurrent workers.\n",
      "[Parallel(n_jobs=1)]: Done   8 out of   8 | elapsed:  1.2min finished\n"
     ]
    },
    {
     "name": "stdout",
     "output_type": "stream",
     "text": [
      "Random HP Search Best Model Score : 0.5041666666666667\n",
      "Improvement of 0.0% relative to the initial model\n"
     ]
    }
   ],
   "source": [
    "hm_non_linear_svm_to.fit()"
   ]
  },
  {
   "cell_type": "code",
   "execution_count": 206,
   "metadata": {
    "id": "1GyuhQOqzKap"
   },
   "outputs": [
    {
     "data": {
      "text/html": [
       "<div>\n",
       "<style scoped>\n",
       "    .dataframe tbody tr th:only-of-type {\n",
       "        vertical-align: middle;\n",
       "    }\n",
       "\n",
       "    .dataframe tbody tr th {\n",
       "        vertical-align: top;\n",
       "    }\n",
       "\n",
       "    .dataframe thead th {\n",
       "        text-align: right;\n",
       "    }\n",
       "</style>\n",
       "<table border=\"1\" class=\"dataframe\">\n",
       "  <thead>\n",
       "    <tr style=\"text-align: right;\">\n",
       "      <th></th>\n",
       "      <th>Model Iteration</th>\n",
       "      <th>Score</th>\n",
       "    </tr>\n",
       "  </thead>\n",
       "  <tbody>\n",
       "  </tbody>\n",
       "</table>\n",
       "</div>"
      ],
      "text/plain": [
       "Empty DataFrame\n",
       "Columns: [Model Iteration, Score]\n",
       "Index: []"
      ]
     },
     "execution_count": 206,
     "metadata": {},
     "output_type": "execute_result"
    }
   ],
   "source": [
    "hm_non_linear_svm_to.all_models_perf"
   ]
  },
  {
   "cell_type": "code",
   "execution_count": null,
   "metadata": {
    "id": "Hsydl9nEzKap"
   },
   "outputs": [],
   "source": []
  },
  {
   "cell_type": "markdown",
   "metadata": {
    "id": "dZufsYMWzKap"
   },
   "source": [
    "##### Test"
   ]
  },
  {
   "cell_type": "code",
   "execution_count": 207,
   "metadata": {
    "id": "gYJcPYkvzKap"
   },
   "outputs": [],
   "source": [
    "# leave-one-task-out test\n",
    "cv = KFold(n_splits=4,shuffle=False)\n",
    "\n",
    "scores = cross_val_score(estimator=hm_non_linear_svm_to.rd_model,cv=cv,X=X,y=y)\n",
    "\n",
    "mean_score = np.mean(scores)\n",
    "\n"
   ]
  },
  {
   "cell_type": "code",
   "execution_count": 208,
   "metadata": {
    "id": "zwggFtqFzKap"
   },
   "outputs": [
    {
     "data": {
      "text/plain": [
       "array([0.56666667, 0.39166667, 0.55      , 0.50833333])"
      ]
     },
     "execution_count": 208,
     "metadata": {},
     "output_type": "execute_result"
    }
   ],
   "source": [
    "scores"
   ]
  },
  {
   "cell_type": "code",
   "execution_count": 209,
   "metadata": {
    "id": "170biW6UzKap"
   },
   "outputs": [
    {
     "data": {
      "text/plain": [
       "0.5041666666666667"
      ]
     },
     "execution_count": 209,
     "metadata": {},
     "output_type": "execute_result"
    }
   ],
   "source": [
    "mean_score"
   ]
  },
  {
   "cell_type": "code",
   "execution_count": 210,
   "metadata": {
    "id": "BuJajI8CzKap"
   },
   "outputs": [],
   "source": [
    "# leave-one-task-out-shuffed test\n",
    "cv = KFold(n_splits=4,shuffle=True,random_state=42)\n",
    "\n",
    "scores = cross_val_score(estimator=hm_non_linear_svm_to.rd_model,cv=cv,X=X,y=y)\n",
    "\n",
    "mean_score = np.mean(scores)\n"
   ]
  },
  {
   "cell_type": "code",
   "execution_count": 211,
   "metadata": {
    "id": "y9sBxOW3zKap"
   },
   "outputs": [
    {
     "data": {
      "text/plain": [
       "array([0.24166667, 0.15      , 0.15833333, 0.225     ])"
      ]
     },
     "execution_count": 211,
     "metadata": {},
     "output_type": "execute_result"
    }
   ],
   "source": [
    "scores"
   ]
  },
  {
   "cell_type": "code",
   "execution_count": 212,
   "metadata": {
    "id": "Tu78PjDEzKap"
   },
   "outputs": [
    {
     "data": {
      "text/plain": [
       "0.19375"
      ]
     },
     "execution_count": 212,
     "metadata": {},
     "output_type": "execute_result"
    }
   ],
   "source": [
    "mean_score"
   ]
  },
  {
   "cell_type": "code",
   "execution_count": null,
   "metadata": {
    "id": "p5O7LCZUzKaq"
   },
   "outputs": [],
   "source": []
  },
  {
   "cell_type": "code",
   "execution_count": 213,
   "metadata": {
    "id": "170jqf1TzKaq"
   },
   "outputs": [],
   "source": [
    "# leave-one-run-out test\n",
    "cv = KFold(n_splits=8,shuffle=False)\n",
    "\n",
    "scores = cross_val_score(estimator=hm_non_linear_svm_to.rd_model,cv=cv,X=X,y=y)\n",
    "\n",
    "mean_score = np.mean(scores)\n"
   ]
  },
  {
   "cell_type": "code",
   "execution_count": 214,
   "metadata": {
    "id": "4TBwzEPazKaq"
   },
   "outputs": [
    {
     "data": {
      "text/plain": [
       "array([0.56666667, 0.51666667, 0.38333333, 0.43333333, 0.55      ,\n",
       "       0.6       , 0.58333333, 0.61666667])"
      ]
     },
     "execution_count": 214,
     "metadata": {},
     "output_type": "execute_result"
    }
   ],
   "source": [
    "scores"
   ]
  },
  {
   "cell_type": "code",
   "execution_count": 215,
   "metadata": {
    "id": "AHSEfnC1zKaq"
   },
   "outputs": [
    {
     "data": {
      "text/plain": [
       "0.53125"
      ]
     },
     "execution_count": 215,
     "metadata": {},
     "output_type": "execute_result"
    }
   ],
   "source": [
    "mean_score"
   ]
  },
  {
   "cell_type": "code",
   "execution_count": 216,
   "metadata": {
    "id": "ObGDJizAzKaq"
   },
   "outputs": [],
   "source": [
    "# leave-one-run-out-shuffed test\n",
    "cv = KFold(n_splits=8,shuffle=True,random_state=42)\n",
    "\n",
    "\n",
    "\n",
    "scores = cross_val_score(estimator=hm_non_linear_svm_to.rd_model,cv=cv,X=X,y=y)\n",
    "\n",
    "mean_score = np.mean(scores)\n"
   ]
  },
  {
   "cell_type": "code",
   "execution_count": 217,
   "metadata": {
    "id": "j_N2tqWwzKaq"
   },
   "outputs": [
    {
     "data": {
      "text/plain": [
       "array([0.16666667, 0.26666667, 0.23333333, 0.15      , 0.23333333,\n",
       "       0.13333333, 0.23333333, 0.15      ])"
      ]
     },
     "execution_count": 217,
     "metadata": {},
     "output_type": "execute_result"
    }
   ],
   "source": [
    "scores"
   ]
  },
  {
   "cell_type": "code",
   "execution_count": 218,
   "metadata": {
    "id": "IASR2chPzKaq"
   },
   "outputs": [
    {
     "data": {
      "text/plain": [
       "0.19583333333333333"
      ]
     },
     "execution_count": 218,
     "metadata": {},
     "output_type": "execute_result"
    }
   ],
   "source": [
    "mean_score"
   ]
  },
  {
   "cell_type": "code",
   "execution_count": 219,
   "metadata": {
    "id": "DgeJt--bzKaq"
   },
   "outputs": [],
   "source": [
    "# other metrics + graphs\n",
    "\n",
    "\n"
   ]
  },
  {
   "cell_type": "code",
   "execution_count": null,
   "metadata": {
    "id": "TD-U3cR1zKaq"
   },
   "outputs": [],
   "source": []
  },
  {
   "cell_type": "markdown",
   "metadata": {
    "id": "ARh3tG3HzKaq"
   },
   "source": [
    "#### *leave-one-task-out-shuffled* cross validation"
   ]
  },
  {
   "cell_type": "markdown",
   "metadata": {
    "id": "wN2hsHGBzKaq"
   },
   "source": [
    "##### Training"
   ]
  },
  {
   "cell_type": "code",
   "execution_count": 220,
   "metadata": {
    "id": "skUAhYgczKaq"
   },
   "outputs": [],
   "source": [
    "hm_non_linear_svm_tos = hyper_model(model_name='non_linear_svm',\n",
    "                            validation_approach = 'leave-one-task-out-shuffled',\n",
    "                            X=X,\n",
    "                            y=y)"
   ]
  },
  {
   "cell_type": "code",
   "execution_count": 221,
   "metadata": {
    "id": "cwJeDc5FzKaq"
   },
   "outputs": [
    {
     "name": "stdout",
     "output_type": "stream",
     "text": [
      "Initial Model with Stock Params Score : 0.19375\n",
      "Fitting 4 folds for each of 2 candidates, totalling 8 fits\n"
     ]
    },
    {
     "name": "stderr",
     "output_type": "stream",
     "text": [
      "[Parallel(n_jobs=1)]: Using backend SequentialBackend with 1 concurrent workers.\n",
      "[Parallel(n_jobs=1)]: Done   8 out of   8 | elapsed:  1.3min finished\n"
     ]
    },
    {
     "name": "stdout",
     "output_type": "stream",
     "text": [
      "Random HP Search Best Model Score : 0.8041666666666666\n",
      "Improvement of 315.05376344086017% relative to the initial model\n"
     ]
    }
   ],
   "source": [
    "hm_non_linear_svm_tos.fit()"
   ]
  },
  {
   "cell_type": "code",
   "execution_count": 222,
   "metadata": {
    "id": "7T6L3cEMzKaq"
   },
   "outputs": [
    {
     "data": {
      "text/html": [
       "<div>\n",
       "<style scoped>\n",
       "    .dataframe tbody tr th:only-of-type {\n",
       "        vertical-align: middle;\n",
       "    }\n",
       "\n",
       "    .dataframe tbody tr th {\n",
       "        vertical-align: top;\n",
       "    }\n",
       "\n",
       "    .dataframe thead th {\n",
       "        text-align: right;\n",
       "    }\n",
       "</style>\n",
       "<table border=\"1\" class=\"dataframe\">\n",
       "  <thead>\n",
       "    <tr style=\"text-align: right;\">\n",
       "      <th></th>\n",
       "      <th>Model Iteration</th>\n",
       "      <th>Score</th>\n",
       "    </tr>\n",
       "  </thead>\n",
       "  <tbody>\n",
       "  </tbody>\n",
       "</table>\n",
       "</div>"
      ],
      "text/plain": [
       "Empty DataFrame\n",
       "Columns: [Model Iteration, Score]\n",
       "Index: []"
      ]
     },
     "execution_count": 222,
     "metadata": {},
     "output_type": "execute_result"
    }
   ],
   "source": [
    "hm_non_linear_svm_tos.all_models_perf"
   ]
  },
  {
   "cell_type": "code",
   "execution_count": null,
   "metadata": {
    "id": "s-0TYEKRzKaq"
   },
   "outputs": [],
   "source": []
  },
  {
   "cell_type": "markdown",
   "metadata": {
    "id": "Q-8Wu0mFzKaq"
   },
   "source": [
    "##### Test"
   ]
  },
  {
   "cell_type": "code",
   "execution_count": 223,
   "metadata": {
    "id": "1JuAwv7xzKar"
   },
   "outputs": [],
   "source": [
    "# leave-one-task-out test\n",
    "cv = KFold(n_splits=4,shuffle=False)\n",
    "\n",
    "scores = cross_val_score(estimator=hm_non_linear_svm_tos.rd_model,cv=cv,X=X,y=y)\n",
    "\n",
    "mean_score = np.mean(scores)\n",
    "\n"
   ]
  },
  {
   "cell_type": "code",
   "execution_count": 224,
   "metadata": {
    "id": "3vVCBJB-zKar"
   },
   "outputs": [
    {
     "data": {
      "text/plain": [
       "array([0.50833333, 0.48333333, 0.49166667, 0.45833333])"
      ]
     },
     "execution_count": 224,
     "metadata": {},
     "output_type": "execute_result"
    }
   ],
   "source": [
    "scores"
   ]
  },
  {
   "cell_type": "code",
   "execution_count": 225,
   "metadata": {
    "id": "VMeANNU5zKar"
   },
   "outputs": [
    {
     "data": {
      "text/plain": [
       "0.48541666666666666"
      ]
     },
     "execution_count": 225,
     "metadata": {},
     "output_type": "execute_result"
    }
   ],
   "source": [
    "mean_score"
   ]
  },
  {
   "cell_type": "code",
   "execution_count": 226,
   "metadata": {
    "id": "S1WpU5CMzKar"
   },
   "outputs": [],
   "source": [
    "# leave-one-task-out-shuffed test\n",
    "cv = KFold(n_splits=4,shuffle=True,random_state=42)\n",
    "\n",
    "scores = cross_val_score(estimator=hm_non_linear_svm_tos.rd_model,cv=cv,X=X,y=y)\n",
    "\n",
    "mean_score = np.mean(scores)\n"
   ]
  },
  {
   "cell_type": "code",
   "execution_count": 227,
   "metadata": {
    "id": "5TeGAl1HzKar"
   },
   "outputs": [
    {
     "data": {
      "text/plain": [
       "array([0.80833333, 0.81666667, 0.8       , 0.79166667])"
      ]
     },
     "execution_count": 227,
     "metadata": {},
     "output_type": "execute_result"
    }
   ],
   "source": [
    "scores"
   ]
  },
  {
   "cell_type": "code",
   "execution_count": 228,
   "metadata": {
    "id": "6YnwjHF0zKar"
   },
   "outputs": [
    {
     "data": {
      "text/plain": [
       "0.8041666666666666"
      ]
     },
     "execution_count": 228,
     "metadata": {},
     "output_type": "execute_result"
    }
   ],
   "source": [
    "mean_score"
   ]
  },
  {
   "cell_type": "code",
   "execution_count": null,
   "metadata": {
    "id": "lq8oWJXFzKar"
   },
   "outputs": [],
   "source": []
  },
  {
   "cell_type": "code",
   "execution_count": 229,
   "metadata": {
    "id": "_BRFekOUzKar"
   },
   "outputs": [],
   "source": [
    "# leave-one-run-out test\n",
    "cv = KFold(n_splits=8,shuffle=False)\n",
    "\n",
    "scores = cross_val_score(estimator=hm_non_linear_svm_tos.rd_model,cv=cv,X=X,y=y)\n",
    "\n",
    "mean_score = np.mean(scores)\n"
   ]
  },
  {
   "cell_type": "code",
   "execution_count": 230,
   "metadata": {
    "id": "toTnrmmlzKar"
   },
   "outputs": [
    {
     "data": {
      "text/plain": [
       "array([0.51666667, 0.58333333, 0.5       , 0.38333333, 0.53333333,\n",
       "       0.5       , 0.45      , 0.5       ])"
      ]
     },
     "execution_count": 230,
     "metadata": {},
     "output_type": "execute_result"
    }
   ],
   "source": [
    "scores"
   ]
  },
  {
   "cell_type": "code",
   "execution_count": 231,
   "metadata": {
    "id": "kKc0nDGCzKar"
   },
   "outputs": [
    {
     "data": {
      "text/plain": [
       "0.49583333333333335"
      ]
     },
     "execution_count": 231,
     "metadata": {},
     "output_type": "execute_result"
    }
   ],
   "source": [
    "mean_score"
   ]
  },
  {
   "cell_type": "code",
   "execution_count": 232,
   "metadata": {
    "id": "OOMuvs-pzKar"
   },
   "outputs": [],
   "source": [
    "# leave-one-run-out-shuffed test\n",
    "cv = KFold(n_splits=8,shuffle=True,random_state=42)\n",
    "\n",
    "\n",
    "\n",
    "scores = cross_val_score(estimator=hm_non_linear_svm_tos.rd_model,cv=cv,X=X,y=y)\n",
    "\n",
    "mean_score = np.mean(scores)\n"
   ]
  },
  {
   "cell_type": "code",
   "execution_count": 233,
   "metadata": {
    "id": "wjRpb8NBzKar"
   },
   "outputs": [
    {
     "data": {
      "text/plain": [
       "array([0.85      , 0.8       , 0.83333333, 0.76666667, 0.73333333,\n",
       "       0.93333333, 0.81666667, 0.83333333])"
      ]
     },
     "execution_count": 233,
     "metadata": {},
     "output_type": "execute_result"
    }
   ],
   "source": [
    "scores"
   ]
  },
  {
   "cell_type": "code",
   "execution_count": 234,
   "metadata": {
    "id": "r53hIRRXzKar"
   },
   "outputs": [
    {
     "data": {
      "text/plain": [
       "0.8208333333333333"
      ]
     },
     "execution_count": 234,
     "metadata": {},
     "output_type": "execute_result"
    }
   ],
   "source": [
    "mean_score"
   ]
  },
  {
   "cell_type": "code",
   "execution_count": 235,
   "metadata": {
    "id": "VRxmvc-wzKar"
   },
   "outputs": [],
   "source": [
    "# other metrics + graphs\n",
    "\n",
    "\n"
   ]
  },
  {
   "cell_type": "markdown",
   "metadata": {
    "id": "LL4QioxhzKar"
   },
   "source": [
    "#### *leave-one-run-out* cross validation"
   ]
  },
  {
   "cell_type": "markdown",
   "metadata": {
    "id": "Dsa5s6NCzKar"
   },
   "source": [
    "##### Training"
   ]
  },
  {
   "cell_type": "code",
   "execution_count": 236,
   "metadata": {
    "id": "YhmSCPQKzKar"
   },
   "outputs": [],
   "source": [
    "hm_non_linear_svm_ro = hyper_model(model_name='non_linear_svm',\n",
    "                            validation_approach = 'leave-one-run-out',\n",
    "                            X=X,\n",
    "                            y=y)"
   ]
  },
  {
   "cell_type": "code",
   "execution_count": 237,
   "metadata": {
    "id": "x3s1ZBelzKas"
   },
   "outputs": [
    {
     "name": "stdout",
     "output_type": "stream",
     "text": [
      "Initial Model with Stock Params Score : 0.53125\n",
      "Fitting 8 folds for each of 2 candidates, totalling 16 fits\n"
     ]
    },
    {
     "name": "stderr",
     "output_type": "stream",
     "text": [
      "[Parallel(n_jobs=1)]: Using backend SequentialBackend with 1 concurrent workers.\n",
      "[Parallel(n_jobs=1)]: Done  16 out of  16 | elapsed:  2.8min finished\n"
     ]
    },
    {
     "name": "stdout",
     "output_type": "stream",
     "text": [
      "Random HP Search Best Model Score : 0.53125\n",
      "Improvement of 0.0% relative to the initial model\n"
     ]
    }
   ],
   "source": [
    "hm_non_linear_svm_ro.fit()"
   ]
  },
  {
   "cell_type": "code",
   "execution_count": 238,
   "metadata": {
    "id": "-_TCEZH-zKas"
   },
   "outputs": [
    {
     "data": {
      "text/html": [
       "<div>\n",
       "<style scoped>\n",
       "    .dataframe tbody tr th:only-of-type {\n",
       "        vertical-align: middle;\n",
       "    }\n",
       "\n",
       "    .dataframe tbody tr th {\n",
       "        vertical-align: top;\n",
       "    }\n",
       "\n",
       "    .dataframe thead th {\n",
       "        text-align: right;\n",
       "    }\n",
       "</style>\n",
       "<table border=\"1\" class=\"dataframe\">\n",
       "  <thead>\n",
       "    <tr style=\"text-align: right;\">\n",
       "      <th></th>\n",
       "      <th>Model Iteration</th>\n",
       "      <th>Score</th>\n",
       "    </tr>\n",
       "  </thead>\n",
       "  <tbody>\n",
       "  </tbody>\n",
       "</table>\n",
       "</div>"
      ],
      "text/plain": [
       "Empty DataFrame\n",
       "Columns: [Model Iteration, Score]\n",
       "Index: []"
      ]
     },
     "execution_count": 238,
     "metadata": {},
     "output_type": "execute_result"
    }
   ],
   "source": [
    "hm_non_linear_svm_ro.all_models_perf"
   ]
  },
  {
   "cell_type": "code",
   "execution_count": null,
   "metadata": {
    "id": "oSYzxqW7zKas"
   },
   "outputs": [],
   "source": []
  },
  {
   "cell_type": "markdown",
   "metadata": {
    "id": "8vgsOGsMzKas"
   },
   "source": [
    "##### Test"
   ]
  },
  {
   "cell_type": "code",
   "execution_count": 239,
   "metadata": {
    "id": "YROEJvQ5zKas"
   },
   "outputs": [],
   "source": [
    "# leave-one-task-out test\n",
    "cv = KFold(n_splits=4,shuffle=False)\n",
    "\n",
    "scores = cross_val_score(estimator=hm_non_linear_svm_ro.rd_model,cv=cv,X=X,y=y)\n",
    "\n",
    "mean_score = np.mean(scores)\n",
    "\n"
   ]
  },
  {
   "cell_type": "code",
   "execution_count": 240,
   "metadata": {
    "id": "VAcVTmDZzKas"
   },
   "outputs": [
    {
     "data": {
      "text/plain": [
       "array([0.56666667, 0.39166667, 0.55      , 0.50833333])"
      ]
     },
     "execution_count": 240,
     "metadata": {},
     "output_type": "execute_result"
    }
   ],
   "source": [
    "scores"
   ]
  },
  {
   "cell_type": "code",
   "execution_count": 241,
   "metadata": {
    "id": "JTR8dtFxzKas"
   },
   "outputs": [
    {
     "data": {
      "text/plain": [
       "0.5041666666666667"
      ]
     },
     "execution_count": 241,
     "metadata": {},
     "output_type": "execute_result"
    }
   ],
   "source": [
    "mean_score"
   ]
  },
  {
   "cell_type": "code",
   "execution_count": 242,
   "metadata": {
    "id": "AphSBh3YzKas"
   },
   "outputs": [],
   "source": [
    "# leave-one-task-out-shuffed test\n",
    "cv = KFold(n_splits=4,shuffle=True,random_state=42)\n",
    "\n",
    "scores = cross_val_score(estimator=hm_non_linear_svm_ro.rd_model,cv=cv,X=X,y=y)\n",
    "\n",
    "mean_score = np.mean(scores)\n"
   ]
  },
  {
   "cell_type": "code",
   "execution_count": 243,
   "metadata": {
    "id": "c1VcemIGzKas"
   },
   "outputs": [
    {
     "data": {
      "text/plain": [
       "array([0.24166667, 0.15      , 0.15833333, 0.225     ])"
      ]
     },
     "execution_count": 243,
     "metadata": {},
     "output_type": "execute_result"
    }
   ],
   "source": [
    "scores"
   ]
  },
  {
   "cell_type": "code",
   "execution_count": 244,
   "metadata": {
    "id": "Mw8VKeX8zKas"
   },
   "outputs": [
    {
     "data": {
      "text/plain": [
       "0.19375"
      ]
     },
     "execution_count": 244,
     "metadata": {},
     "output_type": "execute_result"
    }
   ],
   "source": [
    "mean_score"
   ]
  },
  {
   "cell_type": "code",
   "execution_count": null,
   "metadata": {
    "id": "F81q7WTjzKas"
   },
   "outputs": [],
   "source": []
  },
  {
   "cell_type": "code",
   "execution_count": 245,
   "metadata": {
    "id": "WJ_jCgPzzKas"
   },
   "outputs": [],
   "source": [
    "# leave-one-run-out test\n",
    "cv = KFold(n_splits=8,shuffle=False)\n",
    "\n",
    "scores = cross_val_score(estimator=hm_non_linear_svm_ro.rd_model,cv=cv,X=X,y=y)\n",
    "\n",
    "mean_score = np.mean(scores)\n"
   ]
  },
  {
   "cell_type": "code",
   "execution_count": 246,
   "metadata": {
    "id": "DQYfT2OlzKas"
   },
   "outputs": [
    {
     "data": {
      "text/plain": [
       "array([0.56666667, 0.51666667, 0.38333333, 0.43333333, 0.55      ,\n",
       "       0.6       , 0.58333333, 0.61666667])"
      ]
     },
     "execution_count": 246,
     "metadata": {},
     "output_type": "execute_result"
    }
   ],
   "source": [
    "scores"
   ]
  },
  {
   "cell_type": "code",
   "execution_count": 247,
   "metadata": {
    "id": "Tc_SstgszKas"
   },
   "outputs": [
    {
     "data": {
      "text/plain": [
       "0.53125"
      ]
     },
     "execution_count": 247,
     "metadata": {},
     "output_type": "execute_result"
    }
   ],
   "source": [
    "mean_score"
   ]
  },
  {
   "cell_type": "code",
   "execution_count": 248,
   "metadata": {
    "id": "IoF9LLnOzKas"
   },
   "outputs": [],
   "source": [
    "# leave-one-run-out-shuffed test\n",
    "cv = KFold(n_splits=8,shuffle=True,random_state=42)\n",
    "\n",
    "\n",
    "\n",
    "scores = cross_val_score(estimator=hm_non_linear_svm_ro.rd_model,cv=cv,X=X,y=y)\n",
    "\n",
    "mean_score = np.mean(scores)\n"
   ]
  },
  {
   "cell_type": "code",
   "execution_count": 249,
   "metadata": {
    "id": "a1wNxq3PzKas"
   },
   "outputs": [
    {
     "data": {
      "text/plain": [
       "array([0.16666667, 0.26666667, 0.23333333, 0.15      , 0.23333333,\n",
       "       0.13333333, 0.23333333, 0.15      ])"
      ]
     },
     "execution_count": 249,
     "metadata": {},
     "output_type": "execute_result"
    }
   ],
   "source": [
    "scores"
   ]
  },
  {
   "cell_type": "code",
   "execution_count": 250,
   "metadata": {
    "id": "N9f3ydSCzKas"
   },
   "outputs": [
    {
     "data": {
      "text/plain": [
       "0.19583333333333333"
      ]
     },
     "execution_count": 250,
     "metadata": {},
     "output_type": "execute_result"
    }
   ],
   "source": [
    "mean_score"
   ]
  },
  {
   "cell_type": "code",
   "execution_count": 251,
   "metadata": {
    "id": "F0bMKlgozKas"
   },
   "outputs": [],
   "source": [
    "# other metrics + graphs\n",
    "\n",
    "\n"
   ]
  },
  {
   "cell_type": "markdown",
   "metadata": {
    "id": "RSJKARRAzKas"
   },
   "source": [
    "#### *leave-one-run-out-shuffled* cross validation"
   ]
  },
  {
   "cell_type": "markdown",
   "metadata": {
    "id": "mBL6Eax3zKas"
   },
   "source": [
    "##### Training"
   ]
  },
  {
   "cell_type": "code",
   "execution_count": 252,
   "metadata": {
    "id": "iVOzO1_-zKas"
   },
   "outputs": [],
   "source": [
    "hm_non_linear_svm_ros = hyper_model(model_name='non_linear_svm',\n",
    "                            validation_approach = 'leave-one-run-out-shuffled',\n",
    "                            X=X,\n",
    "                            y=y)"
   ]
  },
  {
   "cell_type": "code",
   "execution_count": 253,
   "metadata": {
    "id": "Z765IlZJzKas"
   },
   "outputs": [
    {
     "name": "stdout",
     "output_type": "stream",
     "text": [
      "Initial Model with Stock Params Score : 0.19583333333333333\n",
      "Fitting 8 folds for each of 2 candidates, totalling 16 fits\n"
     ]
    },
    {
     "name": "stderr",
     "output_type": "stream",
     "text": [
      "[Parallel(n_jobs=1)]: Using backend SequentialBackend with 1 concurrent workers.\n",
      "[Parallel(n_jobs=1)]: Done  16 out of  16 | elapsed:  3.1min finished\n"
     ]
    },
    {
     "name": "stdout",
     "output_type": "stream",
     "text": [
      "Random HP Search Best Model Score : 0.8208333333333333\n",
      "Improvement of 319.1489361702128% relative to the initial model\n"
     ]
    }
   ],
   "source": [
    "hm_non_linear_svm_ros.fit()"
   ]
  },
  {
   "cell_type": "code",
   "execution_count": 254,
   "metadata": {
    "id": "S3UewluXzKas"
   },
   "outputs": [
    {
     "data": {
      "text/html": [
       "<div>\n",
       "<style scoped>\n",
       "    .dataframe tbody tr th:only-of-type {\n",
       "        vertical-align: middle;\n",
       "    }\n",
       "\n",
       "    .dataframe tbody tr th {\n",
       "        vertical-align: top;\n",
       "    }\n",
       "\n",
       "    .dataframe thead th {\n",
       "        text-align: right;\n",
       "    }\n",
       "</style>\n",
       "<table border=\"1\" class=\"dataframe\">\n",
       "  <thead>\n",
       "    <tr style=\"text-align: right;\">\n",
       "      <th></th>\n",
       "      <th>Model Iteration</th>\n",
       "      <th>Score</th>\n",
       "    </tr>\n",
       "  </thead>\n",
       "  <tbody>\n",
       "  </tbody>\n",
       "</table>\n",
       "</div>"
      ],
      "text/plain": [
       "Empty DataFrame\n",
       "Columns: [Model Iteration, Score]\n",
       "Index: []"
      ]
     },
     "execution_count": 254,
     "metadata": {},
     "output_type": "execute_result"
    }
   ],
   "source": [
    "hm_non_linear_svm_ros.all_models_perf"
   ]
  },
  {
   "cell_type": "code",
   "execution_count": null,
   "metadata": {
    "id": "_-LO0Fa5zKas"
   },
   "outputs": [],
   "source": []
  },
  {
   "cell_type": "markdown",
   "metadata": {
    "id": "FY_4P1stzKas"
   },
   "source": [
    "##### Test"
   ]
  },
  {
   "cell_type": "code",
   "execution_count": 255,
   "metadata": {
    "id": "JtDObYhuzKas"
   },
   "outputs": [],
   "source": [
    "# leave-one-task-out test\n",
    "cv = KFold(n_splits=4,shuffle=False)\n",
    "\n",
    "scores = cross_val_score(estimator=hm_non_linear_svm_ros.rd_model,cv=cv,X=X,y=y)\n",
    "\n",
    "mean_score = np.mean(scores)\n",
    "\n"
   ]
  },
  {
   "cell_type": "code",
   "execution_count": 256,
   "metadata": {
    "id": "hs5e3gDezKas"
   },
   "outputs": [
    {
     "data": {
      "text/plain": [
       "array([0.50833333, 0.48333333, 0.49166667, 0.45833333])"
      ]
     },
     "execution_count": 256,
     "metadata": {},
     "output_type": "execute_result"
    }
   ],
   "source": [
    "scores"
   ]
  },
  {
   "cell_type": "code",
   "execution_count": 257,
   "metadata": {
    "id": "V3t-_ciTzKas"
   },
   "outputs": [
    {
     "data": {
      "text/plain": [
       "0.48541666666666666"
      ]
     },
     "execution_count": 257,
     "metadata": {},
     "output_type": "execute_result"
    }
   ],
   "source": [
    "mean_score"
   ]
  },
  {
   "cell_type": "code",
   "execution_count": 258,
   "metadata": {
    "id": "Vj9bEfC_zKas"
   },
   "outputs": [],
   "source": [
    "# leave-one-task-out-shuffed test\n",
    "cv = KFold(n_splits=4,shuffle=True,random_state=42)\n",
    "\n",
    "scores = cross_val_score(estimator=hm_non_linear_svm_ros.rd_model,cv=cv,X=X,y=y)\n",
    "\n",
    "mean_score = np.mean(scores)\n"
   ]
  },
  {
   "cell_type": "code",
   "execution_count": 259,
   "metadata": {
    "id": "GrtGNjnnzKat"
   },
   "outputs": [
    {
     "data": {
      "text/plain": [
       "array([0.80833333, 0.81666667, 0.8       , 0.79166667])"
      ]
     },
     "execution_count": 259,
     "metadata": {},
     "output_type": "execute_result"
    }
   ],
   "source": [
    "scores"
   ]
  },
  {
   "cell_type": "code",
   "execution_count": 260,
   "metadata": {
    "id": "tFlJd6qAzKat"
   },
   "outputs": [
    {
     "data": {
      "text/plain": [
       "0.8041666666666666"
      ]
     },
     "execution_count": 260,
     "metadata": {},
     "output_type": "execute_result"
    }
   ],
   "source": [
    "mean_score"
   ]
  },
  {
   "cell_type": "code",
   "execution_count": null,
   "metadata": {
    "id": "VdR_va-kzKat"
   },
   "outputs": [],
   "source": []
  },
  {
   "cell_type": "code",
   "execution_count": 261,
   "metadata": {
    "id": "mbAbJmqlzKat"
   },
   "outputs": [],
   "source": [
    "# leave-one-run-out test\n",
    "cv = KFold(n_splits=8,shuffle=False)\n",
    "\n",
    "scores = cross_val_score(estimator=hm_non_linear_svm_ros.rd_model,cv=cv,X=X,y=y)\n",
    "\n",
    "mean_score = np.mean(scores)\n"
   ]
  },
  {
   "cell_type": "code",
   "execution_count": 262,
   "metadata": {
    "id": "IEV9F0VPzKat"
   },
   "outputs": [
    {
     "data": {
      "text/plain": [
       "array([0.51666667, 0.58333333, 0.5       , 0.38333333, 0.53333333,\n",
       "       0.5       , 0.45      , 0.5       ])"
      ]
     },
     "execution_count": 262,
     "metadata": {},
     "output_type": "execute_result"
    }
   ],
   "source": [
    "scores"
   ]
  },
  {
   "cell_type": "code",
   "execution_count": 263,
   "metadata": {
    "id": "j9nKepwezKat"
   },
   "outputs": [
    {
     "data": {
      "text/plain": [
       "0.49583333333333335"
      ]
     },
     "execution_count": 263,
     "metadata": {},
     "output_type": "execute_result"
    }
   ],
   "source": [
    "mean_score"
   ]
  },
  {
   "cell_type": "code",
   "execution_count": 264,
   "metadata": {
    "id": "_GK6yAx_zKat"
   },
   "outputs": [],
   "source": [
    "# leave-one-run-out-shuffed test\n",
    "cv = KFold(n_splits=8,shuffle=True,random_state=42)\n",
    "\n",
    "\n",
    "\n",
    "scores = cross_val_score(estimator=hm_non_linear_svm_ros.rd_model,cv=cv,X=X,y=y)\n",
    "\n",
    "mean_score = np.mean(scores)\n"
   ]
  },
  {
   "cell_type": "code",
   "execution_count": 265,
   "metadata": {
    "id": "d05_H12ezKat"
   },
   "outputs": [
    {
     "data": {
      "text/plain": [
       "array([0.85      , 0.8       , 0.83333333, 0.76666667, 0.73333333,\n",
       "       0.93333333, 0.81666667, 0.83333333])"
      ]
     },
     "execution_count": 265,
     "metadata": {},
     "output_type": "execute_result"
    }
   ],
   "source": [
    "scores"
   ]
  },
  {
   "cell_type": "code",
   "execution_count": 266,
   "metadata": {
    "id": "QJaiqkrezKat"
   },
   "outputs": [
    {
     "data": {
      "text/plain": [
       "0.8208333333333333"
      ]
     },
     "execution_count": 266,
     "metadata": {},
     "output_type": "execute_result"
    }
   ],
   "source": [
    "mean_score"
   ]
  },
  {
   "cell_type": "code",
   "execution_count": 267,
   "metadata": {
    "id": "KKwvhkyMzKat"
   },
   "outputs": [],
   "source": [
    "# other metrics + graphs\n",
    "\n",
    "\n"
   ]
  },
  {
   "cell_type": "markdown",
   "metadata": {
    "id": "gh0gtRO-D2F-"
   },
   "source": [
    "## Random Forest Classifier"
   ]
  },
  {
   "cell_type": "markdown",
   "metadata": {
    "id": "8cap-uouzQCQ"
   },
   "source": [
    "### Stock Model"
   ]
  },
  {
   "cell_type": "markdown",
   "metadata": {
    "id": "Jr2mEagmPuxy"
   },
   "source": [
    "#### *leave-one-task-out* cross validation"
   ]
  },
  {
   "cell_type": "markdown",
   "metadata": {
    "id": "ZGtZPgTLYETt"
   },
   "source": [
    "##### Training"
   ]
  },
  {
   "cell_type": "code",
   "execution_count": 268,
   "metadata": {
    "id": "le2W3NO8Puxy"
   },
   "outputs": [],
   "source": [
    "hm_rf_to = hyper_model(model_name='random_forest_classifier',\n",
    "                            validation_approach = 'leave-one-task-out',\n",
    "                            X=X,\n",
    "                            y=y)"
   ]
  },
  {
   "cell_type": "code",
   "execution_count": 269,
   "metadata": {
    "id": "gmkK8kiPPuxy"
   },
   "outputs": [
    {
     "name": "stdout",
     "output_type": "stream",
     "text": [
      "Initial Model with Stock Params Score : 0.47291666666666665\n",
      "Fitting 4 folds for each of 2 candidates, totalling 8 fits\n"
     ]
    },
    {
     "name": "stderr",
     "output_type": "stream",
     "text": [
      "[Parallel(n_jobs=1)]: Using backend SequentialBackend with 1 concurrent workers.\n",
      "[Parallel(n_jobs=1)]: Done   8 out of   8 | elapsed:  3.9min finished\n"
     ]
    },
    {
     "name": "stdout",
     "output_type": "stream",
     "text": [
      "Random HP Search Best Model Score : 0.4479166666666667\n",
      "Improvement of -5.286343612334795% relative to the initial model\n"
     ]
    }
   ],
   "source": [
    "hm_rf_to.fit()"
   ]
  },
  {
   "cell_type": "code",
   "execution_count": 270,
   "metadata": {
    "id": "WXLhC5g3Puxy"
   },
   "outputs": [
    {
     "data": {
      "text/html": [
       "<div>\n",
       "<style scoped>\n",
       "    .dataframe tbody tr th:only-of-type {\n",
       "        vertical-align: middle;\n",
       "    }\n",
       "\n",
       "    .dataframe tbody tr th {\n",
       "        vertical-align: top;\n",
       "    }\n",
       "\n",
       "    .dataframe thead th {\n",
       "        text-align: right;\n",
       "    }\n",
       "</style>\n",
       "<table border=\"1\" class=\"dataframe\">\n",
       "  <thead>\n",
       "    <tr style=\"text-align: right;\">\n",
       "      <th></th>\n",
       "      <th>Model Iteration</th>\n",
       "      <th>Score</th>\n",
       "    </tr>\n",
       "  </thead>\n",
       "  <tbody>\n",
       "  </tbody>\n",
       "</table>\n",
       "</div>"
      ],
      "text/plain": [
       "Empty DataFrame\n",
       "Columns: [Model Iteration, Score]\n",
       "Index: []"
      ]
     },
     "execution_count": 270,
     "metadata": {},
     "output_type": "execute_result"
    }
   ],
   "source": [
    "hm_rf_to.all_models_perf"
   ]
  },
  {
   "cell_type": "code",
   "execution_count": null,
   "metadata": {
    "id": "OSua_O1KPuxy"
   },
   "outputs": [],
   "source": []
  },
  {
   "cell_type": "markdown",
   "metadata": {
    "id": "uMyaSHdOYGtk"
   },
   "source": [
    "##### Test"
   ]
  },
  {
   "cell_type": "code",
   "execution_count": 271,
   "metadata": {
    "id": "cWwrGaApYGtk"
   },
   "outputs": [],
   "source": [
    "# leave-one-task-out test\n",
    "cv = KFold(n_splits=4,shuffle=False)\n",
    "\n",
    "scores = cross_val_score(estimator=hm_rf_to.stock_model,cv=cv,X=X,y=y)\n",
    "\n",
    "mean_score = np.mean(scores)\n",
    "\n"
   ]
  },
  {
   "cell_type": "code",
   "execution_count": 272,
   "metadata": {
    "id": "cJUw5awvYGtk"
   },
   "outputs": [
    {
     "data": {
      "text/plain": [
       "array([0.55      , 0.38333333, 0.49166667, 0.45      ])"
      ]
     },
     "execution_count": 272,
     "metadata": {},
     "output_type": "execute_result"
    }
   ],
   "source": [
    "scores"
   ]
  },
  {
   "cell_type": "code",
   "execution_count": 273,
   "metadata": {
    "id": "7JkBGvC5YGtk"
   },
   "outputs": [
    {
     "data": {
      "text/plain": [
       "0.46875"
      ]
     },
     "execution_count": 273,
     "metadata": {},
     "output_type": "execute_result"
    }
   ],
   "source": [
    "mean_score"
   ]
  },
  {
   "cell_type": "code",
   "execution_count": 274,
   "metadata": {
    "id": "Xz6kWFe4YGtk"
   },
   "outputs": [],
   "source": [
    "# leave-one-task-out-shuffed test\n",
    "cv = KFold(n_splits=4,shuffle=True,random_state=42)\n",
    "\n",
    "scores = cross_val_score(estimator=hm_rf_to.stock_model,cv=cv,X=X,y=y)\n",
    "\n",
    "mean_score = np.mean(scores)\n"
   ]
  },
  {
   "cell_type": "code",
   "execution_count": 275,
   "metadata": {
    "id": "EXee_GspYGtk"
   },
   "outputs": [
    {
     "data": {
      "text/plain": [
       "array([0.425     , 0.45      , 0.24166667, 0.34166667])"
      ]
     },
     "execution_count": 275,
     "metadata": {},
     "output_type": "execute_result"
    }
   ],
   "source": [
    "scores"
   ]
  },
  {
   "cell_type": "code",
   "execution_count": 276,
   "metadata": {
    "id": "h7X0yp_8YGtk"
   },
   "outputs": [
    {
     "data": {
      "text/plain": [
       "0.36458333333333337"
      ]
     },
     "execution_count": 276,
     "metadata": {},
     "output_type": "execute_result"
    }
   ],
   "source": [
    "mean_score"
   ]
  },
  {
   "cell_type": "code",
   "execution_count": null,
   "metadata": {
    "id": "VDD1dk-_YGtk"
   },
   "outputs": [],
   "source": []
  },
  {
   "cell_type": "code",
   "execution_count": 277,
   "metadata": {
    "id": "jmXtWQZ_YGtk"
   },
   "outputs": [],
   "source": [
    "# leave-one-run-out test\n",
    "cv = KFold(n_splits=8,shuffle=False)\n",
    "\n",
    "scores = cross_val_score(estimator=hm_rf_to.stock_model,cv=cv,X=X,y=y)\n",
    "\n",
    "mean_score = np.mean(scores)\n"
   ]
  },
  {
   "cell_type": "code",
   "execution_count": 278,
   "metadata": {
    "id": "NRc_AIPLYGtk"
   },
   "outputs": [
    {
     "data": {
      "text/plain": [
       "array([0.58333333, 0.5       , 0.33333333, 0.45      , 0.53333333,\n",
       "       0.51666667, 0.6       , 0.66666667])"
      ]
     },
     "execution_count": 278,
     "metadata": {},
     "output_type": "execute_result"
    }
   ],
   "source": [
    "scores"
   ]
  },
  {
   "cell_type": "code",
   "execution_count": 279,
   "metadata": {
    "id": "s1ZyRf3iYGtk"
   },
   "outputs": [
    {
     "data": {
      "text/plain": [
       "0.5229166666666667"
      ]
     },
     "execution_count": 279,
     "metadata": {},
     "output_type": "execute_result"
    }
   ],
   "source": [
    "mean_score"
   ]
  },
  {
   "cell_type": "code",
   "execution_count": 280,
   "metadata": {
    "id": "6wY5DeGLYGtk"
   },
   "outputs": [],
   "source": [
    "# leave-one-run-out-shuffed test\n",
    "cv = KFold(n_splits=8,shuffle=True,random_state=42)\n",
    "\n",
    "\n",
    "\n",
    "scores = cross_val_score(estimator=hm_rf_to.stock_model,cv=cv,X=X,y=y)\n",
    "\n",
    "mean_score = np.mean(scores)\n"
   ]
  },
  {
   "cell_type": "code",
   "execution_count": 281,
   "metadata": {
    "id": "uraK4ZFyYGtk"
   },
   "outputs": [
    {
     "data": {
      "text/plain": [
       "array([0.31666667, 0.28333333, 0.31666667, 0.3       , 0.33333333,\n",
       "       0.33333333, 0.4       , 0.35      ])"
      ]
     },
     "execution_count": 281,
     "metadata": {},
     "output_type": "execute_result"
    }
   ],
   "source": [
    "scores"
   ]
  },
  {
   "cell_type": "code",
   "execution_count": 282,
   "metadata": {
    "id": "rlDNMoS2YGtk"
   },
   "outputs": [
    {
     "data": {
      "text/plain": [
       "0.32916666666666666"
      ]
     },
     "execution_count": 282,
     "metadata": {},
     "output_type": "execute_result"
    }
   ],
   "source": [
    "mean_score"
   ]
  },
  {
   "cell_type": "code",
   "execution_count": 283,
   "metadata": {
    "id": "Pi53d5suYGtk"
   },
   "outputs": [],
   "source": [
    "# other metrics + graphs\n",
    "\n",
    "\n"
   ]
  },
  {
   "cell_type": "markdown",
   "metadata": {
    "id": "E57mYUJwPuxz"
   },
   "source": [
    "#### *leave-one-task-out-shuffled* cross validation"
   ]
  },
  {
   "cell_type": "markdown",
   "metadata": {
    "id": "Dm3nwjv8YIB7"
   },
   "source": [
    "##### Training"
   ]
  },
  {
   "cell_type": "code",
   "execution_count": 284,
   "metadata": {
    "id": "uhgJDujzPuxz"
   },
   "outputs": [],
   "source": [
    "hm_rf_tos = hyper_model(model_name='random_forest_classifier',\n",
    "                            validation_approach = 'leave-one-task-out-shuffled',\n",
    "                            X=X,\n",
    "                            y=y)"
   ]
  },
  {
   "cell_type": "code",
   "execution_count": 285,
   "metadata": {
    "id": "7HXXuw1YPuxz"
   },
   "outputs": [
    {
     "name": "stdout",
     "output_type": "stream",
     "text": [
      "Initial Model with Stock Params Score : 0.36666666666666664\n",
      "Fitting 4 folds for each of 2 candidates, totalling 8 fits\n"
     ]
    },
    {
     "name": "stderr",
     "output_type": "stream",
     "text": [
      "[Parallel(n_jobs=1)]: Using backend SequentialBackend with 1 concurrent workers.\n",
      "[Parallel(n_jobs=1)]: Done   8 out of   8 | elapsed:  3.7min finished\n"
     ]
    },
    {
     "name": "stdout",
     "output_type": "stream",
     "text": [
      "Random HP Search Best Model Score : 0.40625\n",
      "Improvement of 10.795454545454554% relative to the initial model\n"
     ]
    }
   ],
   "source": [
    "hm_rf_tos.fit()"
   ]
  },
  {
   "cell_type": "code",
   "execution_count": 286,
   "metadata": {
    "id": "SQT2v3dWPuxz"
   },
   "outputs": [
    {
     "data": {
      "text/html": [
       "<div>\n",
       "<style scoped>\n",
       "    .dataframe tbody tr th:only-of-type {\n",
       "        vertical-align: middle;\n",
       "    }\n",
       "\n",
       "    .dataframe tbody tr th {\n",
       "        vertical-align: top;\n",
       "    }\n",
       "\n",
       "    .dataframe thead th {\n",
       "        text-align: right;\n",
       "    }\n",
       "</style>\n",
       "<table border=\"1\" class=\"dataframe\">\n",
       "  <thead>\n",
       "    <tr style=\"text-align: right;\">\n",
       "      <th></th>\n",
       "      <th>Model Iteration</th>\n",
       "      <th>Score</th>\n",
       "    </tr>\n",
       "  </thead>\n",
       "  <tbody>\n",
       "  </tbody>\n",
       "</table>\n",
       "</div>"
      ],
      "text/plain": [
       "Empty DataFrame\n",
       "Columns: [Model Iteration, Score]\n",
       "Index: []"
      ]
     },
     "execution_count": 286,
     "metadata": {},
     "output_type": "execute_result"
    }
   ],
   "source": [
    "hm_rf_tos.all_models_perf"
   ]
  },
  {
   "cell_type": "code",
   "execution_count": null,
   "metadata": {
    "id": "ZZPh5InUPuxz"
   },
   "outputs": [],
   "source": []
  },
  {
   "cell_type": "markdown",
   "metadata": {
    "id": "fgncv-YAYKgH"
   },
   "source": [
    "##### Test"
   ]
  },
  {
   "cell_type": "code",
   "execution_count": 287,
   "metadata": {
    "id": "uQC7n2_9YKgH"
   },
   "outputs": [],
   "source": [
    "# leave-one-task-out test\n",
    "cv = KFold(n_splits=4,shuffle=False)\n",
    "\n",
    "scores = cross_val_score(estimator=hm_rf_tos.stock_model,cv=cv,X=X,y=y)\n",
    "\n",
    "mean_score = np.mean(scores)\n",
    "\n"
   ]
  },
  {
   "cell_type": "code",
   "execution_count": 288,
   "metadata": {
    "id": "ZOyWUPf7YKgH"
   },
   "outputs": [
    {
     "data": {
      "text/plain": [
       "array([0.51666667, 0.36666667, 0.49166667, 0.39166667])"
      ]
     },
     "execution_count": 288,
     "metadata": {},
     "output_type": "execute_result"
    }
   ],
   "source": [
    "scores"
   ]
  },
  {
   "cell_type": "code",
   "execution_count": 289,
   "metadata": {
    "id": "PNiZaiTAYKgH"
   },
   "outputs": [
    {
     "data": {
      "text/plain": [
       "0.44166666666666665"
      ]
     },
     "execution_count": 289,
     "metadata": {},
     "output_type": "execute_result"
    }
   ],
   "source": [
    "mean_score"
   ]
  },
  {
   "cell_type": "code",
   "execution_count": 290,
   "metadata": {
    "id": "uMEfoU2_YKgH"
   },
   "outputs": [],
   "source": [
    "# leave-one-task-out-shuffed test\n",
    "cv = KFold(n_splits=4,shuffle=True,random_state=42)\n",
    "\n",
    "scores = cross_val_score(estimator=hm_rf_tos.stock_model,cv=cv,X=X,y=y)\n",
    "\n",
    "mean_score = np.mean(scores)\n"
   ]
  },
  {
   "cell_type": "code",
   "execution_count": 291,
   "metadata": {
    "id": "SImpkdfFYKgH"
   },
   "outputs": [
    {
     "data": {
      "text/plain": [
       "array([0.36666667, 0.43333333, 0.31666667, 0.4       ])"
      ]
     },
     "execution_count": 291,
     "metadata": {},
     "output_type": "execute_result"
    }
   ],
   "source": [
    "scores"
   ]
  },
  {
   "cell_type": "code",
   "execution_count": 292,
   "metadata": {
    "id": "8pwpVigDYKgH"
   },
   "outputs": [
    {
     "data": {
      "text/plain": [
       "0.37916666666666665"
      ]
     },
     "execution_count": 292,
     "metadata": {},
     "output_type": "execute_result"
    }
   ],
   "source": [
    "mean_score"
   ]
  },
  {
   "cell_type": "code",
   "execution_count": null,
   "metadata": {
    "id": "Z-fMf-cOYKgH"
   },
   "outputs": [],
   "source": []
  },
  {
   "cell_type": "code",
   "execution_count": 293,
   "metadata": {
    "id": "ySiVyU7sYKgH"
   },
   "outputs": [],
   "source": [
    "# leave-one-run-out test\n",
    "cv = KFold(n_splits=8,shuffle=False)\n",
    "\n",
    "scores = cross_val_score(estimator=hm_rf_tos.stock_model,cv=cv,X=X,y=y)\n",
    "\n",
    "mean_score = np.mean(scores)\n"
   ]
  },
  {
   "cell_type": "code",
   "execution_count": 294,
   "metadata": {
    "id": "RqIaYT5rYKgH"
   },
   "outputs": [
    {
     "data": {
      "text/plain": [
       "array([0.66666667, 0.46666667, 0.41666667, 0.4       , 0.53333333,\n",
       "       0.46666667, 0.56666667, 0.61666667])"
      ]
     },
     "execution_count": 294,
     "metadata": {},
     "output_type": "execute_result"
    }
   ],
   "source": [
    "scores"
   ]
  },
  {
   "cell_type": "code",
   "execution_count": 295,
   "metadata": {
    "id": "gvbv0PiHYKgH"
   },
   "outputs": [
    {
     "data": {
      "text/plain": [
       "0.5166666666666667"
      ]
     },
     "execution_count": 295,
     "metadata": {},
     "output_type": "execute_result"
    }
   ],
   "source": [
    "mean_score"
   ]
  },
  {
   "cell_type": "code",
   "execution_count": 296,
   "metadata": {
    "id": "p6Ku1ByOYKgH"
   },
   "outputs": [],
   "source": [
    "# leave-one-run-out-shuffed test\n",
    "cv = KFold(n_splits=8,shuffle=True,random_state=42)\n",
    "\n",
    "\n",
    "\n",
    "scores = cross_val_score(estimator=hm_rf_tos.stock_model,cv=cv,X=X,y=y)\n",
    "\n",
    "mean_score = np.mean(scores)\n"
   ]
  },
  {
   "cell_type": "code",
   "execution_count": 297,
   "metadata": {
    "id": "dY3402jGYKgH"
   },
   "outputs": [
    {
     "data": {
      "text/plain": [
       "array([0.35      , 0.36666667, 0.35      , 0.38333333, 0.33333333,\n",
       "       0.41666667, 0.41666667, 0.4       ])"
      ]
     },
     "execution_count": 297,
     "metadata": {},
     "output_type": "execute_result"
    }
   ],
   "source": [
    "scores"
   ]
  },
  {
   "cell_type": "code",
   "execution_count": 298,
   "metadata": {
    "id": "wregmdqtYKgI"
   },
   "outputs": [
    {
     "data": {
      "text/plain": [
       "0.3770833333333333"
      ]
     },
     "execution_count": 298,
     "metadata": {},
     "output_type": "execute_result"
    }
   ],
   "source": [
    "mean_score"
   ]
  },
  {
   "cell_type": "code",
   "execution_count": 299,
   "metadata": {
    "id": "fyJpUwLIYKgI"
   },
   "outputs": [],
   "source": [
    "# other metrics + graphs\n",
    "\n",
    "\n"
   ]
  },
  {
   "cell_type": "markdown",
   "metadata": {
    "id": "Tg_rwd0APuxz"
   },
   "source": [
    "#### *leave-one-run-out* cross validation"
   ]
  },
  {
   "cell_type": "markdown",
   "metadata": {
    "id": "FSZ6dmiZYLgS"
   },
   "source": [
    "##### Training"
   ]
  },
  {
   "cell_type": "code",
   "execution_count": 300,
   "metadata": {
    "id": "39lY7LhiPuxz"
   },
   "outputs": [],
   "source": [
    "hm_rf_ro = hyper_model(model_name='random_forest_classifier',\n",
    "                            validation_approach = 'leave-one-run-out',\n",
    "                            X=X,\n",
    "                            y=y)"
   ]
  },
  {
   "cell_type": "code",
   "execution_count": 301,
   "metadata": {
    "id": "NOqOwG1nPuxz"
   },
   "outputs": [
    {
     "name": "stdout",
     "output_type": "stream",
     "text": [
      "Initial Model with Stock Params Score : 0.525\n",
      "Fitting 8 folds for each of 2 candidates, totalling 16 fits\n"
     ]
    },
    {
     "name": "stderr",
     "output_type": "stream",
     "text": [
      "[Parallel(n_jobs=1)]: Using backend SequentialBackend with 1 concurrent workers.\n",
      "[Parallel(n_jobs=1)]: Done  16 out of  16 | elapsed:  9.5min finished\n"
     ]
    },
    {
     "name": "stdout",
     "output_type": "stream",
     "text": [
      "Random HP Search Best Model Score : 0.5395833333333333\n",
      "Improvement of 2.777777777777768% relative to the initial model\n"
     ]
    }
   ],
   "source": [
    "hm_rf_ro.fit()"
   ]
  },
  {
   "cell_type": "code",
   "execution_count": 302,
   "metadata": {
    "id": "3PmUdS5nPuxz"
   },
   "outputs": [
    {
     "data": {
      "text/html": [
       "<div>\n",
       "<style scoped>\n",
       "    .dataframe tbody tr th:only-of-type {\n",
       "        vertical-align: middle;\n",
       "    }\n",
       "\n",
       "    .dataframe tbody tr th {\n",
       "        vertical-align: top;\n",
       "    }\n",
       "\n",
       "    .dataframe thead th {\n",
       "        text-align: right;\n",
       "    }\n",
       "</style>\n",
       "<table border=\"1\" class=\"dataframe\">\n",
       "  <thead>\n",
       "    <tr style=\"text-align: right;\">\n",
       "      <th></th>\n",
       "      <th>Model Iteration</th>\n",
       "      <th>Score</th>\n",
       "    </tr>\n",
       "  </thead>\n",
       "  <tbody>\n",
       "  </tbody>\n",
       "</table>\n",
       "</div>"
      ],
      "text/plain": [
       "Empty DataFrame\n",
       "Columns: [Model Iteration, Score]\n",
       "Index: []"
      ]
     },
     "execution_count": 302,
     "metadata": {},
     "output_type": "execute_result"
    }
   ],
   "source": [
    "hm_rf_ro.all_models_perf"
   ]
  },
  {
   "cell_type": "code",
   "execution_count": null,
   "metadata": {
    "id": "MN42Rb16Puxz"
   },
   "outputs": [],
   "source": []
  },
  {
   "cell_type": "markdown",
   "metadata": {
    "id": "F_F96mTXYOPF"
   },
   "source": [
    "##### Test"
   ]
  },
  {
   "cell_type": "code",
   "execution_count": 303,
   "metadata": {
    "id": "H6IzjxLBYOPF"
   },
   "outputs": [],
   "source": [
    "# leave-one-task-out test\n",
    "cv = KFold(n_splits=4,shuffle=False)\n",
    "\n",
    "scores = cross_val_score(estimator=hm_rf_ro.stock_model,cv=cv,X=X,y=y)\n",
    "\n",
    "mean_score = np.mean(scores)\n",
    "\n"
   ]
  },
  {
   "cell_type": "code",
   "execution_count": 304,
   "metadata": {
    "id": "4bWY8XZXYOPF"
   },
   "outputs": [
    {
     "data": {
      "text/plain": [
       "array([0.5       , 0.38333333, 0.55      , 0.41666667])"
      ]
     },
     "execution_count": 304,
     "metadata": {},
     "output_type": "execute_result"
    }
   ],
   "source": [
    "scores"
   ]
  },
  {
   "cell_type": "code",
   "execution_count": 305,
   "metadata": {
    "id": "62f0GR1bYOPF"
   },
   "outputs": [
    {
     "data": {
      "text/plain": [
       "0.4625"
      ]
     },
     "execution_count": 305,
     "metadata": {},
     "output_type": "execute_result"
    }
   ],
   "source": [
    "mean_score"
   ]
  },
  {
   "cell_type": "code",
   "execution_count": 306,
   "metadata": {
    "id": "8g0yaA4qYOPF"
   },
   "outputs": [],
   "source": [
    "# leave-one-task-out-shuffed test\n",
    "cv = KFold(n_splits=4,shuffle=True,random_state=42)\n",
    "\n",
    "scores = cross_val_score(estimator=hm_rf_ro.stock_model,cv=cv,X=X,y=y)\n",
    "\n",
    "mean_score = np.mean(scores)\n"
   ]
  },
  {
   "cell_type": "code",
   "execution_count": 307,
   "metadata": {
    "id": "uAdBpkk1YOPF"
   },
   "outputs": [
    {
     "data": {
      "text/plain": [
       "array([0.4       , 0.39166667, 0.33333333, 0.38333333])"
      ]
     },
     "execution_count": 307,
     "metadata": {},
     "output_type": "execute_result"
    }
   ],
   "source": [
    "scores"
   ]
  },
  {
   "cell_type": "code",
   "execution_count": 308,
   "metadata": {
    "id": "zMfVwgjNYOPF"
   },
   "outputs": [
    {
     "data": {
      "text/plain": [
       "0.3770833333333333"
      ]
     },
     "execution_count": 308,
     "metadata": {},
     "output_type": "execute_result"
    }
   ],
   "source": [
    "mean_score"
   ]
  },
  {
   "cell_type": "code",
   "execution_count": null,
   "metadata": {
    "id": "zGUXp9auYOPF"
   },
   "outputs": [],
   "source": []
  },
  {
   "cell_type": "code",
   "execution_count": 309,
   "metadata": {
    "id": "X7FB4DfFYOPF"
   },
   "outputs": [],
   "source": [
    "# leave-one-run-out test\n",
    "cv = KFold(n_splits=8,shuffle=False)\n",
    "\n",
    "scores = cross_val_score(estimator=hm_rf_ro.stock_model,cv=cv,X=X,y=y)\n",
    "\n",
    "mean_score = np.mean(scores)\n"
   ]
  },
  {
   "cell_type": "code",
   "execution_count": 310,
   "metadata": {
    "id": "dSwDndEiYOPF"
   },
   "outputs": [
    {
     "data": {
      "text/plain": [
       "array([0.55      , 0.5       , 0.38333333, 0.4       , 0.46666667,\n",
       "       0.48333333, 0.65      , 0.46666667])"
      ]
     },
     "execution_count": 310,
     "metadata": {},
     "output_type": "execute_result"
    }
   ],
   "source": [
    "scores"
   ]
  },
  {
   "cell_type": "code",
   "execution_count": 311,
   "metadata": {
    "id": "fGLMhla2YOPF"
   },
   "outputs": [
    {
     "data": {
      "text/plain": [
       "0.4875"
      ]
     },
     "execution_count": 311,
     "metadata": {},
     "output_type": "execute_result"
    }
   ],
   "source": [
    "mean_score"
   ]
  },
  {
   "cell_type": "code",
   "execution_count": 312,
   "metadata": {
    "id": "lZMclYLSYOPF"
   },
   "outputs": [],
   "source": [
    "# leave-one-run-out-shuffed test\n",
    "cv = KFold(n_splits=8,shuffle=True,random_state=42)\n",
    "\n",
    "\n",
    "\n",
    "scores = cross_val_score(estimator=hm_rf_ro.stock_model,cv=cv,X=X,y=y)\n",
    "\n",
    "mean_score = np.mean(scores)\n"
   ]
  },
  {
   "cell_type": "code",
   "execution_count": 313,
   "metadata": {
    "id": "vk3ptRjWYOPF"
   },
   "outputs": [
    {
     "data": {
      "text/plain": [
       "array([0.25      , 0.33333333, 0.3       , 0.33333333, 0.35      ,\n",
       "       0.4       , 0.41666667, 0.36666667])"
      ]
     },
     "execution_count": 313,
     "metadata": {},
     "output_type": "execute_result"
    }
   ],
   "source": [
    "scores"
   ]
  },
  {
   "cell_type": "code",
   "execution_count": 314,
   "metadata": {
    "id": "qkV7RDrQYOPF"
   },
   "outputs": [
    {
     "data": {
      "text/plain": [
       "0.34375"
      ]
     },
     "execution_count": 314,
     "metadata": {},
     "output_type": "execute_result"
    }
   ],
   "source": [
    "mean_score"
   ]
  },
  {
   "cell_type": "code",
   "execution_count": 315,
   "metadata": {
    "id": "IvwQ0DcnYOPF"
   },
   "outputs": [],
   "source": [
    "# other metrics + graphs\n",
    "\n",
    "\n"
   ]
  },
  {
   "cell_type": "markdown",
   "metadata": {
    "id": "USGMYRvkPuxz"
   },
   "source": [
    "#### *leave-one-run-out-shuffled* cross validation"
   ]
  },
  {
   "cell_type": "markdown",
   "metadata": {
    "id": "HvXfbULIYP0S"
   },
   "source": [
    "##### Training"
   ]
  },
  {
   "cell_type": "code",
   "execution_count": 316,
   "metadata": {
    "id": "IvpM4efCPuxz"
   },
   "outputs": [],
   "source": [
    "hm_rf_ros = hyper_model(model_name='random_forest_classifier',\n",
    "                            validation_approach = 'leave-one-run-out-shuffled',\n",
    "                            X=X,\n",
    "                            y=y)"
   ]
  },
  {
   "cell_type": "code",
   "execution_count": 317,
   "metadata": {
    "id": "AosKXbMnPuxz"
   },
   "outputs": [
    {
     "name": "stdout",
     "output_type": "stream",
     "text": [
      "Initial Model with Stock Params Score : 0.3458333333333333\n",
      "Fitting 8 folds for each of 2 candidates, totalling 16 fits\n"
     ]
    },
    {
     "name": "stderr",
     "output_type": "stream",
     "text": [
      "[Parallel(n_jobs=1)]: Using backend SequentialBackend with 1 concurrent workers.\n",
      "[Parallel(n_jobs=1)]: Done  16 out of  16 | elapsed:  9.1min finished\n"
     ]
    },
    {
     "name": "stdout",
     "output_type": "stream",
     "text": [
      "Random HP Search Best Model Score : 0.4083333333333333\n",
      "Improvement of 18.072289156626507% relative to the initial model\n"
     ]
    }
   ],
   "source": [
    "hm_rf_ros.fit()"
   ]
  },
  {
   "cell_type": "code",
   "execution_count": 318,
   "metadata": {
    "id": "Uo1epUM6Puxz"
   },
   "outputs": [
    {
     "data": {
      "text/html": [
       "<div>\n",
       "<style scoped>\n",
       "    .dataframe tbody tr th:only-of-type {\n",
       "        vertical-align: middle;\n",
       "    }\n",
       "\n",
       "    .dataframe tbody tr th {\n",
       "        vertical-align: top;\n",
       "    }\n",
       "\n",
       "    .dataframe thead th {\n",
       "        text-align: right;\n",
       "    }\n",
       "</style>\n",
       "<table border=\"1\" class=\"dataframe\">\n",
       "  <thead>\n",
       "    <tr style=\"text-align: right;\">\n",
       "      <th></th>\n",
       "      <th>Model Iteration</th>\n",
       "      <th>Score</th>\n",
       "    </tr>\n",
       "  </thead>\n",
       "  <tbody>\n",
       "  </tbody>\n",
       "</table>\n",
       "</div>"
      ],
      "text/plain": [
       "Empty DataFrame\n",
       "Columns: [Model Iteration, Score]\n",
       "Index: []"
      ]
     },
     "execution_count": 318,
     "metadata": {},
     "output_type": "execute_result"
    }
   ],
   "source": [
    "hm_rf_ros.all_models_perf"
   ]
  },
  {
   "cell_type": "code",
   "execution_count": null,
   "metadata": {
    "id": "LEbVr7kID3lP"
   },
   "outputs": [],
   "source": []
  },
  {
   "cell_type": "markdown",
   "metadata": {
    "id": "Z3pVdFRIYS_Y"
   },
   "source": [
    "##### Test"
   ]
  },
  {
   "cell_type": "code",
   "execution_count": 319,
   "metadata": {
    "id": "O1mSEfhvYS_Y"
   },
   "outputs": [],
   "source": [
    "# leave-one-task-out test\n",
    "cv = KFold(n_splits=4,shuffle=False)\n",
    "\n",
    "scores = cross_val_score(estimator=hm_rf_ros.stock_model,cv=cv,X=X,y=y)\n",
    "\n",
    "mean_score = np.mean(scores)\n",
    "\n"
   ]
  },
  {
   "cell_type": "code",
   "execution_count": 320,
   "metadata": {
    "id": "QcLc93iFYS_Y"
   },
   "outputs": [
    {
     "data": {
      "text/plain": [
       "array([0.61666667, 0.35833333, 0.51666667, 0.45833333])"
      ]
     },
     "execution_count": 320,
     "metadata": {},
     "output_type": "execute_result"
    }
   ],
   "source": [
    "scores"
   ]
  },
  {
   "cell_type": "code",
   "execution_count": 321,
   "metadata": {
    "id": "sKcAejjvYS_Z"
   },
   "outputs": [
    {
     "data": {
      "text/plain": [
       "0.4875"
      ]
     },
     "execution_count": 321,
     "metadata": {},
     "output_type": "execute_result"
    }
   ],
   "source": [
    "mean_score"
   ]
  },
  {
   "cell_type": "code",
   "execution_count": 322,
   "metadata": {
    "id": "mQ_K8f1GYS_Z"
   },
   "outputs": [],
   "source": [
    "# leave-one-task-out-shuffed test\n",
    "cv = KFold(n_splits=4,shuffle=True,random_state=42)\n",
    "\n",
    "scores = cross_val_score(estimator=hm_rf_ros.stock_model,cv=cv,X=X,y=y)\n",
    "\n",
    "mean_score = np.mean(scores)\n"
   ]
  },
  {
   "cell_type": "code",
   "execution_count": 323,
   "metadata": {
    "id": "7Ni0XQ4MYS_Z"
   },
   "outputs": [
    {
     "data": {
      "text/plain": [
       "array([0.34166667, 0.43333333, 0.275     , 0.425     ])"
      ]
     },
     "execution_count": 323,
     "metadata": {},
     "output_type": "execute_result"
    }
   ],
   "source": [
    "scores"
   ]
  },
  {
   "cell_type": "code",
   "execution_count": 324,
   "metadata": {
    "id": "14dpGt4HYS_Z"
   },
   "outputs": [
    {
     "data": {
      "text/plain": [
       "0.36875"
      ]
     },
     "execution_count": 324,
     "metadata": {},
     "output_type": "execute_result"
    }
   ],
   "source": [
    "mean_score"
   ]
  },
  {
   "cell_type": "code",
   "execution_count": null,
   "metadata": {
    "id": "SlABUIa1YS_Z"
   },
   "outputs": [],
   "source": []
  },
  {
   "cell_type": "code",
   "execution_count": 325,
   "metadata": {
    "id": "XcqEawTMYS_Z"
   },
   "outputs": [],
   "source": [
    "# leave-one-run-out test\n",
    "cv = KFold(n_splits=8,shuffle=False)\n",
    "\n",
    "scores = cross_val_score(estimator=hm_rf_ros.stock_model,cv=cv,X=X,y=y)\n",
    "\n",
    "mean_score = np.mean(scores)\n"
   ]
  },
  {
   "cell_type": "code",
   "execution_count": 326,
   "metadata": {
    "id": "2sVRpDV0YS_Z"
   },
   "outputs": [
    {
     "data": {
      "text/plain": [
       "array([0.68333333, 0.51666667, 0.45      , 0.45      , 0.58333333,\n",
       "       0.56666667, 0.58333333, 0.56666667])"
      ]
     },
     "execution_count": 326,
     "metadata": {},
     "output_type": "execute_result"
    }
   ],
   "source": [
    "scores"
   ]
  },
  {
   "cell_type": "code",
   "execution_count": 327,
   "metadata": {
    "id": "WUapXFgsYS_Z"
   },
   "outputs": [
    {
     "data": {
      "text/plain": [
       "0.55"
      ]
     },
     "execution_count": 327,
     "metadata": {},
     "output_type": "execute_result"
    }
   ],
   "source": [
    "mean_score"
   ]
  },
  {
   "cell_type": "code",
   "execution_count": 328,
   "metadata": {
    "id": "njxWLC9cYS_Z"
   },
   "outputs": [],
   "source": [
    "# leave-one-run-out-shuffed test\n",
    "cv = KFold(n_splits=8,shuffle=True,random_state=42)\n",
    "\n",
    "\n",
    "\n",
    "scores = cross_val_score(estimator=hm_rf_ros.stock_model,cv=cv,X=X,y=y)\n",
    "\n",
    "mean_score = np.mean(scores)\n"
   ]
  },
  {
   "cell_type": "code",
   "execution_count": 329,
   "metadata": {
    "id": "fOjDRVdiYS_Z"
   },
   "outputs": [
    {
     "data": {
      "text/plain": [
       "array([0.31666667, 0.33333333, 0.4       , 0.36666667, 0.38333333,\n",
       "       0.36666667, 0.38333333, 0.35      ])"
      ]
     },
     "execution_count": 329,
     "metadata": {},
     "output_type": "execute_result"
    }
   ],
   "source": [
    "scores"
   ]
  },
  {
   "cell_type": "code",
   "execution_count": 330,
   "metadata": {
    "id": "bN5MWN21YS_Z"
   },
   "outputs": [
    {
     "data": {
      "text/plain": [
       "0.3625"
      ]
     },
     "execution_count": 330,
     "metadata": {},
     "output_type": "execute_result"
    }
   ],
   "source": [
    "mean_score"
   ]
  },
  {
   "cell_type": "code",
   "execution_count": 331,
   "metadata": {
    "id": "zRMQjaF0YS_Z"
   },
   "outputs": [],
   "source": [
    "# other metrics + graphs\n",
    "\n",
    "\n"
   ]
  },
  {
   "cell_type": "markdown",
   "metadata": {
    "id": "ym_PcB2Bzhy5"
   },
   "source": [
    "### Hyper_optimized Model"
   ]
  },
  {
   "cell_type": "markdown",
   "metadata": {
    "id": "gLRQegMuznEx"
   },
   "source": [
    "### Stock Model"
   ]
  },
  {
   "cell_type": "markdown",
   "metadata": {
    "id": "UYtPQW5lznEx"
   },
   "source": [
    "#### *leave-one-task-out* cross validation"
   ]
  },
  {
   "cell_type": "markdown",
   "metadata": {
    "id": "qzMbiN63znEx"
   },
   "source": [
    "##### Training"
   ]
  },
  {
   "cell_type": "code",
   "execution_count": 332,
   "metadata": {
    "id": "brq7F45MznEx"
   },
   "outputs": [],
   "source": [
    "hm_rf_to = hyper_model(model_name='random_forest_classifier',\n",
    "                            validation_approach = 'leave-one-task-out',\n",
    "                            X=X,\n",
    "                            y=y)"
   ]
  },
  {
   "cell_type": "code",
   "execution_count": 333,
   "metadata": {
    "id": "deNrrmvfznEx"
   },
   "outputs": [
    {
     "name": "stdout",
     "output_type": "stream",
     "text": [
      "Initial Model with Stock Params Score : 0.47916666666666674\n",
      "Fitting 4 folds for each of 2 candidates, totalling 8 fits\n"
     ]
    },
    {
     "name": "stderr",
     "output_type": "stream",
     "text": [
      "[Parallel(n_jobs=1)]: Using backend SequentialBackend with 1 concurrent workers.\n",
      "[Parallel(n_jobs=1)]: Done   8 out of   8 | elapsed:  3.9min finished\n"
     ]
    },
    {
     "name": "stdout",
     "output_type": "stream",
     "text": [
      "Random HP Search Best Model Score : 0.45625\n",
      "Improvement of -4.782608695652191% relative to the initial model\n"
     ]
    }
   ],
   "source": [
    "hm_rf_to.fit()"
   ]
  },
  {
   "cell_type": "code",
   "execution_count": 334,
   "metadata": {
    "id": "DuwWXLzCznEx"
   },
   "outputs": [
    {
     "data": {
      "text/html": [
       "<div>\n",
       "<style scoped>\n",
       "    .dataframe tbody tr th:only-of-type {\n",
       "        vertical-align: middle;\n",
       "    }\n",
       "\n",
       "    .dataframe tbody tr th {\n",
       "        vertical-align: top;\n",
       "    }\n",
       "\n",
       "    .dataframe thead th {\n",
       "        text-align: right;\n",
       "    }\n",
       "</style>\n",
       "<table border=\"1\" class=\"dataframe\">\n",
       "  <thead>\n",
       "    <tr style=\"text-align: right;\">\n",
       "      <th></th>\n",
       "      <th>Model Iteration</th>\n",
       "      <th>Score</th>\n",
       "    </tr>\n",
       "  </thead>\n",
       "  <tbody>\n",
       "  </tbody>\n",
       "</table>\n",
       "</div>"
      ],
      "text/plain": [
       "Empty DataFrame\n",
       "Columns: [Model Iteration, Score]\n",
       "Index: []"
      ]
     },
     "execution_count": 334,
     "metadata": {},
     "output_type": "execute_result"
    }
   ],
   "source": [
    "hm_rf_to.all_models_perf"
   ]
  },
  {
   "cell_type": "code",
   "execution_count": null,
   "metadata": {
    "id": "D_bWM63AznEx"
   },
   "outputs": [],
   "source": []
  },
  {
   "cell_type": "markdown",
   "metadata": {
    "id": "Dw0u6K5fznEx"
   },
   "source": [
    "##### Test"
   ]
  },
  {
   "cell_type": "code",
   "execution_count": 335,
   "metadata": {
    "id": "r0bX_XinznEx"
   },
   "outputs": [],
   "source": [
    "# leave-one-task-out test\n",
    "cv = KFold(n_splits=4,shuffle=False)\n",
    "\n",
    "scores = cross_val_score(estimator=hm_rf_to.rd_model,cv=cv,X=X,y=y)\n",
    "\n",
    "mean_score = np.mean(scores)\n",
    "\n"
   ]
  },
  {
   "cell_type": "code",
   "execution_count": 336,
   "metadata": {
    "id": "jQQ7xE6FznEx"
   },
   "outputs": [
    {
     "data": {
      "text/plain": [
       "array([0.56666667, 0.36666667, 0.50833333, 0.28333333])"
      ]
     },
     "execution_count": 336,
     "metadata": {},
     "output_type": "execute_result"
    }
   ],
   "source": [
    "scores"
   ]
  },
  {
   "cell_type": "code",
   "execution_count": 337,
   "metadata": {
    "id": "q8uJkiSgznEx"
   },
   "outputs": [
    {
     "data": {
      "text/plain": [
       "0.43125"
      ]
     },
     "execution_count": 337,
     "metadata": {},
     "output_type": "execute_result"
    }
   ],
   "source": [
    "mean_score"
   ]
  },
  {
   "cell_type": "code",
   "execution_count": 338,
   "metadata": {
    "id": "E_WvyhCkznEx"
   },
   "outputs": [],
   "source": [
    "# leave-one-task-out-shuffed test\n",
    "cv = KFold(n_splits=4,shuffle=True,random_state=42)\n",
    "\n",
    "scores = cross_val_score(estimator=hm_rf_to.rd_model,cv=cv,X=X,y=y)\n",
    "\n",
    "mean_score = np.mean(scores)\n"
   ]
  },
  {
   "cell_type": "code",
   "execution_count": 339,
   "metadata": {
    "id": "gQ77McSEznEy"
   },
   "outputs": [
    {
     "data": {
      "text/plain": [
       "array([0.44166667, 0.475     , 0.25833333, 0.44166667])"
      ]
     },
     "execution_count": 339,
     "metadata": {},
     "output_type": "execute_result"
    }
   ],
   "source": [
    "scores"
   ]
  },
  {
   "cell_type": "code",
   "execution_count": 340,
   "metadata": {
    "id": "CrfcSLr_znEy"
   },
   "outputs": [
    {
     "data": {
      "text/plain": [
       "0.4041666666666667"
      ]
     },
     "execution_count": 340,
     "metadata": {},
     "output_type": "execute_result"
    }
   ],
   "source": [
    "mean_score"
   ]
  },
  {
   "cell_type": "code",
   "execution_count": null,
   "metadata": {
    "id": "EN0zehJcznEy"
   },
   "outputs": [],
   "source": []
  },
  {
   "cell_type": "code",
   "execution_count": 341,
   "metadata": {
    "id": "JZd-GNejznEy"
   },
   "outputs": [],
   "source": [
    "# leave-one-run-out test\n",
    "cv = KFold(n_splits=8,shuffle=False)\n",
    "\n",
    "scores = cross_val_score(estimator=hm_rf_to.rd_model,cv=cv,X=X,y=y)\n",
    "\n",
    "mean_score = np.mean(scores)\n"
   ]
  },
  {
   "cell_type": "code",
   "execution_count": 342,
   "metadata": {
    "id": "1tuwbqxBznEy"
   },
   "outputs": [
    {
     "data": {
      "text/plain": [
       "array([0.61666667, 0.5       , 0.36666667, 0.38333333, 0.5       ,\n",
       "       0.51666667, 0.73333333, 0.68333333])"
      ]
     },
     "execution_count": 342,
     "metadata": {},
     "output_type": "execute_result"
    }
   ],
   "source": [
    "scores"
   ]
  },
  {
   "cell_type": "code",
   "execution_count": 343,
   "metadata": {
    "id": "2s555K_JznEy"
   },
   "outputs": [
    {
     "data": {
      "text/plain": [
       "0.5375"
      ]
     },
     "execution_count": 343,
     "metadata": {},
     "output_type": "execute_result"
    }
   ],
   "source": [
    "mean_score"
   ]
  },
  {
   "cell_type": "code",
   "execution_count": 344,
   "metadata": {
    "id": "55Yt3JxVznEy"
   },
   "outputs": [],
   "source": [
    "# leave-one-run-out-shuffed test\n",
    "cv = KFold(n_splits=8,shuffle=True,random_state=42)\n",
    "\n",
    "\n",
    "\n",
    "scores = cross_val_score(estimator=hm_rf_to.rd_model,cv=cv,X=X,y=y)\n",
    "\n",
    "mean_score = np.mean(scores)\n"
   ]
  },
  {
   "cell_type": "code",
   "execution_count": 345,
   "metadata": {
    "id": "e1uK8AAGznEy"
   },
   "outputs": [
    {
     "data": {
      "text/plain": [
       "array([0.43333333, 0.35      , 0.43333333, 0.48333333, 0.35      ,\n",
       "       0.3       , 0.43333333, 0.46666667])"
      ]
     },
     "execution_count": 345,
     "metadata": {},
     "output_type": "execute_result"
    }
   ],
   "source": [
    "scores"
   ]
  },
  {
   "cell_type": "code",
   "execution_count": 346,
   "metadata": {
    "id": "vdyH7L3-znEy"
   },
   "outputs": [
    {
     "data": {
      "text/plain": [
       "0.40625"
      ]
     },
     "execution_count": 346,
     "metadata": {},
     "output_type": "execute_result"
    }
   ],
   "source": [
    "mean_score"
   ]
  },
  {
   "cell_type": "code",
   "execution_count": 347,
   "metadata": {
    "id": "y1YxHwLWznEy"
   },
   "outputs": [],
   "source": [
    "# other metrics + graphs\n",
    "\n",
    "\n"
   ]
  },
  {
   "cell_type": "markdown",
   "metadata": {
    "id": "Uft0d1hpznEy"
   },
   "source": [
    "#### *leave-one-task-out-shuffled* cross validation"
   ]
  },
  {
   "cell_type": "markdown",
   "metadata": {
    "id": "87fHemV8znEy"
   },
   "source": [
    "##### Training"
   ]
  },
  {
   "cell_type": "code",
   "execution_count": 348,
   "metadata": {
    "id": "_D-7eBzUznEy"
   },
   "outputs": [],
   "source": [
    "hm_rf_tos = hyper_model(model_name='random_forest_classifier',\n",
    "                            validation_approach = 'leave-one-task-out-shuffled',\n",
    "                            X=X,\n",
    "                            y=y)"
   ]
  },
  {
   "cell_type": "code",
   "execution_count": 349,
   "metadata": {
    "id": "pUYCZWU8znEy"
   },
   "outputs": [
    {
     "name": "stdout",
     "output_type": "stream",
     "text": [
      "Initial Model with Stock Params Score : 0.37083333333333335\n",
      "Fitting 4 folds for each of 2 candidates, totalling 8 fits\n"
     ]
    },
    {
     "name": "stderr",
     "output_type": "stream",
     "text": [
      "[Parallel(n_jobs=1)]: Using backend SequentialBackend with 1 concurrent workers.\n",
      "[Parallel(n_jobs=1)]: Done   8 out of   8 | elapsed:  3.7min finished\n"
     ]
    },
    {
     "name": "stdout",
     "output_type": "stream",
     "text": [
      "Random HP Search Best Model Score : 0.38958333333333334\n",
      "Improvement of 5.056179775280896% relative to the initial model\n"
     ]
    }
   ],
   "source": [
    "hm_rf_tos.fit()"
   ]
  },
  {
   "cell_type": "code",
   "execution_count": 350,
   "metadata": {
    "id": "_XH1O4gEznEy"
   },
   "outputs": [
    {
     "data": {
      "text/html": [
       "<div>\n",
       "<style scoped>\n",
       "    .dataframe tbody tr th:only-of-type {\n",
       "        vertical-align: middle;\n",
       "    }\n",
       "\n",
       "    .dataframe tbody tr th {\n",
       "        vertical-align: top;\n",
       "    }\n",
       "\n",
       "    .dataframe thead th {\n",
       "        text-align: right;\n",
       "    }\n",
       "</style>\n",
       "<table border=\"1\" class=\"dataframe\">\n",
       "  <thead>\n",
       "    <tr style=\"text-align: right;\">\n",
       "      <th></th>\n",
       "      <th>Model Iteration</th>\n",
       "      <th>Score</th>\n",
       "    </tr>\n",
       "  </thead>\n",
       "  <tbody>\n",
       "  </tbody>\n",
       "</table>\n",
       "</div>"
      ],
      "text/plain": [
       "Empty DataFrame\n",
       "Columns: [Model Iteration, Score]\n",
       "Index: []"
      ]
     },
     "execution_count": 350,
     "metadata": {},
     "output_type": "execute_result"
    }
   ],
   "source": [
    "hm_rf_tos.all_models_perf"
   ]
  },
  {
   "cell_type": "code",
   "execution_count": null,
   "metadata": {
    "id": "1ZpTLQHPznEy"
   },
   "outputs": [],
   "source": []
  },
  {
   "cell_type": "markdown",
   "metadata": {
    "id": "gB5QZVGUznEy"
   },
   "source": [
    "##### Test"
   ]
  },
  {
   "cell_type": "code",
   "execution_count": 351,
   "metadata": {
    "id": "9DAVY-EmznEy"
   },
   "outputs": [],
   "source": [
    "# leave-one-task-out test\n",
    "cv = KFold(n_splits=4,shuffle=False)\n",
    "\n",
    "scores = cross_val_score(estimator=hm_rf_tos.rd_model,cv=cv,X=X,y=y)\n",
    "\n",
    "mean_score = np.mean(scores)\n",
    "\n"
   ]
  },
  {
   "cell_type": "code",
   "execution_count": 352,
   "metadata": {
    "id": "dIUnOe4_znEy"
   },
   "outputs": [
    {
     "data": {
      "text/plain": [
       "array([0.56666667, 0.375     , 0.50833333, 0.325     ])"
      ]
     },
     "execution_count": 352,
     "metadata": {},
     "output_type": "execute_result"
    }
   ],
   "source": [
    "scores"
   ]
  },
  {
   "cell_type": "code",
   "execution_count": 353,
   "metadata": {
    "id": "Hen4_Lm3znEz"
   },
   "outputs": [
    {
     "data": {
      "text/plain": [
       "0.44375"
      ]
     },
     "execution_count": 353,
     "metadata": {},
     "output_type": "execute_result"
    }
   ],
   "source": [
    "mean_score"
   ]
  },
  {
   "cell_type": "code",
   "execution_count": 354,
   "metadata": {
    "id": "Hxs44I_mznEz"
   },
   "outputs": [],
   "source": [
    "# leave-one-task-out-shuffed test\n",
    "cv = KFold(n_splits=4,shuffle=True,random_state=42)\n",
    "\n",
    "scores = cross_val_score(estimator=hm_rf_tos.rd_model,cv=cv,X=X,y=y)\n",
    "\n",
    "mean_score = np.mean(scores)\n"
   ]
  },
  {
   "cell_type": "code",
   "execution_count": 355,
   "metadata": {
    "id": "ea6nyuG4znEz"
   },
   "outputs": [
    {
     "data": {
      "text/plain": [
       "array([0.425     , 0.49166667, 0.26666667, 0.40833333])"
      ]
     },
     "execution_count": 355,
     "metadata": {},
     "output_type": "execute_result"
    }
   ],
   "source": [
    "scores"
   ]
  },
  {
   "cell_type": "code",
   "execution_count": 356,
   "metadata": {
    "id": "mr_8apUtznEz"
   },
   "outputs": [
    {
     "data": {
      "text/plain": [
       "0.3979166666666667"
      ]
     },
     "execution_count": 356,
     "metadata": {},
     "output_type": "execute_result"
    }
   ],
   "source": [
    "mean_score"
   ]
  },
  {
   "cell_type": "code",
   "execution_count": null,
   "metadata": {
    "id": "4MN-hf_WznEz"
   },
   "outputs": [],
   "source": []
  },
  {
   "cell_type": "code",
   "execution_count": 357,
   "metadata": {
    "id": "D0WAxV0RznEz"
   },
   "outputs": [],
   "source": [
    "# leave-one-run-out test\n",
    "cv = KFold(n_splits=8,shuffle=False)\n",
    "\n",
    "scores = cross_val_score(estimator=hm_rf_tos.rd_model,cv=cv,X=X,y=y)\n",
    "\n",
    "mean_score = np.mean(scores)\n"
   ]
  },
  {
   "cell_type": "code",
   "execution_count": 358,
   "metadata": {
    "id": "vbEylF0OznEz"
   },
   "outputs": [
    {
     "data": {
      "text/plain": [
       "array([0.65      , 0.51666667, 0.36666667, 0.38333333, 0.5       ,\n",
       "       0.53333333, 0.61666667, 0.71666667])"
      ]
     },
     "execution_count": 358,
     "metadata": {},
     "output_type": "execute_result"
    }
   ],
   "source": [
    "scores"
   ]
  },
  {
   "cell_type": "code",
   "execution_count": 359,
   "metadata": {
    "id": "oynC3pGvznEz"
   },
   "outputs": [
    {
     "data": {
      "text/plain": [
       "0.5354166666666667"
      ]
     },
     "execution_count": 359,
     "metadata": {},
     "output_type": "execute_result"
    }
   ],
   "source": [
    "mean_score"
   ]
  },
  {
   "cell_type": "code",
   "execution_count": 360,
   "metadata": {
    "id": "G6C-LGo7znEz"
   },
   "outputs": [],
   "source": [
    "# leave-one-run-out-shuffed test\n",
    "cv = KFold(n_splits=8,shuffle=True,random_state=42)\n",
    "\n",
    "\n",
    "\n",
    "scores = cross_val_score(estimator=hm_rf_tos.rd_model,cv=cv,X=X,y=y)\n",
    "\n",
    "mean_score = np.mean(scores)\n"
   ]
  },
  {
   "cell_type": "code",
   "execution_count": 361,
   "metadata": {
    "id": "NOAoGC48znE0"
   },
   "outputs": [
    {
     "data": {
      "text/plain": [
       "array([0.36666667, 0.38333333, 0.41666667, 0.43333333, 0.4       ,\n",
       "       0.3       , 0.35      , 0.46666667])"
      ]
     },
     "execution_count": 361,
     "metadata": {},
     "output_type": "execute_result"
    }
   ],
   "source": [
    "scores"
   ]
  },
  {
   "cell_type": "code",
   "execution_count": 362,
   "metadata": {
    "id": "t63ca5zEznE0"
   },
   "outputs": [
    {
     "data": {
      "text/plain": [
       "0.38958333333333334"
      ]
     },
     "execution_count": 362,
     "metadata": {},
     "output_type": "execute_result"
    }
   ],
   "source": [
    "mean_score"
   ]
  },
  {
   "cell_type": "code",
   "execution_count": 363,
   "metadata": {
    "id": "VMZacJ-8znE0"
   },
   "outputs": [],
   "source": [
    "# other metrics + graphs\n",
    "\n",
    "\n"
   ]
  },
  {
   "cell_type": "markdown",
   "metadata": {
    "id": "VElWFWnwznE0"
   },
   "source": [
    "#### *leave-one-run-out* cross validation"
   ]
  },
  {
   "cell_type": "markdown",
   "metadata": {
    "id": "oilXUTU9znE0"
   },
   "source": [
    "##### Training"
   ]
  },
  {
   "cell_type": "code",
   "execution_count": 364,
   "metadata": {
    "id": "OrpD379aznE0"
   },
   "outputs": [],
   "source": [
    "hm_rf_ro = hyper_model(model_name='random_forest_classifier',\n",
    "                            validation_approach = 'leave-one-run-out',\n",
    "                            X=X,\n",
    "                            y=y)"
   ]
  },
  {
   "cell_type": "code",
   "execution_count": 365,
   "metadata": {
    "id": "GiGSxegJznE0"
   },
   "outputs": [
    {
     "name": "stdout",
     "output_type": "stream",
     "text": [
      "Initial Model with Stock Params Score : 0.5208333333333333\n",
      "Fitting 8 folds for each of 2 candidates, totalling 16 fits\n"
     ]
    },
    {
     "name": "stderr",
     "output_type": "stream",
     "text": [
      "[Parallel(n_jobs=1)]: Using backend SequentialBackend with 1 concurrent workers.\n",
      "[Parallel(n_jobs=1)]: Done  16 out of  16 | elapsed:  9.2min finished\n"
     ]
    },
    {
     "name": "stdout",
     "output_type": "stream",
     "text": [
      "Random HP Search Best Model Score : 0.5270833333333333\n",
      "Improvement of 1.2000000000000173% relative to the initial model\n"
     ]
    }
   ],
   "source": [
    "hm_rf_ro.fit()"
   ]
  },
  {
   "cell_type": "code",
   "execution_count": 366,
   "metadata": {
    "id": "82SelhLDznE0"
   },
   "outputs": [
    {
     "data": {
      "text/html": [
       "<div>\n",
       "<style scoped>\n",
       "    .dataframe tbody tr th:only-of-type {\n",
       "        vertical-align: middle;\n",
       "    }\n",
       "\n",
       "    .dataframe tbody tr th {\n",
       "        vertical-align: top;\n",
       "    }\n",
       "\n",
       "    .dataframe thead th {\n",
       "        text-align: right;\n",
       "    }\n",
       "</style>\n",
       "<table border=\"1\" class=\"dataframe\">\n",
       "  <thead>\n",
       "    <tr style=\"text-align: right;\">\n",
       "      <th></th>\n",
       "      <th>Model Iteration</th>\n",
       "      <th>Score</th>\n",
       "    </tr>\n",
       "  </thead>\n",
       "  <tbody>\n",
       "  </tbody>\n",
       "</table>\n",
       "</div>"
      ],
      "text/plain": [
       "Empty DataFrame\n",
       "Columns: [Model Iteration, Score]\n",
       "Index: []"
      ]
     },
     "execution_count": 366,
     "metadata": {},
     "output_type": "execute_result"
    }
   ],
   "source": [
    "hm_rf_ro.all_models_perf"
   ]
  },
  {
   "cell_type": "code",
   "execution_count": null,
   "metadata": {
    "id": "jWj2VfvKznE0"
   },
   "outputs": [],
   "source": []
  },
  {
   "cell_type": "markdown",
   "metadata": {
    "id": "5N35S_S7znE0"
   },
   "source": [
    "##### Test"
   ]
  },
  {
   "cell_type": "code",
   "execution_count": 367,
   "metadata": {
    "id": "xa8-D0wpznE0"
   },
   "outputs": [],
   "source": [
    "# leave-one-task-out test\n",
    "cv = KFold(n_splits=4,shuffle=False)\n",
    "\n",
    "scores = cross_val_score(estimator=hm_rf_ro.rd_model,cv=cv,X=X,y=y)\n",
    "\n",
    "mean_score = np.mean(scores)\n",
    "\n"
   ]
  },
  {
   "cell_type": "code",
   "execution_count": 368,
   "metadata": {
    "id": "n2sVmxGdznE0"
   },
   "outputs": [
    {
     "data": {
      "text/plain": [
       "array([0.55      , 0.36666667, 0.50833333, 0.33333333])"
      ]
     },
     "execution_count": 368,
     "metadata": {},
     "output_type": "execute_result"
    }
   ],
   "source": [
    "scores"
   ]
  },
  {
   "cell_type": "code",
   "execution_count": 369,
   "metadata": {
    "id": "BpnIX_HjznE0"
   },
   "outputs": [
    {
     "data": {
      "text/plain": [
       "0.4395833333333333"
      ]
     },
     "execution_count": 369,
     "metadata": {},
     "output_type": "execute_result"
    }
   ],
   "source": [
    "mean_score"
   ]
  },
  {
   "cell_type": "code",
   "execution_count": 370,
   "metadata": {
    "id": "XPiy_g5oznE0"
   },
   "outputs": [],
   "source": [
    "# leave-one-task-out-shuffed test\n",
    "cv = KFold(n_splits=4,shuffle=True,random_state=42)\n",
    "\n",
    "scores = cross_val_score(estimator=hm_rf_ro.rd_model,cv=cv,X=X,y=y)\n",
    "\n",
    "mean_score = np.mean(scores)\n"
   ]
  },
  {
   "cell_type": "code",
   "execution_count": 371,
   "metadata": {
    "id": "azSQOq8_znE0"
   },
   "outputs": [
    {
     "data": {
      "text/plain": [
       "array([0.43333333, 0.48333333, 0.25      , 0.43333333])"
      ]
     },
     "execution_count": 371,
     "metadata": {},
     "output_type": "execute_result"
    }
   ],
   "source": [
    "scores"
   ]
  },
  {
   "cell_type": "code",
   "execution_count": 372,
   "metadata": {
    "id": "nOJk3jtxznE0"
   },
   "outputs": [
    {
     "data": {
      "text/plain": [
       "0.4"
      ]
     },
     "execution_count": 372,
     "metadata": {},
     "output_type": "execute_result"
    }
   ],
   "source": [
    "mean_score"
   ]
  },
  {
   "cell_type": "code",
   "execution_count": null,
   "metadata": {
    "id": "oX-bRxwfznE0"
   },
   "outputs": [],
   "source": []
  },
  {
   "cell_type": "code",
   "execution_count": 373,
   "metadata": {
    "id": "f9IzvaKcznE0"
   },
   "outputs": [],
   "source": [
    "# leave-one-run-out test\n",
    "cv = KFold(n_splits=8,shuffle=False)\n",
    "\n",
    "scores = cross_val_score(estimator=hm_rf_ro.rd_model,cv=cv,X=X,y=y)\n",
    "\n",
    "mean_score = np.mean(scores)\n"
   ]
  },
  {
   "cell_type": "code",
   "execution_count": 374,
   "metadata": {
    "id": "OjhZe7LAznE0"
   },
   "outputs": [
    {
     "data": {
      "text/plain": [
       "array([0.63333333, 0.46666667, 0.35      , 0.38333333, 0.5       ,\n",
       "       0.55      , 0.68333333, 0.78333333])"
      ]
     },
     "execution_count": 374,
     "metadata": {},
     "output_type": "execute_result"
    }
   ],
   "source": [
    "scores"
   ]
  },
  {
   "cell_type": "code",
   "execution_count": 375,
   "metadata": {
    "id": "pOxeg5R-znE0"
   },
   "outputs": [
    {
     "data": {
      "text/plain": [
       "0.54375"
      ]
     },
     "execution_count": 375,
     "metadata": {},
     "output_type": "execute_result"
    }
   ],
   "source": [
    "mean_score"
   ]
  },
  {
   "cell_type": "code",
   "execution_count": 376,
   "metadata": {
    "id": "FTtx-WTEznE0"
   },
   "outputs": [],
   "source": [
    "# leave-one-run-out-shuffed test\n",
    "cv = KFold(n_splits=8,shuffle=True,random_state=42)\n",
    "\n",
    "\n",
    "\n",
    "scores = cross_val_score(estimator=hm_rf_ro.rd_model,cv=cv,X=X,y=y)\n",
    "\n",
    "mean_score = np.mean(scores)\n"
   ]
  },
  {
   "cell_type": "code",
   "execution_count": 377,
   "metadata": {
    "id": "nm3LlijhznE0"
   },
   "outputs": [
    {
     "data": {
      "text/plain": [
       "array([0.45      , 0.38333333, 0.41666667, 0.48333333, 0.35      ,\n",
       "       0.33333333, 0.41666667, 0.45      ])"
      ]
     },
     "execution_count": 377,
     "metadata": {},
     "output_type": "execute_result"
    }
   ],
   "source": [
    "scores"
   ]
  },
  {
   "cell_type": "code",
   "execution_count": 378,
   "metadata": {
    "id": "v8T7HCsRznE0"
   },
   "outputs": [
    {
     "data": {
      "text/plain": [
       "0.41041666666666665"
      ]
     },
     "execution_count": 378,
     "metadata": {},
     "output_type": "execute_result"
    }
   ],
   "source": [
    "mean_score"
   ]
  },
  {
   "cell_type": "code",
   "execution_count": 379,
   "metadata": {
    "id": "rCBj88t3znE0"
   },
   "outputs": [],
   "source": [
    "# other metrics + graphs\n",
    "\n",
    "\n"
   ]
  },
  {
   "cell_type": "markdown",
   "metadata": {
    "id": "IqZgkBX0znE0"
   },
   "source": [
    "#### *leave-one-run-out-shuffled* cross validation"
   ]
  },
  {
   "cell_type": "markdown",
   "metadata": {
    "id": "3n_oeISCznE0"
   },
   "source": [
    "##### Training"
   ]
  },
  {
   "cell_type": "code",
   "execution_count": 380,
   "metadata": {
    "id": "kAiOndRWznE0"
   },
   "outputs": [],
   "source": [
    "hm_rf_ros = hyper_model(model_name='random_forest_classifier',\n",
    "                            validation_approach = 'leave-one-run-out-shuffled',\n",
    "                            X=X,\n",
    "                            y=y)"
   ]
  },
  {
   "cell_type": "code",
   "execution_count": 381,
   "metadata": {
    "id": "D6mfl16pznE0"
   },
   "outputs": [
    {
     "name": "stdout",
     "output_type": "stream",
     "text": [
      "Initial Model with Stock Params Score : 0.3270833333333333\n",
      "Fitting 8 folds for each of 2 candidates, totalling 16 fits\n"
     ]
    },
    {
     "name": "stderr",
     "output_type": "stream",
     "text": [
      "[Parallel(n_jobs=1)]: Using backend SequentialBackend with 1 concurrent workers.\n",
      "[Parallel(n_jobs=1)]: Done  16 out of  16 | elapsed:  9.2min finished\n"
     ]
    },
    {
     "name": "stdout",
     "output_type": "stream",
     "text": [
      "Random HP Search Best Model Score : 0.41875000000000007\n",
      "Improvement of 28.02547770700641% relative to the initial model\n"
     ]
    }
   ],
   "source": [
    "hm_rf_ros.fit()"
   ]
  },
  {
   "cell_type": "code",
   "execution_count": 382,
   "metadata": {
    "id": "zIsY4x87znE0"
   },
   "outputs": [
    {
     "data": {
      "text/html": [
       "<div>\n",
       "<style scoped>\n",
       "    .dataframe tbody tr th:only-of-type {\n",
       "        vertical-align: middle;\n",
       "    }\n",
       "\n",
       "    .dataframe tbody tr th {\n",
       "        vertical-align: top;\n",
       "    }\n",
       "\n",
       "    .dataframe thead th {\n",
       "        text-align: right;\n",
       "    }\n",
       "</style>\n",
       "<table border=\"1\" class=\"dataframe\">\n",
       "  <thead>\n",
       "    <tr style=\"text-align: right;\">\n",
       "      <th></th>\n",
       "      <th>Model Iteration</th>\n",
       "      <th>Score</th>\n",
       "    </tr>\n",
       "  </thead>\n",
       "  <tbody>\n",
       "  </tbody>\n",
       "</table>\n",
       "</div>"
      ],
      "text/plain": [
       "Empty DataFrame\n",
       "Columns: [Model Iteration, Score]\n",
       "Index: []"
      ]
     },
     "execution_count": 382,
     "metadata": {},
     "output_type": "execute_result"
    }
   ],
   "source": [
    "hm_rf_ros.all_models_perf"
   ]
  },
  {
   "cell_type": "code",
   "execution_count": null,
   "metadata": {
    "id": "wOu2FqUgznE0"
   },
   "outputs": [],
   "source": []
  },
  {
   "cell_type": "markdown",
   "metadata": {
    "id": "FNSg-xESznE0"
   },
   "source": [
    "##### Test"
   ]
  },
  {
   "cell_type": "code",
   "execution_count": 383,
   "metadata": {
    "id": "JAhmZr0WznE0"
   },
   "outputs": [],
   "source": [
    "# leave-one-task-out test\n",
    "cv = KFold(n_splits=4,shuffle=False)\n",
    "\n",
    "scores = cross_val_score(estimator=hm_rf_ros.rd_model,cv=cv,X=X,y=y)\n",
    "\n",
    "mean_score = np.mean(scores)\n",
    "\n"
   ]
  },
  {
   "cell_type": "code",
   "execution_count": 384,
   "metadata": {
    "id": "qFmuaHAOznE0"
   },
   "outputs": [
    {
     "data": {
      "text/plain": [
       "array([0.56666667, 0.375     , 0.5       , 0.36666667])"
      ]
     },
     "execution_count": 384,
     "metadata": {},
     "output_type": "execute_result"
    }
   ],
   "source": [
    "scores"
   ]
  },
  {
   "cell_type": "code",
   "execution_count": 385,
   "metadata": {
    "id": "0PRsJdEAznE0"
   },
   "outputs": [
    {
     "data": {
      "text/plain": [
       "0.45208333333333334"
      ]
     },
     "execution_count": 385,
     "metadata": {},
     "output_type": "execute_result"
    }
   ],
   "source": [
    "mean_score"
   ]
  },
  {
   "cell_type": "code",
   "execution_count": 386,
   "metadata": {
    "id": "7J3uMDdGznE1"
   },
   "outputs": [],
   "source": [
    "# leave-one-task-out-shuffed test\n",
    "cv = KFold(n_splits=4,shuffle=True,random_state=42)\n",
    "\n",
    "scores = cross_val_score(estimator=hm_rf_ros.rd_model,cv=cv,X=X,y=y)\n",
    "\n",
    "mean_score = np.mean(scores)\n"
   ]
  },
  {
   "cell_type": "code",
   "execution_count": 387,
   "metadata": {
    "id": "-B3go7n2znE1"
   },
   "outputs": [
    {
     "data": {
      "text/plain": [
       "array([0.43333333, 0.49166667, 0.25833333, 0.425     ])"
      ]
     },
     "execution_count": 387,
     "metadata": {},
     "output_type": "execute_result"
    }
   ],
   "source": [
    "scores"
   ]
  },
  {
   "cell_type": "code",
   "execution_count": 388,
   "metadata": {
    "id": "yCuHLkI8znE1"
   },
   "outputs": [
    {
     "data": {
      "text/plain": [
       "0.40208333333333335"
      ]
     },
     "execution_count": 388,
     "metadata": {},
     "output_type": "execute_result"
    }
   ],
   "source": [
    "mean_score"
   ]
  },
  {
   "cell_type": "code",
   "execution_count": null,
   "metadata": {
    "id": "8hWa-aJmznE1"
   },
   "outputs": [],
   "source": []
  },
  {
   "cell_type": "code",
   "execution_count": 389,
   "metadata": {
    "id": "5jVryRzDznE1"
   },
   "outputs": [],
   "source": [
    "# leave-one-run-out test\n",
    "cv = KFold(n_splits=8,shuffle=False)\n",
    "\n",
    "scores = cross_val_score(estimator=hm_rf_ros.rd_model,cv=cv,X=X,y=y)\n",
    "\n",
    "mean_score = np.mean(scores)\n"
   ]
  },
  {
   "cell_type": "code",
   "execution_count": 390,
   "metadata": {
    "id": "9Z4ghTQ5znE1"
   },
   "outputs": [
    {
     "data": {
      "text/plain": [
       "array([0.63333333, 0.5       , 0.36666667, 0.38333333, 0.5       ,\n",
       "       0.51666667, 0.61666667, 0.71666667])"
      ]
     },
     "execution_count": 390,
     "metadata": {},
     "output_type": "execute_result"
    }
   ],
   "source": [
    "scores"
   ]
  },
  {
   "cell_type": "code",
   "execution_count": 391,
   "metadata": {
    "id": "2Z3jNzMFznE1"
   },
   "outputs": [
    {
     "data": {
      "text/plain": [
       "0.5291666666666667"
      ]
     },
     "execution_count": 391,
     "metadata": {},
     "output_type": "execute_result"
    }
   ],
   "source": [
    "mean_score"
   ]
  },
  {
   "cell_type": "code",
   "execution_count": 392,
   "metadata": {
    "id": "kraH7kCAznE1"
   },
   "outputs": [],
   "source": [
    "# leave-one-run-out-shuffed test\n",
    "cv = KFold(n_splits=8,shuffle=True,random_state=42)\n",
    "\n",
    "\n",
    "\n",
    "scores = cross_val_score(estimator=hm_rf_ros.rd_model,cv=cv,X=X,y=y)\n",
    "\n",
    "mean_score = np.mean(scores)\n"
   ]
  },
  {
   "cell_type": "code",
   "execution_count": 393,
   "metadata": {
    "id": "Hm7ymwVIznE1"
   },
   "outputs": [
    {
     "data": {
      "text/plain": [
       "array([0.43333333, 0.4       , 0.36666667, 0.41666667, 0.4       ,\n",
       "       0.3       , 0.46666667, 0.41666667])"
      ]
     },
     "execution_count": 393,
     "metadata": {},
     "output_type": "execute_result"
    }
   ],
   "source": [
    "scores"
   ]
  },
  {
   "cell_type": "code",
   "execution_count": 394,
   "metadata": {
    "id": "2KrfQG6vznE1"
   },
   "outputs": [
    {
     "data": {
      "text/plain": [
       "0.4"
      ]
     },
     "execution_count": 394,
     "metadata": {},
     "output_type": "execute_result"
    }
   ],
   "source": [
    "mean_score"
   ]
  },
  {
   "cell_type": "code",
   "execution_count": 395,
   "metadata": {
    "id": "BFyZ88sQznE1"
   },
   "outputs": [],
   "source": [
    "# other metrics + graphs\n",
    "\n",
    "\n"
   ]
  },
  {
   "cell_type": "markdown",
   "metadata": {
    "id": "oDNCpIIRD7gz"
   },
   "source": [
    "## XGBoost Classifier"
   ]
  },
  {
   "cell_type": "markdown",
   "metadata": {
    "id": "j2tykuMUzur7"
   },
   "source": [
    "### Stock Model"
   ]
  },
  {
   "cell_type": "markdown",
   "metadata": {
    "id": "Jqg0nC9EQYwp"
   },
   "source": [
    "#### *leave-one-task-out* cross validation"
   ]
  },
  {
   "cell_type": "markdown",
   "metadata": {
    "id": "NfgwRfQvYb8t"
   },
   "source": [
    "##### Training"
   ]
  },
  {
   "cell_type": "code",
   "execution_count": 399,
   "metadata": {
    "id": "JsLW_31BQYwp"
   },
   "outputs": [],
   "source": [
    "hm_xgb_to = hyper_model(model_name='xg_boost',\n",
    "                            validation_approach = 'leave-one-task-out',\n",
    "                            X=X,\n",
    "                            y=y)"
   ]
  },
  {
   "cell_type": "code",
   "execution_count": 400,
   "metadata": {
    "id": "bLodkCQ_QYwp"
   },
   "outputs": [
    {
     "name": "stdout",
     "output_type": "stream",
     "text": [
      "[15:34:14] WARNING: C:/Users/Administrator/workspace/xgboost-win64_release_1.3.0/src/learner.cc:1061: Starting in XGBoost 1.3.0, the default evaluation metric used with the objective 'binary:logistic' was changed from 'error' to 'logloss'. Explicitly set eval_metric if you'd like to restore the old behavior.\n",
      "[15:34:26] WARNING: C:/Users/Administrator/workspace/xgboost-win64_release_1.3.0/src/learner.cc:1061: Starting in XGBoost 1.3.0, the default evaluation metric used with the objective 'binary:logistic' was changed from 'error' to 'logloss'. Explicitly set eval_metric if you'd like to restore the old behavior.\n",
      "[15:34:40] WARNING: C:/Users/Administrator/workspace/xgboost-win64_release_1.3.0/src/learner.cc:1061: Starting in XGBoost 1.3.0, the default evaluation metric used with the objective 'binary:logistic' was changed from 'error' to 'logloss'. Explicitly set eval_metric if you'd like to restore the old behavior.\n",
      "[15:34:53] WARNING: C:/Users/Administrator/workspace/xgboost-win64_release_1.3.0/src/learner.cc:1061: Starting in XGBoost 1.3.0, the default evaluation metric used with the objective 'binary:logistic' was changed from 'error' to 'logloss'. Explicitly set eval_metric if you'd like to restore the old behavior.\n",
      "Initial Model with Stock Params Score : 0.4916666666666667\n",
      "Fitting 4 folds for each of 2 candidates, totalling 8 fits\n"
     ]
    },
    {
     "name": "stderr",
     "output_type": "stream",
     "text": [
      "[Parallel(n_jobs=1)]: Using backend SequentialBackend with 1 concurrent workers.\n"
     ]
    },
    {
     "name": "stdout",
     "output_type": "stream",
     "text": [
      "[15:35:06] WARNING: C:/Users/Administrator/workspace/xgboost-win64_release_1.3.0/src/learner.cc:1061: Starting in XGBoost 1.3.0, the default evaluation metric used with the objective 'binary:logistic' was changed from 'error' to 'logloss'. Explicitly set eval_metric if you'd like to restore the old behavior.\n",
      "[15:35:22] WARNING: C:/Users/Administrator/workspace/xgboost-win64_release_1.3.0/src/learner.cc:1061: Starting in XGBoost 1.3.0, the default evaluation metric used with the objective 'binary:logistic' was changed from 'error' to 'logloss'. Explicitly set eval_metric if you'd like to restore the old behavior.\n",
      "[15:35:37] WARNING: C:/Users/Administrator/workspace/xgboost-win64_release_1.3.0/src/learner.cc:1061: Starting in XGBoost 1.3.0, the default evaluation metric used with the objective 'binary:logistic' was changed from 'error' to 'logloss'. Explicitly set eval_metric if you'd like to restore the old behavior.\n",
      "[15:35:54] WARNING: C:/Users/Administrator/workspace/xgboost-win64_release_1.3.0/src/learner.cc:1061: Starting in XGBoost 1.3.0, the default evaluation metric used with the objective 'binary:logistic' was changed from 'error' to 'logloss'. Explicitly set eval_metric if you'd like to restore the old behavior.\n",
      "[15:36:09] WARNING: C:/Users/Administrator/workspace/xgboost-win64_release_1.3.0/src/learner.cc:1061: Starting in XGBoost 1.3.0, the default evaluation metric used with the objective 'binary:logistic' was changed from 'error' to 'logloss'. Explicitly set eval_metric if you'd like to restore the old behavior.\n",
      "[15:36:28] WARNING: C:/Users/Administrator/workspace/xgboost-win64_release_1.3.0/src/learner.cc:1061: Starting in XGBoost 1.3.0, the default evaluation metric used with the objective 'binary:logistic' was changed from 'error' to 'logloss'. Explicitly set eval_metric if you'd like to restore the old behavior.\n",
      "[15:36:46] WARNING: C:/Users/Administrator/workspace/xgboost-win64_release_1.3.0/src/learner.cc:1061: Starting in XGBoost 1.3.0, the default evaluation metric used with the objective 'binary:logistic' was changed from 'error' to 'logloss'. Explicitly set eval_metric if you'd like to restore the old behavior.\n",
      "[15:37:04] WARNING: C:/Users/Administrator/workspace/xgboost-win64_release_1.3.0/src/learner.cc:1061: Starting in XGBoost 1.3.0, the default evaluation metric used with the objective 'binary:logistic' was changed from 'error' to 'logloss'. Explicitly set eval_metric if you'd like to restore the old behavior.\n"
     ]
    },
    {
     "name": "stderr",
     "output_type": "stream",
     "text": [
      "[Parallel(n_jobs=1)]: Done   8 out of   8 | elapsed:  2.2min finished\n"
     ]
    },
    {
     "name": "stdout",
     "output_type": "stream",
     "text": [
      "[15:37:21] WARNING: C:/Users/Administrator/workspace/xgboost-win64_release_1.3.0/src/learner.cc:1061: Starting in XGBoost 1.3.0, the default evaluation metric used with the objective 'binary:logistic' was changed from 'error' to 'logloss'. Explicitly set eval_metric if you'd like to restore the old behavior.\n",
      "Random HP Search Best Model Score : 0.5020833333333333\n",
      "Improvement of 2.1186440677966023% relative to the initial model\n"
     ]
    }
   ],
   "source": [
    "hm_xgb_to.fit()"
   ]
  },
  {
   "cell_type": "code",
   "execution_count": 401,
   "metadata": {
    "id": "RXLNwgL-QYwp"
   },
   "outputs": [
    {
     "data": {
      "text/html": [
       "<div>\n",
       "<style scoped>\n",
       "    .dataframe tbody tr th:only-of-type {\n",
       "        vertical-align: middle;\n",
       "    }\n",
       "\n",
       "    .dataframe tbody tr th {\n",
       "        vertical-align: top;\n",
       "    }\n",
       "\n",
       "    .dataframe thead th {\n",
       "        text-align: right;\n",
       "    }\n",
       "</style>\n",
       "<table border=\"1\" class=\"dataframe\">\n",
       "  <thead>\n",
       "    <tr style=\"text-align: right;\">\n",
       "      <th></th>\n",
       "      <th>Model Iteration</th>\n",
       "      <th>Score</th>\n",
       "    </tr>\n",
       "  </thead>\n",
       "  <tbody>\n",
       "  </tbody>\n",
       "</table>\n",
       "</div>"
      ],
      "text/plain": [
       "Empty DataFrame\n",
       "Columns: [Model Iteration, Score]\n",
       "Index: []"
      ]
     },
     "execution_count": 401,
     "metadata": {},
     "output_type": "execute_result"
    }
   ],
   "source": [
    "hm_xgb_to.all_models_perf"
   ]
  },
  {
   "cell_type": "code",
   "execution_count": null,
   "metadata": {
    "id": "yX4Rcv6hQYwq"
   },
   "outputs": [],
   "source": []
  },
  {
   "cell_type": "markdown",
   "metadata": {
    "id": "g3KPsQ60YgQm"
   },
   "source": [
    "##### Test"
   ]
  },
  {
   "cell_type": "code",
   "execution_count": 402,
   "metadata": {
    "id": "RxzUgIo2YgQm"
   },
   "outputs": [
    {
     "name": "stdout",
     "output_type": "stream",
     "text": [
      "[15:37:43] WARNING: C:/Users/Administrator/workspace/xgboost-win64_release_1.3.0/src/learner.cc:1061: Starting in XGBoost 1.3.0, the default evaluation metric used with the objective 'binary:logistic' was changed from 'error' to 'logloss'. Explicitly set eval_metric if you'd like to restore the old behavior.\n",
      "[15:37:54] WARNING: C:/Users/Administrator/workspace/xgboost-win64_release_1.3.0/src/learner.cc:1061: Starting in XGBoost 1.3.0, the default evaluation metric used with the objective 'binary:logistic' was changed from 'error' to 'logloss'. Explicitly set eval_metric if you'd like to restore the old behavior.\n",
      "[15:38:04] WARNING: C:/Users/Administrator/workspace/xgboost-win64_release_1.3.0/src/learner.cc:1061: Starting in XGBoost 1.3.0, the default evaluation metric used with the objective 'binary:logistic' was changed from 'error' to 'logloss'. Explicitly set eval_metric if you'd like to restore the old behavior.\n",
      "[15:38:17] WARNING: C:/Users/Administrator/workspace/xgboost-win64_release_1.3.0/src/learner.cc:1061: Starting in XGBoost 1.3.0, the default evaluation metric used with the objective 'binary:logistic' was changed from 'error' to 'logloss'. Explicitly set eval_metric if you'd like to restore the old behavior.\n"
     ]
    }
   ],
   "source": [
    "# leave-one-task-out test\n",
    "cv = KFold(n_splits=4,shuffle=False)\n",
    "\n",
    "scores = cross_val_score(estimator=hm_xgb_to.stock_model,cv=cv,X=X,y=y)\n",
    "\n",
    "mean_score = np.mean(scores)\n",
    "\n"
   ]
  },
  {
   "cell_type": "code",
   "execution_count": 403,
   "metadata": {
    "id": "rsR68pOvYgQm"
   },
   "outputs": [
    {
     "data": {
      "text/plain": [
       "array([0.525     , 0.4       , 0.50833333, 0.53333333])"
      ]
     },
     "execution_count": 403,
     "metadata": {},
     "output_type": "execute_result"
    }
   ],
   "source": [
    "scores"
   ]
  },
  {
   "cell_type": "code",
   "execution_count": 404,
   "metadata": {
    "id": "7K1nRVGxYgQm"
   },
   "outputs": [
    {
     "data": {
      "text/plain": [
       "0.4916666666666667"
      ]
     },
     "execution_count": 404,
     "metadata": {},
     "output_type": "execute_result"
    }
   ],
   "source": [
    "mean_score"
   ]
  },
  {
   "cell_type": "code",
   "execution_count": 405,
   "metadata": {
    "id": "qHeNXZf2YgQm"
   },
   "outputs": [
    {
     "name": "stdout",
     "output_type": "stream",
     "text": [
      "[15:38:30] WARNING: C:/Users/Administrator/workspace/xgboost-win64_release_1.3.0/src/learner.cc:1061: Starting in XGBoost 1.3.0, the default evaluation metric used with the objective 'binary:logistic' was changed from 'error' to 'logloss'. Explicitly set eval_metric if you'd like to restore the old behavior.\n",
      "[15:38:44] WARNING: C:/Users/Administrator/workspace/xgboost-win64_release_1.3.0/src/learner.cc:1061: Starting in XGBoost 1.3.0, the default evaluation metric used with the objective 'binary:logistic' was changed from 'error' to 'logloss'. Explicitly set eval_metric if you'd like to restore the old behavior.\n",
      "[15:38:57] WARNING: C:/Users/Administrator/workspace/xgboost-win64_release_1.3.0/src/learner.cc:1061: Starting in XGBoost 1.3.0, the default evaluation metric used with the objective 'binary:logistic' was changed from 'error' to 'logloss'. Explicitly set eval_metric if you'd like to restore the old behavior.\n",
      "[15:39:10] WARNING: C:/Users/Administrator/workspace/xgboost-win64_release_1.3.0/src/learner.cc:1061: Starting in XGBoost 1.3.0, the default evaluation metric used with the objective 'binary:logistic' was changed from 'error' to 'logloss'. Explicitly set eval_metric if you'd like to restore the old behavior.\n"
     ]
    }
   ],
   "source": [
    "# leave-one-task-out-shuffed test\n",
    "cv = KFold(n_splits=4,shuffle=True,random_state=42)\n",
    "\n",
    "scores = cross_val_score(estimator=hm_xgb_to.stock_model,cv=cv,X=X,y=y)\n",
    "\n",
    "mean_score = np.mean(scores)\n"
   ]
  },
  {
   "cell_type": "code",
   "execution_count": 406,
   "metadata": {
    "id": "RBCMfcXSYgQm"
   },
   "outputs": [
    {
     "data": {
      "text/plain": [
       "array([0.28333333, 0.325     , 0.26666667, 0.26666667])"
      ]
     },
     "execution_count": 406,
     "metadata": {},
     "output_type": "execute_result"
    }
   ],
   "source": [
    "scores"
   ]
  },
  {
   "cell_type": "code",
   "execution_count": 407,
   "metadata": {
    "id": "ZRQ_1B9WYgQm"
   },
   "outputs": [
    {
     "data": {
      "text/plain": [
       "0.28541666666666665"
      ]
     },
     "execution_count": 407,
     "metadata": {},
     "output_type": "execute_result"
    }
   ],
   "source": [
    "mean_score"
   ]
  },
  {
   "cell_type": "code",
   "execution_count": null,
   "metadata": {
    "id": "hpacKrT3YgQm"
   },
   "outputs": [],
   "source": []
  },
  {
   "cell_type": "code",
   "execution_count": 408,
   "metadata": {
    "id": "9EUD5_4AYgQm"
   },
   "outputs": [
    {
     "name": "stdout",
     "output_type": "stream",
     "text": [
      "[15:39:23] WARNING: C:/Users/Administrator/workspace/xgboost-win64_release_1.3.0/src/learner.cc:1061: Starting in XGBoost 1.3.0, the default evaluation metric used with the objective 'binary:logistic' was changed from 'error' to 'logloss'. Explicitly set eval_metric if you'd like to restore the old behavior.\n",
      "[15:39:37] WARNING: C:/Users/Administrator/workspace/xgboost-win64_release_1.3.0/src/learner.cc:1061: Starting in XGBoost 1.3.0, the default evaluation metric used with the objective 'binary:logistic' was changed from 'error' to 'logloss'. Explicitly set eval_metric if you'd like to restore the old behavior.\n",
      "[15:39:52] WARNING: C:/Users/Administrator/workspace/xgboost-win64_release_1.3.0/src/learner.cc:1061: Starting in XGBoost 1.3.0, the default evaluation metric used with the objective 'binary:logistic' was changed from 'error' to 'logloss'. Explicitly set eval_metric if you'd like to restore the old behavior.\n",
      "[15:40:07] WARNING: C:/Users/Administrator/workspace/xgboost-win64_release_1.3.0/src/learner.cc:1061: Starting in XGBoost 1.3.0, the default evaluation metric used with the objective 'binary:logistic' was changed from 'error' to 'logloss'. Explicitly set eval_metric if you'd like to restore the old behavior.\n",
      "[15:40:23] WARNING: C:/Users/Administrator/workspace/xgboost-win64_release_1.3.0/src/learner.cc:1061: Starting in XGBoost 1.3.0, the default evaluation metric used with the objective 'binary:logistic' was changed from 'error' to 'logloss'. Explicitly set eval_metric if you'd like to restore the old behavior.\n",
      "[15:40:38] WARNING: C:/Users/Administrator/workspace/xgboost-win64_release_1.3.0/src/learner.cc:1061: Starting in XGBoost 1.3.0, the default evaluation metric used with the objective 'binary:logistic' was changed from 'error' to 'logloss'. Explicitly set eval_metric if you'd like to restore the old behavior.\n",
      "[15:40:53] WARNING: C:/Users/Administrator/workspace/xgboost-win64_release_1.3.0/src/learner.cc:1061: Starting in XGBoost 1.3.0, the default evaluation metric used with the objective 'binary:logistic' was changed from 'error' to 'logloss'. Explicitly set eval_metric if you'd like to restore the old behavior.\n",
      "[15:41:10] WARNING: C:/Users/Administrator/workspace/xgboost-win64_release_1.3.0/src/learner.cc:1061: Starting in XGBoost 1.3.0, the default evaluation metric used with the objective 'binary:logistic' was changed from 'error' to 'logloss'. Explicitly set eval_metric if you'd like to restore the old behavior.\n"
     ]
    }
   ],
   "source": [
    "# leave-one-run-out test\n",
    "cv = KFold(n_splits=8,shuffle=False)\n",
    "\n",
    "scores = cross_val_score(estimator=hm_xgb_to.stock_model,cv=cv,X=X,y=y)\n",
    "\n",
    "mean_score = np.mean(scores)\n"
   ]
  },
  {
   "cell_type": "code",
   "execution_count": 409,
   "metadata": {
    "id": "qDQJIez_YgQm"
   },
   "outputs": [
    {
     "data": {
      "text/plain": [
       "array([0.45      , 0.45      , 0.38333333, 0.51666667, 0.55      ,\n",
       "       0.6       , 0.48333333, 0.55      ])"
      ]
     },
     "execution_count": 409,
     "metadata": {},
     "output_type": "execute_result"
    }
   ],
   "source": [
    "scores"
   ]
  },
  {
   "cell_type": "code",
   "execution_count": 410,
   "metadata": {
    "id": "z-mkU6E6YgQn"
   },
   "outputs": [
    {
     "data": {
      "text/plain": [
       "0.49791666666666673"
      ]
     },
     "execution_count": 410,
     "metadata": {},
     "output_type": "execute_result"
    }
   ],
   "source": [
    "mean_score"
   ]
  },
  {
   "cell_type": "code",
   "execution_count": 411,
   "metadata": {
    "id": "1epIp3BNYgQn"
   },
   "outputs": [
    {
     "name": "stdout",
     "output_type": "stream",
     "text": [
      "[15:41:26] WARNING: C:/Users/Administrator/workspace/xgboost-win64_release_1.3.0/src/learner.cc:1061: Starting in XGBoost 1.3.0, the default evaluation metric used with the objective 'binary:logistic' was changed from 'error' to 'logloss'. Explicitly set eval_metric if you'd like to restore the old behavior.\n",
      "[15:41:42] WARNING: C:/Users/Administrator/workspace/xgboost-win64_release_1.3.0/src/learner.cc:1061: Starting in XGBoost 1.3.0, the default evaluation metric used with the objective 'binary:logistic' was changed from 'error' to 'logloss'. Explicitly set eval_metric if you'd like to restore the old behavior.\n",
      "[15:41:58] WARNING: C:/Users/Administrator/workspace/xgboost-win64_release_1.3.0/src/learner.cc:1061: Starting in XGBoost 1.3.0, the default evaluation metric used with the objective 'binary:logistic' was changed from 'error' to 'logloss'. Explicitly set eval_metric if you'd like to restore the old behavior.\n",
      "[15:42:14] WARNING: C:/Users/Administrator/workspace/xgboost-win64_release_1.3.0/src/learner.cc:1061: Starting in XGBoost 1.3.0, the default evaluation metric used with the objective 'binary:logistic' was changed from 'error' to 'logloss'. Explicitly set eval_metric if you'd like to restore the old behavior.\n",
      "[15:42:30] WARNING: C:/Users/Administrator/workspace/xgboost-win64_release_1.3.0/src/learner.cc:1061: Starting in XGBoost 1.3.0, the default evaluation metric used with the objective 'binary:logistic' was changed from 'error' to 'logloss'. Explicitly set eval_metric if you'd like to restore the old behavior.\n",
      "[15:42:45] WARNING: C:/Users/Administrator/workspace/xgboost-win64_release_1.3.0/src/learner.cc:1061: Starting in XGBoost 1.3.0, the default evaluation metric used with the objective 'binary:logistic' was changed from 'error' to 'logloss'. Explicitly set eval_metric if you'd like to restore the old behavior.\n",
      "[15:43:02] WARNING: C:/Users/Administrator/workspace/xgboost-win64_release_1.3.0/src/learner.cc:1061: Starting in XGBoost 1.3.0, the default evaluation metric used with the objective 'binary:logistic' was changed from 'error' to 'logloss'. Explicitly set eval_metric if you'd like to restore the old behavior.\n",
      "[15:43:18] WARNING: C:/Users/Administrator/workspace/xgboost-win64_release_1.3.0/src/learner.cc:1061: Starting in XGBoost 1.3.0, the default evaluation metric used with the objective 'binary:logistic' was changed from 'error' to 'logloss'. Explicitly set eval_metric if you'd like to restore the old behavior.\n"
     ]
    }
   ],
   "source": [
    "# leave-one-run-out-shuffed test\n",
    "cv = KFold(n_splits=8,shuffle=True,random_state=42)\n",
    "\n",
    "\n",
    "\n",
    "scores = cross_val_score(estimator=hm_xgb_to.stock_model,cv=cv,X=X,y=y)\n",
    "\n",
    "mean_score = np.mean(scores)\n"
   ]
  },
  {
   "cell_type": "code",
   "execution_count": 412,
   "metadata": {
    "id": "JoJL01LrYgQn"
   },
   "outputs": [
    {
     "data": {
      "text/plain": [
       "array([0.23333333, 0.18333333, 0.28333333, 0.15      , 0.3       ,\n",
       "       0.23333333, 0.41666667, 0.16666667])"
      ]
     },
     "execution_count": 412,
     "metadata": {},
     "output_type": "execute_result"
    }
   ],
   "source": [
    "scores"
   ]
  },
  {
   "cell_type": "code",
   "execution_count": 413,
   "metadata": {
    "id": "b6bf8HGHYgQn"
   },
   "outputs": [
    {
     "data": {
      "text/plain": [
       "0.24583333333333335"
      ]
     },
     "execution_count": 413,
     "metadata": {},
     "output_type": "execute_result"
    }
   ],
   "source": [
    "mean_score"
   ]
  },
  {
   "cell_type": "code",
   "execution_count": 414,
   "metadata": {
    "id": "7y55nYzYYgQn"
   },
   "outputs": [],
   "source": [
    "# other metrics + graphs\n",
    "\n",
    "\n"
   ]
  },
  {
   "cell_type": "markdown",
   "metadata": {
    "id": "Wh2r7aqvQYwq"
   },
   "source": [
    "#### *leave-one-task-out-shuffled* cross validation"
   ]
  },
  {
   "cell_type": "markdown",
   "metadata": {
    "id": "PVhR6RhrYjM2"
   },
   "source": [
    "##### Training"
   ]
  },
  {
   "cell_type": "code",
   "execution_count": 415,
   "metadata": {
    "id": "hxo_eo5IQYwq"
   },
   "outputs": [],
   "source": [
    "hm_xgb_tos = hyper_model(model_name='xg_boost',\n",
    "                            validation_approach = 'leave-one-task-out-shuffled',\n",
    "                            X=X,\n",
    "                            y=y)"
   ]
  },
  {
   "cell_type": "code",
   "execution_count": 416,
   "metadata": {
    "id": "Wr7MB0OmQYwq"
   },
   "outputs": [
    {
     "name": "stdout",
     "output_type": "stream",
     "text": [
      "[15:43:34] WARNING: C:/Users/Administrator/workspace/xgboost-win64_release_1.3.0/src/learner.cc:1061: Starting in XGBoost 1.3.0, the default evaluation metric used with the objective 'binary:logistic' was changed from 'error' to 'logloss'. Explicitly set eval_metric if you'd like to restore the old behavior.\n",
      "[15:43:47] WARNING: C:/Users/Administrator/workspace/xgboost-win64_release_1.3.0/src/learner.cc:1061: Starting in XGBoost 1.3.0, the default evaluation metric used with the objective 'binary:logistic' was changed from 'error' to 'logloss'. Explicitly set eval_metric if you'd like to restore the old behavior.\n",
      "[15:43:59] WARNING: C:/Users/Administrator/workspace/xgboost-win64_release_1.3.0/src/learner.cc:1061: Starting in XGBoost 1.3.0, the default evaluation metric used with the objective 'binary:logistic' was changed from 'error' to 'logloss'. Explicitly set eval_metric if you'd like to restore the old behavior.\n",
      "[15:44:11] WARNING: C:/Users/Administrator/workspace/xgboost-win64_release_1.3.0/src/learner.cc:1061: Starting in XGBoost 1.3.0, the default evaluation metric used with the objective 'binary:logistic' was changed from 'error' to 'logloss'. Explicitly set eval_metric if you'd like to restore the old behavior.\n",
      "Initial Model with Stock Params Score : 0.28541666666666665\n",
      "Fitting 4 folds for each of 2 candidates, totalling 8 fits\n"
     ]
    },
    {
     "name": "stderr",
     "output_type": "stream",
     "text": [
      "[Parallel(n_jobs=1)]: Using backend SequentialBackend with 1 concurrent workers.\n"
     ]
    },
    {
     "name": "stdout",
     "output_type": "stream",
     "text": [
      "[15:44:23] WARNING: C:/Users/Administrator/workspace/xgboost-win64_release_1.3.0/src/learner.cc:1061: Starting in XGBoost 1.3.0, the default evaluation metric used with the objective 'binary:logistic' was changed from 'error' to 'logloss'. Explicitly set eval_metric if you'd like to restore the old behavior.\n",
      "[15:44:37] WARNING: C:/Users/Administrator/workspace/xgboost-win64_release_1.3.0/src/learner.cc:1061: Starting in XGBoost 1.3.0, the default evaluation metric used with the objective 'binary:logistic' was changed from 'error' to 'logloss'. Explicitly set eval_metric if you'd like to restore the old behavior.\n",
      "[15:44:52] WARNING: C:/Users/Administrator/workspace/xgboost-win64_release_1.3.0/src/learner.cc:1061: Starting in XGBoost 1.3.0, the default evaluation metric used with the objective 'binary:logistic' was changed from 'error' to 'logloss'. Explicitly set eval_metric if you'd like to restore the old behavior.\n",
      "[15:45:07] WARNING: C:/Users/Administrator/workspace/xgboost-win64_release_1.3.0/src/learner.cc:1061: Starting in XGBoost 1.3.0, the default evaluation metric used with the objective 'binary:logistic' was changed from 'error' to 'logloss'. Explicitly set eval_metric if you'd like to restore the old behavior.\n",
      "[15:45:22] WARNING: C:/Users/Administrator/workspace/xgboost-win64_release_1.3.0/src/learner.cc:1061: Starting in XGBoost 1.3.0, the default evaluation metric used with the objective 'binary:logistic' was changed from 'error' to 'logloss'. Explicitly set eval_metric if you'd like to restore the old behavior.\n",
      "[15:45:40] WARNING: C:/Users/Administrator/workspace/xgboost-win64_release_1.3.0/src/learner.cc:1061: Starting in XGBoost 1.3.0, the default evaluation metric used with the objective 'binary:logistic' was changed from 'error' to 'logloss'. Explicitly set eval_metric if you'd like to restore the old behavior.\n",
      "[15:45:57] WARNING: C:/Users/Administrator/workspace/xgboost-win64_release_1.3.0/src/learner.cc:1061: Starting in XGBoost 1.3.0, the default evaluation metric used with the objective 'binary:logistic' was changed from 'error' to 'logloss'. Explicitly set eval_metric if you'd like to restore the old behavior.\n",
      "[15:46:15] WARNING: C:/Users/Administrator/workspace/xgboost-win64_release_1.3.0/src/learner.cc:1061: Starting in XGBoost 1.3.0, the default evaluation metric used with the objective 'binary:logistic' was changed from 'error' to 'logloss'. Explicitly set eval_metric if you'd like to restore the old behavior.\n"
     ]
    },
    {
     "name": "stderr",
     "output_type": "stream",
     "text": [
      "[Parallel(n_jobs=1)]: Done   8 out of   8 | elapsed:  2.2min finished\n"
     ]
    },
    {
     "name": "stdout",
     "output_type": "stream",
     "text": [
      "[15:46:33] WARNING: C:/Users/Administrator/workspace/xgboost-win64_release_1.3.0/src/learner.cc:1061: Starting in XGBoost 1.3.0, the default evaluation metric used with the objective 'binary:logistic' was changed from 'error' to 'logloss'. Explicitly set eval_metric if you'd like to restore the old behavior.\n",
      "Random HP Search Best Model Score : 0.37083333333333335\n",
      "Improvement of 29.927007299270088% relative to the initial model\n"
     ]
    }
   ],
   "source": [
    "hm_xgb_tos.fit()"
   ]
  },
  {
   "cell_type": "code",
   "execution_count": 417,
   "metadata": {
    "id": "LQKZiM2UQYwq"
   },
   "outputs": [
    {
     "data": {
      "text/html": [
       "<div>\n",
       "<style scoped>\n",
       "    .dataframe tbody tr th:only-of-type {\n",
       "        vertical-align: middle;\n",
       "    }\n",
       "\n",
       "    .dataframe tbody tr th {\n",
       "        vertical-align: top;\n",
       "    }\n",
       "\n",
       "    .dataframe thead th {\n",
       "        text-align: right;\n",
       "    }\n",
       "</style>\n",
       "<table border=\"1\" class=\"dataframe\">\n",
       "  <thead>\n",
       "    <tr style=\"text-align: right;\">\n",
       "      <th></th>\n",
       "      <th>Model Iteration</th>\n",
       "      <th>Score</th>\n",
       "    </tr>\n",
       "  </thead>\n",
       "  <tbody>\n",
       "  </tbody>\n",
       "</table>\n",
       "</div>"
      ],
      "text/plain": [
       "Empty DataFrame\n",
       "Columns: [Model Iteration, Score]\n",
       "Index: []"
      ]
     },
     "execution_count": 417,
     "metadata": {},
     "output_type": "execute_result"
    }
   ],
   "source": [
    "hm_xgb_tos.all_models_perf"
   ]
  },
  {
   "cell_type": "code",
   "execution_count": null,
   "metadata": {
    "id": "_M0E115eQYwq"
   },
   "outputs": [],
   "source": []
  },
  {
   "cell_type": "markdown",
   "metadata": {
    "id": "VDgQXkvRYogs"
   },
   "source": [
    "##### Test"
   ]
  },
  {
   "cell_type": "code",
   "execution_count": 418,
   "metadata": {
    "id": "VIkd9Qu2Yogs"
   },
   "outputs": [
    {
     "name": "stdout",
     "output_type": "stream",
     "text": [
      "[15:46:56] WARNING: C:/Users/Administrator/workspace/xgboost-win64_release_1.3.0/src/learner.cc:1061: Starting in XGBoost 1.3.0, the default evaluation metric used with the objective 'binary:logistic' was changed from 'error' to 'logloss'. Explicitly set eval_metric if you'd like to restore the old behavior.\n",
      "[15:47:09] WARNING: C:/Users/Administrator/workspace/xgboost-win64_release_1.3.0/src/learner.cc:1061: Starting in XGBoost 1.3.0, the default evaluation metric used with the objective 'binary:logistic' was changed from 'error' to 'logloss'. Explicitly set eval_metric if you'd like to restore the old behavior.\n",
      "[15:47:22] WARNING: C:/Users/Administrator/workspace/xgboost-win64_release_1.3.0/src/learner.cc:1061: Starting in XGBoost 1.3.0, the default evaluation metric used with the objective 'binary:logistic' was changed from 'error' to 'logloss'. Explicitly set eval_metric if you'd like to restore the old behavior.\n",
      "[15:47:35] WARNING: C:/Users/Administrator/workspace/xgboost-win64_release_1.3.0/src/learner.cc:1061: Starting in XGBoost 1.3.0, the default evaluation metric used with the objective 'binary:logistic' was changed from 'error' to 'logloss'. Explicitly set eval_metric if you'd like to restore the old behavior.\n"
     ]
    }
   ],
   "source": [
    "# leave-one-task-out test\n",
    "cv = KFold(n_splits=4,shuffle=False)\n",
    "\n",
    "scores = cross_val_score(estimator=hm_xgb_tos.stock_model,cv=cv,X=X,y=y)\n",
    "\n",
    "mean_score = np.mean(scores)\n",
    "\n"
   ]
  },
  {
   "cell_type": "code",
   "execution_count": 419,
   "metadata": {
    "id": "OvM-Fvb3Yogs"
   },
   "outputs": [
    {
     "data": {
      "text/plain": [
       "array([0.525     , 0.4       , 0.50833333, 0.53333333])"
      ]
     },
     "execution_count": 419,
     "metadata": {},
     "output_type": "execute_result"
    }
   ],
   "source": [
    "scores"
   ]
  },
  {
   "cell_type": "code",
   "execution_count": 420,
   "metadata": {
    "id": "iUk0ifWiYogs"
   },
   "outputs": [
    {
     "data": {
      "text/plain": [
       "0.4916666666666667"
      ]
     },
     "execution_count": 420,
     "metadata": {},
     "output_type": "execute_result"
    }
   ],
   "source": [
    "mean_score"
   ]
  },
  {
   "cell_type": "code",
   "execution_count": 421,
   "metadata": {
    "id": "PHgkhMkOYogs"
   },
   "outputs": [
    {
     "name": "stdout",
     "output_type": "stream",
     "text": [
      "[15:47:48] WARNING: C:/Users/Administrator/workspace/xgboost-win64_release_1.3.0/src/learner.cc:1061: Starting in XGBoost 1.3.0, the default evaluation metric used with the objective 'binary:logistic' was changed from 'error' to 'logloss'. Explicitly set eval_metric if you'd like to restore the old behavior.\n",
      "[15:48:02] WARNING: C:/Users/Administrator/workspace/xgboost-win64_release_1.3.0/src/learner.cc:1061: Starting in XGBoost 1.3.0, the default evaluation metric used with the objective 'binary:logistic' was changed from 'error' to 'logloss'. Explicitly set eval_metric if you'd like to restore the old behavior.\n",
      "[15:48:14] WARNING: C:/Users/Administrator/workspace/xgboost-win64_release_1.3.0/src/learner.cc:1061: Starting in XGBoost 1.3.0, the default evaluation metric used with the objective 'binary:logistic' was changed from 'error' to 'logloss'. Explicitly set eval_metric if you'd like to restore the old behavior.\n",
      "[15:48:26] WARNING: C:/Users/Administrator/workspace/xgboost-win64_release_1.3.0/src/learner.cc:1061: Starting in XGBoost 1.3.0, the default evaluation metric used with the objective 'binary:logistic' was changed from 'error' to 'logloss'. Explicitly set eval_metric if you'd like to restore the old behavior.\n"
     ]
    }
   ],
   "source": [
    "# leave-one-task-out-shuffed test\n",
    "cv = KFold(n_splits=4,shuffle=True,random_state=42)\n",
    "\n",
    "scores = cross_val_score(estimator=hm_xgb_tos.stock_model,cv=cv,X=X,y=y)\n",
    "\n",
    "mean_score = np.mean(scores)\n"
   ]
  },
  {
   "cell_type": "code",
   "execution_count": 422,
   "metadata": {
    "id": "AHTtZ-8fYogs"
   },
   "outputs": [
    {
     "data": {
      "text/plain": [
       "array([0.28333333, 0.325     , 0.26666667, 0.26666667])"
      ]
     },
     "execution_count": 422,
     "metadata": {},
     "output_type": "execute_result"
    }
   ],
   "source": [
    "scores"
   ]
  },
  {
   "cell_type": "code",
   "execution_count": 423,
   "metadata": {
    "id": "Z9HpvbW3Yogs"
   },
   "outputs": [
    {
     "data": {
      "text/plain": [
       "0.28541666666666665"
      ]
     },
     "execution_count": 423,
     "metadata": {},
     "output_type": "execute_result"
    }
   ],
   "source": [
    "mean_score"
   ]
  },
  {
   "cell_type": "code",
   "execution_count": null,
   "metadata": {
    "id": "l5gaVnt6Yogs"
   },
   "outputs": [],
   "source": []
  },
  {
   "cell_type": "code",
   "execution_count": 424,
   "metadata": {
    "id": "a3zuz6rrYogs"
   },
   "outputs": [
    {
     "name": "stdout",
     "output_type": "stream",
     "text": [
      "[15:48:40] WARNING: C:/Users/Administrator/workspace/xgboost-win64_release_1.3.0/src/learner.cc:1061: Starting in XGBoost 1.3.0, the default evaluation metric used with the objective 'binary:logistic' was changed from 'error' to 'logloss'. Explicitly set eval_metric if you'd like to restore the old behavior.\n",
      "[15:48:56] WARNING: C:/Users/Administrator/workspace/xgboost-win64_release_1.3.0/src/learner.cc:1061: Starting in XGBoost 1.3.0, the default evaluation metric used with the objective 'binary:logistic' was changed from 'error' to 'logloss'. Explicitly set eval_metric if you'd like to restore the old behavior.\n",
      "[15:49:13] WARNING: C:/Users/Administrator/workspace/xgboost-win64_release_1.3.0/src/learner.cc:1061: Starting in XGBoost 1.3.0, the default evaluation metric used with the objective 'binary:logistic' was changed from 'error' to 'logloss'. Explicitly set eval_metric if you'd like to restore the old behavior.\n",
      "[15:49:29] WARNING: C:/Users/Administrator/workspace/xgboost-win64_release_1.3.0/src/learner.cc:1061: Starting in XGBoost 1.3.0, the default evaluation metric used with the objective 'binary:logistic' was changed from 'error' to 'logloss'. Explicitly set eval_metric if you'd like to restore the old behavior.\n",
      "[15:49:45] WARNING: C:/Users/Administrator/workspace/xgboost-win64_release_1.3.0/src/learner.cc:1061: Starting in XGBoost 1.3.0, the default evaluation metric used with the objective 'binary:logistic' was changed from 'error' to 'logloss'. Explicitly set eval_metric if you'd like to restore the old behavior.\n",
      "[15:50:01] WARNING: C:/Users/Administrator/workspace/xgboost-win64_release_1.3.0/src/learner.cc:1061: Starting in XGBoost 1.3.0, the default evaluation metric used with the objective 'binary:logistic' was changed from 'error' to 'logloss'. Explicitly set eval_metric if you'd like to restore the old behavior.\n",
      "[15:50:16] WARNING: C:/Users/Administrator/workspace/xgboost-win64_release_1.3.0/src/learner.cc:1061: Starting in XGBoost 1.3.0, the default evaluation metric used with the objective 'binary:logistic' was changed from 'error' to 'logloss'. Explicitly set eval_metric if you'd like to restore the old behavior.\n",
      "[15:50:32] WARNING: C:/Users/Administrator/workspace/xgboost-win64_release_1.3.0/src/learner.cc:1061: Starting in XGBoost 1.3.0, the default evaluation metric used with the objective 'binary:logistic' was changed from 'error' to 'logloss'. Explicitly set eval_metric if you'd like to restore the old behavior.\n"
     ]
    }
   ],
   "source": [
    "# leave-one-run-out test\n",
    "cv = KFold(n_splits=8,shuffle=False)\n",
    "\n",
    "scores = cross_val_score(estimator=hm_xgb_tos.stock_model,cv=cv,X=X,y=y)\n",
    "\n",
    "mean_score = np.mean(scores)\n"
   ]
  },
  {
   "cell_type": "code",
   "execution_count": 425,
   "metadata": {
    "id": "cW3BKU5wYogs"
   },
   "outputs": [
    {
     "data": {
      "text/plain": [
       "array([0.45      , 0.45      , 0.38333333, 0.51666667, 0.55      ,\n",
       "       0.6       , 0.48333333, 0.55      ])"
      ]
     },
     "execution_count": 425,
     "metadata": {},
     "output_type": "execute_result"
    }
   ],
   "source": [
    "scores"
   ]
  },
  {
   "cell_type": "code",
   "execution_count": 426,
   "metadata": {
    "id": "ancDGUAjYogs"
   },
   "outputs": [
    {
     "data": {
      "text/plain": [
       "0.49791666666666673"
      ]
     },
     "execution_count": 426,
     "metadata": {},
     "output_type": "execute_result"
    }
   ],
   "source": [
    "mean_score"
   ]
  },
  {
   "cell_type": "code",
   "execution_count": 427,
   "metadata": {
    "id": "LFXL4CazYogs"
   },
   "outputs": [
    {
     "name": "stdout",
     "output_type": "stream",
     "text": [
      "[15:50:50] WARNING: C:/Users/Administrator/workspace/xgboost-win64_release_1.3.0/src/learner.cc:1061: Starting in XGBoost 1.3.0, the default evaluation metric used with the objective 'binary:logistic' was changed from 'error' to 'logloss'. Explicitly set eval_metric if you'd like to restore the old behavior.\n",
      "[15:51:06] WARNING: C:/Users/Administrator/workspace/xgboost-win64_release_1.3.0/src/learner.cc:1061: Starting in XGBoost 1.3.0, the default evaluation metric used with the objective 'binary:logistic' was changed from 'error' to 'logloss'. Explicitly set eval_metric if you'd like to restore the old behavior.\n",
      "[15:51:22] WARNING: C:/Users/Administrator/workspace/xgboost-win64_release_1.3.0/src/learner.cc:1061: Starting in XGBoost 1.3.0, the default evaluation metric used with the objective 'binary:logistic' was changed from 'error' to 'logloss'. Explicitly set eval_metric if you'd like to restore the old behavior.\n",
      "[15:51:38] WARNING: C:/Users/Administrator/workspace/xgboost-win64_release_1.3.0/src/learner.cc:1061: Starting in XGBoost 1.3.0, the default evaluation metric used with the objective 'binary:logistic' was changed from 'error' to 'logloss'. Explicitly set eval_metric if you'd like to restore the old behavior.\n",
      "[15:51:54] WARNING: C:/Users/Administrator/workspace/xgboost-win64_release_1.3.0/src/learner.cc:1061: Starting in XGBoost 1.3.0, the default evaluation metric used with the objective 'binary:logistic' was changed from 'error' to 'logloss'. Explicitly set eval_metric if you'd like to restore the old behavior.\n",
      "[15:52:09] WARNING: C:/Users/Administrator/workspace/xgboost-win64_release_1.3.0/src/learner.cc:1061: Starting in XGBoost 1.3.0, the default evaluation metric used with the objective 'binary:logistic' was changed from 'error' to 'logloss'. Explicitly set eval_metric if you'd like to restore the old behavior.\n",
      "[15:52:24] WARNING: C:/Users/Administrator/workspace/xgboost-win64_release_1.3.0/src/learner.cc:1061: Starting in XGBoost 1.3.0, the default evaluation metric used with the objective 'binary:logistic' was changed from 'error' to 'logloss'. Explicitly set eval_metric if you'd like to restore the old behavior.\n",
      "[15:52:40] WARNING: C:/Users/Administrator/workspace/xgboost-win64_release_1.3.0/src/learner.cc:1061: Starting in XGBoost 1.3.0, the default evaluation metric used with the objective 'binary:logistic' was changed from 'error' to 'logloss'. Explicitly set eval_metric if you'd like to restore the old behavior.\n"
     ]
    }
   ],
   "source": [
    "# leave-one-run-out-shuffed test\n",
    "cv = KFold(n_splits=8,shuffle=True,random_state=42)\n",
    "\n",
    "\n",
    "\n",
    "scores = cross_val_score(estimator=hm_xgb_tos.stock_model,cv=cv,X=X,y=y)\n",
    "\n",
    "mean_score = np.mean(scores)\n"
   ]
  },
  {
   "cell_type": "code",
   "execution_count": 428,
   "metadata": {
    "id": "E4x6WM0SYogs"
   },
   "outputs": [
    {
     "data": {
      "text/plain": [
       "array([0.23333333, 0.18333333, 0.28333333, 0.15      , 0.3       ,\n",
       "       0.23333333, 0.41666667, 0.16666667])"
      ]
     },
     "execution_count": 428,
     "metadata": {},
     "output_type": "execute_result"
    }
   ],
   "source": [
    "scores"
   ]
  },
  {
   "cell_type": "code",
   "execution_count": 429,
   "metadata": {
    "id": "8guPYbmSYogs"
   },
   "outputs": [
    {
     "data": {
      "text/plain": [
       "0.24583333333333335"
      ]
     },
     "execution_count": 429,
     "metadata": {},
     "output_type": "execute_result"
    }
   ],
   "source": [
    "mean_score"
   ]
  },
  {
   "cell_type": "code",
   "execution_count": 430,
   "metadata": {
    "id": "tg598195Yogs"
   },
   "outputs": [],
   "source": [
    "# other metrics + graphs\n",
    "\n",
    "\n"
   ]
  },
  {
   "cell_type": "markdown",
   "metadata": {
    "id": "AGYcf92VQYwq"
   },
   "source": [
    "#### *leave-one-run-out* cross validation"
   ]
  },
  {
   "cell_type": "markdown",
   "metadata": {
    "id": "Dk6vZ3MYYqf_"
   },
   "source": [
    "##### Training"
   ]
  },
  {
   "cell_type": "code",
   "execution_count": 431,
   "metadata": {
    "id": "RyTE9hZoQYwq"
   },
   "outputs": [],
   "source": [
    "hm_xgb_ro = hyper_model(model_name='xg_boost',\n",
    "                            validation_approach = 'leave-one-run-out',\n",
    "                            X=X,\n",
    "                            y=y)"
   ]
  },
  {
   "cell_type": "code",
   "execution_count": 432,
   "metadata": {
    "id": "Gak6l1CXQYwq"
   },
   "outputs": [
    {
     "name": "stdout",
     "output_type": "stream",
     "text": [
      "[15:52:56] WARNING: C:/Users/Administrator/workspace/xgboost-win64_release_1.3.0/src/learner.cc:1061: Starting in XGBoost 1.3.0, the default evaluation metric used with the objective 'binary:logistic' was changed from 'error' to 'logloss'. Explicitly set eval_metric if you'd like to restore the old behavior.\n",
      "[15:53:11] WARNING: C:/Users/Administrator/workspace/xgboost-win64_release_1.3.0/src/learner.cc:1061: Starting in XGBoost 1.3.0, the default evaluation metric used with the objective 'binary:logistic' was changed from 'error' to 'logloss'. Explicitly set eval_metric if you'd like to restore the old behavior.\n",
      "[15:53:27] WARNING: C:/Users/Administrator/workspace/xgboost-win64_release_1.3.0/src/learner.cc:1061: Starting in XGBoost 1.3.0, the default evaluation metric used with the objective 'binary:logistic' was changed from 'error' to 'logloss'. Explicitly set eval_metric if you'd like to restore the old behavior.\n",
      "[15:53:42] WARNING: C:/Users/Administrator/workspace/xgboost-win64_release_1.3.0/src/learner.cc:1061: Starting in XGBoost 1.3.0, the default evaluation metric used with the objective 'binary:logistic' was changed from 'error' to 'logloss'. Explicitly set eval_metric if you'd like to restore the old behavior.\n",
      "[15:53:57] WARNING: C:/Users/Administrator/workspace/xgboost-win64_release_1.3.0/src/learner.cc:1061: Starting in XGBoost 1.3.0, the default evaluation metric used with the objective 'binary:logistic' was changed from 'error' to 'logloss'. Explicitly set eval_metric if you'd like to restore the old behavior.\n",
      "[15:54:12] WARNING: C:/Users/Administrator/workspace/xgboost-win64_release_1.3.0/src/learner.cc:1061: Starting in XGBoost 1.3.0, the default evaluation metric used with the objective 'binary:logistic' was changed from 'error' to 'logloss'. Explicitly set eval_metric if you'd like to restore the old behavior.\n",
      "[15:54:29] WARNING: C:/Users/Administrator/workspace/xgboost-win64_release_1.3.0/src/learner.cc:1061: Starting in XGBoost 1.3.0, the default evaluation metric used with the objective 'binary:logistic' was changed from 'error' to 'logloss'. Explicitly set eval_metric if you'd like to restore the old behavior.\n",
      "[15:54:44] WARNING: C:/Users/Administrator/workspace/xgboost-win64_release_1.3.0/src/learner.cc:1061: Starting in XGBoost 1.3.0, the default evaluation metric used with the objective 'binary:logistic' was changed from 'error' to 'logloss'. Explicitly set eval_metric if you'd like to restore the old behavior.\n",
      "Initial Model with Stock Params Score : 0.49791666666666673\n",
      "Fitting 8 folds for each of 2 candidates, totalling 16 fits\n"
     ]
    },
    {
     "name": "stderr",
     "output_type": "stream",
     "text": [
      "[Parallel(n_jobs=1)]: Using backend SequentialBackend with 1 concurrent workers.\n"
     ]
    },
    {
     "name": "stdout",
     "output_type": "stream",
     "text": [
      "[15:55:01] WARNING: C:/Users/Administrator/workspace/xgboost-win64_release_1.3.0/src/learner.cc:1061: Starting in XGBoost 1.3.0, the default evaluation metric used with the objective 'binary:logistic' was changed from 'error' to 'logloss'. Explicitly set eval_metric if you'd like to restore the old behavior.\n",
      "[15:55:21] WARNING: C:/Users/Administrator/workspace/xgboost-win64_release_1.3.0/src/learner.cc:1061: Starting in XGBoost 1.3.0, the default evaluation metric used with the objective 'binary:logistic' was changed from 'error' to 'logloss'. Explicitly set eval_metric if you'd like to restore the old behavior.\n",
      "[15:55:41] WARNING: C:/Users/Administrator/workspace/xgboost-win64_release_1.3.0/src/learner.cc:1061: Starting in XGBoost 1.3.0, the default evaluation metric used with the objective 'binary:logistic' was changed from 'error' to 'logloss'. Explicitly set eval_metric if you'd like to restore the old behavior.\n",
      "[15:56:00] WARNING: C:/Users/Administrator/workspace/xgboost-win64_release_1.3.0/src/learner.cc:1061: Starting in XGBoost 1.3.0, the default evaluation metric used with the objective 'binary:logistic' was changed from 'error' to 'logloss'. Explicitly set eval_metric if you'd like to restore the old behavior.\n",
      "[15:56:17] WARNING: C:/Users/Administrator/workspace/xgboost-win64_release_1.3.0/src/learner.cc:1061: Starting in XGBoost 1.3.0, the default evaluation metric used with the objective 'binary:logistic' was changed from 'error' to 'logloss'. Explicitly set eval_metric if you'd like to restore the old behavior.\n",
      "[15:56:36] WARNING: C:/Users/Administrator/workspace/xgboost-win64_release_1.3.0/src/learner.cc:1061: Starting in XGBoost 1.3.0, the default evaluation metric used with the objective 'binary:logistic' was changed from 'error' to 'logloss'. Explicitly set eval_metric if you'd like to restore the old behavior.\n",
      "[15:56:53] WARNING: C:/Users/Administrator/workspace/xgboost-win64_release_1.3.0/src/learner.cc:1061: Starting in XGBoost 1.3.0, the default evaluation metric used with the objective 'binary:logistic' was changed from 'error' to 'logloss'. Explicitly set eval_metric if you'd like to restore the old behavior.\n",
      "[15:57:11] WARNING: C:/Users/Administrator/workspace/xgboost-win64_release_1.3.0/src/learner.cc:1061: Starting in XGBoost 1.3.0, the default evaluation metric used with the objective 'binary:logistic' was changed from 'error' to 'logloss'. Explicitly set eval_metric if you'd like to restore the old behavior.\n",
      "[15:57:28] WARNING: C:/Users/Administrator/workspace/xgboost-win64_release_1.3.0/src/learner.cc:1061: Starting in XGBoost 1.3.0, the default evaluation metric used with the objective 'binary:logistic' was changed from 'error' to 'logloss'. Explicitly set eval_metric if you'd like to restore the old behavior.\n",
      "[15:57:48] WARNING: C:/Users/Administrator/workspace/xgboost-win64_release_1.3.0/src/learner.cc:1061: Starting in XGBoost 1.3.0, the default evaluation metric used with the objective 'binary:logistic' was changed from 'error' to 'logloss'. Explicitly set eval_metric if you'd like to restore the old behavior.\n",
      "[15:58:09] WARNING: C:/Users/Administrator/workspace/xgboost-win64_release_1.3.0/src/learner.cc:1061: Starting in XGBoost 1.3.0, the default evaluation metric used with the objective 'binary:logistic' was changed from 'error' to 'logloss'. Explicitly set eval_metric if you'd like to restore the old behavior.\n",
      "[15:58:32] WARNING: C:/Users/Administrator/workspace/xgboost-win64_release_1.3.0/src/learner.cc:1061: Starting in XGBoost 1.3.0, the default evaluation metric used with the objective 'binary:logistic' was changed from 'error' to 'logloss'. Explicitly set eval_metric if you'd like to restore the old behavior.\n",
      "[15:58:52] WARNING: C:/Users/Administrator/workspace/xgboost-win64_release_1.3.0/src/learner.cc:1061: Starting in XGBoost 1.3.0, the default evaluation metric used with the objective 'binary:logistic' was changed from 'error' to 'logloss'. Explicitly set eval_metric if you'd like to restore the old behavior.\n",
      "[15:59:12] WARNING: C:/Users/Administrator/workspace/xgboost-win64_release_1.3.0/src/learner.cc:1061: Starting in XGBoost 1.3.0, the default evaluation metric used with the objective 'binary:logistic' was changed from 'error' to 'logloss'. Explicitly set eval_metric if you'd like to restore the old behavior.\n",
      "[15:59:32] WARNING: C:/Users/Administrator/workspace/xgboost-win64_release_1.3.0/src/learner.cc:1061: Starting in XGBoost 1.3.0, the default evaluation metric used with the objective 'binary:logistic' was changed from 'error' to 'logloss'. Explicitly set eval_metric if you'd like to restore the old behavior.\n",
      "[15:59:52] WARNING: C:/Users/Administrator/workspace/xgboost-win64_release_1.3.0/src/learner.cc:1061: Starting in XGBoost 1.3.0, the default evaluation metric used with the objective 'binary:logistic' was changed from 'error' to 'logloss'. Explicitly set eval_metric if you'd like to restore the old behavior.\n"
     ]
    },
    {
     "name": "stderr",
     "output_type": "stream",
     "text": [
      "[Parallel(n_jobs=1)]: Done  16 out of  16 | elapsed:  5.2min finished\n"
     ]
    },
    {
     "name": "stdout",
     "output_type": "stream",
     "text": [
      "[16:00:13] WARNING: C:/Users/Administrator/workspace/xgboost-win64_release_1.3.0/src/learner.cc:1061: Starting in XGBoost 1.3.0, the default evaluation metric used with the objective 'binary:logistic' was changed from 'error' to 'logloss'. Explicitly set eval_metric if you'd like to restore the old behavior.\n",
      "Random HP Search Best Model Score : 0.5104166666666667\n",
      "Improvement of 2.510460251046027% relative to the initial model\n"
     ]
    }
   ],
   "source": [
    "hm_xgb_ro.fit()"
   ]
  },
  {
   "cell_type": "code",
   "execution_count": 433,
   "metadata": {
    "id": "0rxn8OrlQYwq"
   },
   "outputs": [
    {
     "data": {
      "text/html": [
       "<div>\n",
       "<style scoped>\n",
       "    .dataframe tbody tr th:only-of-type {\n",
       "        vertical-align: middle;\n",
       "    }\n",
       "\n",
       "    .dataframe tbody tr th {\n",
       "        vertical-align: top;\n",
       "    }\n",
       "\n",
       "    .dataframe thead th {\n",
       "        text-align: right;\n",
       "    }\n",
       "</style>\n",
       "<table border=\"1\" class=\"dataframe\">\n",
       "  <thead>\n",
       "    <tr style=\"text-align: right;\">\n",
       "      <th></th>\n",
       "      <th>Model Iteration</th>\n",
       "      <th>Score</th>\n",
       "    </tr>\n",
       "  </thead>\n",
       "  <tbody>\n",
       "  </tbody>\n",
       "</table>\n",
       "</div>"
      ],
      "text/plain": [
       "Empty DataFrame\n",
       "Columns: [Model Iteration, Score]\n",
       "Index: []"
      ]
     },
     "execution_count": 433,
     "metadata": {},
     "output_type": "execute_result"
    }
   ],
   "source": [
    "hm_xgb_ro.all_models_perf"
   ]
  },
  {
   "cell_type": "code",
   "execution_count": null,
   "metadata": {
    "id": "2BQXvF4KQYwq"
   },
   "outputs": [],
   "source": []
  },
  {
   "cell_type": "markdown",
   "metadata": {
    "id": "Io2FlXTHYt3K"
   },
   "source": [
    "##### Test"
   ]
  },
  {
   "cell_type": "code",
   "execution_count": 434,
   "metadata": {
    "id": "bI2jZQ7FYt3K"
   },
   "outputs": [
    {
     "name": "stdout",
     "output_type": "stream",
     "text": [
      "[16:00:33] WARNING: C:/Users/Administrator/workspace/xgboost-win64_release_1.3.0/src/learner.cc:1061: Starting in XGBoost 1.3.0, the default evaluation metric used with the objective 'binary:logistic' was changed from 'error' to 'logloss'. Explicitly set eval_metric if you'd like to restore the old behavior.\n",
      "[16:00:46] WARNING: C:/Users/Administrator/workspace/xgboost-win64_release_1.3.0/src/learner.cc:1061: Starting in XGBoost 1.3.0, the default evaluation metric used with the objective 'binary:logistic' was changed from 'error' to 'logloss'. Explicitly set eval_metric if you'd like to restore the old behavior.\n",
      "[16:00:58] WARNING: C:/Users/Administrator/workspace/xgboost-win64_release_1.3.0/src/learner.cc:1061: Starting in XGBoost 1.3.0, the default evaluation metric used with the objective 'binary:logistic' was changed from 'error' to 'logloss'. Explicitly set eval_metric if you'd like to restore the old behavior.\n",
      "[16:01:10] WARNING: C:/Users/Administrator/workspace/xgboost-win64_release_1.3.0/src/learner.cc:1061: Starting in XGBoost 1.3.0, the default evaluation metric used with the objective 'binary:logistic' was changed from 'error' to 'logloss'. Explicitly set eval_metric if you'd like to restore the old behavior.\n"
     ]
    }
   ],
   "source": [
    "# leave-one-task-out test\n",
    "cv = KFold(n_splits=4,shuffle=False)\n",
    "\n",
    "scores = cross_val_score(estimator=hm_xgb_ro.stock_model,cv=cv,X=X,y=y)\n",
    "\n",
    "mean_score = np.mean(scores)\n",
    "\n"
   ]
  },
  {
   "cell_type": "code",
   "execution_count": 435,
   "metadata": {
    "id": "he-l5p-SYt3K"
   },
   "outputs": [
    {
     "data": {
      "text/plain": [
       "array([0.525     , 0.4       , 0.50833333, 0.53333333])"
      ]
     },
     "execution_count": 435,
     "metadata": {},
     "output_type": "execute_result"
    }
   ],
   "source": [
    "scores"
   ]
  },
  {
   "cell_type": "code",
   "execution_count": 436,
   "metadata": {
    "id": "uy8sRZwLYt3K"
   },
   "outputs": [
    {
     "data": {
      "text/plain": [
       "0.4916666666666667"
      ]
     },
     "execution_count": 436,
     "metadata": {},
     "output_type": "execute_result"
    }
   ],
   "source": [
    "mean_score"
   ]
  },
  {
   "cell_type": "code",
   "execution_count": 437,
   "metadata": {
    "id": "A8qBvhgVYt3K"
   },
   "outputs": [
    {
     "name": "stdout",
     "output_type": "stream",
     "text": [
      "[16:01:23] WARNING: C:/Users/Administrator/workspace/xgboost-win64_release_1.3.0/src/learner.cc:1061: Starting in XGBoost 1.3.0, the default evaluation metric used with the objective 'binary:logistic' was changed from 'error' to 'logloss'. Explicitly set eval_metric if you'd like to restore the old behavior.\n",
      "[16:01:35] WARNING: C:/Users/Administrator/workspace/xgboost-win64_release_1.3.0/src/learner.cc:1061: Starting in XGBoost 1.3.0, the default evaluation metric used with the objective 'binary:logistic' was changed from 'error' to 'logloss'. Explicitly set eval_metric if you'd like to restore the old behavior.\n",
      "[16:01:48] WARNING: C:/Users/Administrator/workspace/xgboost-win64_release_1.3.0/src/learner.cc:1061: Starting in XGBoost 1.3.0, the default evaluation metric used with the objective 'binary:logistic' was changed from 'error' to 'logloss'. Explicitly set eval_metric if you'd like to restore the old behavior.\n",
      "[16:02:01] WARNING: C:/Users/Administrator/workspace/xgboost-win64_release_1.3.0/src/learner.cc:1061: Starting in XGBoost 1.3.0, the default evaluation metric used with the objective 'binary:logistic' was changed from 'error' to 'logloss'. Explicitly set eval_metric if you'd like to restore the old behavior.\n"
     ]
    }
   ],
   "source": [
    "# leave-one-task-out-shuffed test\n",
    "cv = KFold(n_splits=4,shuffle=True,random_state=42)\n",
    "\n",
    "scores = cross_val_score(estimator=hm_xgb_ro.stock_model,cv=cv,X=X,y=y)\n",
    "\n",
    "mean_score = np.mean(scores)\n"
   ]
  },
  {
   "cell_type": "code",
   "execution_count": 438,
   "metadata": {
    "id": "-dgZAbImYt3K"
   },
   "outputs": [
    {
     "data": {
      "text/plain": [
       "array([0.28333333, 0.325     , 0.26666667, 0.26666667])"
      ]
     },
     "execution_count": 438,
     "metadata": {},
     "output_type": "execute_result"
    }
   ],
   "source": [
    "scores"
   ]
  },
  {
   "cell_type": "code",
   "execution_count": 439,
   "metadata": {
    "id": "m3bDkAUgYt3K"
   },
   "outputs": [
    {
     "data": {
      "text/plain": [
       "0.28541666666666665"
      ]
     },
     "execution_count": 439,
     "metadata": {},
     "output_type": "execute_result"
    }
   ],
   "source": [
    "mean_score"
   ]
  },
  {
   "cell_type": "code",
   "execution_count": null,
   "metadata": {
    "id": "dfF2wiF7Yt3K"
   },
   "outputs": [],
   "source": []
  },
  {
   "cell_type": "code",
   "execution_count": 440,
   "metadata": {
    "id": "nLTq2VfkYt3K"
   },
   "outputs": [
    {
     "name": "stdout",
     "output_type": "stream",
     "text": [
      "[16:02:14] WARNING: C:/Users/Administrator/workspace/xgboost-win64_release_1.3.0/src/learner.cc:1061: Starting in XGBoost 1.3.0, the default evaluation metric used with the objective 'binary:logistic' was changed from 'error' to 'logloss'. Explicitly set eval_metric if you'd like to restore the old behavior.\n",
      "[16:02:29] WARNING: C:/Users/Administrator/workspace/xgboost-win64_release_1.3.0/src/learner.cc:1061: Starting in XGBoost 1.3.0, the default evaluation metric used with the objective 'binary:logistic' was changed from 'error' to 'logloss'. Explicitly set eval_metric if you'd like to restore the old behavior.\n",
      "[16:02:44] WARNING: C:/Users/Administrator/workspace/xgboost-win64_release_1.3.0/src/learner.cc:1061: Starting in XGBoost 1.3.0, the default evaluation metric used with the objective 'binary:logistic' was changed from 'error' to 'logloss'. Explicitly set eval_metric if you'd like to restore the old behavior.\n",
      "[16:02:59] WARNING: C:/Users/Administrator/workspace/xgboost-win64_release_1.3.0/src/learner.cc:1061: Starting in XGBoost 1.3.0, the default evaluation metric used with the objective 'binary:logistic' was changed from 'error' to 'logloss'. Explicitly set eval_metric if you'd like to restore the old behavior.\n",
      "[16:03:14] WARNING: C:/Users/Administrator/workspace/xgboost-win64_release_1.3.0/src/learner.cc:1061: Starting in XGBoost 1.3.0, the default evaluation metric used with the objective 'binary:logistic' was changed from 'error' to 'logloss'. Explicitly set eval_metric if you'd like to restore the old behavior.\n",
      "[16:03:30] WARNING: C:/Users/Administrator/workspace/xgboost-win64_release_1.3.0/src/learner.cc:1061: Starting in XGBoost 1.3.0, the default evaluation metric used with the objective 'binary:logistic' was changed from 'error' to 'logloss'. Explicitly set eval_metric if you'd like to restore the old behavior.\n",
      "[16:03:45] WARNING: C:/Users/Administrator/workspace/xgboost-win64_release_1.3.0/src/learner.cc:1061: Starting in XGBoost 1.3.0, the default evaluation metric used with the objective 'binary:logistic' was changed from 'error' to 'logloss'. Explicitly set eval_metric if you'd like to restore the old behavior.\n",
      "[16:04:00] WARNING: C:/Users/Administrator/workspace/xgboost-win64_release_1.3.0/src/learner.cc:1061: Starting in XGBoost 1.3.0, the default evaluation metric used with the objective 'binary:logistic' was changed from 'error' to 'logloss'. Explicitly set eval_metric if you'd like to restore the old behavior.\n"
     ]
    }
   ],
   "source": [
    "# leave-one-run-out test\n",
    "cv = KFold(n_splits=8,shuffle=False)\n",
    "\n",
    "scores = cross_val_score(estimator=hm_xgb_ro.stock_model,cv=cv,X=X,y=y)\n",
    "\n",
    "mean_score = np.mean(scores)\n"
   ]
  },
  {
   "cell_type": "code",
   "execution_count": 441,
   "metadata": {
    "id": "rC72bI8rYt3K"
   },
   "outputs": [
    {
     "data": {
      "text/plain": [
       "array([0.45      , 0.45      , 0.38333333, 0.51666667, 0.55      ,\n",
       "       0.6       , 0.48333333, 0.55      ])"
      ]
     },
     "execution_count": 441,
     "metadata": {},
     "output_type": "execute_result"
    }
   ],
   "source": [
    "scores"
   ]
  },
  {
   "cell_type": "code",
   "execution_count": 442,
   "metadata": {
    "id": "otMnNNBJYt3K"
   },
   "outputs": [
    {
     "data": {
      "text/plain": [
       "0.49791666666666673"
      ]
     },
     "execution_count": 442,
     "metadata": {},
     "output_type": "execute_result"
    }
   ],
   "source": [
    "mean_score"
   ]
  },
  {
   "cell_type": "code",
   "execution_count": 443,
   "metadata": {
    "id": "iz34DmjlYt3K"
   },
   "outputs": [
    {
     "name": "stdout",
     "output_type": "stream",
     "text": [
      "[16:04:16] WARNING: C:/Users/Administrator/workspace/xgboost-win64_release_1.3.0/src/learner.cc:1061: Starting in XGBoost 1.3.0, the default evaluation metric used with the objective 'binary:logistic' was changed from 'error' to 'logloss'. Explicitly set eval_metric if you'd like to restore the old behavior.\n",
      "[16:04:30] WARNING: C:/Users/Administrator/workspace/xgboost-win64_release_1.3.0/src/learner.cc:1061: Starting in XGBoost 1.3.0, the default evaluation metric used with the objective 'binary:logistic' was changed from 'error' to 'logloss'. Explicitly set eval_metric if you'd like to restore the old behavior.\n",
      "[16:04:46] WARNING: C:/Users/Administrator/workspace/xgboost-win64_release_1.3.0/src/learner.cc:1061: Starting in XGBoost 1.3.0, the default evaluation metric used with the objective 'binary:logistic' was changed from 'error' to 'logloss'. Explicitly set eval_metric if you'd like to restore the old behavior.\n",
      "[16:05:00] WARNING: C:/Users/Administrator/workspace/xgboost-win64_release_1.3.0/src/learner.cc:1061: Starting in XGBoost 1.3.0, the default evaluation metric used with the objective 'binary:logistic' was changed from 'error' to 'logloss'. Explicitly set eval_metric if you'd like to restore the old behavior.\n",
      "[16:05:14] WARNING: C:/Users/Administrator/workspace/xgboost-win64_release_1.3.0/src/learner.cc:1061: Starting in XGBoost 1.3.0, the default evaluation metric used with the objective 'binary:logistic' was changed from 'error' to 'logloss'. Explicitly set eval_metric if you'd like to restore the old behavior.\n",
      "[16:05:29] WARNING: C:/Users/Administrator/workspace/xgboost-win64_release_1.3.0/src/learner.cc:1061: Starting in XGBoost 1.3.0, the default evaluation metric used with the objective 'binary:logistic' was changed from 'error' to 'logloss'. Explicitly set eval_metric if you'd like to restore the old behavior.\n",
      "[16:05:43] WARNING: C:/Users/Administrator/workspace/xgboost-win64_release_1.3.0/src/learner.cc:1061: Starting in XGBoost 1.3.0, the default evaluation metric used with the objective 'binary:logistic' was changed from 'error' to 'logloss'. Explicitly set eval_metric if you'd like to restore the old behavior.\n",
      "[16:05:57] WARNING: C:/Users/Administrator/workspace/xgboost-win64_release_1.3.0/src/learner.cc:1061: Starting in XGBoost 1.3.0, the default evaluation metric used with the objective 'binary:logistic' was changed from 'error' to 'logloss'. Explicitly set eval_metric if you'd like to restore the old behavior.\n"
     ]
    }
   ],
   "source": [
    "# leave-one-run-out-shuffed test\n",
    "cv = KFold(n_splits=8,shuffle=True,random_state=42)\n",
    "\n",
    "\n",
    "\n",
    "scores = cross_val_score(estimator=hm_xgb_ro.stock_model,cv=cv,X=X,y=y)\n",
    "\n",
    "mean_score = np.mean(scores)\n"
   ]
  },
  {
   "cell_type": "code",
   "execution_count": 444,
   "metadata": {
    "id": "GWhpQqdCYt3K"
   },
   "outputs": [
    {
     "data": {
      "text/plain": [
       "array([0.23333333, 0.18333333, 0.28333333, 0.15      , 0.3       ,\n",
       "       0.23333333, 0.41666667, 0.16666667])"
      ]
     },
     "execution_count": 444,
     "metadata": {},
     "output_type": "execute_result"
    }
   ],
   "source": [
    "scores"
   ]
  },
  {
   "cell_type": "code",
   "execution_count": 445,
   "metadata": {
    "id": "eljr226pYt3K"
   },
   "outputs": [
    {
     "data": {
      "text/plain": [
       "0.24583333333333335"
      ]
     },
     "execution_count": 445,
     "metadata": {},
     "output_type": "execute_result"
    }
   ],
   "source": [
    "mean_score"
   ]
  },
  {
   "cell_type": "code",
   "execution_count": 446,
   "metadata": {
    "id": "BrLIGAzbYt3K"
   },
   "outputs": [],
   "source": [
    "# other metrics + graphs\n",
    "\n",
    "\n"
   ]
  },
  {
   "cell_type": "markdown",
   "metadata": {
    "id": "1O6rD9RLQYwq"
   },
   "source": [
    "#### *leave-one-run-out-shuffled* cross validation"
   ]
  },
  {
   "cell_type": "markdown",
   "metadata": {
    "id": "RIQdan6pYvOX"
   },
   "source": [
    "##### Training"
   ]
  },
  {
   "cell_type": "code",
   "execution_count": 447,
   "metadata": {
    "id": "h5xA-bMkQYwq"
   },
   "outputs": [],
   "source": [
    "hm_xgb_ros = hyper_model(model_name='xg_boost',\n",
    "                            validation_approach = 'leave-one-run-out-shuffled',\n",
    "                            X=X,\n",
    "                            y=y)"
   ]
  },
  {
   "cell_type": "code",
   "execution_count": 448,
   "metadata": {
    "id": "HOQsRZ_8QYwq"
   },
   "outputs": [
    {
     "name": "stdout",
     "output_type": "stream",
     "text": [
      "[16:06:12] WARNING: C:/Users/Administrator/workspace/xgboost-win64_release_1.3.0/src/learner.cc:1061: Starting in XGBoost 1.3.0, the default evaluation metric used with the objective 'binary:logistic' was changed from 'error' to 'logloss'. Explicitly set eval_metric if you'd like to restore the old behavior.\n",
      "[16:06:26] WARNING: C:/Users/Administrator/workspace/xgboost-win64_release_1.3.0/src/learner.cc:1061: Starting in XGBoost 1.3.0, the default evaluation metric used with the objective 'binary:logistic' was changed from 'error' to 'logloss'. Explicitly set eval_metric if you'd like to restore the old behavior.\n",
      "[16:06:40] WARNING: C:/Users/Administrator/workspace/xgboost-win64_release_1.3.0/src/learner.cc:1061: Starting in XGBoost 1.3.0, the default evaluation metric used with the objective 'binary:logistic' was changed from 'error' to 'logloss'. Explicitly set eval_metric if you'd like to restore the old behavior.\n",
      "[16:06:55] WARNING: C:/Users/Administrator/workspace/xgboost-win64_release_1.3.0/src/learner.cc:1061: Starting in XGBoost 1.3.0, the default evaluation metric used with the objective 'binary:logistic' was changed from 'error' to 'logloss'. Explicitly set eval_metric if you'd like to restore the old behavior.\n",
      "[16:07:10] WARNING: C:/Users/Administrator/workspace/xgboost-win64_release_1.3.0/src/learner.cc:1061: Starting in XGBoost 1.3.0, the default evaluation metric used with the objective 'binary:logistic' was changed from 'error' to 'logloss'. Explicitly set eval_metric if you'd like to restore the old behavior.\n",
      "[16:07:25] WARNING: C:/Users/Administrator/workspace/xgboost-win64_release_1.3.0/src/learner.cc:1061: Starting in XGBoost 1.3.0, the default evaluation metric used with the objective 'binary:logistic' was changed from 'error' to 'logloss'. Explicitly set eval_metric if you'd like to restore the old behavior.\n",
      "[16:07:39] WARNING: C:/Users/Administrator/workspace/xgboost-win64_release_1.3.0/src/learner.cc:1061: Starting in XGBoost 1.3.0, the default evaluation metric used with the objective 'binary:logistic' was changed from 'error' to 'logloss'. Explicitly set eval_metric if you'd like to restore the old behavior.\n",
      "[16:07:54] WARNING: C:/Users/Administrator/workspace/xgboost-win64_release_1.3.0/src/learner.cc:1061: Starting in XGBoost 1.3.0, the default evaluation metric used with the objective 'binary:logistic' was changed from 'error' to 'logloss'. Explicitly set eval_metric if you'd like to restore the old behavior.\n",
      "Initial Model with Stock Params Score : 0.24583333333333335\n",
      "Fitting 8 folds for each of 2 candidates, totalling 16 fits\n"
     ]
    },
    {
     "name": "stderr",
     "output_type": "stream",
     "text": [
      "[Parallel(n_jobs=1)]: Using backend SequentialBackend with 1 concurrent workers.\n"
     ]
    },
    {
     "name": "stdout",
     "output_type": "stream",
     "text": [
      "[16:08:10] WARNING: C:/Users/Administrator/workspace/xgboost-win64_release_1.3.0/src/learner.cc:1061: Starting in XGBoost 1.3.0, the default evaluation metric used with the objective 'binary:logistic' was changed from 'error' to 'logloss'. Explicitly set eval_metric if you'd like to restore the old behavior.\n",
      "[16:08:27] WARNING: C:/Users/Administrator/workspace/xgboost-win64_release_1.3.0/src/learner.cc:1061: Starting in XGBoost 1.3.0, the default evaluation metric used with the objective 'binary:logistic' was changed from 'error' to 'logloss'. Explicitly set eval_metric if you'd like to restore the old behavior.\n",
      "[16:08:46] WARNING: C:/Users/Administrator/workspace/xgboost-win64_release_1.3.0/src/learner.cc:1061: Starting in XGBoost 1.3.0, the default evaluation metric used with the objective 'binary:logistic' was changed from 'error' to 'logloss'. Explicitly set eval_metric if you'd like to restore the old behavior.\n",
      "[16:09:03] WARNING: C:/Users/Administrator/workspace/xgboost-win64_release_1.3.0/src/learner.cc:1061: Starting in XGBoost 1.3.0, the default evaluation metric used with the objective 'binary:logistic' was changed from 'error' to 'logloss'. Explicitly set eval_metric if you'd like to restore the old behavior.\n",
      "[16:09:22] WARNING: C:/Users/Administrator/workspace/xgboost-win64_release_1.3.0/src/learner.cc:1061: Starting in XGBoost 1.3.0, the default evaluation metric used with the objective 'binary:logistic' was changed from 'error' to 'logloss'. Explicitly set eval_metric if you'd like to restore the old behavior.\n",
      "[16:09:41] WARNING: C:/Users/Administrator/workspace/xgboost-win64_release_1.3.0/src/learner.cc:1061: Starting in XGBoost 1.3.0, the default evaluation metric used with the objective 'binary:logistic' was changed from 'error' to 'logloss'. Explicitly set eval_metric if you'd like to restore the old behavior.\n",
      "[16:10:00] WARNING: C:/Users/Administrator/workspace/xgboost-win64_release_1.3.0/src/learner.cc:1061: Starting in XGBoost 1.3.0, the default evaluation metric used with the objective 'binary:logistic' was changed from 'error' to 'logloss'. Explicitly set eval_metric if you'd like to restore the old behavior.\n",
      "[16:10:18] WARNING: C:/Users/Administrator/workspace/xgboost-win64_release_1.3.0/src/learner.cc:1061: Starting in XGBoost 1.3.0, the default evaluation metric used with the objective 'binary:logistic' was changed from 'error' to 'logloss'. Explicitly set eval_metric if you'd like to restore the old behavior.\n",
      "[16:10:35] WARNING: C:/Users/Administrator/workspace/xgboost-win64_release_1.3.0/src/learner.cc:1061: Starting in XGBoost 1.3.0, the default evaluation metric used with the objective 'binary:logistic' was changed from 'error' to 'logloss'. Explicitly set eval_metric if you'd like to restore the old behavior.\n",
      "[16:10:57] WARNING: C:/Users/Administrator/workspace/xgboost-win64_release_1.3.0/src/learner.cc:1061: Starting in XGBoost 1.3.0, the default evaluation metric used with the objective 'binary:logistic' was changed from 'error' to 'logloss'. Explicitly set eval_metric if you'd like to restore the old behavior.\n",
      "[16:11:18] WARNING: C:/Users/Administrator/workspace/xgboost-win64_release_1.3.0/src/learner.cc:1061: Starting in XGBoost 1.3.0, the default evaluation metric used with the objective 'binary:logistic' was changed from 'error' to 'logloss'. Explicitly set eval_metric if you'd like to restore the old behavior.\n",
      "[16:11:39] WARNING: C:/Users/Administrator/workspace/xgboost-win64_release_1.3.0/src/learner.cc:1061: Starting in XGBoost 1.3.0, the default evaluation metric used with the objective 'binary:logistic' was changed from 'error' to 'logloss'. Explicitly set eval_metric if you'd like to restore the old behavior.\n",
      "[16:12:00] WARNING: C:/Users/Administrator/workspace/xgboost-win64_release_1.3.0/src/learner.cc:1061: Starting in XGBoost 1.3.0, the default evaluation metric used with the objective 'binary:logistic' was changed from 'error' to 'logloss'. Explicitly set eval_metric if you'd like to restore the old behavior.\n",
      "[16:12:21] WARNING: C:/Users/Administrator/workspace/xgboost-win64_release_1.3.0/src/learner.cc:1061: Starting in XGBoost 1.3.0, the default evaluation metric used with the objective 'binary:logistic' was changed from 'error' to 'logloss'. Explicitly set eval_metric if you'd like to restore the old behavior.\n",
      "[16:12:41] WARNING: C:/Users/Administrator/workspace/xgboost-win64_release_1.3.0/src/learner.cc:1061: Starting in XGBoost 1.3.0, the default evaluation metric used with the objective 'binary:logistic' was changed from 'error' to 'logloss'. Explicitly set eval_metric if you'd like to restore the old behavior.\n",
      "[16:13:02] WARNING: C:/Users/Administrator/workspace/xgboost-win64_release_1.3.0/src/learner.cc:1061: Starting in XGBoost 1.3.0, the default evaluation metric used with the objective 'binary:logistic' was changed from 'error' to 'logloss'. Explicitly set eval_metric if you'd like to restore the old behavior.\n"
     ]
    },
    {
     "name": "stderr",
     "output_type": "stream",
     "text": [
      "[Parallel(n_jobs=1)]: Done  16 out of  16 | elapsed:  5.2min finished\n"
     ]
    },
    {
     "name": "stdout",
     "output_type": "stream",
     "text": [
      "[16:13:23] WARNING: C:/Users/Administrator/workspace/xgboost-win64_release_1.3.0/src/learner.cc:1061: Starting in XGBoost 1.3.0, the default evaluation metric used with the objective 'binary:logistic' was changed from 'error' to 'logloss'. Explicitly set eval_metric if you'd like to restore the old behavior.\n",
      "Random HP Search Best Model Score : 0.30833333333333335\n",
      "Improvement of 25.423728813559322% relative to the initial model\n"
     ]
    }
   ],
   "source": [
    "hm_xgb_ros.fit()"
   ]
  },
  {
   "cell_type": "code",
   "execution_count": 449,
   "metadata": {
    "id": "aHQhKc--QYwq"
   },
   "outputs": [
    {
     "data": {
      "text/html": [
       "<div>\n",
       "<style scoped>\n",
       "    .dataframe tbody tr th:only-of-type {\n",
       "        vertical-align: middle;\n",
       "    }\n",
       "\n",
       "    .dataframe tbody tr th {\n",
       "        vertical-align: top;\n",
       "    }\n",
       "\n",
       "    .dataframe thead th {\n",
       "        text-align: right;\n",
       "    }\n",
       "</style>\n",
       "<table border=\"1\" class=\"dataframe\">\n",
       "  <thead>\n",
       "    <tr style=\"text-align: right;\">\n",
       "      <th></th>\n",
       "      <th>Model Iteration</th>\n",
       "      <th>Score</th>\n",
       "    </tr>\n",
       "  </thead>\n",
       "  <tbody>\n",
       "  </tbody>\n",
       "</table>\n",
       "</div>"
      ],
      "text/plain": [
       "Empty DataFrame\n",
       "Columns: [Model Iteration, Score]\n",
       "Index: []"
      ]
     },
     "execution_count": 449,
     "metadata": {},
     "output_type": "execute_result"
    }
   ],
   "source": [
    "hm_xgb_ros.all_models_perf"
   ]
  },
  {
   "cell_type": "code",
   "execution_count": null,
   "metadata": {
    "id": "eseZcKAoJ__G"
   },
   "outputs": [],
   "source": []
  },
  {
   "cell_type": "markdown",
   "metadata": {
    "id": "yLZCsP0eY1pQ"
   },
   "source": [
    "##### Test"
   ]
  },
  {
   "cell_type": "code",
   "execution_count": 450,
   "metadata": {
    "id": "X7kKF19DY1pQ"
   },
   "outputs": [
    {
     "name": "stdout",
     "output_type": "stream",
     "text": [
      "[16:13:46] WARNING: C:/Users/Administrator/workspace/xgboost-win64_release_1.3.0/src/learner.cc:1061: Starting in XGBoost 1.3.0, the default evaluation metric used with the objective 'binary:logistic' was changed from 'error' to 'logloss'. Explicitly set eval_metric if you'd like to restore the old behavior.\n",
      "[16:13:58] WARNING: C:/Users/Administrator/workspace/xgboost-win64_release_1.3.0/src/learner.cc:1061: Starting in XGBoost 1.3.0, the default evaluation metric used with the objective 'binary:logistic' was changed from 'error' to 'logloss'. Explicitly set eval_metric if you'd like to restore the old behavior.\n",
      "[16:14:11] WARNING: C:/Users/Administrator/workspace/xgboost-win64_release_1.3.0/src/learner.cc:1061: Starting in XGBoost 1.3.0, the default evaluation metric used with the objective 'binary:logistic' was changed from 'error' to 'logloss'. Explicitly set eval_metric if you'd like to restore the old behavior.\n",
      "[16:14:23] WARNING: C:/Users/Administrator/workspace/xgboost-win64_release_1.3.0/src/learner.cc:1061: Starting in XGBoost 1.3.0, the default evaluation metric used with the objective 'binary:logistic' was changed from 'error' to 'logloss'. Explicitly set eval_metric if you'd like to restore the old behavior.\n"
     ]
    }
   ],
   "source": [
    "# leave-one-task-out test\n",
    "cv = KFold(n_splits=4,shuffle=False)\n",
    "\n",
    "scores = cross_val_score(estimator=hm_xgb_ros.stock_model,cv=cv,X=X,y=y)\n",
    "\n",
    "mean_score = np.mean(scores)\n",
    "\n"
   ]
  },
  {
   "cell_type": "code",
   "execution_count": 451,
   "metadata": {
    "id": "KWcoIkfCY1pQ"
   },
   "outputs": [
    {
     "data": {
      "text/plain": [
       "array([0.525     , 0.4       , 0.50833333, 0.53333333])"
      ]
     },
     "execution_count": 451,
     "metadata": {},
     "output_type": "execute_result"
    }
   ],
   "source": [
    "scores"
   ]
  },
  {
   "cell_type": "code",
   "execution_count": 452,
   "metadata": {
    "id": "jnyaRlzsY1pQ"
   },
   "outputs": [
    {
     "data": {
      "text/plain": [
       "0.4916666666666667"
      ]
     },
     "execution_count": 452,
     "metadata": {},
     "output_type": "execute_result"
    }
   ],
   "source": [
    "mean_score"
   ]
  },
  {
   "cell_type": "code",
   "execution_count": 453,
   "metadata": {
    "id": "9NgKsUKFY1pQ"
   },
   "outputs": [
    {
     "name": "stdout",
     "output_type": "stream",
     "text": [
      "[16:14:35] WARNING: C:/Users/Administrator/workspace/xgboost-win64_release_1.3.0/src/learner.cc:1061: Starting in XGBoost 1.3.0, the default evaluation metric used with the objective 'binary:logistic' was changed from 'error' to 'logloss'. Explicitly set eval_metric if you'd like to restore the old behavior.\n",
      "[16:14:47] WARNING: C:/Users/Administrator/workspace/xgboost-win64_release_1.3.0/src/learner.cc:1061: Starting in XGBoost 1.3.0, the default evaluation metric used with the objective 'binary:logistic' was changed from 'error' to 'logloss'. Explicitly set eval_metric if you'd like to restore the old behavior.\n",
      "[16:15:00] WARNING: C:/Users/Administrator/workspace/xgboost-win64_release_1.3.0/src/learner.cc:1061: Starting in XGBoost 1.3.0, the default evaluation metric used with the objective 'binary:logistic' was changed from 'error' to 'logloss'. Explicitly set eval_metric if you'd like to restore the old behavior.\n",
      "[16:15:12] WARNING: C:/Users/Administrator/workspace/xgboost-win64_release_1.3.0/src/learner.cc:1061: Starting in XGBoost 1.3.0, the default evaluation metric used with the objective 'binary:logistic' was changed from 'error' to 'logloss'. Explicitly set eval_metric if you'd like to restore the old behavior.\n"
     ]
    }
   ],
   "source": [
    "# leave-one-task-out-shuffed test\n",
    "cv = KFold(n_splits=4,shuffle=True,random_state=42)\n",
    "\n",
    "scores = cross_val_score(estimator=hm_xgb_ros.stock_model,cv=cv,X=X,y=y)\n",
    "\n",
    "mean_score = np.mean(scores)\n"
   ]
  },
  {
   "cell_type": "code",
   "execution_count": 454,
   "metadata": {
    "id": "zueJZ-5YY1pQ"
   },
   "outputs": [
    {
     "data": {
      "text/plain": [
       "array([0.28333333, 0.325     , 0.26666667, 0.26666667])"
      ]
     },
     "execution_count": 454,
     "metadata": {},
     "output_type": "execute_result"
    }
   ],
   "source": [
    "scores"
   ]
  },
  {
   "cell_type": "code",
   "execution_count": 455,
   "metadata": {
    "id": "PP9j9jbzY1pQ"
   },
   "outputs": [
    {
     "data": {
      "text/plain": [
       "0.28541666666666665"
      ]
     },
     "execution_count": 455,
     "metadata": {},
     "output_type": "execute_result"
    }
   ],
   "source": [
    "mean_score"
   ]
  },
  {
   "cell_type": "code",
   "execution_count": null,
   "metadata": {
    "id": "HwbywwFEY1pQ"
   },
   "outputs": [],
   "source": []
  },
  {
   "cell_type": "code",
   "execution_count": 456,
   "metadata": {
    "id": "zR8v_IjfY1pQ"
   },
   "outputs": [
    {
     "name": "stdout",
     "output_type": "stream",
     "text": [
      "[16:15:24] WARNING: C:/Users/Administrator/workspace/xgboost-win64_release_1.3.0/src/learner.cc:1061: Starting in XGBoost 1.3.0, the default evaluation metric used with the objective 'binary:logistic' was changed from 'error' to 'logloss'. Explicitly set eval_metric if you'd like to restore the old behavior.\n",
      "[16:15:39] WARNING: C:/Users/Administrator/workspace/xgboost-win64_release_1.3.0/src/learner.cc:1061: Starting in XGBoost 1.3.0, the default evaluation metric used with the objective 'binary:logistic' was changed from 'error' to 'logloss'. Explicitly set eval_metric if you'd like to restore the old behavior.\n",
      "[16:15:54] WARNING: C:/Users/Administrator/workspace/xgboost-win64_release_1.3.0/src/learner.cc:1061: Starting in XGBoost 1.3.0, the default evaluation metric used with the objective 'binary:logistic' was changed from 'error' to 'logloss'. Explicitly set eval_metric if you'd like to restore the old behavior.\n",
      "[16:16:08] WARNING: C:/Users/Administrator/workspace/xgboost-win64_release_1.3.0/src/learner.cc:1061: Starting in XGBoost 1.3.0, the default evaluation metric used with the objective 'binary:logistic' was changed from 'error' to 'logloss'. Explicitly set eval_metric if you'd like to restore the old behavior.\n",
      "[16:16:23] WARNING: C:/Users/Administrator/workspace/xgboost-win64_release_1.3.0/src/learner.cc:1061: Starting in XGBoost 1.3.0, the default evaluation metric used with the objective 'binary:logistic' was changed from 'error' to 'logloss'. Explicitly set eval_metric if you'd like to restore the old behavior.\n",
      "[16:16:38] WARNING: C:/Users/Administrator/workspace/xgboost-win64_release_1.3.0/src/learner.cc:1061: Starting in XGBoost 1.3.0, the default evaluation metric used with the objective 'binary:logistic' was changed from 'error' to 'logloss'. Explicitly set eval_metric if you'd like to restore the old behavior.\n",
      "[16:16:53] WARNING: C:/Users/Administrator/workspace/xgboost-win64_release_1.3.0/src/learner.cc:1061: Starting in XGBoost 1.3.0, the default evaluation metric used with the objective 'binary:logistic' was changed from 'error' to 'logloss'. Explicitly set eval_metric if you'd like to restore the old behavior.\n",
      "[16:17:08] WARNING: C:/Users/Administrator/workspace/xgboost-win64_release_1.3.0/src/learner.cc:1061: Starting in XGBoost 1.3.0, the default evaluation metric used with the objective 'binary:logistic' was changed from 'error' to 'logloss'. Explicitly set eval_metric if you'd like to restore the old behavior.\n"
     ]
    }
   ],
   "source": [
    "# leave-one-run-out test\n",
    "cv = KFold(n_splits=8,shuffle=False)\n",
    "\n",
    "scores = cross_val_score(estimator=hm_xgb_ros.stock_model,cv=cv,X=X,y=y)\n",
    "\n",
    "mean_score = np.mean(scores)\n"
   ]
  },
  {
   "cell_type": "code",
   "execution_count": 457,
   "metadata": {
    "id": "O_LHVRPTY1pQ"
   },
   "outputs": [
    {
     "data": {
      "text/plain": [
       "array([0.45      , 0.45      , 0.38333333, 0.51666667, 0.55      ,\n",
       "       0.6       , 0.48333333, 0.55      ])"
      ]
     },
     "execution_count": 457,
     "metadata": {},
     "output_type": "execute_result"
    }
   ],
   "source": [
    "scores"
   ]
  },
  {
   "cell_type": "code",
   "execution_count": 458,
   "metadata": {
    "id": "SnRWttBqY1pQ"
   },
   "outputs": [
    {
     "data": {
      "text/plain": [
       "0.49791666666666673"
      ]
     },
     "execution_count": 458,
     "metadata": {},
     "output_type": "execute_result"
    }
   ],
   "source": [
    "mean_score"
   ]
  },
  {
   "cell_type": "code",
   "execution_count": 459,
   "metadata": {
    "id": "S8E5UdVMY1pQ"
   },
   "outputs": [
    {
     "name": "stdout",
     "output_type": "stream",
     "text": [
      "[16:17:24] WARNING: C:/Users/Administrator/workspace/xgboost-win64_release_1.3.0/src/learner.cc:1061: Starting in XGBoost 1.3.0, the default evaluation metric used with the objective 'binary:logistic' was changed from 'error' to 'logloss'. Explicitly set eval_metric if you'd like to restore the old behavior.\n",
      "[16:17:38] WARNING: C:/Users/Administrator/workspace/xgboost-win64_release_1.3.0/src/learner.cc:1061: Starting in XGBoost 1.3.0, the default evaluation metric used with the objective 'binary:logistic' was changed from 'error' to 'logloss'. Explicitly set eval_metric if you'd like to restore the old behavior.\n",
      "[16:17:53] WARNING: C:/Users/Administrator/workspace/xgboost-win64_release_1.3.0/src/learner.cc:1061: Starting in XGBoost 1.3.0, the default evaluation metric used with the objective 'binary:logistic' was changed from 'error' to 'logloss'. Explicitly set eval_metric if you'd like to restore the old behavior.\n",
      "[16:18:06] WARNING: C:/Users/Administrator/workspace/xgboost-win64_release_1.3.0/src/learner.cc:1061: Starting in XGBoost 1.3.0, the default evaluation metric used with the objective 'binary:logistic' was changed from 'error' to 'logloss'. Explicitly set eval_metric if you'd like to restore the old behavior.\n",
      "[16:18:20] WARNING: C:/Users/Administrator/workspace/xgboost-win64_release_1.3.0/src/learner.cc:1061: Starting in XGBoost 1.3.0, the default evaluation metric used with the objective 'binary:logistic' was changed from 'error' to 'logloss'. Explicitly set eval_metric if you'd like to restore the old behavior.\n",
      "[16:18:35] WARNING: C:/Users/Administrator/workspace/xgboost-win64_release_1.3.0/src/learner.cc:1061: Starting in XGBoost 1.3.0, the default evaluation metric used with the objective 'binary:logistic' was changed from 'error' to 'logloss'. Explicitly set eval_metric if you'd like to restore the old behavior.\n",
      "[16:18:49] WARNING: C:/Users/Administrator/workspace/xgboost-win64_release_1.3.0/src/learner.cc:1061: Starting in XGBoost 1.3.0, the default evaluation metric used with the objective 'binary:logistic' was changed from 'error' to 'logloss'. Explicitly set eval_metric if you'd like to restore the old behavior.\n",
      "[16:19:03] WARNING: C:/Users/Administrator/workspace/xgboost-win64_release_1.3.0/src/learner.cc:1061: Starting in XGBoost 1.3.0, the default evaluation metric used with the objective 'binary:logistic' was changed from 'error' to 'logloss'. Explicitly set eval_metric if you'd like to restore the old behavior.\n"
     ]
    }
   ],
   "source": [
    "# leave-one-run-out-shuffed test\n",
    "cv = KFold(n_splits=8,shuffle=True,random_state=42)\n",
    "\n",
    "\n",
    "\n",
    "scores = cross_val_score(estimator=hm_xgb_ros.stock_model,cv=cv,X=X,y=y)\n",
    "\n",
    "mean_score = np.mean(scores)\n"
   ]
  },
  {
   "cell_type": "code",
   "execution_count": 460,
   "metadata": {
    "id": "iSNXFoQYY1pQ"
   },
   "outputs": [
    {
     "data": {
      "text/plain": [
       "array([0.23333333, 0.18333333, 0.28333333, 0.15      , 0.3       ,\n",
       "       0.23333333, 0.41666667, 0.16666667])"
      ]
     },
     "execution_count": 460,
     "metadata": {},
     "output_type": "execute_result"
    }
   ],
   "source": [
    "scores"
   ]
  },
  {
   "cell_type": "code",
   "execution_count": 461,
   "metadata": {
    "id": "ZDu2p-FDY1pQ"
   },
   "outputs": [
    {
     "data": {
      "text/plain": [
       "0.24583333333333335"
      ]
     },
     "execution_count": 461,
     "metadata": {},
     "output_type": "execute_result"
    }
   ],
   "source": [
    "mean_score"
   ]
  },
  {
   "cell_type": "code",
   "execution_count": 462,
   "metadata": {
    "id": "mliqJis0Y1pQ"
   },
   "outputs": [],
   "source": [
    "# other metrics + graphs\n",
    "\n",
    "\n"
   ]
  },
  {
   "cell_type": "markdown",
   "metadata": {
    "id": "uqoeswDMnyci"
   },
   "source": [
    "### Hyper_optimized model"
   ]
  },
  {
   "cell_type": "markdown",
   "metadata": {
    "id": "JAynU_HI0PBY"
   },
   "source": [
    "### Stock Model"
   ]
  },
  {
   "cell_type": "markdown",
   "metadata": {
    "id": "vgrN6ot60PBY"
   },
   "source": [
    "#### *leave-one-task-out* cross validation"
   ]
  },
  {
   "cell_type": "markdown",
   "metadata": {
    "id": "O48noycN0PBY"
   },
   "source": [
    "##### Training"
   ]
  },
  {
   "cell_type": "code",
   "execution_count": 463,
   "metadata": {
    "id": "jDpeFtN80PBY"
   },
   "outputs": [],
   "source": [
    "hm_xgb_to = hyper_model(model_name='xg_boost',\n",
    "                            validation_approach = 'leave-one-task-out',\n",
    "                            X=X,\n",
    "                            y=y)"
   ]
  },
  {
   "cell_type": "code",
   "execution_count": 464,
   "metadata": {
    "id": "QnV8vzRh0PBY"
   },
   "outputs": [
    {
     "name": "stdout",
     "output_type": "stream",
     "text": [
      "[16:19:17] WARNING: C:/Users/Administrator/workspace/xgboost-win64_release_1.3.0/src/learner.cc:1061: Starting in XGBoost 1.3.0, the default evaluation metric used with the objective 'binary:logistic' was changed from 'error' to 'logloss'. Explicitly set eval_metric if you'd like to restore the old behavior.\n",
      "[16:19:30] WARNING: C:/Users/Administrator/workspace/xgboost-win64_release_1.3.0/src/learner.cc:1061: Starting in XGBoost 1.3.0, the default evaluation metric used with the objective 'binary:logistic' was changed from 'error' to 'logloss'. Explicitly set eval_metric if you'd like to restore the old behavior.\n",
      "[16:19:42] WARNING: C:/Users/Administrator/workspace/xgboost-win64_release_1.3.0/src/learner.cc:1061: Starting in XGBoost 1.3.0, the default evaluation metric used with the objective 'binary:logistic' was changed from 'error' to 'logloss'. Explicitly set eval_metric if you'd like to restore the old behavior.\n",
      "[16:19:54] WARNING: C:/Users/Administrator/workspace/xgboost-win64_release_1.3.0/src/learner.cc:1061: Starting in XGBoost 1.3.0, the default evaluation metric used with the objective 'binary:logistic' was changed from 'error' to 'logloss'. Explicitly set eval_metric if you'd like to restore the old behavior.\n",
      "Initial Model with Stock Params Score : 0.4916666666666667\n",
      "Fitting 4 folds for each of 2 candidates, totalling 8 fits\n"
     ]
    },
    {
     "name": "stderr",
     "output_type": "stream",
     "text": [
      "[Parallel(n_jobs=1)]: Using backend SequentialBackend with 1 concurrent workers.\n"
     ]
    },
    {
     "name": "stdout",
     "output_type": "stream",
     "text": [
      "[16:20:07] WARNING: C:/Users/Administrator/workspace/xgboost-win64_release_1.3.0/src/learner.cc:1061: Starting in XGBoost 1.3.0, the default evaluation metric used with the objective 'binary:logistic' was changed from 'error' to 'logloss'. Explicitly set eval_metric if you'd like to restore the old behavior.\n",
      "[16:20:22] WARNING: C:/Users/Administrator/workspace/xgboost-win64_release_1.3.0/src/learner.cc:1061: Starting in XGBoost 1.3.0, the default evaluation metric used with the objective 'binary:logistic' was changed from 'error' to 'logloss'. Explicitly set eval_metric if you'd like to restore the old behavior.\n",
      "[16:20:37] WARNING: C:/Users/Administrator/workspace/xgboost-win64_release_1.3.0/src/learner.cc:1061: Starting in XGBoost 1.3.0, the default evaluation metric used with the objective 'binary:logistic' was changed from 'error' to 'logloss'. Explicitly set eval_metric if you'd like to restore the old behavior.\n",
      "[16:20:53] WARNING: C:/Users/Administrator/workspace/xgboost-win64_release_1.3.0/src/learner.cc:1061: Starting in XGBoost 1.3.0, the default evaluation metric used with the objective 'binary:logistic' was changed from 'error' to 'logloss'. Explicitly set eval_metric if you'd like to restore the old behavior.\n",
      "[16:21:08] WARNING: C:/Users/Administrator/workspace/xgboost-win64_release_1.3.0/src/learner.cc:1061: Starting in XGBoost 1.3.0, the default evaluation metric used with the objective 'binary:logistic' was changed from 'error' to 'logloss'. Explicitly set eval_metric if you'd like to restore the old behavior.\n",
      "[16:21:27] WARNING: C:/Users/Administrator/workspace/xgboost-win64_release_1.3.0/src/learner.cc:1061: Starting in XGBoost 1.3.0, the default evaluation metric used with the objective 'binary:logistic' was changed from 'error' to 'logloss'. Explicitly set eval_metric if you'd like to restore the old behavior.\n",
      "[16:21:44] WARNING: C:/Users/Administrator/workspace/xgboost-win64_release_1.3.0/src/learner.cc:1061: Starting in XGBoost 1.3.0, the default evaluation metric used with the objective 'binary:logistic' was changed from 'error' to 'logloss'. Explicitly set eval_metric if you'd like to restore the old behavior.\n",
      "[16:22:02] WARNING: C:/Users/Administrator/workspace/xgboost-win64_release_1.3.0/src/learner.cc:1061: Starting in XGBoost 1.3.0, the default evaluation metric used with the objective 'binary:logistic' was changed from 'error' to 'logloss'. Explicitly set eval_metric if you'd like to restore the old behavior.\n"
     ]
    },
    {
     "name": "stderr",
     "output_type": "stream",
     "text": [
      "[Parallel(n_jobs=1)]: Done   8 out of   8 | elapsed:  2.2min finished\n"
     ]
    },
    {
     "name": "stdout",
     "output_type": "stream",
     "text": [
      "[16:22:20] WARNING: C:/Users/Administrator/workspace/xgboost-win64_release_1.3.0/src/learner.cc:1061: Starting in XGBoost 1.3.0, the default evaluation metric used with the objective 'binary:logistic' was changed from 'error' to 'logloss'. Explicitly set eval_metric if you'd like to restore the old behavior.\n",
      "Random HP Search Best Model Score : 0.5020833333333333\n",
      "Improvement of 2.1186440677966023% relative to the initial model\n"
     ]
    }
   ],
   "source": [
    "hm_xgb_to.fit()"
   ]
  },
  {
   "cell_type": "code",
   "execution_count": 465,
   "metadata": {
    "id": "HJzjh4ga0PBY"
   },
   "outputs": [
    {
     "data": {
      "text/html": [
       "<div>\n",
       "<style scoped>\n",
       "    .dataframe tbody tr th:only-of-type {\n",
       "        vertical-align: middle;\n",
       "    }\n",
       "\n",
       "    .dataframe tbody tr th {\n",
       "        vertical-align: top;\n",
       "    }\n",
       "\n",
       "    .dataframe thead th {\n",
       "        text-align: right;\n",
       "    }\n",
       "</style>\n",
       "<table border=\"1\" class=\"dataframe\">\n",
       "  <thead>\n",
       "    <tr style=\"text-align: right;\">\n",
       "      <th></th>\n",
       "      <th>Model Iteration</th>\n",
       "      <th>Score</th>\n",
       "    </tr>\n",
       "  </thead>\n",
       "  <tbody>\n",
       "  </tbody>\n",
       "</table>\n",
       "</div>"
      ],
      "text/plain": [
       "Empty DataFrame\n",
       "Columns: [Model Iteration, Score]\n",
       "Index: []"
      ]
     },
     "execution_count": 465,
     "metadata": {},
     "output_type": "execute_result"
    }
   ],
   "source": [
    "hm_xgb_to.all_models_perf"
   ]
  },
  {
   "cell_type": "code",
   "execution_count": null,
   "metadata": {
    "id": "IE2N7VHD0PBY"
   },
   "outputs": [],
   "source": []
  },
  {
   "cell_type": "markdown",
   "metadata": {
    "id": "YSJmQn2_0PBY"
   },
   "source": [
    "##### Test"
   ]
  },
  {
   "cell_type": "code",
   "execution_count": 466,
   "metadata": {
    "id": "B9OPp_sT0PBY"
   },
   "outputs": [
    {
     "name": "stdout",
     "output_type": "stream",
     "text": [
      "[16:22:43] WARNING: C:/Users/Administrator/workspace/xgboost-win64_release_1.3.0/src/learner.cc:1061: Starting in XGBoost 1.3.0, the default evaluation metric used with the objective 'binary:logistic' was changed from 'error' to 'logloss'. Explicitly set eval_metric if you'd like to restore the old behavior.\n",
      "[16:23:01] WARNING: C:/Users/Administrator/workspace/xgboost-win64_release_1.3.0/src/learner.cc:1061: Starting in XGBoost 1.3.0, the default evaluation metric used with the objective 'binary:logistic' was changed from 'error' to 'logloss'. Explicitly set eval_metric if you'd like to restore the old behavior.\n",
      "[16:23:19] WARNING: C:/Users/Administrator/workspace/xgboost-win64_release_1.3.0/src/learner.cc:1061: Starting in XGBoost 1.3.0, the default evaluation metric used with the objective 'binary:logistic' was changed from 'error' to 'logloss'. Explicitly set eval_metric if you'd like to restore the old behavior.\n",
      "[16:23:37] WARNING: C:/Users/Administrator/workspace/xgboost-win64_release_1.3.0/src/learner.cc:1061: Starting in XGBoost 1.3.0, the default evaluation metric used with the objective 'binary:logistic' was changed from 'error' to 'logloss'. Explicitly set eval_metric if you'd like to restore the old behavior.\n"
     ]
    }
   ],
   "source": [
    "# leave-one-task-out test\n",
    "cv = KFold(n_splits=4,shuffle=False)\n",
    "\n",
    "scores = cross_val_score(estimator=hm_xgb_to.rd_model,cv=cv,X=X,y=y)\n",
    "\n",
    "mean_score = np.mean(scores)\n",
    "\n"
   ]
  },
  {
   "cell_type": "code",
   "execution_count": 467,
   "metadata": {
    "id": "7UF8Fh0r0PBY"
   },
   "outputs": [
    {
     "data": {
      "text/plain": [
       "array([0.53333333, 0.425     , 0.525     , 0.525     ])"
      ]
     },
     "execution_count": 467,
     "metadata": {},
     "output_type": "execute_result"
    }
   ],
   "source": [
    "scores"
   ]
  },
  {
   "cell_type": "code",
   "execution_count": 468,
   "metadata": {
    "id": "LHHSq-ze0PBZ"
   },
   "outputs": [
    {
     "data": {
      "text/plain": [
       "0.5020833333333333"
      ]
     },
     "execution_count": 468,
     "metadata": {},
     "output_type": "execute_result"
    }
   ],
   "source": [
    "mean_score"
   ]
  },
  {
   "cell_type": "code",
   "execution_count": 469,
   "metadata": {
    "id": "NU2etCDh0PBZ"
   },
   "outputs": [
    {
     "name": "stdout",
     "output_type": "stream",
     "text": [
      "[16:23:55] WARNING: C:/Users/Administrator/workspace/xgboost-win64_release_1.3.0/src/learner.cc:1061: Starting in XGBoost 1.3.0, the default evaluation metric used with the objective 'binary:logistic' was changed from 'error' to 'logloss'. Explicitly set eval_metric if you'd like to restore the old behavior.\n",
      "[16:24:13] WARNING: C:/Users/Administrator/workspace/xgboost-win64_release_1.3.0/src/learner.cc:1061: Starting in XGBoost 1.3.0, the default evaluation metric used with the objective 'binary:logistic' was changed from 'error' to 'logloss'. Explicitly set eval_metric if you'd like to restore the old behavior.\n",
      "[16:24:30] WARNING: C:/Users/Administrator/workspace/xgboost-win64_release_1.3.0/src/learner.cc:1061: Starting in XGBoost 1.3.0, the default evaluation metric used with the objective 'binary:logistic' was changed from 'error' to 'logloss'. Explicitly set eval_metric if you'd like to restore the old behavior.\n",
      "[16:24:48] WARNING: C:/Users/Administrator/workspace/xgboost-win64_release_1.3.0/src/learner.cc:1061: Starting in XGBoost 1.3.0, the default evaluation metric used with the objective 'binary:logistic' was changed from 'error' to 'logloss'. Explicitly set eval_metric if you'd like to restore the old behavior.\n"
     ]
    }
   ],
   "source": [
    "# leave-one-task-out-shuffed test\n",
    "cv = KFold(n_splits=4,shuffle=True,random_state=42)\n",
    "\n",
    "scores = cross_val_score(estimator=hm_xgb_to.rd_model,cv=cv,X=X,y=y)\n",
    "\n",
    "mean_score = np.mean(scores)\n"
   ]
  },
  {
   "cell_type": "code",
   "execution_count": 470,
   "metadata": {
    "id": "vzs-oG2Q0PBZ"
   },
   "outputs": [
    {
     "data": {
      "text/plain": [
       "array([0.31666667, 0.375     , 0.36666667, 0.425     ])"
      ]
     },
     "execution_count": 470,
     "metadata": {},
     "output_type": "execute_result"
    }
   ],
   "source": [
    "scores"
   ]
  },
  {
   "cell_type": "code",
   "execution_count": 471,
   "metadata": {
    "id": "Y5LNQ2Im0PBZ"
   },
   "outputs": [
    {
     "data": {
      "text/plain": [
       "0.37083333333333335"
      ]
     },
     "execution_count": 471,
     "metadata": {},
     "output_type": "execute_result"
    }
   ],
   "source": [
    "mean_score"
   ]
  },
  {
   "cell_type": "code",
   "execution_count": null,
   "metadata": {
    "id": "zWt5dGZS0PBZ"
   },
   "outputs": [],
   "source": []
  },
  {
   "cell_type": "code",
   "execution_count": 472,
   "metadata": {
    "id": "R9R3q8lF0PBZ"
   },
   "outputs": [
    {
     "name": "stdout",
     "output_type": "stream",
     "text": [
      "[16:25:05] WARNING: C:/Users/Administrator/workspace/xgboost-win64_release_1.3.0/src/learner.cc:1061: Starting in XGBoost 1.3.0, the default evaluation metric used with the objective 'binary:logistic' was changed from 'error' to 'logloss'. Explicitly set eval_metric if you'd like to restore the old behavior.\n",
      "[16:25:26] WARNING: C:/Users/Administrator/workspace/xgboost-win64_release_1.3.0/src/learner.cc:1061: Starting in XGBoost 1.3.0, the default evaluation metric used with the objective 'binary:logistic' was changed from 'error' to 'logloss'. Explicitly set eval_metric if you'd like to restore the old behavior.\n",
      "[16:25:47] WARNING: C:/Users/Administrator/workspace/xgboost-win64_release_1.3.0/src/learner.cc:1061: Starting in XGBoost 1.3.0, the default evaluation metric used with the objective 'binary:logistic' was changed from 'error' to 'logloss'. Explicitly set eval_metric if you'd like to restore the old behavior.\n",
      "[16:26:09] WARNING: C:/Users/Administrator/workspace/xgboost-win64_release_1.3.0/src/learner.cc:1061: Starting in XGBoost 1.3.0, the default evaluation metric used with the objective 'binary:logistic' was changed from 'error' to 'logloss'. Explicitly set eval_metric if you'd like to restore the old behavior.\n",
      "[16:26:29] WARNING: C:/Users/Administrator/workspace/xgboost-win64_release_1.3.0/src/learner.cc:1061: Starting in XGBoost 1.3.0, the default evaluation metric used with the objective 'binary:logistic' was changed from 'error' to 'logloss'. Explicitly set eval_metric if you'd like to restore the old behavior.\n",
      "[16:26:50] WARNING: C:/Users/Administrator/workspace/xgboost-win64_release_1.3.0/src/learner.cc:1061: Starting in XGBoost 1.3.0, the default evaluation metric used with the objective 'binary:logistic' was changed from 'error' to 'logloss'. Explicitly set eval_metric if you'd like to restore the old behavior.\n",
      "[16:27:11] WARNING: C:/Users/Administrator/workspace/xgboost-win64_release_1.3.0/src/learner.cc:1061: Starting in XGBoost 1.3.0, the default evaluation metric used with the objective 'binary:logistic' was changed from 'error' to 'logloss'. Explicitly set eval_metric if you'd like to restore the old behavior.\n",
      "[16:27:31] WARNING: C:/Users/Administrator/workspace/xgboost-win64_release_1.3.0/src/learner.cc:1061: Starting in XGBoost 1.3.0, the default evaluation metric used with the objective 'binary:logistic' was changed from 'error' to 'logloss'. Explicitly set eval_metric if you'd like to restore the old behavior.\n"
     ]
    }
   ],
   "source": [
    "# leave-one-run-out test\n",
    "cv = KFold(n_splits=8,shuffle=False)\n",
    "\n",
    "scores = cross_val_score(estimator=hm_xgb_to.rd_model,cv=cv,X=X,y=y)\n",
    "\n",
    "mean_score = np.mean(scores)\n"
   ]
  },
  {
   "cell_type": "code",
   "execution_count": 473,
   "metadata": {
    "id": "uuD97M-r0PBZ"
   },
   "outputs": [
    {
     "data": {
      "text/plain": [
       "array([0.45      , 0.5       , 0.33333333, 0.53333333, 0.43333333,\n",
       "       0.55      , 0.55      , 0.58333333])"
      ]
     },
     "execution_count": 473,
     "metadata": {},
     "output_type": "execute_result"
    }
   ],
   "source": [
    "scores"
   ]
  },
  {
   "cell_type": "code",
   "execution_count": 474,
   "metadata": {
    "id": "QWUwvFh-0PBZ"
   },
   "outputs": [
    {
     "data": {
      "text/plain": [
       "0.4916666666666667"
      ]
     },
     "execution_count": 474,
     "metadata": {},
     "output_type": "execute_result"
    }
   ],
   "source": [
    "mean_score"
   ]
  },
  {
   "cell_type": "code",
   "execution_count": 475,
   "metadata": {
    "id": "vEfN1lmG0PBZ"
   },
   "outputs": [
    {
     "name": "stdout",
     "output_type": "stream",
     "text": [
      "[16:27:51] WARNING: C:/Users/Administrator/workspace/xgboost-win64_release_1.3.0/src/learner.cc:1061: Starting in XGBoost 1.3.0, the default evaluation metric used with the objective 'binary:logistic' was changed from 'error' to 'logloss'. Explicitly set eval_metric if you'd like to restore the old behavior.\n",
      "[16:28:13] WARNING: C:/Users/Administrator/workspace/xgboost-win64_release_1.3.0/src/learner.cc:1061: Starting in XGBoost 1.3.0, the default evaluation metric used with the objective 'binary:logistic' was changed from 'error' to 'logloss'. Explicitly set eval_metric if you'd like to restore the old behavior.\n",
      "[16:28:32] WARNING: C:/Users/Administrator/workspace/xgboost-win64_release_1.3.0/src/learner.cc:1061: Starting in XGBoost 1.3.0, the default evaluation metric used with the objective 'binary:logistic' was changed from 'error' to 'logloss'. Explicitly set eval_metric if you'd like to restore the old behavior.\n",
      "[16:28:53] WARNING: C:/Users/Administrator/workspace/xgboost-win64_release_1.3.0/src/learner.cc:1061: Starting in XGBoost 1.3.0, the default evaluation metric used with the objective 'binary:logistic' was changed from 'error' to 'logloss'. Explicitly set eval_metric if you'd like to restore the old behavior.\n",
      "[16:29:15] WARNING: C:/Users/Administrator/workspace/xgboost-win64_release_1.3.0/src/learner.cc:1061: Starting in XGBoost 1.3.0, the default evaluation metric used with the objective 'binary:logistic' was changed from 'error' to 'logloss'. Explicitly set eval_metric if you'd like to restore the old behavior.\n",
      "[16:29:36] WARNING: C:/Users/Administrator/workspace/xgboost-win64_release_1.3.0/src/learner.cc:1061: Starting in XGBoost 1.3.0, the default evaluation metric used with the objective 'binary:logistic' was changed from 'error' to 'logloss'. Explicitly set eval_metric if you'd like to restore the old behavior.\n",
      "[16:29:57] WARNING: C:/Users/Administrator/workspace/xgboost-win64_release_1.3.0/src/learner.cc:1061: Starting in XGBoost 1.3.0, the default evaluation metric used with the objective 'binary:logistic' was changed from 'error' to 'logloss'. Explicitly set eval_metric if you'd like to restore the old behavior.\n",
      "[16:30:17] WARNING: C:/Users/Administrator/workspace/xgboost-win64_release_1.3.0/src/learner.cc:1061: Starting in XGBoost 1.3.0, the default evaluation metric used with the objective 'binary:logistic' was changed from 'error' to 'logloss'. Explicitly set eval_metric if you'd like to restore the old behavior.\n"
     ]
    }
   ],
   "source": [
    "# leave-one-run-out-shuffed test\n",
    "cv = KFold(n_splits=8,shuffle=True,random_state=42)\n",
    "\n",
    "\n",
    "\n",
    "scores = cross_val_score(estimator=hm_xgb_to.rd_model,cv=cv,X=X,y=y)\n",
    "\n",
    "mean_score = np.mean(scores)\n"
   ]
  },
  {
   "cell_type": "code",
   "execution_count": 476,
   "metadata": {
    "id": "0srZvvEV0PBZ"
   },
   "outputs": [
    {
     "data": {
      "text/plain": [
       "array([0.31666667, 0.23333333, 0.36666667, 0.18333333, 0.31666667,\n",
       "       0.3       , 0.5       , 0.25      ])"
      ]
     },
     "execution_count": 476,
     "metadata": {},
     "output_type": "execute_result"
    }
   ],
   "source": [
    "scores"
   ]
  },
  {
   "cell_type": "code",
   "execution_count": 477,
   "metadata": {
    "id": "ugLG-QXc0PBZ"
   },
   "outputs": [
    {
     "data": {
      "text/plain": [
       "0.30833333333333335"
      ]
     },
     "execution_count": 477,
     "metadata": {},
     "output_type": "execute_result"
    }
   ],
   "source": [
    "mean_score"
   ]
  },
  {
   "cell_type": "code",
   "execution_count": 478,
   "metadata": {
    "id": "F6Eu517e0PBa"
   },
   "outputs": [],
   "source": [
    "# other metrics + graphs\n",
    "\n",
    "\n"
   ]
  },
  {
   "cell_type": "markdown",
   "metadata": {
    "id": "90su4wIc0PBa"
   },
   "source": [
    "#### *leave-one-task-out-shuffled* cross validation"
   ]
  },
  {
   "cell_type": "markdown",
   "metadata": {
    "id": "MJ4OmTw50PBa"
   },
   "source": [
    "##### Training"
   ]
  },
  {
   "cell_type": "code",
   "execution_count": 479,
   "metadata": {
    "id": "vJnjTODu0PBa"
   },
   "outputs": [],
   "source": [
    "hm_xgb_tos = hyper_model(model_name='xg_boost',\n",
    "                            validation_approach = 'leave-one-task-out-shuffled',\n",
    "                            X=X,\n",
    "                            y=y)"
   ]
  },
  {
   "cell_type": "code",
   "execution_count": 480,
   "metadata": {
    "id": "NgcVhOm00PBa"
   },
   "outputs": [
    {
     "name": "stdout",
     "output_type": "stream",
     "text": [
      "[16:30:37] WARNING: C:/Users/Administrator/workspace/xgboost-win64_release_1.3.0/src/learner.cc:1061: Starting in XGBoost 1.3.0, the default evaluation metric used with the objective 'binary:logistic' was changed from 'error' to 'logloss'. Explicitly set eval_metric if you'd like to restore the old behavior.\n",
      "[16:30:50] WARNING: C:/Users/Administrator/workspace/xgboost-win64_release_1.3.0/src/learner.cc:1061: Starting in XGBoost 1.3.0, the default evaluation metric used with the objective 'binary:logistic' was changed from 'error' to 'logloss'. Explicitly set eval_metric if you'd like to restore the old behavior.\n",
      "[16:31:02] WARNING: C:/Users/Administrator/workspace/xgboost-win64_release_1.3.0/src/learner.cc:1061: Starting in XGBoost 1.3.0, the default evaluation metric used with the objective 'binary:logistic' was changed from 'error' to 'logloss'. Explicitly set eval_metric if you'd like to restore the old behavior.\n",
      "[16:31:15] WARNING: C:/Users/Administrator/workspace/xgboost-win64_release_1.3.0/src/learner.cc:1061: Starting in XGBoost 1.3.0, the default evaluation metric used with the objective 'binary:logistic' was changed from 'error' to 'logloss'. Explicitly set eval_metric if you'd like to restore the old behavior.\n",
      "Initial Model with Stock Params Score : 0.28541666666666665\n",
      "Fitting 4 folds for each of 2 candidates, totalling 8 fits\n"
     ]
    },
    {
     "name": "stderr",
     "output_type": "stream",
     "text": [
      "[Parallel(n_jobs=1)]: Using backend SequentialBackend with 1 concurrent workers.\n"
     ]
    },
    {
     "name": "stdout",
     "output_type": "stream",
     "text": [
      "[16:31:28] WARNING: C:/Users/Administrator/workspace/xgboost-win64_release_1.3.0/src/learner.cc:1061: Starting in XGBoost 1.3.0, the default evaluation metric used with the objective 'binary:logistic' was changed from 'error' to 'logloss'. Explicitly set eval_metric if you'd like to restore the old behavior.\n",
      "[16:31:43] WARNING: C:/Users/Administrator/workspace/xgboost-win64_release_1.3.0/src/learner.cc:1061: Starting in XGBoost 1.3.0, the default evaluation metric used with the objective 'binary:logistic' was changed from 'error' to 'logloss'. Explicitly set eval_metric if you'd like to restore the old behavior.\n",
      "[16:31:58] WARNING: C:/Users/Administrator/workspace/xgboost-win64_release_1.3.0/src/learner.cc:1061: Starting in XGBoost 1.3.0, the default evaluation metric used with the objective 'binary:logistic' was changed from 'error' to 'logloss'. Explicitly set eval_metric if you'd like to restore the old behavior.\n",
      "[16:32:13] WARNING: C:/Users/Administrator/workspace/xgboost-win64_release_1.3.0/src/learner.cc:1061: Starting in XGBoost 1.3.0, the default evaluation metric used with the objective 'binary:logistic' was changed from 'error' to 'logloss'. Explicitly set eval_metric if you'd like to restore the old behavior.\n",
      "[16:32:27] WARNING: C:/Users/Administrator/workspace/xgboost-win64_release_1.3.0/src/learner.cc:1061: Starting in XGBoost 1.3.0, the default evaluation metric used with the objective 'binary:logistic' was changed from 'error' to 'logloss'. Explicitly set eval_metric if you'd like to restore the old behavior.\n",
      "[16:32:44] WARNING: C:/Users/Administrator/workspace/xgboost-win64_release_1.3.0/src/learner.cc:1061: Starting in XGBoost 1.3.0, the default evaluation metric used with the objective 'binary:logistic' was changed from 'error' to 'logloss'. Explicitly set eval_metric if you'd like to restore the old behavior.\n",
      "[16:33:01] WARNING: C:/Users/Administrator/workspace/xgboost-win64_release_1.3.0/src/learner.cc:1061: Starting in XGBoost 1.3.0, the default evaluation metric used with the objective 'binary:logistic' was changed from 'error' to 'logloss'. Explicitly set eval_metric if you'd like to restore the old behavior.\n",
      "[16:33:17] WARNING: C:/Users/Administrator/workspace/xgboost-win64_release_1.3.0/src/learner.cc:1061: Starting in XGBoost 1.3.0, the default evaluation metric used with the objective 'binary:logistic' was changed from 'error' to 'logloss'. Explicitly set eval_metric if you'd like to restore the old behavior.\n"
     ]
    },
    {
     "name": "stderr",
     "output_type": "stream",
     "text": [
      "[Parallel(n_jobs=1)]: Done   8 out of   8 | elapsed:  2.0min finished\n"
     ]
    },
    {
     "name": "stdout",
     "output_type": "stream",
     "text": [
      "[16:33:29] WARNING: C:/Users/Administrator/workspace/xgboost-win64_release_1.3.0/src/learner.cc:1061: Starting in XGBoost 1.3.0, the default evaluation metric used with the objective 'binary:logistic' was changed from 'error' to 'logloss'. Explicitly set eval_metric if you'd like to restore the old behavior.\n",
      "Random HP Search Best Model Score : 0.37083333333333335\n",
      "Improvement of 29.927007299270088% relative to the initial model\n"
     ]
    }
   ],
   "source": [
    "hm_xgb_tos.fit()"
   ]
  },
  {
   "cell_type": "code",
   "execution_count": 481,
   "metadata": {
    "id": "aEo-v5Sh0PBa"
   },
   "outputs": [
    {
     "data": {
      "text/html": [
       "<div>\n",
       "<style scoped>\n",
       "    .dataframe tbody tr th:only-of-type {\n",
       "        vertical-align: middle;\n",
       "    }\n",
       "\n",
       "    .dataframe tbody tr th {\n",
       "        vertical-align: top;\n",
       "    }\n",
       "\n",
       "    .dataframe thead th {\n",
       "        text-align: right;\n",
       "    }\n",
       "</style>\n",
       "<table border=\"1\" class=\"dataframe\">\n",
       "  <thead>\n",
       "    <tr style=\"text-align: right;\">\n",
       "      <th></th>\n",
       "      <th>Model Iteration</th>\n",
       "      <th>Score</th>\n",
       "    </tr>\n",
       "  </thead>\n",
       "  <tbody>\n",
       "  </tbody>\n",
       "</table>\n",
       "</div>"
      ],
      "text/plain": [
       "Empty DataFrame\n",
       "Columns: [Model Iteration, Score]\n",
       "Index: []"
      ]
     },
     "execution_count": 481,
     "metadata": {},
     "output_type": "execute_result"
    }
   ],
   "source": [
    "hm_xgb_tos.all_models_perf"
   ]
  },
  {
   "cell_type": "code",
   "execution_count": null,
   "metadata": {
    "id": "z1CdrcR-0PBa"
   },
   "outputs": [],
   "source": []
  },
  {
   "cell_type": "markdown",
   "metadata": {
    "id": "ss4KdVSQ0PBa"
   },
   "source": [
    "##### Test"
   ]
  },
  {
   "cell_type": "code",
   "execution_count": 482,
   "metadata": {
    "id": "SC7I2If40PBa"
   },
   "outputs": [
    {
     "name": "stdout",
     "output_type": "stream",
     "text": [
      "[16:33:47] WARNING: C:/Users/Administrator/workspace/xgboost-win64_release_1.3.0/src/learner.cc:1061: Starting in XGBoost 1.3.0, the default evaluation metric used with the objective 'binary:logistic' was changed from 'error' to 'logloss'. Explicitly set eval_metric if you'd like to restore the old behavior.\n",
      "[16:34:01] WARNING: C:/Users/Administrator/workspace/xgboost-win64_release_1.3.0/src/learner.cc:1061: Starting in XGBoost 1.3.0, the default evaluation metric used with the objective 'binary:logistic' was changed from 'error' to 'logloss'. Explicitly set eval_metric if you'd like to restore the old behavior.\n",
      "[16:34:14] WARNING: C:/Users/Administrator/workspace/xgboost-win64_release_1.3.0/src/learner.cc:1061: Starting in XGBoost 1.3.0, the default evaluation metric used with the objective 'binary:logistic' was changed from 'error' to 'logloss'. Explicitly set eval_metric if you'd like to restore the old behavior.\n",
      "[16:34:28] WARNING: C:/Users/Administrator/workspace/xgboost-win64_release_1.3.0/src/learner.cc:1061: Starting in XGBoost 1.3.0, the default evaluation metric used with the objective 'binary:logistic' was changed from 'error' to 'logloss'. Explicitly set eval_metric if you'd like to restore the old behavior.\n"
     ]
    }
   ],
   "source": [
    "# leave-one-task-out test\n",
    "cv = KFold(n_splits=4,shuffle=False)\n",
    "\n",
    "scores = cross_val_score(estimator=hm_xgb_tos.rd_model,cv=cv,X=X,y=y)\n",
    "\n",
    "mean_score = np.mean(scores)\n",
    "\n"
   ]
  },
  {
   "cell_type": "code",
   "execution_count": 483,
   "metadata": {
    "id": "6DhduOKd0PBa"
   },
   "outputs": [
    {
     "data": {
      "text/plain": [
       "array([0.53333333, 0.425     , 0.525     , 0.525     ])"
      ]
     },
     "execution_count": 483,
     "metadata": {},
     "output_type": "execute_result"
    }
   ],
   "source": [
    "scores"
   ]
  },
  {
   "cell_type": "code",
   "execution_count": 484,
   "metadata": {
    "id": "wDo0HinI0PBa"
   },
   "outputs": [
    {
     "data": {
      "text/plain": [
       "0.5020833333333333"
      ]
     },
     "execution_count": 484,
     "metadata": {},
     "output_type": "execute_result"
    }
   ],
   "source": [
    "mean_score"
   ]
  },
  {
   "cell_type": "code",
   "execution_count": 485,
   "metadata": {
    "id": "6DDy143g0PBa"
   },
   "outputs": [
    {
     "name": "stdout",
     "output_type": "stream",
     "text": [
      "[16:34:42] WARNING: C:/Users/Administrator/workspace/xgboost-win64_release_1.3.0/src/learner.cc:1061: Starting in XGBoost 1.3.0, the default evaluation metric used with the objective 'binary:logistic' was changed from 'error' to 'logloss'. Explicitly set eval_metric if you'd like to restore the old behavior.\n",
      "[16:34:54] WARNING: C:/Users/Administrator/workspace/xgboost-win64_release_1.3.0/src/learner.cc:1061: Starting in XGBoost 1.3.0, the default evaluation metric used with the objective 'binary:logistic' was changed from 'error' to 'logloss'. Explicitly set eval_metric if you'd like to restore the old behavior.\n",
      "[16:35:07] WARNING: C:/Users/Administrator/workspace/xgboost-win64_release_1.3.0/src/learner.cc:1061: Starting in XGBoost 1.3.0, the default evaluation metric used with the objective 'binary:logistic' was changed from 'error' to 'logloss'. Explicitly set eval_metric if you'd like to restore the old behavior.\n",
      "[16:35:20] WARNING: C:/Users/Administrator/workspace/xgboost-win64_release_1.3.0/src/learner.cc:1061: Starting in XGBoost 1.3.0, the default evaluation metric used with the objective 'binary:logistic' was changed from 'error' to 'logloss'. Explicitly set eval_metric if you'd like to restore the old behavior.\n"
     ]
    }
   ],
   "source": [
    "# leave-one-task-out-shuffed test\n",
    "cv = KFold(n_splits=4,shuffle=True,random_state=42)\n",
    "\n",
    "scores = cross_val_score(estimator=hm_xgb_tos.rd_model,cv=cv,X=X,y=y)\n",
    "\n",
    "mean_score = np.mean(scores)\n"
   ]
  },
  {
   "cell_type": "code",
   "execution_count": 486,
   "metadata": {
    "id": "o-nojkLm0PBa"
   },
   "outputs": [
    {
     "data": {
      "text/plain": [
       "array([0.31666667, 0.375     , 0.36666667, 0.425     ])"
      ]
     },
     "execution_count": 486,
     "metadata": {},
     "output_type": "execute_result"
    }
   ],
   "source": [
    "scores"
   ]
  },
  {
   "cell_type": "code",
   "execution_count": 487,
   "metadata": {
    "id": "7W4s6Znt0PBa"
   },
   "outputs": [
    {
     "data": {
      "text/plain": [
       "0.37083333333333335"
      ]
     },
     "execution_count": 487,
     "metadata": {},
     "output_type": "execute_result"
    }
   ],
   "source": [
    "mean_score"
   ]
  },
  {
   "cell_type": "code",
   "execution_count": null,
   "metadata": {
    "id": "GbdcHa7A0PBb"
   },
   "outputs": [],
   "source": []
  },
  {
   "cell_type": "code",
   "execution_count": 488,
   "metadata": {
    "id": "VzBE8UbC0PBb"
   },
   "outputs": [
    {
     "name": "stdout",
     "output_type": "stream",
     "text": [
      "[16:35:32] WARNING: C:/Users/Administrator/workspace/xgboost-win64_release_1.3.0/src/learner.cc:1061: Starting in XGBoost 1.3.0, the default evaluation metric used with the objective 'binary:logistic' was changed from 'error' to 'logloss'. Explicitly set eval_metric if you'd like to restore the old behavior.\n",
      "[16:35:49] WARNING: C:/Users/Administrator/workspace/xgboost-win64_release_1.3.0/src/learner.cc:1061: Starting in XGBoost 1.3.0, the default evaluation metric used with the objective 'binary:logistic' was changed from 'error' to 'logloss'. Explicitly set eval_metric if you'd like to restore the old behavior.\n",
      "[16:36:04] WARNING: C:/Users/Administrator/workspace/xgboost-win64_release_1.3.0/src/learner.cc:1061: Starting in XGBoost 1.3.0, the default evaluation metric used with the objective 'binary:logistic' was changed from 'error' to 'logloss'. Explicitly set eval_metric if you'd like to restore the old behavior.\n",
      "[16:36:21] WARNING: C:/Users/Administrator/workspace/xgboost-win64_release_1.3.0/src/learner.cc:1061: Starting in XGBoost 1.3.0, the default evaluation metric used with the objective 'binary:logistic' was changed from 'error' to 'logloss'. Explicitly set eval_metric if you'd like to restore the old behavior.\n",
      "[16:36:36] WARNING: C:/Users/Administrator/workspace/xgboost-win64_release_1.3.0/src/learner.cc:1061: Starting in XGBoost 1.3.0, the default evaluation metric used with the objective 'binary:logistic' was changed from 'error' to 'logloss'. Explicitly set eval_metric if you'd like to restore the old behavior.\n",
      "[16:36:51] WARNING: C:/Users/Administrator/workspace/xgboost-win64_release_1.3.0/src/learner.cc:1061: Starting in XGBoost 1.3.0, the default evaluation metric used with the objective 'binary:logistic' was changed from 'error' to 'logloss'. Explicitly set eval_metric if you'd like to restore the old behavior.\n",
      "[16:37:07] WARNING: C:/Users/Administrator/workspace/xgboost-win64_release_1.3.0/src/learner.cc:1061: Starting in XGBoost 1.3.0, the default evaluation metric used with the objective 'binary:logistic' was changed from 'error' to 'logloss'. Explicitly set eval_metric if you'd like to restore the old behavior.\n",
      "[16:37:22] WARNING: C:/Users/Administrator/workspace/xgboost-win64_release_1.3.0/src/learner.cc:1061: Starting in XGBoost 1.3.0, the default evaluation metric used with the objective 'binary:logistic' was changed from 'error' to 'logloss'. Explicitly set eval_metric if you'd like to restore the old behavior.\n"
     ]
    }
   ],
   "source": [
    "# leave-one-run-out test\n",
    "cv = KFold(n_splits=8,shuffle=False)\n",
    "\n",
    "scores = cross_val_score(estimator=hm_xgb_tos.rd_model,cv=cv,X=X,y=y)\n",
    "\n",
    "mean_score = np.mean(scores)\n"
   ]
  },
  {
   "cell_type": "code",
   "execution_count": 489,
   "metadata": {
    "id": "YFf8uy7j0PBb"
   },
   "outputs": [
    {
     "data": {
      "text/plain": [
       "array([0.45      , 0.5       , 0.33333333, 0.53333333, 0.43333333,\n",
       "       0.55      , 0.55      , 0.58333333])"
      ]
     },
     "execution_count": 489,
     "metadata": {},
     "output_type": "execute_result"
    }
   ],
   "source": [
    "scores"
   ]
  },
  {
   "cell_type": "code",
   "execution_count": 490,
   "metadata": {
    "id": "s0Qet-vx0PBb"
   },
   "outputs": [
    {
     "data": {
      "text/plain": [
       "0.4916666666666667"
      ]
     },
     "execution_count": 490,
     "metadata": {},
     "output_type": "execute_result"
    }
   ],
   "source": [
    "mean_score"
   ]
  },
  {
   "cell_type": "code",
   "execution_count": 491,
   "metadata": {
    "id": "G1pViHjW0PBb"
   },
   "outputs": [
    {
     "name": "stdout",
     "output_type": "stream",
     "text": [
      "[16:37:37] WARNING: C:/Users/Administrator/workspace/xgboost-win64_release_1.3.0/src/learner.cc:1061: Starting in XGBoost 1.3.0, the default evaluation metric used with the objective 'binary:logistic' was changed from 'error' to 'logloss'. Explicitly set eval_metric if you'd like to restore the old behavior.\n",
      "[16:37:53] WARNING: C:/Users/Administrator/workspace/xgboost-win64_release_1.3.0/src/learner.cc:1061: Starting in XGBoost 1.3.0, the default evaluation metric used with the objective 'binary:logistic' was changed from 'error' to 'logloss'. Explicitly set eval_metric if you'd like to restore the old behavior.\n",
      "[16:38:08] WARNING: C:/Users/Administrator/workspace/xgboost-win64_release_1.3.0/src/learner.cc:1061: Starting in XGBoost 1.3.0, the default evaluation metric used with the objective 'binary:logistic' was changed from 'error' to 'logloss'. Explicitly set eval_metric if you'd like to restore the old behavior.\n",
      "[16:38:24] WARNING: C:/Users/Administrator/workspace/xgboost-win64_release_1.3.0/src/learner.cc:1061: Starting in XGBoost 1.3.0, the default evaluation metric used with the objective 'binary:logistic' was changed from 'error' to 'logloss'. Explicitly set eval_metric if you'd like to restore the old behavior.\n",
      "[16:38:40] WARNING: C:/Users/Administrator/workspace/xgboost-win64_release_1.3.0/src/learner.cc:1061: Starting in XGBoost 1.3.0, the default evaluation metric used with the objective 'binary:logistic' was changed from 'error' to 'logloss'. Explicitly set eval_metric if you'd like to restore the old behavior.\n",
      "[16:38:56] WARNING: C:/Users/Administrator/workspace/xgboost-win64_release_1.3.0/src/learner.cc:1061: Starting in XGBoost 1.3.0, the default evaluation metric used with the objective 'binary:logistic' was changed from 'error' to 'logloss'. Explicitly set eval_metric if you'd like to restore the old behavior.\n",
      "[16:39:11] WARNING: C:/Users/Administrator/workspace/xgboost-win64_release_1.3.0/src/learner.cc:1061: Starting in XGBoost 1.3.0, the default evaluation metric used with the objective 'binary:logistic' was changed from 'error' to 'logloss'. Explicitly set eval_metric if you'd like to restore the old behavior.\n",
      "[16:39:27] WARNING: C:/Users/Administrator/workspace/xgboost-win64_release_1.3.0/src/learner.cc:1061: Starting in XGBoost 1.3.0, the default evaluation metric used with the objective 'binary:logistic' was changed from 'error' to 'logloss'. Explicitly set eval_metric if you'd like to restore the old behavior.\n"
     ]
    }
   ],
   "source": [
    "# leave-one-run-out-shuffed test\n",
    "cv = KFold(n_splits=8,shuffle=True,random_state=42)\n",
    "\n",
    "\n",
    "\n",
    "scores = cross_val_score(estimator=hm_xgb_tos.rd_model,cv=cv,X=X,y=y)\n",
    "\n",
    "mean_score = np.mean(scores)\n"
   ]
  },
  {
   "cell_type": "code",
   "execution_count": 492,
   "metadata": {
    "id": "HngwE8vS0PBb"
   },
   "outputs": [
    {
     "data": {
      "text/plain": [
       "array([0.31666667, 0.23333333, 0.36666667, 0.18333333, 0.31666667,\n",
       "       0.3       , 0.5       , 0.25      ])"
      ]
     },
     "execution_count": 492,
     "metadata": {},
     "output_type": "execute_result"
    }
   ],
   "source": [
    "scores"
   ]
  },
  {
   "cell_type": "code",
   "execution_count": 493,
   "metadata": {
    "id": "wcsNamsp0PBb"
   },
   "outputs": [
    {
     "data": {
      "text/plain": [
       "0.30833333333333335"
      ]
     },
     "execution_count": 493,
     "metadata": {},
     "output_type": "execute_result"
    }
   ],
   "source": [
    "mean_score"
   ]
  },
  {
   "cell_type": "code",
   "execution_count": 494,
   "metadata": {
    "id": "480rGKpC0PBb"
   },
   "outputs": [],
   "source": [
    "# other metrics + graphs\n",
    "\n",
    "\n"
   ]
  },
  {
   "cell_type": "markdown",
   "metadata": {
    "id": "AbL7-dbc0PBb"
   },
   "source": [
    "#### *leave-one-run-out* cross validation"
   ]
  },
  {
   "cell_type": "markdown",
   "metadata": {
    "id": "tnN0ijSs0PBb"
   },
   "source": [
    "##### Training"
   ]
  },
  {
   "cell_type": "code",
   "execution_count": 495,
   "metadata": {
    "id": "Tx_6QIyU0PBb"
   },
   "outputs": [],
   "source": [
    "hm_xgb_ro = hyper_model(model_name='xg_boost',\n",
    "                            validation_approach = 'leave-one-run-out',\n",
    "                            X=X,\n",
    "                            y=y)"
   ]
  },
  {
   "cell_type": "code",
   "execution_count": 496,
   "metadata": {
    "id": "iJrhBHOb0PBb"
   },
   "outputs": [
    {
     "name": "stdout",
     "output_type": "stream",
     "text": [
      "[16:39:42] WARNING: C:/Users/Administrator/workspace/xgboost-win64_release_1.3.0/src/learner.cc:1061: Starting in XGBoost 1.3.0, the default evaluation metric used with the objective 'binary:logistic' was changed from 'error' to 'logloss'. Explicitly set eval_metric if you'd like to restore the old behavior.\n",
      "[16:39:53] WARNING: C:/Users/Administrator/workspace/xgboost-win64_release_1.3.0/src/learner.cc:1061: Starting in XGBoost 1.3.0, the default evaluation metric used with the objective 'binary:logistic' was changed from 'error' to 'logloss'. Explicitly set eval_metric if you'd like to restore the old behavior.\n",
      "[16:40:04] WARNING: C:/Users/Administrator/workspace/xgboost-win64_release_1.3.0/src/learner.cc:1061: Starting in XGBoost 1.3.0, the default evaluation metric used with the objective 'binary:logistic' was changed from 'error' to 'logloss'. Explicitly set eval_metric if you'd like to restore the old behavior.\n",
      "[16:40:15] WARNING: C:/Users/Administrator/workspace/xgboost-win64_release_1.3.0/src/learner.cc:1061: Starting in XGBoost 1.3.0, the default evaluation metric used with the objective 'binary:logistic' was changed from 'error' to 'logloss'. Explicitly set eval_metric if you'd like to restore the old behavior.\n",
      "[16:40:26] WARNING: C:/Users/Administrator/workspace/xgboost-win64_release_1.3.0/src/learner.cc:1061: Starting in XGBoost 1.3.0, the default evaluation metric used with the objective 'binary:logistic' was changed from 'error' to 'logloss'. Explicitly set eval_metric if you'd like to restore the old behavior.\n",
      "[16:40:36] WARNING: C:/Users/Administrator/workspace/xgboost-win64_release_1.3.0/src/learner.cc:1061: Starting in XGBoost 1.3.0, the default evaluation metric used with the objective 'binary:logistic' was changed from 'error' to 'logloss'. Explicitly set eval_metric if you'd like to restore the old behavior.\n",
      "[16:40:47] WARNING: C:/Users/Administrator/workspace/xgboost-win64_release_1.3.0/src/learner.cc:1061: Starting in XGBoost 1.3.0, the default evaluation metric used with the objective 'binary:logistic' was changed from 'error' to 'logloss'. Explicitly set eval_metric if you'd like to restore the old behavior.\n",
      "[16:40:58] WARNING: C:/Users/Administrator/workspace/xgboost-win64_release_1.3.0/src/learner.cc:1061: Starting in XGBoost 1.3.0, the default evaluation metric used with the objective 'binary:logistic' was changed from 'error' to 'logloss'. Explicitly set eval_metric if you'd like to restore the old behavior.\n",
      "Initial Model with Stock Params Score : 0.49791666666666673\n",
      "Fitting 8 folds for each of 2 candidates, totalling 16 fits\n"
     ]
    },
    {
     "name": "stderr",
     "output_type": "stream",
     "text": [
      "[Parallel(n_jobs=1)]: Using backend SequentialBackend with 1 concurrent workers.\n"
     ]
    },
    {
     "name": "stdout",
     "output_type": "stream",
     "text": [
      "[16:41:09] WARNING: C:/Users/Administrator/workspace/xgboost-win64_release_1.3.0/src/learner.cc:1061: Starting in XGBoost 1.3.0, the default evaluation metric used with the objective 'binary:logistic' was changed from 'error' to 'logloss'. Explicitly set eval_metric if you'd like to restore the old behavior.\n",
      "[16:41:23] WARNING: C:/Users/Administrator/workspace/xgboost-win64_release_1.3.0/src/learner.cc:1061: Starting in XGBoost 1.3.0, the default evaluation metric used with the objective 'binary:logistic' was changed from 'error' to 'logloss'. Explicitly set eval_metric if you'd like to restore the old behavior.\n",
      "[16:41:37] WARNING: C:/Users/Administrator/workspace/xgboost-win64_release_1.3.0/src/learner.cc:1061: Starting in XGBoost 1.3.0, the default evaluation metric used with the objective 'binary:logistic' was changed from 'error' to 'logloss'. Explicitly set eval_metric if you'd like to restore the old behavior.\n",
      "[16:41:50] WARNING: C:/Users/Administrator/workspace/xgboost-win64_release_1.3.0/src/learner.cc:1061: Starting in XGBoost 1.3.0, the default evaluation metric used with the objective 'binary:logistic' was changed from 'error' to 'logloss'. Explicitly set eval_metric if you'd like to restore the old behavior.\n",
      "[16:42:03] WARNING: C:/Users/Administrator/workspace/xgboost-win64_release_1.3.0/src/learner.cc:1061: Starting in XGBoost 1.3.0, the default evaluation metric used with the objective 'binary:logistic' was changed from 'error' to 'logloss'. Explicitly set eval_metric if you'd like to restore the old behavior.\n",
      "[16:42:17] WARNING: C:/Users/Administrator/workspace/xgboost-win64_release_1.3.0/src/learner.cc:1061: Starting in XGBoost 1.3.0, the default evaluation metric used with the objective 'binary:logistic' was changed from 'error' to 'logloss'. Explicitly set eval_metric if you'd like to restore the old behavior.\n",
      "[16:42:30] WARNING: C:/Users/Administrator/workspace/xgboost-win64_release_1.3.0/src/learner.cc:1061: Starting in XGBoost 1.3.0, the default evaluation metric used with the objective 'binary:logistic' was changed from 'error' to 'logloss'. Explicitly set eval_metric if you'd like to restore the old behavior.\n",
      "[16:42:43] WARNING: C:/Users/Administrator/workspace/xgboost-win64_release_1.3.0/src/learner.cc:1061: Starting in XGBoost 1.3.0, the default evaluation metric used with the objective 'binary:logistic' was changed from 'error' to 'logloss'. Explicitly set eval_metric if you'd like to restore the old behavior.\n",
      "[16:42:57] WARNING: C:/Users/Administrator/workspace/xgboost-win64_release_1.3.0/src/learner.cc:1061: Starting in XGBoost 1.3.0, the default evaluation metric used with the objective 'binary:logistic' was changed from 'error' to 'logloss'. Explicitly set eval_metric if you'd like to restore the old behavior.\n",
      "[16:43:13] WARNING: C:/Users/Administrator/workspace/xgboost-win64_release_1.3.0/src/learner.cc:1061: Starting in XGBoost 1.3.0, the default evaluation metric used with the objective 'binary:logistic' was changed from 'error' to 'logloss'. Explicitly set eval_metric if you'd like to restore the old behavior.\n",
      "[16:43:28] WARNING: C:/Users/Administrator/workspace/xgboost-win64_release_1.3.0/src/learner.cc:1061: Starting in XGBoost 1.3.0, the default evaluation metric used with the objective 'binary:logistic' was changed from 'error' to 'logloss'. Explicitly set eval_metric if you'd like to restore the old behavior.\n",
      "[16:43:45] WARNING: C:/Users/Administrator/workspace/xgboost-win64_release_1.3.0/src/learner.cc:1061: Starting in XGBoost 1.3.0, the default evaluation metric used with the objective 'binary:logistic' was changed from 'error' to 'logloss'. Explicitly set eval_metric if you'd like to restore the old behavior.\n",
      "[16:44:00] WARNING: C:/Users/Administrator/workspace/xgboost-win64_release_1.3.0/src/learner.cc:1061: Starting in XGBoost 1.3.0, the default evaluation metric used with the objective 'binary:logistic' was changed from 'error' to 'logloss'. Explicitly set eval_metric if you'd like to restore the old behavior.\n",
      "[16:44:16] WARNING: C:/Users/Administrator/workspace/xgboost-win64_release_1.3.0/src/learner.cc:1061: Starting in XGBoost 1.3.0, the default evaluation metric used with the objective 'binary:logistic' was changed from 'error' to 'logloss'. Explicitly set eval_metric if you'd like to restore the old behavior.\n",
      "[16:44:31] WARNING: C:/Users/Administrator/workspace/xgboost-win64_release_1.3.0/src/learner.cc:1061: Starting in XGBoost 1.3.0, the default evaluation metric used with the objective 'binary:logistic' was changed from 'error' to 'logloss'. Explicitly set eval_metric if you'd like to restore the old behavior.\n",
      "[16:44:46] WARNING: C:/Users/Administrator/workspace/xgboost-win64_release_1.3.0/src/learner.cc:1061: Starting in XGBoost 1.3.0, the default evaluation metric used with the objective 'binary:logistic' was changed from 'error' to 'logloss'. Explicitly set eval_metric if you'd like to restore the old behavior.\n"
     ]
    },
    {
     "name": "stderr",
     "output_type": "stream",
     "text": [
      "[Parallel(n_jobs=1)]: Done  16 out of  16 | elapsed:  3.9min finished\n"
     ]
    },
    {
     "name": "stdout",
     "output_type": "stream",
     "text": [
      "[16:45:02] WARNING: C:/Users/Administrator/workspace/xgboost-win64_release_1.3.0/src/learner.cc:1061: Starting in XGBoost 1.3.0, the default evaluation metric used with the objective 'binary:logistic' was changed from 'error' to 'logloss'. Explicitly set eval_metric if you'd like to restore the old behavior.\n",
      "Random HP Search Best Model Score : 0.5104166666666667\n",
      "Improvement of 2.510460251046027% relative to the initial model\n"
     ]
    }
   ],
   "source": [
    "hm_xgb_ro.fit()"
   ]
  },
  {
   "cell_type": "code",
   "execution_count": 497,
   "metadata": {
    "id": "IkkX2HRP0PBb"
   },
   "outputs": [
    {
     "data": {
      "text/html": [
       "<div>\n",
       "<style scoped>\n",
       "    .dataframe tbody tr th:only-of-type {\n",
       "        vertical-align: middle;\n",
       "    }\n",
       "\n",
       "    .dataframe tbody tr th {\n",
       "        vertical-align: top;\n",
       "    }\n",
       "\n",
       "    .dataframe thead th {\n",
       "        text-align: right;\n",
       "    }\n",
       "</style>\n",
       "<table border=\"1\" class=\"dataframe\">\n",
       "  <thead>\n",
       "    <tr style=\"text-align: right;\">\n",
       "      <th></th>\n",
       "      <th>Model Iteration</th>\n",
       "      <th>Score</th>\n",
       "    </tr>\n",
       "  </thead>\n",
       "  <tbody>\n",
       "  </tbody>\n",
       "</table>\n",
       "</div>"
      ],
      "text/plain": [
       "Empty DataFrame\n",
       "Columns: [Model Iteration, Score]\n",
       "Index: []"
      ]
     },
     "execution_count": 497,
     "metadata": {},
     "output_type": "execute_result"
    }
   ],
   "source": [
    "hm_xgb_ro.all_models_perf"
   ]
  },
  {
   "cell_type": "code",
   "execution_count": null,
   "metadata": {
    "id": "tqiloYtR0PBb"
   },
   "outputs": [],
   "source": []
  },
  {
   "cell_type": "markdown",
   "metadata": {
    "id": "Ropu3-tW0PBb"
   },
   "source": [
    "##### Test"
   ]
  },
  {
   "cell_type": "code",
   "execution_count": 498,
   "metadata": {
    "id": "k0e0jkDZ0PBb"
   },
   "outputs": [
    {
     "name": "stdout",
     "output_type": "stream",
     "text": [
      "[16:45:17] WARNING: C:/Users/Administrator/workspace/xgboost-win64_release_1.3.0/src/learner.cc:1061: Starting in XGBoost 1.3.0, the default evaluation metric used with the objective 'binary:logistic' was changed from 'error' to 'logloss'. Explicitly set eval_metric if you'd like to restore the old behavior.\n",
      "[16:45:29] WARNING: C:/Users/Administrator/workspace/xgboost-win64_release_1.3.0/src/learner.cc:1061: Starting in XGBoost 1.3.0, the default evaluation metric used with the objective 'binary:logistic' was changed from 'error' to 'logloss'. Explicitly set eval_metric if you'd like to restore the old behavior.\n",
      "[16:45:40] WARNING: C:/Users/Administrator/workspace/xgboost-win64_release_1.3.0/src/learner.cc:1061: Starting in XGBoost 1.3.0, the default evaluation metric used with the objective 'binary:logistic' was changed from 'error' to 'logloss'. Explicitly set eval_metric if you'd like to restore the old behavior.\n",
      "[16:45:51] WARNING: C:/Users/Administrator/workspace/xgboost-win64_release_1.3.0/src/learner.cc:1061: Starting in XGBoost 1.3.0, the default evaluation metric used with the objective 'binary:logistic' was changed from 'error' to 'logloss'. Explicitly set eval_metric if you'd like to restore the old behavior.\n"
     ]
    }
   ],
   "source": [
    "# leave-one-task-out test\n",
    "cv = KFold(n_splits=4,shuffle=False)\n",
    "\n",
    "scores = cross_val_score(estimator=hm_xgb_ro.rd_model,cv=cv,X=X,y=y)\n",
    "\n",
    "mean_score = np.mean(scores)\n",
    "\n"
   ]
  },
  {
   "cell_type": "code",
   "execution_count": 499,
   "metadata": {
    "id": "bIeTuXR00PBb"
   },
   "outputs": [
    {
     "data": {
      "text/plain": [
       "array([0.51666667, 0.41666667, 0.49166667, 0.49166667])"
      ]
     },
     "execution_count": 499,
     "metadata": {},
     "output_type": "execute_result"
    }
   ],
   "source": [
    "scores"
   ]
  },
  {
   "cell_type": "code",
   "execution_count": 500,
   "metadata": {
    "id": "QSQ-6v460PBc"
   },
   "outputs": [
    {
     "data": {
      "text/plain": [
       "0.4791666666666667"
      ]
     },
     "execution_count": 500,
     "metadata": {},
     "output_type": "execute_result"
    }
   ],
   "source": [
    "mean_score"
   ]
  },
  {
   "cell_type": "code",
   "execution_count": 501,
   "metadata": {
    "id": "sj8Sha_x0PBc"
   },
   "outputs": [
    {
     "name": "stdout",
     "output_type": "stream",
     "text": [
      "[16:46:02] WARNING: C:/Users/Administrator/workspace/xgboost-win64_release_1.3.0/src/learner.cc:1061: Starting in XGBoost 1.3.0, the default evaluation metric used with the objective 'binary:logistic' was changed from 'error' to 'logloss'. Explicitly set eval_metric if you'd like to restore the old behavior.\n",
      "[16:46:13] WARNING: C:/Users/Administrator/workspace/xgboost-win64_release_1.3.0/src/learner.cc:1061: Starting in XGBoost 1.3.0, the default evaluation metric used with the objective 'binary:logistic' was changed from 'error' to 'logloss'. Explicitly set eval_metric if you'd like to restore the old behavior.\n",
      "[16:46:23] WARNING: C:/Users/Administrator/workspace/xgboost-win64_release_1.3.0/src/learner.cc:1061: Starting in XGBoost 1.3.0, the default evaluation metric used with the objective 'binary:logistic' was changed from 'error' to 'logloss'. Explicitly set eval_metric if you'd like to restore the old behavior.\n",
      "[16:46:34] WARNING: C:/Users/Administrator/workspace/xgboost-win64_release_1.3.0/src/learner.cc:1061: Starting in XGBoost 1.3.0, the default evaluation metric used with the objective 'binary:logistic' was changed from 'error' to 'logloss'. Explicitly set eval_metric if you'd like to restore the old behavior.\n"
     ]
    }
   ],
   "source": [
    "# leave-one-task-out-shuffed test\n",
    "cv = KFold(n_splits=4,shuffle=True,random_state=42)\n",
    "\n",
    "scores = cross_val_score(estimator=hm_xgb_ro.rd_model,cv=cv,X=X,y=y)\n",
    "\n",
    "mean_score = np.mean(scores)\n"
   ]
  },
  {
   "cell_type": "code",
   "execution_count": 502,
   "metadata": {
    "id": "4yc-2qz10PBc"
   },
   "outputs": [
    {
     "data": {
      "text/plain": [
       "array([0.30833333, 0.375     , 0.28333333, 0.39166667])"
      ]
     },
     "execution_count": 502,
     "metadata": {},
     "output_type": "execute_result"
    }
   ],
   "source": [
    "scores"
   ]
  },
  {
   "cell_type": "code",
   "execution_count": 503,
   "metadata": {
    "id": "neS6G0C10PBc"
   },
   "outputs": [
    {
     "data": {
      "text/plain": [
       "0.33958333333333335"
      ]
     },
     "execution_count": 503,
     "metadata": {},
     "output_type": "execute_result"
    }
   ],
   "source": [
    "mean_score"
   ]
  },
  {
   "cell_type": "code",
   "execution_count": null,
   "metadata": {
    "id": "7MXe6xRr0PBc"
   },
   "outputs": [],
   "source": []
  },
  {
   "cell_type": "code",
   "execution_count": 504,
   "metadata": {
    "id": "ct3yEerV0PBc"
   },
   "outputs": [
    {
     "name": "stdout",
     "output_type": "stream",
     "text": [
      "[16:46:45] WARNING: C:/Users/Administrator/workspace/xgboost-win64_release_1.3.0/src/learner.cc:1061: Starting in XGBoost 1.3.0, the default evaluation metric used with the objective 'binary:logistic' was changed from 'error' to 'logloss'. Explicitly set eval_metric if you'd like to restore the old behavior.\n",
      "[16:46:58] WARNING: C:/Users/Administrator/workspace/xgboost-win64_release_1.3.0/src/learner.cc:1061: Starting in XGBoost 1.3.0, the default evaluation metric used with the objective 'binary:logistic' was changed from 'error' to 'logloss'. Explicitly set eval_metric if you'd like to restore the old behavior.\n",
      "[16:47:12] WARNING: C:/Users/Administrator/workspace/xgboost-win64_release_1.3.0/src/learner.cc:1061: Starting in XGBoost 1.3.0, the default evaluation metric used with the objective 'binary:logistic' was changed from 'error' to 'logloss'. Explicitly set eval_metric if you'd like to restore the old behavior.\n",
      "[16:47:25] WARNING: C:/Users/Administrator/workspace/xgboost-win64_release_1.3.0/src/learner.cc:1061: Starting in XGBoost 1.3.0, the default evaluation metric used with the objective 'binary:logistic' was changed from 'error' to 'logloss'. Explicitly set eval_metric if you'd like to restore the old behavior.\n",
      "[16:47:38] WARNING: C:/Users/Administrator/workspace/xgboost-win64_release_1.3.0/src/learner.cc:1061: Starting in XGBoost 1.3.0, the default evaluation metric used with the objective 'binary:logistic' was changed from 'error' to 'logloss'. Explicitly set eval_metric if you'd like to restore the old behavior.\n",
      "[16:47:52] WARNING: C:/Users/Administrator/workspace/xgboost-win64_release_1.3.0/src/learner.cc:1061: Starting in XGBoost 1.3.0, the default evaluation metric used with the objective 'binary:logistic' was changed from 'error' to 'logloss'. Explicitly set eval_metric if you'd like to restore the old behavior.\n",
      "[16:48:05] WARNING: C:/Users/Administrator/workspace/xgboost-win64_release_1.3.0/src/learner.cc:1061: Starting in XGBoost 1.3.0, the default evaluation metric used with the objective 'binary:logistic' was changed from 'error' to 'logloss'. Explicitly set eval_metric if you'd like to restore the old behavior.\n",
      "[16:48:18] WARNING: C:/Users/Administrator/workspace/xgboost-win64_release_1.3.0/src/learner.cc:1061: Starting in XGBoost 1.3.0, the default evaluation metric used with the objective 'binary:logistic' was changed from 'error' to 'logloss'. Explicitly set eval_metric if you'd like to restore the old behavior.\n"
     ]
    }
   ],
   "source": [
    "# leave-one-run-out test\n",
    "cv = KFold(n_splits=8,shuffle=False)\n",
    "\n",
    "scores = cross_val_score(estimator=hm_xgb_ro.rd_model,cv=cv,X=X,y=y)\n",
    "\n",
    "mean_score = np.mean(scores)\n"
   ]
  },
  {
   "cell_type": "code",
   "execution_count": 505,
   "metadata": {
    "id": "iSfJeL230PBc"
   },
   "outputs": [
    {
     "data": {
      "text/plain": [
       "array([0.4       , 0.61666667, 0.41666667, 0.5       , 0.5       ,\n",
       "       0.6       , 0.5       , 0.55      ])"
      ]
     },
     "execution_count": 505,
     "metadata": {},
     "output_type": "execute_result"
    }
   ],
   "source": [
    "scores"
   ]
  },
  {
   "cell_type": "code",
   "execution_count": 506,
   "metadata": {
    "id": "kojZ2SUM0PBc"
   },
   "outputs": [
    {
     "data": {
      "text/plain": [
       "0.5104166666666667"
      ]
     },
     "execution_count": 506,
     "metadata": {},
     "output_type": "execute_result"
    }
   ],
   "source": [
    "mean_score"
   ]
  },
  {
   "cell_type": "code",
   "execution_count": 507,
   "metadata": {
    "id": "A_CcH-Ql0PBc"
   },
   "outputs": [
    {
     "name": "stdout",
     "output_type": "stream",
     "text": [
      "[16:48:32] WARNING: C:/Users/Administrator/workspace/xgboost-win64_release_1.3.0/src/learner.cc:1061: Starting in XGBoost 1.3.0, the default evaluation metric used with the objective 'binary:logistic' was changed from 'error' to 'logloss'. Explicitly set eval_metric if you'd like to restore the old behavior.\n",
      "[16:48:45] WARNING: C:/Users/Administrator/workspace/xgboost-win64_release_1.3.0/src/learner.cc:1061: Starting in XGBoost 1.3.0, the default evaluation metric used with the objective 'binary:logistic' was changed from 'error' to 'logloss'. Explicitly set eval_metric if you'd like to restore the old behavior.\n",
      "[16:49:00] WARNING: C:/Users/Administrator/workspace/xgboost-win64_release_1.3.0/src/learner.cc:1061: Starting in XGBoost 1.3.0, the default evaluation metric used with the objective 'binary:logistic' was changed from 'error' to 'logloss'. Explicitly set eval_metric if you'd like to restore the old behavior.\n",
      "[16:49:12] WARNING: C:/Users/Administrator/workspace/xgboost-win64_release_1.3.0/src/learner.cc:1061: Starting in XGBoost 1.3.0, the default evaluation metric used with the objective 'binary:logistic' was changed from 'error' to 'logloss'. Explicitly set eval_metric if you'd like to restore the old behavior.\n",
      "[16:49:26] WARNING: C:/Users/Administrator/workspace/xgboost-win64_release_1.3.0/src/learner.cc:1061: Starting in XGBoost 1.3.0, the default evaluation metric used with the objective 'binary:logistic' was changed from 'error' to 'logloss'. Explicitly set eval_metric if you'd like to restore the old behavior.\n",
      "[16:49:39] WARNING: C:/Users/Administrator/workspace/xgboost-win64_release_1.3.0/src/learner.cc:1061: Starting in XGBoost 1.3.0, the default evaluation metric used with the objective 'binary:logistic' was changed from 'error' to 'logloss'. Explicitly set eval_metric if you'd like to restore the old behavior.\n",
      "[16:49:53] WARNING: C:/Users/Administrator/workspace/xgboost-win64_release_1.3.0/src/learner.cc:1061: Starting in XGBoost 1.3.0, the default evaluation metric used with the objective 'binary:logistic' was changed from 'error' to 'logloss'. Explicitly set eval_metric if you'd like to restore the old behavior.\n",
      "[16:50:06] WARNING: C:/Users/Administrator/workspace/xgboost-win64_release_1.3.0/src/learner.cc:1061: Starting in XGBoost 1.3.0, the default evaluation metric used with the objective 'binary:logistic' was changed from 'error' to 'logloss'. Explicitly set eval_metric if you'd like to restore the old behavior.\n"
     ]
    }
   ],
   "source": [
    "# leave-one-run-out-shuffed test\n",
    "cv = KFold(n_splits=8,shuffle=True,random_state=42)\n",
    "\n",
    "\n",
    "\n",
    "scores = cross_val_score(estimator=hm_xgb_ro.rd_model,cv=cv,X=X,y=y)\n",
    "\n",
    "mean_score = np.mean(scores)\n"
   ]
  },
  {
   "cell_type": "code",
   "execution_count": 508,
   "metadata": {
    "id": "7Tn152nR0PBc"
   },
   "outputs": [
    {
     "data": {
      "text/plain": [
       "array([0.31666667, 0.23333333, 0.28333333, 0.28333333, 0.31666667,\n",
       "       0.28333333, 0.43333333, 0.26666667])"
      ]
     },
     "execution_count": 508,
     "metadata": {},
     "output_type": "execute_result"
    }
   ],
   "source": [
    "scores"
   ]
  },
  {
   "cell_type": "code",
   "execution_count": 509,
   "metadata": {
    "id": "tRSdT7Wx0PBc"
   },
   "outputs": [
    {
     "data": {
      "text/plain": [
       "0.3020833333333333"
      ]
     },
     "execution_count": 509,
     "metadata": {},
     "output_type": "execute_result"
    }
   ],
   "source": [
    "mean_score"
   ]
  },
  {
   "cell_type": "code",
   "execution_count": 510,
   "metadata": {
    "id": "BLyOKveN0PBc"
   },
   "outputs": [],
   "source": [
    "# other metrics + graphs\n",
    "\n",
    "\n"
   ]
  },
  {
   "cell_type": "markdown",
   "metadata": {
    "id": "Oq6LsPJw0PBc"
   },
   "source": [
    "#### *leave-one-run-out-shuffled* cross validation"
   ]
  },
  {
   "cell_type": "markdown",
   "metadata": {
    "id": "eUk34NiQ0PBc"
   },
   "source": [
    "##### Training"
   ]
  },
  {
   "cell_type": "code",
   "execution_count": 511,
   "metadata": {
    "id": "7tnmONbH0PBc"
   },
   "outputs": [],
   "source": [
    "hm_xgb_ros = hyper_model(model_name='xg_boost',\n",
    "                            validation_approach = 'leave-one-run-out-shuffled',\n",
    "                            X=X,\n",
    "                            y=y)"
   ]
  },
  {
   "cell_type": "code",
   "execution_count": 512,
   "metadata": {
    "id": "45KiYK090PBc"
   },
   "outputs": [
    {
     "name": "stdout",
     "output_type": "stream",
     "text": [
      "[16:50:19] WARNING: C:/Users/Administrator/workspace/xgboost-win64_release_1.3.0/src/learner.cc:1061: Starting in XGBoost 1.3.0, the default evaluation metric used with the objective 'binary:logistic' was changed from 'error' to 'logloss'. Explicitly set eval_metric if you'd like to restore the old behavior.\n",
      "[16:50:29] WARNING: C:/Users/Administrator/workspace/xgboost-win64_release_1.3.0/src/learner.cc:1061: Starting in XGBoost 1.3.0, the default evaluation metric used with the objective 'binary:logistic' was changed from 'error' to 'logloss'. Explicitly set eval_metric if you'd like to restore the old behavior.\n",
      "[16:50:40] WARNING: C:/Users/Administrator/workspace/xgboost-win64_release_1.3.0/src/learner.cc:1061: Starting in XGBoost 1.3.0, the default evaluation metric used with the objective 'binary:logistic' was changed from 'error' to 'logloss'. Explicitly set eval_metric if you'd like to restore the old behavior.\n",
      "[16:50:51] WARNING: C:/Users/Administrator/workspace/xgboost-win64_release_1.3.0/src/learner.cc:1061: Starting in XGBoost 1.3.0, the default evaluation metric used with the objective 'binary:logistic' was changed from 'error' to 'logloss'. Explicitly set eval_metric if you'd like to restore the old behavior.\n",
      "[16:51:02] WARNING: C:/Users/Administrator/workspace/xgboost-win64_release_1.3.0/src/learner.cc:1061: Starting in XGBoost 1.3.0, the default evaluation metric used with the objective 'binary:logistic' was changed from 'error' to 'logloss'. Explicitly set eval_metric if you'd like to restore the old behavior.\n",
      "[16:51:13] WARNING: C:/Users/Administrator/workspace/xgboost-win64_release_1.3.0/src/learner.cc:1061: Starting in XGBoost 1.3.0, the default evaluation metric used with the objective 'binary:logistic' was changed from 'error' to 'logloss'. Explicitly set eval_metric if you'd like to restore the old behavior.\n",
      "[16:51:24] WARNING: C:/Users/Administrator/workspace/xgboost-win64_release_1.3.0/src/learner.cc:1061: Starting in XGBoost 1.3.0, the default evaluation metric used with the objective 'binary:logistic' was changed from 'error' to 'logloss'. Explicitly set eval_metric if you'd like to restore the old behavior.\n",
      "[16:51:34] WARNING: C:/Users/Administrator/workspace/xgboost-win64_release_1.3.0/src/learner.cc:1061: Starting in XGBoost 1.3.0, the default evaluation metric used with the objective 'binary:logistic' was changed from 'error' to 'logloss'. Explicitly set eval_metric if you'd like to restore the old behavior.\n",
      "Initial Model with Stock Params Score : 0.24583333333333335\n",
      "Fitting 8 folds for each of 2 candidates, totalling 16 fits\n"
     ]
    },
    {
     "name": "stderr",
     "output_type": "stream",
     "text": [
      "[Parallel(n_jobs=1)]: Using backend SequentialBackend with 1 concurrent workers.\n"
     ]
    },
    {
     "name": "stdout",
     "output_type": "stream",
     "text": [
      "[16:51:45] WARNING: C:/Users/Administrator/workspace/xgboost-win64_release_1.3.0/src/learner.cc:1061: Starting in XGBoost 1.3.0, the default evaluation metric used with the objective 'binary:logistic' was changed from 'error' to 'logloss'. Explicitly set eval_metric if you'd like to restore the old behavior.\n",
      "[16:51:59] WARNING: C:/Users/Administrator/workspace/xgboost-win64_release_1.3.0/src/learner.cc:1061: Starting in XGBoost 1.3.0, the default evaluation metric used with the objective 'binary:logistic' was changed from 'error' to 'logloss'. Explicitly set eval_metric if you'd like to restore the old behavior.\n",
      "[16:52:13] WARNING: C:/Users/Administrator/workspace/xgboost-win64_release_1.3.0/src/learner.cc:1061: Starting in XGBoost 1.3.0, the default evaluation metric used with the objective 'binary:logistic' was changed from 'error' to 'logloss'. Explicitly set eval_metric if you'd like to restore the old behavior.\n",
      "[16:52:26] WARNING: C:/Users/Administrator/workspace/xgboost-win64_release_1.3.0/src/learner.cc:1061: Starting in XGBoost 1.3.0, the default evaluation metric used with the objective 'binary:logistic' was changed from 'error' to 'logloss'. Explicitly set eval_metric if you'd like to restore the old behavior.\n",
      "[16:52:39] WARNING: C:/Users/Administrator/workspace/xgboost-win64_release_1.3.0/src/learner.cc:1061: Starting in XGBoost 1.3.0, the default evaluation metric used with the objective 'binary:logistic' was changed from 'error' to 'logloss'. Explicitly set eval_metric if you'd like to restore the old behavior.\n",
      "[16:52:53] WARNING: C:/Users/Administrator/workspace/xgboost-win64_release_1.3.0/src/learner.cc:1061: Starting in XGBoost 1.3.0, the default evaluation metric used with the objective 'binary:logistic' was changed from 'error' to 'logloss'. Explicitly set eval_metric if you'd like to restore the old behavior.\n",
      "[16:53:07] WARNING: C:/Users/Administrator/workspace/xgboost-win64_release_1.3.0/src/learner.cc:1061: Starting in XGBoost 1.3.0, the default evaluation metric used with the objective 'binary:logistic' was changed from 'error' to 'logloss'. Explicitly set eval_metric if you'd like to restore the old behavior.\n",
      "[16:53:20] WARNING: C:/Users/Administrator/workspace/xgboost-win64_release_1.3.0/src/learner.cc:1061: Starting in XGBoost 1.3.0, the default evaluation metric used with the objective 'binary:logistic' was changed from 'error' to 'logloss'. Explicitly set eval_metric if you'd like to restore the old behavior.\n",
      "[16:53:32] WARNING: C:/Users/Administrator/workspace/xgboost-win64_release_1.3.0/src/learner.cc:1061: Starting in XGBoost 1.3.0, the default evaluation metric used with the objective 'binary:logistic' was changed from 'error' to 'logloss'. Explicitly set eval_metric if you'd like to restore the old behavior.\n",
      "[16:53:49] WARNING: C:/Users/Administrator/workspace/xgboost-win64_release_1.3.0/src/learner.cc:1061: Starting in XGBoost 1.3.0, the default evaluation metric used with the objective 'binary:logistic' was changed from 'error' to 'logloss'. Explicitly set eval_metric if you'd like to restore the old behavior.\n",
      "[16:54:03] WARNING: C:/Users/Administrator/workspace/xgboost-win64_release_1.3.0/src/learner.cc:1061: Starting in XGBoost 1.3.0, the default evaluation metric used with the objective 'binary:logistic' was changed from 'error' to 'logloss'. Explicitly set eval_metric if you'd like to restore the old behavior.\n",
      "[16:54:19] WARNING: C:/Users/Administrator/workspace/xgboost-win64_release_1.3.0/src/learner.cc:1061: Starting in XGBoost 1.3.0, the default evaluation metric used with the objective 'binary:logistic' was changed from 'error' to 'logloss'. Explicitly set eval_metric if you'd like to restore the old behavior.\n",
      "[16:54:35] WARNING: C:/Users/Administrator/workspace/xgboost-win64_release_1.3.0/src/learner.cc:1061: Starting in XGBoost 1.3.0, the default evaluation metric used with the objective 'binary:logistic' was changed from 'error' to 'logloss'. Explicitly set eval_metric if you'd like to restore the old behavior.\n",
      "[16:54:51] WARNING: C:/Users/Administrator/workspace/xgboost-win64_release_1.3.0/src/learner.cc:1061: Starting in XGBoost 1.3.0, the default evaluation metric used with the objective 'binary:logistic' was changed from 'error' to 'logloss'. Explicitly set eval_metric if you'd like to restore the old behavior.\n",
      "[16:55:06] WARNING: C:/Users/Administrator/workspace/xgboost-win64_release_1.3.0/src/learner.cc:1061: Starting in XGBoost 1.3.0, the default evaluation metric used with the objective 'binary:logistic' was changed from 'error' to 'logloss'. Explicitly set eval_metric if you'd like to restore the old behavior.\n",
      "[16:55:22] WARNING: C:/Users/Administrator/workspace/xgboost-win64_release_1.3.0/src/learner.cc:1061: Starting in XGBoost 1.3.0, the default evaluation metric used with the objective 'binary:logistic' was changed from 'error' to 'logloss'. Explicitly set eval_metric if you'd like to restore the old behavior.\n"
     ]
    },
    {
     "name": "stderr",
     "output_type": "stream",
     "text": [
      "[Parallel(n_jobs=1)]: Done  16 out of  16 | elapsed:  3.9min finished\n"
     ]
    },
    {
     "name": "stdout",
     "output_type": "stream",
     "text": [
      "[16:55:37] WARNING: C:/Users/Administrator/workspace/xgboost-win64_release_1.3.0/src/learner.cc:1061: Starting in XGBoost 1.3.0, the default evaluation metric used with the objective 'binary:logistic' was changed from 'error' to 'logloss'. Explicitly set eval_metric if you'd like to restore the old behavior.\n",
      "Random HP Search Best Model Score : 0.30833333333333335\n",
      "Improvement of 25.423728813559322% relative to the initial model\n"
     ]
    }
   ],
   "source": [
    "hm_xgb_ros.fit()"
   ]
  },
  {
   "cell_type": "code",
   "execution_count": 513,
   "metadata": {
    "id": "G2tlj00W0PBc"
   },
   "outputs": [
    {
     "data": {
      "text/html": [
       "<div>\n",
       "<style scoped>\n",
       "    .dataframe tbody tr th:only-of-type {\n",
       "        vertical-align: middle;\n",
       "    }\n",
       "\n",
       "    .dataframe tbody tr th {\n",
       "        vertical-align: top;\n",
       "    }\n",
       "\n",
       "    .dataframe thead th {\n",
       "        text-align: right;\n",
       "    }\n",
       "</style>\n",
       "<table border=\"1\" class=\"dataframe\">\n",
       "  <thead>\n",
       "    <tr style=\"text-align: right;\">\n",
       "      <th></th>\n",
       "      <th>Model Iteration</th>\n",
       "      <th>Score</th>\n",
       "    </tr>\n",
       "  </thead>\n",
       "  <tbody>\n",
       "  </tbody>\n",
       "</table>\n",
       "</div>"
      ],
      "text/plain": [
       "Empty DataFrame\n",
       "Columns: [Model Iteration, Score]\n",
       "Index: []"
      ]
     },
     "execution_count": 513,
     "metadata": {},
     "output_type": "execute_result"
    }
   ],
   "source": [
    "hm_xgb_ros.all_models_perf"
   ]
  },
  {
   "cell_type": "code",
   "execution_count": null,
   "metadata": {
    "id": "AFtm3Nt40PBc"
   },
   "outputs": [],
   "source": []
  },
  {
   "cell_type": "markdown",
   "metadata": {
    "id": "1X2T4ocQ0PBc"
   },
   "source": [
    "##### Test"
   ]
  },
  {
   "cell_type": "code",
   "execution_count": 514,
   "metadata": {
    "id": "mOdemmuz0PBc"
   },
   "outputs": [
    {
     "name": "stdout",
     "output_type": "stream",
     "text": [
      "[16:55:55] WARNING: C:/Users/Administrator/workspace/xgboost-win64_release_1.3.0/src/learner.cc:1061: Starting in XGBoost 1.3.0, the default evaluation metric used with the objective 'binary:logistic' was changed from 'error' to 'logloss'. Explicitly set eval_metric if you'd like to restore the old behavior.\n",
      "[16:56:08] WARNING: C:/Users/Administrator/workspace/xgboost-win64_release_1.3.0/src/learner.cc:1061: Starting in XGBoost 1.3.0, the default evaluation metric used with the objective 'binary:logistic' was changed from 'error' to 'logloss'. Explicitly set eval_metric if you'd like to restore the old behavior.\n",
      "[16:56:21] WARNING: C:/Users/Administrator/workspace/xgboost-win64_release_1.3.0/src/learner.cc:1061: Starting in XGBoost 1.3.0, the default evaluation metric used with the objective 'binary:logistic' was changed from 'error' to 'logloss'. Explicitly set eval_metric if you'd like to restore the old behavior.\n",
      "[16:56:34] WARNING: C:/Users/Administrator/workspace/xgboost-win64_release_1.3.0/src/learner.cc:1061: Starting in XGBoost 1.3.0, the default evaluation metric used with the objective 'binary:logistic' was changed from 'error' to 'logloss'. Explicitly set eval_metric if you'd like to restore the old behavior.\n"
     ]
    }
   ],
   "source": [
    "# leave-one-task-out test\n",
    "cv = KFold(n_splits=4,shuffle=False)\n",
    "\n",
    "scores = cross_val_score(estimator=hm_xgb_ros.rd_model,cv=cv,X=X,y=y)\n",
    "\n",
    "mean_score = np.mean(scores)\n",
    "\n"
   ]
  },
  {
   "cell_type": "code",
   "execution_count": 515,
   "metadata": {
    "id": "0IbOynDY0PBc"
   },
   "outputs": [
    {
     "data": {
      "text/plain": [
       "array([0.53333333, 0.425     , 0.525     , 0.525     ])"
      ]
     },
     "execution_count": 515,
     "metadata": {},
     "output_type": "execute_result"
    }
   ],
   "source": [
    "scores"
   ]
  },
  {
   "cell_type": "code",
   "execution_count": 516,
   "metadata": {
    "id": "mWi1QK860PBc"
   },
   "outputs": [
    {
     "data": {
      "text/plain": [
       "0.5020833333333333"
      ]
     },
     "execution_count": 516,
     "metadata": {},
     "output_type": "execute_result"
    }
   ],
   "source": [
    "mean_score"
   ]
  },
  {
   "cell_type": "code",
   "execution_count": 517,
   "metadata": {
    "id": "zz1UZyb90PBc"
   },
   "outputs": [
    {
     "name": "stdout",
     "output_type": "stream",
     "text": [
      "[16:56:47] WARNING: C:/Users/Administrator/workspace/xgboost-win64_release_1.3.0/src/learner.cc:1061: Starting in XGBoost 1.3.0, the default evaluation metric used with the objective 'binary:logistic' was changed from 'error' to 'logloss'. Explicitly set eval_metric if you'd like to restore the old behavior.\n",
      "[16:56:59] WARNING: C:/Users/Administrator/workspace/xgboost-win64_release_1.3.0/src/learner.cc:1061: Starting in XGBoost 1.3.0, the default evaluation metric used with the objective 'binary:logistic' was changed from 'error' to 'logloss'. Explicitly set eval_metric if you'd like to restore the old behavior.\n",
      "[16:57:12] WARNING: C:/Users/Administrator/workspace/xgboost-win64_release_1.3.0/src/learner.cc:1061: Starting in XGBoost 1.3.0, the default evaluation metric used with the objective 'binary:logistic' was changed from 'error' to 'logloss'. Explicitly set eval_metric if you'd like to restore the old behavior.\n",
      "[16:57:25] WARNING: C:/Users/Administrator/workspace/xgboost-win64_release_1.3.0/src/learner.cc:1061: Starting in XGBoost 1.3.0, the default evaluation metric used with the objective 'binary:logistic' was changed from 'error' to 'logloss'. Explicitly set eval_metric if you'd like to restore the old behavior.\n"
     ]
    }
   ],
   "source": [
    "# leave-one-task-out-shuffed test\n",
    "cv = KFold(n_splits=4,shuffle=True,random_state=42)\n",
    "\n",
    "scores = cross_val_score(estimator=hm_xgb_ros.rd_model,cv=cv,X=X,y=y)\n",
    "\n",
    "mean_score = np.mean(scores)\n"
   ]
  },
  {
   "cell_type": "code",
   "execution_count": 518,
   "metadata": {
    "id": "Pc4AEhkH0PBc"
   },
   "outputs": [
    {
     "data": {
      "text/plain": [
       "array([0.31666667, 0.375     , 0.36666667, 0.425     ])"
      ]
     },
     "execution_count": 518,
     "metadata": {},
     "output_type": "execute_result"
    }
   ],
   "source": [
    "scores"
   ]
  },
  {
   "cell_type": "code",
   "execution_count": 519,
   "metadata": {
    "id": "IZONW9Eg0PBc"
   },
   "outputs": [
    {
     "data": {
      "text/plain": [
       "0.37083333333333335"
      ]
     },
     "execution_count": 519,
     "metadata": {},
     "output_type": "execute_result"
    }
   ],
   "source": [
    "mean_score"
   ]
  },
  {
   "cell_type": "code",
   "execution_count": null,
   "metadata": {
    "id": "J0yH0nP80PBc"
   },
   "outputs": [],
   "source": []
  },
  {
   "cell_type": "code",
   "execution_count": 520,
   "metadata": {
    "id": "f_XTLXOd0PBc"
   },
   "outputs": [
    {
     "name": "stdout",
     "output_type": "stream",
     "text": [
      "[16:57:37] WARNING: C:/Users/Administrator/workspace/xgboost-win64_release_1.3.0/src/learner.cc:1061: Starting in XGBoost 1.3.0, the default evaluation metric used with the objective 'binary:logistic' was changed from 'error' to 'logloss'. Explicitly set eval_metric if you'd like to restore the old behavior.\n",
      "[16:57:53] WARNING: C:/Users/Administrator/workspace/xgboost-win64_release_1.3.0/src/learner.cc:1061: Starting in XGBoost 1.3.0, the default evaluation metric used with the objective 'binary:logistic' was changed from 'error' to 'logloss'. Explicitly set eval_metric if you'd like to restore the old behavior.\n",
      "[16:58:09] WARNING: C:/Users/Administrator/workspace/xgboost-win64_release_1.3.0/src/learner.cc:1061: Starting in XGBoost 1.3.0, the default evaluation metric used with the objective 'binary:logistic' was changed from 'error' to 'logloss'. Explicitly set eval_metric if you'd like to restore the old behavior.\n",
      "[16:58:26] WARNING: C:/Users/Administrator/workspace/xgboost-win64_release_1.3.0/src/learner.cc:1061: Starting in XGBoost 1.3.0, the default evaluation metric used with the objective 'binary:logistic' was changed from 'error' to 'logloss'. Explicitly set eval_metric if you'd like to restore the old behavior.\n",
      "[16:58:41] WARNING: C:/Users/Administrator/workspace/xgboost-win64_release_1.3.0/src/learner.cc:1061: Starting in XGBoost 1.3.0, the default evaluation metric used with the objective 'binary:logistic' was changed from 'error' to 'logloss'. Explicitly set eval_metric if you'd like to restore the old behavior.\n",
      "[16:58:56] WARNING: C:/Users/Administrator/workspace/xgboost-win64_release_1.3.0/src/learner.cc:1061: Starting in XGBoost 1.3.0, the default evaluation metric used with the objective 'binary:logistic' was changed from 'error' to 'logloss'. Explicitly set eval_metric if you'd like to restore the old behavior.\n",
      "[16:59:11] WARNING: C:/Users/Administrator/workspace/xgboost-win64_release_1.3.0/src/learner.cc:1061: Starting in XGBoost 1.3.0, the default evaluation metric used with the objective 'binary:logistic' was changed from 'error' to 'logloss'. Explicitly set eval_metric if you'd like to restore the old behavior.\n",
      "[16:59:26] WARNING: C:/Users/Administrator/workspace/xgboost-win64_release_1.3.0/src/learner.cc:1061: Starting in XGBoost 1.3.0, the default evaluation metric used with the objective 'binary:logistic' was changed from 'error' to 'logloss'. Explicitly set eval_metric if you'd like to restore the old behavior.\n"
     ]
    }
   ],
   "source": [
    "# leave-one-run-out test\n",
    "cv = KFold(n_splits=8,shuffle=False)\n",
    "\n",
    "scores = cross_val_score(estimator=hm_xgb_ros.rd_model,cv=cv,X=X,y=y)\n",
    "\n",
    "mean_score = np.mean(scores)\n"
   ]
  },
  {
   "cell_type": "code",
   "execution_count": 521,
   "metadata": {
    "id": "ejufwDue0PBd"
   },
   "outputs": [
    {
     "data": {
      "text/plain": [
       "array([0.45      , 0.5       , 0.33333333, 0.53333333, 0.43333333,\n",
       "       0.55      , 0.55      , 0.58333333])"
      ]
     },
     "execution_count": 521,
     "metadata": {},
     "output_type": "execute_result"
    }
   ],
   "source": [
    "scores"
   ]
  },
  {
   "cell_type": "code",
   "execution_count": 522,
   "metadata": {
    "id": "f0rOZsMN0PBd"
   },
   "outputs": [
    {
     "data": {
      "text/plain": [
       "0.4916666666666667"
      ]
     },
     "execution_count": 522,
     "metadata": {},
     "output_type": "execute_result"
    }
   ],
   "source": [
    "mean_score"
   ]
  },
  {
   "cell_type": "code",
   "execution_count": 523,
   "metadata": {
    "id": "MLvMmLOC0PBd"
   },
   "outputs": [
    {
     "name": "stdout",
     "output_type": "stream",
     "text": [
      "[16:59:42] WARNING: C:/Users/Administrator/workspace/xgboost-win64_release_1.3.0/src/learner.cc:1061: Starting in XGBoost 1.3.0, the default evaluation metric used with the objective 'binary:logistic' was changed from 'error' to 'logloss'. Explicitly set eval_metric if you'd like to restore the old behavior.\n",
      "[16:59:58] WARNING: C:/Users/Administrator/workspace/xgboost-win64_release_1.3.0/src/learner.cc:1061: Starting in XGBoost 1.3.0, the default evaluation metric used with the objective 'binary:logistic' was changed from 'error' to 'logloss'. Explicitly set eval_metric if you'd like to restore the old behavior.\n",
      "[17:00:13] WARNING: C:/Users/Administrator/workspace/xgboost-win64_release_1.3.0/src/learner.cc:1061: Starting in XGBoost 1.3.0, the default evaluation metric used with the objective 'binary:logistic' was changed from 'error' to 'logloss'. Explicitly set eval_metric if you'd like to restore the old behavior.\n",
      "[17:00:29] WARNING: C:/Users/Administrator/workspace/xgboost-win64_release_1.3.0/src/learner.cc:1061: Starting in XGBoost 1.3.0, the default evaluation metric used with the objective 'binary:logistic' was changed from 'error' to 'logloss'. Explicitly set eval_metric if you'd like to restore the old behavior.\n",
      "[17:00:44] WARNING: C:/Users/Administrator/workspace/xgboost-win64_release_1.3.0/src/learner.cc:1061: Starting in XGBoost 1.3.0, the default evaluation metric used with the objective 'binary:logistic' was changed from 'error' to 'logloss'. Explicitly set eval_metric if you'd like to restore the old behavior.\n",
      "[17:01:00] WARNING: C:/Users/Administrator/workspace/xgboost-win64_release_1.3.0/src/learner.cc:1061: Starting in XGBoost 1.3.0, the default evaluation metric used with the objective 'binary:logistic' was changed from 'error' to 'logloss'. Explicitly set eval_metric if you'd like to restore the old behavior.\n",
      "[17:01:15] WARNING: C:/Users/Administrator/workspace/xgboost-win64_release_1.3.0/src/learner.cc:1061: Starting in XGBoost 1.3.0, the default evaluation metric used with the objective 'binary:logistic' was changed from 'error' to 'logloss'. Explicitly set eval_metric if you'd like to restore the old behavior.\n",
      "[17:01:31] WARNING: C:/Users/Administrator/workspace/xgboost-win64_release_1.3.0/src/learner.cc:1061: Starting in XGBoost 1.3.0, the default evaluation metric used with the objective 'binary:logistic' was changed from 'error' to 'logloss'. Explicitly set eval_metric if you'd like to restore the old behavior.\n"
     ]
    }
   ],
   "source": [
    "# leave-one-run-out-shuffed test\n",
    "cv = KFold(n_splits=8,shuffle=True,random_state=42)\n",
    "\n",
    "\n",
    "\n",
    "scores = cross_val_score(estimator=hm_xgb_ros.rd_model,cv=cv,X=X,y=y)\n",
    "\n",
    "mean_score = np.mean(scores)\n"
   ]
  },
  {
   "cell_type": "code",
   "execution_count": 524,
   "metadata": {
    "id": "tMpVsZzS0PBd"
   },
   "outputs": [
    {
     "data": {
      "text/plain": [
       "array([0.31666667, 0.23333333, 0.36666667, 0.18333333, 0.31666667,\n",
       "       0.3       , 0.5       , 0.25      ])"
      ]
     },
     "execution_count": 524,
     "metadata": {},
     "output_type": "execute_result"
    }
   ],
   "source": [
    "scores"
   ]
  },
  {
   "cell_type": "code",
   "execution_count": 525,
   "metadata": {
    "id": "13om3syO0PBd"
   },
   "outputs": [
    {
     "data": {
      "text/plain": [
       "0.30833333333333335"
      ]
     },
     "execution_count": 525,
     "metadata": {},
     "output_type": "execute_result"
    }
   ],
   "source": [
    "mean_score"
   ]
  },
  {
   "cell_type": "code",
   "execution_count": 526,
   "metadata": {
    "id": "9kuC5h0B0PBd"
   },
   "outputs": [],
   "source": [
    "# other metrics + graphs\n",
    "\n",
    "\n"
   ]
  },
  {
   "cell_type": "code",
   "execution_count": null,
   "metadata": {
    "id": "55_ocXPFoH8Z"
   },
   "outputs": [],
   "source": []
  },
  {
   "cell_type": "code",
   "execution_count": null,
   "metadata": {
    "id": "Wzk61CezoI2E"
   },
   "outputs": [],
   "source": []
  },
  {
   "cell_type": "code",
   "execution_count": null,
   "metadata": {
    "id": "YUIZoGclSNMr"
   },
   "outputs": [],
   "source": []
  },
  {
   "cell_type": "code",
   "execution_count": null,
   "metadata": {
    "id": "n4DB9nM9WS_I"
   },
   "outputs": [],
   "source": []
  }
 ],
 "metadata": {
  "colab": {
   "collapsed_sections": [],
   "name": "Machine Learning Computation - constant - full",
   "provenance": [
    {
     "file_id": "1wV98L2ux7aXgacLTPCET4rezuozEXbNB",
     "timestamp": 1606814445981
    },
    {
     "file_id": "1FKzRRIZhxD6H3s8wEXUtnoGk7FOlng8M",
     "timestamp": 1605987313010
    },
    {
     "file_id": "https://github.com/fastai/fastai/blob/master/nbs/44_tutorial.tabular.ipynb",
     "timestamp": 1605742460785
    }
   ]
  },
  "jupytext": {
   "split_at_heading": true
  },
  "kernelspec": {
   "display_name": "CEA",
   "language": "python",
   "name": "cea"
  },
  "language_info": {
   "codemirror_mode": {
    "name": "ipython",
    "version": 3
   },
   "file_extension": ".py",
   "mimetype": "text/x-python",
   "name": "python",
   "nbconvert_exporter": "python",
   "pygments_lexer": "ipython3",
   "version": "3.8.5"
  }
 },
 "nbformat": 4,
 "nbformat_minor": 1
}
