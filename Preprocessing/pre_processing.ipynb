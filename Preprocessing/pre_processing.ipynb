{
 "cells": [
  {
   "cell_type": "markdown",
   "metadata": {},
   "source": [
    "## Dataset specification"
   ]
  },
  {
   "cell_type": "markdown",
   "metadata": {},
   "source": [
    "Explain Dataset Principle, link, paradigm of interest\n",
    "The (subject, session) that we're gonna grab"
   ]
  },
  {
   "cell_type": "markdown",
   "metadata": {},
   "source": [
    "### I/O"
   ]
  },
  {
   "cell_type": "markdown",
   "metadata": {},
   "source": [
    "#### Imports"
   ]
  },
  {
   "cell_type": "code",
   "execution_count": 42,
   "metadata": {},
   "outputs": [],
   "source": [
    "import gzip, shutil\n",
    "import time\n",
    "import yaml\n",
    "import glob\n",
    "from nipype.interfaces.matlab import MatlabCommand\n",
    "from nipype.interfaces.spm import SliceTiming, Realign, Coregister, Normalize12\n",
    "MatlabCommand.set_default_matlab_cmd('/Applications/MATLAB_R2020a.app/bin/matlab')\n"
   ]
  },
  {
   "cell_type": "markdown",
   "metadata": {},
   "source": [
    "#### Preferences Paradigm Dataset Variables"
   ]
  },
  {
   "cell_type": "code",
   "execution_count": 2,
   "metadata": {},
   "outputs": [],
   "source": [
    "subject_id = ['01','04','05','06']\n",
    "ses_id = ['19','15']\n",
    "n_run_per_task = 2\n",
    "tasks = ['Houses','Food','Faces','Paintings']\n",
    "path = 'dataset/'\n",
    "experiment_data = dict()"
   ]
  },
  {
   "cell_type": "markdown",
   "metadata": {},
   "source": [
    "#### Recursively Extracting Anatomical and Functional Nii.gz archives "
   ]
  },
  {
   "cell_type": "code",
   "execution_count": 3,
   "metadata": {},
   "outputs": [
    {
     "name": "stdout",
     "output_type": "stream",
     "text": [
      "- Extracting file sub-01_ses-00_anat_sub-01_ses-00_T1w.nii.gz\n",
      "- Extracting file sub-01_ses-19_func_sub-01_ses-19_task-PreferenceHouses_dir-ap_sbref.nii.gz\n",
      "- Extracting file sub-01_ses-19_func_sub-01_ses-19_task-PreferenceFaces_dir-ap_sbref.nii.gz\n",
      "- Extracting file sub-01_ses-19_func_sub-01_ses-19_task-PreferenceFood_dir-ap_sbref.nii.gz\n",
      "- Extracting file sub-01_ses-19_func_sub-01_ses-19_task-PreferencePaintings_dir-ap_sbref.nii.gz\n",
      "- Extracting file sub-01_ses-19_func_sub-01_ses-19_task-PreferenceFood_dir-pa_sbref.nii.gz\n",
      "- Extracting file sub-01_ses-19_func_sub-01_ses-19_task-PreferenceFaces_dir-pa_sbref.nii.gz\n",
      "- Extracting file sub-01_ses-19_func_sub-01_ses-19_task-PreferencePaintings_dir-pa_bold.nii.gz\n",
      "- Extracting file sub-01_ses-19_func_sub-01_ses-19_task-PreferenceFaces_dir-ap_bold.nii.gz\n",
      "- Extracting file sub-01_ses-19_func_sub-01_ses-19_task-PreferenceFood_dir-ap_bold.nii.gz\n",
      "- Extracting file sub-01_ses-19_func_sub-01_ses-19_task-PreferenceHouses_dir-pa_sbref.nii.gz\n",
      "- Extracting file sub-01_ses-19_func_sub-01_ses-19_task-PreferenceHouses_dir-pa_bold.nii.gz\n",
      "- Extracting file sub-01_ses-19_func_sub-01_ses-19_task-PreferencePaintings_dir-ap_bold.nii.gz\n",
      "- Extracting file sub-01_ses-19_func_sub-01_ses-19_task-PreferencePaintings_dir-pa_sbref.nii.gz\n",
      "- Extracting file sub-01_ses-19_func_sub-01_ses-19_task-PreferenceFood_dir-pa_bold.nii.gz\n",
      "- Extracting file sub-01_ses-19_func_sub-01_ses-19_task-PreferenceFaces_dir-pa_bold.nii.gz\n",
      "- Extracting file sub-01_ses-19_func_sub-01_ses-19_task-PreferenceHouses_dir-ap_bold.nii.gz\n",
      "- Extracting file sub-06_ses-00_anat_sub-06_ses-00_T1w.nii.gz\n",
      "- Extracting file sub-06_ses-15_func_sub-06_ses-15_task-PreferenceHouses_dir-ap_bold.nii.gz\n",
      "- Extracting file sub-06_ses-15_func_sub-06_ses-15_task-PreferenceFood_dir-ap_bold.nii.gz\n",
      "- Extracting file sub-06_ses-15_func_sub-06_ses-15_task-PreferencePaintings_dir-ap_bold.nii.gz\n",
      "- Extracting file sub-06_ses-15_func_sub-06_ses-15_task-PreferenceFood_dir-ap_sbref.nii.gz\n",
      "- Extracting file sub-06_ses-15_func_sub-06_ses-15_task-PreferenceFaces_dir-pa_sbref.nii.gz\n",
      "- Extracting file sub-06_ses-15_func_sub-06_ses-15_task-PreferencePaintings_dir-pa_sbref.nii.gz\n",
      "- Extracting file sub-06_ses-15_func_sub-06_ses-15_task-PreferenceHouses_dir-ap_sbref.nii.gz\n",
      "- Extracting file sub-06_ses-15_func_sub-06_ses-15_task-PreferenceFood_dir-pa_bold.nii.gz\n",
      "- Extracting file sub-06_ses-15_func_sub-06_ses-15_task-PreferencePaintings_dir-pa_bold.nii.gz\n",
      "- Extracting file sub-06_ses-15_func_sub-06_ses-15_task-PreferenceHouses_dir-pa_bold.nii.gz\n",
      "- Extracting file sub-06_ses-15_func_sub-06_ses-15_task-PreferenceFaces_dir-pa_bold.nii.gz\n",
      "- Extracting file sub-06_ses-15_func_sub-06_ses-15_task-PreferencePaintings_dir-ap_sbref.nii.gz\n",
      "- Extracting file sub-06_ses-15_func_sub-06_ses-15_task-PreferenceHouses_dir-pa_sbref.nii.gz\n",
      "- Extracting file sub-06_ses-15_func_sub-06_ses-15_task-PreferenceFaces_dir-ap_bold.nii.gz\n",
      "- Extracting file sub-06_ses-15_func_sub-06_ses-15_task-PreferenceFaces_dir-ap_sbref.nii.gz\n",
      "- Extracting file sub-06_ses-15_func_sub-06_ses-15_task-PreferenceFood_dir-pa_sbref.nii.gz\n",
      "- Extracting file sub-05_ses-00_anat_sub-05_ses-00_T1w.nii.gz\n",
      "- Extracting file sub-05_ses-15_func_sub-05_ses-15_task-PreferenceFood_dir-ap_bold.nii.gz\n",
      "- Extracting file sub-05_ses-15_func_sub-05_ses-15_task-PreferenceFood_dir-ap_sbref.nii.gz\n",
      "- Extracting file sub-05_ses-15_func_sub-05_ses-15_task-PreferencePaintings_dir-pa_sbref.nii.gz\n",
      "- Extracting file sub-05_ses-15_func_sub-05_ses-15_task-PreferenceFaces_dir-ap_sbref.nii.gz\n",
      "- Extracting file sub-05_ses-15_func_sub-05_ses-15_task-PreferenceFood_dir-pa_bold.nii.gz\n",
      "- Extracting file sub-05_ses-15_func_sub-05_ses-15_task-PreferenceHouses_dir-ap_sbref.nii.gz\n",
      "- Extracting file sub-05_ses-15_func_sub-05_ses-15_task-PreferenceFaces_dir-pa_sbref.nii.gz\n",
      "- Extracting file sub-05_ses-15_func_sub-05_ses-15_task-PreferenceFaces_dir-ap_bold.nii.gz\n",
      "- Extracting file sub-05_ses-15_func_sub-05_ses-15_task-PreferencePaintings_dir-ap_bold.nii.gz\n",
      "- Extracting file sub-05_ses-15_func_sub-05_ses-15_task-PreferencePaintings_dir-ap_sbref.nii.gz\n",
      "- Extracting file sub-05_ses-15_func_sub-05_ses-15_task-PreferenceFood_dir-pa_sbref.nii.gz\n",
      "- Extracting file sub-05_ses-15_func_sub-05_ses-15_task-PreferenceHouses_dir-pa_bold.nii.gz\n",
      "- Extracting file sub-05_ses-15_func_sub-05_ses-15_task-PreferenceFaces_dir-pa_bold.nii.gz\n",
      "- Extracting file sub-05_ses-15_func_sub-05_ses-15_task-PreferencePaintings_dir-pa_bold.nii.gz\n",
      "- Extracting file sub-05_ses-15_func_sub-05_ses-15_task-PreferenceHouses_dir-pa_sbref.nii.gz\n",
      "- Extracting file sub-05_ses-15_func_sub-05_ses-15_task-PreferenceHouses_dir-ap_bold.nii.gz\n",
      "- Extracting file sub-04_ses-00_anat_sub-04_ses-00_T1w.nii.gz\n",
      "- Extracting file sub-04_ses-15_func_sub-04_ses-15_task-PreferenceFood_dir-pa_sbref.nii.gz\n",
      "- Extracting file sub-04_ses-15_func_sub-04_ses-15_task-PreferenceFaces_dir-ap_bold.nii.gz\n",
      "- Extracting file sub-04_ses-15_func_sub-04_ses-15_task-PreferenceHouses_dir-ap_bold.nii.gz\n",
      "- Extracting file sub-04_ses-15_func_sub-04_ses-15_task-PreferenceFaces_dir-pa_sbref.nii.gz\n",
      "- Extracting file sub-04_ses-15_func_sub-04_ses-15_task-PreferenceFaces_dir-pa_bold.nii.gz\n",
      "- Extracting file sub-04_ses-15_func_sub-04_ses-15_task-PreferenceHouses_dir-ap_sbref.nii.gz\n",
      "- Extracting file sub-04_ses-15_func_sub-04_ses-15_task-PreferencePaintings_dir-pa_sbref.nii.gz\n",
      "- Extracting file sub-04_ses-15_func_sub-04_ses-15_task-PreferenceHouses_dir-pa_bold.nii.gz\n",
      "- Extracting file sub-04_ses-15_func_sub-04_ses-15_task-PreferencePaintings_dir-ap_bold.nii.gz\n",
      "- Extracting file sub-04_ses-15_func_sub-04_ses-15_task-PreferenceFood_dir-pa_bold.nii.gz\n",
      "- Extracting file sub-04_ses-15_func_sub-04_ses-15_task-PreferenceFood_dir-ap_sbref.nii.gz\n",
      "- Extracting file sub-04_ses-15_func_sub-04_ses-15_task-PreferencePaintings_dir-ap_sbref.nii.gz\n",
      "- Extracting file sub-04_ses-15_func_sub-04_ses-15_task-PreferencePaintings_dir-pa_bold.nii.gz\n",
      "- Extracting file sub-04_ses-15_func_sub-04_ses-15_task-PreferenceHouses_dir-pa_sbref.nii.gz\n",
      "- Extracting file sub-04_ses-15_func_sub-04_ses-15_task-PreferenceFaces_dir-ap_sbref.nii.gz\n",
      "- Extracting file sub-04_ses-15_func_sub-04_ses-15_task-PreferenceFood_dir-ap_bold.nii.gz\n",
      "Done Successfully in 20.184698247909544 minutes !\n"
     ]
    }
   ],
   "source": [
    "#Allows processing by the spm matlab underlying engine\n",
    "\n",
    "t1 = time.time()\n",
    "\n",
    "for file in [f for f in glob.glob(path + \"**/**.nii.gz\", recursive=True)]:\n",
    "    \n",
    "    print('- Extracting file {}'.format(file[20:]))\n",
    "    \n",
    "    with gzip.open(file, 'r') as f_in, open(file[:-3], 'wb') as f_out:\n",
    "        shutil.copyfileobj(f_in, f_out)\n",
    "    \n",
    "t2 = time.time()\n",
    "\n",
    "print('Done Successfully in {} minutes !'.format((t2-t1)/60))\n"
   ]
  },
  {
   "cell_type": "markdown",
   "metadata": {},
   "source": [
    "#### Experiment Data Files Paths Extraction"
   ]
  },
  {
   "cell_type": "code",
   "execution_count": 4,
   "metadata": {},
   "outputs": [],
   "source": [
    "#Building a structred dict for any pair (subject,acquisition_type) \n",
    "#with acquisition_type being Anatomical or Functional Data\n",
    "\n",
    "for sub in subject_id:\n",
    "    \n",
    "    experiment_data[sub] = {'func':None,'anat':None}\n",
    "    experiment_data[sub]['func'] = [f[:-3] for f in glob.glob(path + \"**/*func_sub-{}*.nii.gz\".format(sub), recursive=True)]\n",
    "    experiment_data[sub]['anat'] = [f[:-3] for f in glob.glob(path + \"**/*anat_sub-{}*.nii.gz\".format(sub), recursive=True)]\n",
    "    "
   ]
  },
  {
   "cell_type": "markdown",
   "metadata": {},
   "source": [
    "#### Dataset Structure"
   ]
  },
  {
   "cell_type": "code",
   "execution_count": 5,
   "metadata": {},
   "outputs": [
    {
     "name": "stdout",
     "output_type": "stream",
     "text": [
      "'01':\n",
      "  anat:\n",
      "  - dataset/sub-01/anat/sub-01_ses-00_anat_sub-01_ses-00_T1w.nii\n",
      "  func:\n",
      "  - dataset/sub-01/func/sub-01_ses-19_func_sub-01_ses-19_task-PreferenceHouses_dir-ap_sbref.nii\n",
      "  - dataset/sub-01/func/sub-01_ses-19_func_sub-01_ses-19_task-PreferenceFaces_dir-ap_sbref.nii\n",
      "  - dataset/sub-01/func/sub-01_ses-19_func_sub-01_ses-19_task-PreferenceFood_dir-ap_sbref.nii\n",
      "  - dataset/sub-01/func/sub-01_ses-19_func_sub-01_ses-19_task-PreferencePaintings_dir-ap_sbref.nii\n",
      "  - dataset/sub-01/func/sub-01_ses-19_func_sub-01_ses-19_task-PreferenceFood_dir-pa_sbref.nii\n",
      "  - dataset/sub-01/func/sub-01_ses-19_func_sub-01_ses-19_task-PreferenceFaces_dir-pa_sbref.nii\n",
      "  - dataset/sub-01/func/sub-01_ses-19_func_sub-01_ses-19_task-PreferencePaintings_dir-pa_bold.nii\n",
      "  - dataset/sub-01/func/sub-01_ses-19_func_sub-01_ses-19_task-PreferenceFaces_dir-ap_bold.nii\n",
      "  - dataset/sub-01/func/sub-01_ses-19_func_sub-01_ses-19_task-PreferenceFood_dir-ap_bold.nii\n",
      "  - dataset/sub-01/func/sub-01_ses-19_func_sub-01_ses-19_task-PreferenceHouses_dir-pa_sbref.nii\n",
      "  - dataset/sub-01/func/sub-01_ses-19_func_sub-01_ses-19_task-PreferenceHouses_dir-pa_bold.nii\n",
      "  - dataset/sub-01/func/sub-01_ses-19_func_sub-01_ses-19_task-PreferencePaintings_dir-ap_bold.nii\n",
      "  - dataset/sub-01/func/sub-01_ses-19_func_sub-01_ses-19_task-PreferencePaintings_dir-pa_sbref.nii\n",
      "  - dataset/sub-01/func/sub-01_ses-19_func_sub-01_ses-19_task-PreferenceFood_dir-pa_bold.nii\n",
      "  - dataset/sub-01/func/sub-01_ses-19_func_sub-01_ses-19_task-PreferenceFaces_dir-pa_bold.nii\n",
      "  - dataset/sub-01/func/sub-01_ses-19_func_sub-01_ses-19_task-PreferenceHouses_dir-ap_bold.nii\n",
      "'04':\n",
      "  anat:\n",
      "  - dataset/sub-04/anat/sub-04_ses-00_anat_sub-04_ses-00_T1w.nii\n",
      "  func:\n",
      "  - dataset/sub-04/func/sub-04_ses-15_func_sub-04_ses-15_task-PreferenceFood_dir-pa_sbref.nii\n",
      "  - dataset/sub-04/func/sub-04_ses-15_func_sub-04_ses-15_task-PreferenceFaces_dir-ap_bold.nii\n",
      "  - dataset/sub-04/func/sub-04_ses-15_func_sub-04_ses-15_task-PreferenceHouses_dir-ap_bold.nii\n",
      "  - dataset/sub-04/func/sub-04_ses-15_func_sub-04_ses-15_task-PreferenceFaces_dir-pa_sbref.nii\n",
      "  - dataset/sub-04/func/sub-04_ses-15_func_sub-04_ses-15_task-PreferenceFaces_dir-pa_bold.nii\n",
      "  - dataset/sub-04/func/sub-04_ses-15_func_sub-04_ses-15_task-PreferenceHouses_dir-ap_sbref.nii\n",
      "  - dataset/sub-04/func/sub-04_ses-15_func_sub-04_ses-15_task-PreferencePaintings_dir-pa_sbref.nii\n",
      "  - dataset/sub-04/func/sub-04_ses-15_func_sub-04_ses-15_task-PreferenceHouses_dir-pa_bold.nii\n",
      "  - dataset/sub-04/func/sub-04_ses-15_func_sub-04_ses-15_task-PreferencePaintings_dir-ap_bold.nii\n",
      "  - dataset/sub-04/func/sub-04_ses-15_func_sub-04_ses-15_task-PreferenceFood_dir-pa_bold.nii\n",
      "  - dataset/sub-04/func/sub-04_ses-15_func_sub-04_ses-15_task-PreferenceFood_dir-ap_sbref.nii\n",
      "  - dataset/sub-04/func/sub-04_ses-15_func_sub-04_ses-15_task-PreferencePaintings_dir-ap_sbref.nii\n",
      "  - dataset/sub-04/func/sub-04_ses-15_func_sub-04_ses-15_task-PreferencePaintings_dir-pa_bold.nii\n",
      "  - dataset/sub-04/func/sub-04_ses-15_func_sub-04_ses-15_task-PreferenceHouses_dir-pa_sbref.nii\n",
      "  - dataset/sub-04/func/sub-04_ses-15_func_sub-04_ses-15_task-PreferenceFaces_dir-ap_sbref.nii\n",
      "  - dataset/sub-04/func/sub-04_ses-15_func_sub-04_ses-15_task-PreferenceFood_dir-ap_bold.nii\n",
      "'05':\n",
      "  anat:\n",
      "  - dataset/sub-05/anat/sub-05_ses-00_anat_sub-05_ses-00_T1w.nii\n",
      "  func:\n",
      "  - dataset/sub-05/func/sub-05_ses-15_func_sub-05_ses-15_task-PreferenceFood_dir-ap_bold.nii\n",
      "  - dataset/sub-05/func/sub-05_ses-15_func_sub-05_ses-15_task-PreferenceFood_dir-ap_sbref.nii\n",
      "  - dataset/sub-05/func/sub-05_ses-15_func_sub-05_ses-15_task-PreferencePaintings_dir-pa_sbref.nii\n",
      "  - dataset/sub-05/func/sub-05_ses-15_func_sub-05_ses-15_task-PreferenceFaces_dir-ap_sbref.nii\n",
      "  - dataset/sub-05/func/sub-05_ses-15_func_sub-05_ses-15_task-PreferenceFood_dir-pa_bold.nii\n",
      "  - dataset/sub-05/func/sub-05_ses-15_func_sub-05_ses-15_task-PreferenceHouses_dir-ap_sbref.nii\n",
      "  - dataset/sub-05/func/sub-05_ses-15_func_sub-05_ses-15_task-PreferenceFaces_dir-pa_sbref.nii\n",
      "  - dataset/sub-05/func/sub-05_ses-15_func_sub-05_ses-15_task-PreferenceFaces_dir-ap_bold.nii\n",
      "  - dataset/sub-05/func/sub-05_ses-15_func_sub-05_ses-15_task-PreferencePaintings_dir-ap_bold.nii\n",
      "  - dataset/sub-05/func/sub-05_ses-15_func_sub-05_ses-15_task-PreferencePaintings_dir-ap_sbref.nii\n",
      "  - dataset/sub-05/func/sub-05_ses-15_func_sub-05_ses-15_task-PreferenceFood_dir-pa_sbref.nii\n",
      "  - dataset/sub-05/func/sub-05_ses-15_func_sub-05_ses-15_task-PreferenceHouses_dir-pa_bold.nii\n",
      "  - dataset/sub-05/func/sub-05_ses-15_func_sub-05_ses-15_task-PreferenceFaces_dir-pa_bold.nii\n",
      "  - dataset/sub-05/func/sub-05_ses-15_func_sub-05_ses-15_task-PreferencePaintings_dir-pa_bold.nii\n",
      "  - dataset/sub-05/func/sub-05_ses-15_func_sub-05_ses-15_task-PreferenceHouses_dir-pa_sbref.nii\n",
      "  - dataset/sub-05/func/sub-05_ses-15_func_sub-05_ses-15_task-PreferenceHouses_dir-ap_bold.nii\n",
      "'06':\n",
      "  anat:\n",
      "  - dataset/sub-06/anat/sub-06_ses-00_anat_sub-06_ses-00_T1w.nii\n",
      "  func:\n",
      "  - dataset/sub-06/func/sub-06_ses-15_func_sub-06_ses-15_task-PreferenceHouses_dir-ap_bold.nii\n",
      "  - dataset/sub-06/func/sub-06_ses-15_func_sub-06_ses-15_task-PreferenceFood_dir-ap_bold.nii\n",
      "  - dataset/sub-06/func/sub-06_ses-15_func_sub-06_ses-15_task-PreferencePaintings_dir-ap_bold.nii\n",
      "  - dataset/sub-06/func/sub-06_ses-15_func_sub-06_ses-15_task-PreferenceFood_dir-ap_sbref.nii\n",
      "  - dataset/sub-06/func/sub-06_ses-15_func_sub-06_ses-15_task-PreferenceFaces_dir-pa_sbref.nii\n",
      "  - dataset/sub-06/func/sub-06_ses-15_func_sub-06_ses-15_task-PreferencePaintings_dir-pa_sbref.nii\n",
      "  - dataset/sub-06/func/sub-06_ses-15_func_sub-06_ses-15_task-PreferenceHouses_dir-ap_sbref.nii\n",
      "  - dataset/sub-06/func/sub-06_ses-15_func_sub-06_ses-15_task-PreferenceFood_dir-pa_bold.nii\n",
      "  - dataset/sub-06/func/sub-06_ses-15_func_sub-06_ses-15_task-PreferencePaintings_dir-pa_bold.nii\n",
      "  - dataset/sub-06/func/sub-06_ses-15_func_sub-06_ses-15_task-PreferenceHouses_dir-pa_bold.nii\n",
      "  - dataset/sub-06/func/sub-06_ses-15_func_sub-06_ses-15_task-PreferenceFaces_dir-pa_bold.nii\n",
      "  - dataset/sub-06/func/sub-06_ses-15_func_sub-06_ses-15_task-PreferencePaintings_dir-ap_sbref.nii\n",
      "  - dataset/sub-06/func/sub-06_ses-15_func_sub-06_ses-15_task-PreferenceHouses_dir-pa_sbref.nii\n",
      "  - dataset/sub-06/func/sub-06_ses-15_func_sub-06_ses-15_task-PreferenceFaces_dir-ap_bold.nii\n",
      "  - dataset/sub-06/func/sub-06_ses-15_func_sub-06_ses-15_task-PreferenceFaces_dir-ap_sbref.nii\n",
      "  - dataset/sub-06/func/sub-06_ses-15_func_sub-06_ses-15_task-PreferenceFood_dir-pa_sbref.nii\n",
      "\n"
     ]
    }
   ],
   "source": [
    "print(yaml.dump(experiment_data))"
   ]
  },
  {
   "cell_type": "markdown",
   "metadata": {},
   "source": [
    "## fMRI Data Preprocessing Pipeline"
   ]
  },
  {
   "cell_type": "markdown",
   "metadata": {},
   "source": [
    "#### Preprocessing Strategy"
   ]
  },
  {
   "cell_type": "markdown",
   "metadata": {},
   "source": [
    "![Preprocesing Streams](preprocessing_streams.png)"
   ]
  },
  {
   "cell_type": "markdown",
   "metadata": {},
   "source": [
    "The preprocessing strategy is articulated on the level of analysis performed. As shown on the diagram, the difference between the two approches stems from whether or not the *Spatial Normalization* step is included. This distinguishing feature revolves around two considerations:\n",
    "    \n",
    "   - Analytical consideration Willingness to not introduce too many unecessary transformations in the first level analysis pipeline as Spatial Normalization is intented to correct spatial structural variabilty amongs different subjects.\n",
    "   - Practical consideration : Computationally intensive step that will drastically improve computation time if avoided when its benifit is not evident.\n",
    "   \n",
    "The structuration of each distinct processing stream is based upon Poldrack, R., Mumford, J., & Nichols, T. (2011). *Preprocessing fMRI data. In Handbook of Functional MRI Data Analysis* (pp. 34-52). Cambridge: Cambridge University Press.\n",
    "\n",
    "The avoidance of structural-functional co-registration is based upon its computationnaly intensive nature for my setup and the fact that its avoidance is not an impediment for statistical analysis (cf. Martin Chadwick and Catherine Sebastian Co-registration course).\n",
    "\n",
    "Distorsion Correction is implicit. As we are in the context of posterior-anterior phase encoded data, SPM Realign module used in *Motion Correction* account for these benign distorsion (cf.https://en.wikibooks.org/wiki/Neuroimaging_Data_Processing/Field_map_correction). Moreover, we know from litterature on the neural correlates we want to assess that they're typically not lying in air/tissue interfaces.\n",
    "\n",
    "Smoothing is directly performed in Python just before analysis as it allows better computation performance relative to the SPM interface.\n",
    "\n",
    "Additionnaly, the script below include/exclude Slice Timing Correction to assess its potential impact on later statistical analysis."
   ]
  },
  {
   "cell_type": "markdown",
   "metadata": {},
   "source": [
    "#### fMRI Acquisition Specification"
   ]
  },
  {
   "cell_type": "code",
   "execution_count": 44,
   "metadata": {},
   "outputs": [],
   "source": [
    "t_r = 2.0\n",
    "voxel_sizes = [1.5,1.5,1.5]\n",
    "slice_timings = [0.0, 1.0225, 0.0625, 1.085, 0.1275, 1.15, 0.1925, 1.2125, 0.255, 1.2775, 0.32, 1.34, 0.3825, 1.405, 0.4475, 1.47, 0.51, 1.5325, 0.575, 1.5975, 0.6375, 1.66, 0.7025, 1.725, 0.765, 1.7875, 0.83, 1.8525, 0.895, 1.915, 0.9575, 0.0, 1.0225, 0.0625, 1.085, 0.1275, 1.15, 0.1925, 1.2125, 0.255, 1.2775, 0.32, 1.34, 0.3825, 1.405, 0.4475, 1.47, 0.51, 1.5325, 0.575, 1.5975, 0.6375, 1.66, 0.7025, 1.725, 0.765, 1.7875, 0.83, 1.8525, 0.895, 1.915, 0.9575, 0.0, 1.0225, 0.0625, 1.085, 0.1275, 1.15, 0.1925, 1.2125, 0.255, 1.2775, 0.32, 1.34, 0.3825, 1.405, 0.4475, 1.47, 0.51, 1.5325, 0.575, 1.5975, 0.6375, 1.66, 0.7025, 1.725, 0.765, 1.7875, 0.83, 1.8525, 0.895, 1.915, 0.9575]\n",
    "slice_ordering =  list(range(1,n_slices+1))\n",
    "mni_template = 'TPM.nii'"
   ]
  },
  {
   "cell_type": "markdown",
   "metadata": {},
   "source": [
    "### Preprocessing Computation "
   ]
  },
  {
   "cell_type": "markdown",
   "metadata": {},
   "source": [
    "#### First Level Analysis Pipeline"
   ]
  },
  {
   "cell_type": "markdown",
   "metadata": {},
   "source": [
    "##### Slice Timing Correction Included"
   ]
  },
  {
   "cell_type": "code",
   "execution_count": 29,
   "metadata": {},
   "outputs": [
    {
     "name": "stdout",
     "output_type": "stream",
     "text": [
      "* * * fMRI Preprocessing Computation * * *\n",
      "\n",
      "\t Processing Subject 01\n",
      "\t \t - sub-01_ses-19_func_sub-01_ses-19_task-PreferencePaintings_dir-pa_bold.nii\n",
      "\t \t \t % Slice Timing Correction\n",
      "\t \t \t % Realignement Motion Correction\n",
      "\t \t - sub-01_ses-19_func_sub-01_ses-19_task-PreferenceFaces_dir-ap_bold.nii\n",
      "\t \t \t % Slice Timing Correction\n",
      "\t \t \t % Realignement Motion Correction\n",
      "\t \t - sub-01_ses-19_func_sub-01_ses-19_task-PreferenceFood_dir-ap_bold.nii\n",
      "\t \t \t % Slice Timing Correction\n",
      "\t \t \t % Realignement Motion Correction\n",
      "\t \t - sub-01_ses-19_func_sub-01_ses-19_task-PreferenceHouses_dir-pa_bold.nii\n",
      "\t \t \t % Slice Timing Correction\n",
      "\t \t \t % Realignement Motion Correction\n",
      "\t \t - sub-01_ses-19_func_sub-01_ses-19_task-PreferencePaintings_dir-ap_bold.nii\n",
      "\t \t \t % Slice Timing Correction\n",
      "\t \t \t % Realignement Motion Correction\n",
      "\t \t - sub-01_ses-19_func_sub-01_ses-19_task-PreferenceFood_dir-pa_bold.nii\n",
      "\t \t \t % Slice Timing Correction\n",
      "\t \t \t % Realignement Motion Correction\n",
      "\t \t - sub-01_ses-19_func_sub-01_ses-19_task-PreferenceFaces_dir-pa_bold.nii\n",
      "\t \t \t % Slice Timing Correction\n",
      "\t \t \t % Realignement Motion Correction\n",
      "\t \t - sub-01_ses-19_func_sub-01_ses-19_task-PreferenceHouses_dir-ap_bold.nii\n",
      "\t \t \t % Slice Timing Correction\n",
      "\t \t \t % Realignement Motion Correction\n",
      "\t Processing Subject 04\n",
      "\t \t - sub-04_ses-15_func_sub-04_ses-15_task-PreferenceFaces_dir-ap_bold.nii\n",
      "\t \t \t % Slice Timing Correction\n",
      "\t \t \t % Realignement Motion Correction\n",
      "\t \t - sub-04_ses-15_func_sub-04_ses-15_task-PreferenceHouses_dir-ap_bold.nii\n",
      "\t \t \t % Slice Timing Correction\n",
      "\t \t \t % Realignement Motion Correction\n",
      "\t \t - sub-04_ses-15_func_sub-04_ses-15_task-PreferenceFaces_dir-pa_bold.nii\n",
      "\t \t \t % Slice Timing Correction\n",
      "\t \t \t % Realignement Motion Correction\n",
      "\t \t - sub-04_ses-15_func_sub-04_ses-15_task-PreferenceHouses_dir-pa_bold.nii\n",
      "\t \t \t % Slice Timing Correction\n",
      "\t \t \t % Realignement Motion Correction\n",
      "\t \t - sub-04_ses-15_func_sub-04_ses-15_task-PreferencePaintings_dir-ap_bold.nii\n",
      "\t \t \t % Slice Timing Correction\n",
      "\t \t \t % Realignement Motion Correction\n",
      "\t \t - sub-04_ses-15_func_sub-04_ses-15_task-PreferenceFood_dir-pa_bold.nii\n",
      "\t \t \t % Slice Timing Correction\n",
      "\t \t \t % Realignement Motion Correction\n",
      "\t \t - sub-04_ses-15_func_sub-04_ses-15_task-PreferencePaintings_dir-pa_bold.nii\n",
      "\t \t \t % Slice Timing Correction\n",
      "\t \t \t % Realignement Motion Correction\n",
      "\t \t - sub-04_ses-15_func_sub-04_ses-15_task-PreferenceFood_dir-ap_bold.nii\n",
      "\t \t \t % Slice Timing Correction\n",
      "\t \t \t % Realignement Motion Correction\n",
      "\t Processing Subject 05\n",
      "\t \t - sub-05_ses-15_func_sub-05_ses-15_task-PreferenceFood_dir-ap_bold.nii\n",
      "\t \t \t % Slice Timing Correction\n",
      "\t \t \t % Realignement Motion Correction\n",
      "\t \t - sub-05_ses-15_func_sub-05_ses-15_task-PreferenceFood_dir-pa_bold.nii\n",
      "\t \t \t % Slice Timing Correction\n",
      "\t \t \t % Realignement Motion Correction\n",
      "\t \t - sub-05_ses-15_func_sub-05_ses-15_task-PreferenceFaces_dir-ap_bold.nii\n",
      "\t \t \t % Slice Timing Correction\n",
      "\t \t \t % Realignement Motion Correction\n",
      "\t \t - sub-05_ses-15_func_sub-05_ses-15_task-PreferencePaintings_dir-ap_bold.nii\n",
      "\t \t \t % Slice Timing Correction\n",
      "\t \t \t % Realignement Motion Correction\n",
      "\t \t - sub-05_ses-15_func_sub-05_ses-15_task-PreferenceHouses_dir-pa_bold.nii\n",
      "\t \t \t % Slice Timing Correction\n",
      "\t \t \t % Realignement Motion Correction\n",
      "\t \t - sub-05_ses-15_func_sub-05_ses-15_task-PreferenceFaces_dir-pa_bold.nii\n",
      "\t \t \t % Slice Timing Correction\n",
      "\t \t \t % Realignement Motion Correction\n",
      "\t \t - sub-05_ses-15_func_sub-05_ses-15_task-PreferencePaintings_dir-pa_bold.nii\n",
      "\t \t \t % Slice Timing Correction\n",
      "\t \t \t % Realignement Motion Correction\n",
      "\t \t - sub-05_ses-15_func_sub-05_ses-15_task-PreferenceHouses_dir-ap_bold.nii\n",
      "\t \t \t % Slice Timing Correction\n",
      "\t \t \t % Realignement Motion Correction\n",
      "\t Processing Subject 06\n",
      "\t \t - sub-06_ses-15_func_sub-06_ses-15_task-PreferenceHouses_dir-ap_bold.nii\n",
      "\t \t \t % Slice Timing Correction\n",
      "\t \t \t % Realignement Motion Correction\n",
      "\t \t - sub-06_ses-15_func_sub-06_ses-15_task-PreferenceFood_dir-ap_bold.nii\n",
      "\t \t \t % Slice Timing Correction\n",
      "\t \t \t % Realignement Motion Correction\n",
      "\t \t - sub-06_ses-15_func_sub-06_ses-15_task-PreferencePaintings_dir-ap_bold.nii\n",
      "\t \t \t % Slice Timing Correction\n",
      "\t \t \t % Realignement Motion Correction\n",
      "\t \t - sub-06_ses-15_func_sub-06_ses-15_task-PreferenceFood_dir-pa_bold.nii\n",
      "\t \t \t % Slice Timing Correction\n",
      "\t \t \t % Realignement Motion Correction\n",
      "\t \t - sub-06_ses-15_func_sub-06_ses-15_task-PreferencePaintings_dir-pa_bold.nii\n",
      "\t \t \t % Slice Timing Correction\n",
      "\t \t \t % Realignement Motion Correction\n",
      "\t \t - sub-06_ses-15_func_sub-06_ses-15_task-PreferenceHouses_dir-pa_bold.nii\n",
      "\t \t \t % Slice Timing Correction\n",
      "\t \t \t % Realignement Motion Correction\n",
      "\t \t - sub-06_ses-15_func_sub-06_ses-15_task-PreferenceFaces_dir-pa_bold.nii\n",
      "\t \t \t % Slice Timing Correction\n",
      "\t \t \t % Realignement Motion Correction\n",
      "\t \t - sub-06_ses-15_func_sub-06_ses-15_task-PreferenceFaces_dir-ap_bold.nii\n",
      "\t \t \t % Slice Timing Correction\n",
      "\t \t \t % Realignement Motion Correction\n",
      "Done Successfully in 686.4674100796382 minutes !\n"
     ]
    }
   ],
   "source": [
    "t1 = time.time()\n",
    "print('* '*3 + 'fMRI Preprocessing Computation' + ' *'*3 + '\\n' )\n",
    "\n",
    "for sub in subject_id:\n",
    "    \n",
    "    print('\\t Processing Subject {}'.format(sub))\n",
    "    \n",
    "    \n",
    "    \n",
    "    for func_data in experiment_data[sub]['func']:\n",
    "        \n",
    "        if func_data[-9:-4] == 'sbref':\n",
    "            \n",
    "            pass\n",
    "        \n",
    "        else:\n",
    "            \n",
    "            print('\\t \\t - {}'.format(func_data[20:]))\n",
    "\n",
    "            a_func = func_data[:20] +'a'+ func_data[20:]\n",
    "            r_func = a_func[:20] +'r'+ a_func[20:]\n",
    "            \n",
    "            \n",
    "            # Slice Timing\n",
    "            print('\\t \\t \\t % Slice Timing Correction')\n",
    "            st = SliceTiming()\n",
    "            st.inputs.in_files = func_data\n",
    "            st.inputs.num_slices = n_slices\n",
    "            st.inputs.time_repetition = t_r\n",
    "            st.inputs.time_acquisition = t_r - t_r/n_slices\n",
    "            st.inputs.slice_order = slice_ordering\n",
    "            st.inputs.ref_slice = 1\n",
    "            st.run()\n",
    "\n",
    "            # Realignement (Motion Correction)\n",
    "            print('\\t \\t \\t % Realignement Motion Correction')\n",
    "            realign = Realign()\n",
    "            realign.inputs.in_files = a_func\n",
    "            realign.inputs.register_to_mean = True\n",
    "            realign.run() \n",
    "            \n",
    "            \n",
    "            #Too Much Computationaly intensive (extensive amount of time spent)\n",
    "            # Coregistration\n",
    "            #print('\\t \\t \\t % Coregistration')\n",
    "            #coreg = Coregister()\n",
    "            #coreg.inputs.target = experiment_data[sub]['anat'][0]\n",
    "            #coreg.inputs.source = r_func\n",
    "            #coreg.out_prefix ='w'\n",
    "            #coreg.run() \n",
    "\n",
    "    \n",
    "\n",
    "t2 = time.time()\n",
    "\n",
    "print('Done Successfully in {} minutes !'.format((t2-t1)/60))\n",
    "\n",
    "\n"
   ]
  },
  {
   "cell_type": "markdown",
   "metadata": {},
   "source": [
    "##### Slice Timing Correction Not Included"
   ]
  },
  {
   "cell_type": "code",
   "execution_count": 29,
   "metadata": {},
   "outputs": [
    {
     "name": "stdout",
     "output_type": "stream",
     "text": [
      "* * * fMRI Preprocessing Computation * * *\n",
      "\n",
      "\t Processing Subject 01\n",
      "\t \t - sub-01_ses-19_func_sub-01_ses-19_task-PreferencePaintings_dir-pa_bold.nii\n",
      "\t \t \t % Slice Timing Correction\n",
      "\t \t \t % Realignement Motion Correction\n",
      "\t \t - sub-01_ses-19_func_sub-01_ses-19_task-PreferenceFaces_dir-ap_bold.nii\n",
      "\t \t \t % Slice Timing Correction\n",
      "\t \t \t % Realignement Motion Correction\n",
      "\t \t - sub-01_ses-19_func_sub-01_ses-19_task-PreferenceFood_dir-ap_bold.nii\n",
      "\t \t \t % Slice Timing Correction\n",
      "\t \t \t % Realignement Motion Correction\n",
      "\t \t - sub-01_ses-19_func_sub-01_ses-19_task-PreferenceHouses_dir-pa_bold.nii\n",
      "\t \t \t % Slice Timing Correction\n",
      "\t \t \t % Realignement Motion Correction\n",
      "\t \t - sub-01_ses-19_func_sub-01_ses-19_task-PreferencePaintings_dir-ap_bold.nii\n",
      "\t \t \t % Slice Timing Correction\n",
      "\t \t \t % Realignement Motion Correction\n",
      "\t \t - sub-01_ses-19_func_sub-01_ses-19_task-PreferenceFood_dir-pa_bold.nii\n",
      "\t \t \t % Slice Timing Correction\n",
      "\t \t \t % Realignement Motion Correction\n",
      "\t \t - sub-01_ses-19_func_sub-01_ses-19_task-PreferenceFaces_dir-pa_bold.nii\n",
      "\t \t \t % Slice Timing Correction\n",
      "\t \t \t % Realignement Motion Correction\n",
      "\t \t - sub-01_ses-19_func_sub-01_ses-19_task-PreferenceHouses_dir-ap_bold.nii\n",
      "\t \t \t % Slice Timing Correction\n",
      "\t \t \t % Realignement Motion Correction\n",
      "\t Processing Subject 04\n",
      "\t \t - sub-04_ses-15_func_sub-04_ses-15_task-PreferenceFaces_dir-ap_bold.nii\n",
      "\t \t \t % Slice Timing Correction\n",
      "\t \t \t % Realignement Motion Correction\n",
      "\t \t - sub-04_ses-15_func_sub-04_ses-15_task-PreferenceHouses_dir-ap_bold.nii\n",
      "\t \t \t % Slice Timing Correction\n",
      "\t \t \t % Realignement Motion Correction\n",
      "\t \t - sub-04_ses-15_func_sub-04_ses-15_task-PreferenceFaces_dir-pa_bold.nii\n",
      "\t \t \t % Slice Timing Correction\n",
      "\t \t \t % Realignement Motion Correction\n",
      "\t \t - sub-04_ses-15_func_sub-04_ses-15_task-PreferenceHouses_dir-pa_bold.nii\n",
      "\t \t \t % Slice Timing Correction\n",
      "\t \t \t % Realignement Motion Correction\n",
      "\t \t - sub-04_ses-15_func_sub-04_ses-15_task-PreferencePaintings_dir-ap_bold.nii\n",
      "\t \t \t % Slice Timing Correction\n",
      "\t \t \t % Realignement Motion Correction\n",
      "\t \t - sub-04_ses-15_func_sub-04_ses-15_task-PreferenceFood_dir-pa_bold.nii\n",
      "\t \t \t % Slice Timing Correction\n",
      "\t \t \t % Realignement Motion Correction\n",
      "\t \t - sub-04_ses-15_func_sub-04_ses-15_task-PreferencePaintings_dir-pa_bold.nii\n",
      "\t \t \t % Slice Timing Correction\n",
      "\t \t \t % Realignement Motion Correction\n",
      "\t \t - sub-04_ses-15_func_sub-04_ses-15_task-PreferenceFood_dir-ap_bold.nii\n",
      "\t \t \t % Slice Timing Correction\n",
      "\t \t \t % Realignement Motion Correction\n",
      "\t Processing Subject 05\n",
      "\t \t - sub-05_ses-15_func_sub-05_ses-15_task-PreferenceFood_dir-ap_bold.nii\n",
      "\t \t \t % Slice Timing Correction\n",
      "\t \t \t % Realignement Motion Correction\n",
      "\t \t - sub-05_ses-15_func_sub-05_ses-15_task-PreferenceFood_dir-pa_bold.nii\n",
      "\t \t \t % Slice Timing Correction\n",
      "\t \t \t % Realignement Motion Correction\n",
      "\t \t - sub-05_ses-15_func_sub-05_ses-15_task-PreferenceFaces_dir-ap_bold.nii\n",
      "\t \t \t % Slice Timing Correction\n",
      "\t \t \t % Realignement Motion Correction\n",
      "\t \t - sub-05_ses-15_func_sub-05_ses-15_task-PreferencePaintings_dir-ap_bold.nii\n",
      "\t \t \t % Slice Timing Correction\n",
      "\t \t \t % Realignement Motion Correction\n",
      "\t \t - sub-05_ses-15_func_sub-05_ses-15_task-PreferenceHouses_dir-pa_bold.nii\n",
      "\t \t \t % Slice Timing Correction\n",
      "\t \t \t % Realignement Motion Correction\n",
      "\t \t - sub-05_ses-15_func_sub-05_ses-15_task-PreferenceFaces_dir-pa_bold.nii\n",
      "\t \t \t % Slice Timing Correction\n",
      "\t \t \t % Realignement Motion Correction\n",
      "\t \t - sub-05_ses-15_func_sub-05_ses-15_task-PreferencePaintings_dir-pa_bold.nii\n",
      "\t \t \t % Slice Timing Correction\n",
      "\t \t \t % Realignement Motion Correction\n",
      "\t \t - sub-05_ses-15_func_sub-05_ses-15_task-PreferenceHouses_dir-ap_bold.nii\n",
      "\t \t \t % Slice Timing Correction\n",
      "\t \t \t % Realignement Motion Correction\n",
      "\t Processing Subject 06\n",
      "\t \t - sub-06_ses-15_func_sub-06_ses-15_task-PreferenceHouses_dir-ap_bold.nii\n",
      "\t \t \t % Slice Timing Correction\n",
      "\t \t \t % Realignement Motion Correction\n",
      "\t \t - sub-06_ses-15_func_sub-06_ses-15_task-PreferenceFood_dir-ap_bold.nii\n",
      "\t \t \t % Slice Timing Correction\n",
      "\t \t \t % Realignement Motion Correction\n",
      "\t \t - sub-06_ses-15_func_sub-06_ses-15_task-PreferencePaintings_dir-ap_bold.nii\n",
      "\t \t \t % Slice Timing Correction\n",
      "\t \t \t % Realignement Motion Correction\n",
      "\t \t - sub-06_ses-15_func_sub-06_ses-15_task-PreferenceFood_dir-pa_bold.nii\n",
      "\t \t \t % Slice Timing Correction\n",
      "\t \t \t % Realignement Motion Correction\n",
      "\t \t - sub-06_ses-15_func_sub-06_ses-15_task-PreferencePaintings_dir-pa_bold.nii\n",
      "\t \t \t % Slice Timing Correction\n",
      "\t \t \t % Realignement Motion Correction\n",
      "\t \t - sub-06_ses-15_func_sub-06_ses-15_task-PreferenceHouses_dir-pa_bold.nii\n",
      "\t \t \t % Slice Timing Correction\n",
      "\t \t \t % Realignement Motion Correction\n",
      "\t \t - sub-06_ses-15_func_sub-06_ses-15_task-PreferenceFaces_dir-pa_bold.nii\n",
      "\t \t \t % Slice Timing Correction\n",
      "\t \t \t % Realignement Motion Correction\n",
      "\t \t - sub-06_ses-15_func_sub-06_ses-15_task-PreferenceFaces_dir-ap_bold.nii\n",
      "\t \t \t % Slice Timing Correction\n",
      "\t \t \t % Realignement Motion Correction\n",
      "Done Successfully in 686.4674100796382 minutes !\n"
     ]
    }
   ],
   "source": [
    "t1 = time.time()\n",
    "print('* '*3 + 'fMRI Preprocessing Computation' + ' *'*3 + '\\n' )\n",
    "\n",
    "for sub in subject_id:\n",
    "    \n",
    "    print('\\t Processing Subject {}'.format(sub))\n",
    "    \n",
    "    \n",
    "    \n",
    "    for func_data in experiment_data[sub]['func']:\n",
    "        \n",
    "        if func_data[-9:-4] == 'sbref':\n",
    "            \n",
    "            pass\n",
    "        \n",
    "        else:\n",
    "            \n",
    "            print('\\t \\t - {}'.format(func_data[20:]))\n",
    "\n",
    "            a_func = func_data[:20] +'a'+ func_data[20:]\n",
    "            r_func = a_func[:20] +'r'+ a_func[20:]\n",
    "            \n",
    "            \n",
    "            # Slice Timing\n",
    "            #print('\\t \\t \\t % Slice Timing Correction')\n",
    "            #st = SliceTiming()\n",
    "            #st.inputs.in_files = func_data\n",
    "            #st.inputs.num_slices = n_slices\n",
    "            #st.inputs.time_repetition = t_r\n",
    "            #st.inputs.time_acquisition = t_r - t_r/n_slices\n",
    "            #st.inputs.slice_order = slice_ordering\n",
    "            #st.inputs.ref_slice = 1\n",
    "            #st.run()\n",
    "\n",
    "            # Realignement (Motion Correction)\n",
    "            print('\\t \\t \\t % Realignement Motion Correction')\n",
    "            realign = Realign()\n",
    "            realign.inputs.in_files = a_func\n",
    "            realign.inputs.register_to_mean = True\n",
    "            realign.run() \n",
    "            \n",
    "            \n",
    "            #Too Much Computationaly intensive (extensive amount of time spent)\n",
    "            # Coregistration\n",
    "            #print('\\t \\t \\t % Coregistration')\n",
    "            #coreg = Coregister()\n",
    "            #coreg.inputs.target = experiment_data[sub]['anat'][0]\n",
    "            #coreg.inputs.source = r_func\n",
    "            #coreg.out_prefix ='w'\n",
    "            #coreg.run() \n",
    "\n",
    "    \n",
    "\n",
    "t2 = time.time()\n",
    "\n",
    "print('Done Successfully in {} minutes !'.format((t2-t1)/60))\n",
    "\n",
    "\n"
   ]
  },
  {
   "cell_type": "markdown",
   "metadata": {},
   "source": [
    "#### Second Level Analysis Pipeline Extension"
   ]
  },
  {
   "cell_type": "code",
   "execution_count": null,
   "metadata": {},
   "outputs": [],
   "source": [
    "t1 = time.time()\n",
    "print('* '*3 + 'fMRI Preprocessing Computation' + ' *'*3 + '\\n' )\n",
    "\n",
    "for sub in subject_id:\n",
    "    \n",
    "    print('\\t Processing Subject {}'.format(sub))\n",
    "    \n",
    "    \n",
    "    \n",
    "    for func_data in experiment_data[sub]['func']:\n",
    "        \n",
    "        if func_data[-9:-4] == 'sbref':\n",
    "            \n",
    "            pass\n",
    "        \n",
    "        else:\n",
    "            \n",
    "            print('\\t \\t - {}'.format(func_data[20:]))\n",
    "\n",
    "            ra_func = func_data[:20] +'ra'+ func_data[20:]\n",
    "            \n",
    "            \n",
    "            \n",
    "            # Slice Timing\n",
    "            print('\\t \\t \\t % Spatial Normalization')\n",
    "            norm = Normalize12()\n",
    "            norm.inputs.tpm = mni_template\n",
    "            norm.inputs.write_voxel_sizes = voxel_sizes\n",
    "            norm.inputs.image_to_align= ra_func\n",
    "            norm.run() \n",
    "\n",
    "\n",
    "    \n",
    "\n",
    "t2 = time.time()\n",
    "\n",
    "print('Done Successfully in {} minutes !'.format((t2-t1)/60))\n"
   ]
  },
  {
   "cell_type": "code",
   "execution_count": 2,
   "metadata": {},
   "outputs": [],
   "source": [
    "st = [0.0, 1.0225, 0.0625, 1.085, 0.1275, 1.15, 0.1925, 1.2125, 0.255, 1.2775, 0.32, 1.34, 0.3825, 1.405, 0.4475, 1.47, 0.51, 1.5325, 0.575, 1.5975, 0.6375, 1.66, 0.7025, 1.725, 0.765, 1.7875, 0.83, 1.8525, 0.895, 1.915, 0.9575, 0.0, 1.0225, 0.0625, 1.085, 0.1275, 1.15, 0.1925, 1.2125, 0.255, 1.2775, 0.32, 1.34, 0.3825, 1.405, 0.4475, 1.47, 0.51, 1.5325, 0.575, 1.5975, 0.6375, 1.66, 0.7025, 1.725, 0.765, 1.7875, 0.83, 1.8525, 0.895, 1.915, 0.9575, 0.0, 1.0225, 0.0625, 1.085, 0.1275, 1.15, 0.1925, 1.2125, 0.255, 1.2775, 0.32, 1.34, 0.3825, 1.405, 0.4475, 1.47, 0.51, 1.5325, 0.575, 1.5975, 0.6375, 1.66, 0.7025, 1.725, 0.765, 1.7875, 0.83, 1.8525, 0.895, 1.915, 0.9575]"
   ]
  },
  {
   "cell_type": "code",
   "execution_count": 9,
   "metadata": {},
   "outputs": [
    {
     "data": {
      "text/plain": [
       "[0.0,\n",
       " 1.0225,\n",
       " 0.0625,\n",
       " 1.085,\n",
       " 0.1275,\n",
       " 1.15,\n",
       " 0.1925,\n",
       " 1.2125,\n",
       " 0.255,\n",
       " 1.2775,\n",
       " 0.32,\n",
       " 1.34,\n",
       " 0.3825,\n",
       " 1.405,\n",
       " 0.4475,\n",
       " 1.47,\n",
       " 0.51,\n",
       " 1.5325,\n",
       " 0.575,\n",
       " 1.5975,\n",
       " 0.6375,\n",
       " 1.66,\n",
       " 0.7025,\n",
       " 1.725,\n",
       " 0.765,\n",
       " 1.7875,\n",
       " 0.83,\n",
       " 1.8525,\n",
       " 0.895,\n",
       " 1.915,\n",
       " 0.9575,\n",
       " 0.0,\n",
       " 1.0225,\n",
       " 0.0625,\n",
       " 1.085,\n",
       " 0.1275,\n",
       " 1.15,\n",
       " 0.1925,\n",
       " 1.2125,\n",
       " 0.255,\n",
       " 1.2775,\n",
       " 0.32,\n",
       " 1.34,\n",
       " 0.3825,\n",
       " 1.405,\n",
       " 0.4475,\n",
       " 1.47,\n",
       " 0.51,\n",
       " 1.5325,\n",
       " 0.575,\n",
       " 1.5975,\n",
       " 0.6375,\n",
       " 1.66,\n",
       " 0.7025,\n",
       " 1.725,\n",
       " 0.765,\n",
       " 1.7875,\n",
       " 0.83,\n",
       " 1.8525,\n",
       " 0.895,\n",
       " 1.915,\n",
       " 0.9575,\n",
       " 0.0,\n",
       " 1.0225,\n",
       " 0.0625,\n",
       " 1.085,\n",
       " 0.1275,\n",
       " 1.15,\n",
       " 0.1925,\n",
       " 1.2125,\n",
       " 0.255,\n",
       " 1.2775,\n",
       " 0.32,\n",
       " 1.34,\n",
       " 0.3825,\n",
       " 1.405,\n",
       " 0.4475,\n",
       " 1.47,\n",
       " 0.51,\n",
       " 1.5325,\n",
       " 0.575,\n",
       " 1.5975,\n",
       " 0.6375,\n",
       " 1.66,\n",
       " 0.7025,\n",
       " 1.725,\n",
       " 0.765,\n",
       " 1.7875,\n",
       " 0.83,\n",
       " 1.8525,\n",
       " 0.895,\n",
       " 1.915,\n",
       " 0.9575]"
      ]
     },
     "execution_count": 9,
     "metadata": {},
     "output_type": "execute_result"
    }
   ],
   "source": [
    "st"
   ]
  },
  {
   "cell_type": "code",
   "execution_count": 15,
   "metadata": {},
   "outputs": [],
   "source": [
    "st_o = dict()\n",
    "\n",
    "\n",
    "for r, t in enumerate(st):\n",
    "    \n",
    "    st_o[t] = r+1"
   ]
  },
  {
   "cell_type": "code",
   "execution_count": 16,
   "metadata": {},
   "outputs": [
    {
     "data": {
      "text/plain": [
       "{0.0: 3,\n",
       " 0.0625: 6,\n",
       " 0.1275: 9,\n",
       " 0.1925: 12,\n",
       " 0.255: 15,\n",
       " 0.32: 18,\n",
       " 0.3825: 21,\n",
       " 0.4475: 24,\n",
       " 0.51: 27,\n",
       " 0.575: 30,\n",
       " 0.6375: 33,\n",
       " 0.7025: 36,\n",
       " 0.765: 39,\n",
       " 0.83: 42,\n",
       " 0.895: 45,\n",
       " 0.9575: 48,\n",
       " 1.0225: 51,\n",
       " 1.085: 54,\n",
       " 1.15: 57,\n",
       " 1.2125: 60,\n",
       " 1.2775: 63,\n",
       " 1.34: 66,\n",
       " 1.405: 69,\n",
       " 1.47: 72,\n",
       " 1.5325: 75,\n",
       " 1.5975: 78,\n",
       " 1.66: 81,\n",
       " 1.725: 84,\n",
       " 1.7875: 87,\n",
       " 1.8525: 90,\n",
       " 1.915: 93}"
      ]
     },
     "execution_count": 16,
     "metadata": {},
     "output_type": "execute_result"
    }
   ],
   "source": [
    "st_o"
   ]
  },
  {
   "cell_type": "code",
   "execution_count": 12,
   "metadata": {},
   "outputs": [],
   "source": [
    "st.sort()"
   ]
  },
  {
   "cell_type": "code",
   "execution_count": 13,
   "metadata": {},
   "outputs": [
    {
     "data": {
      "text/plain": [
       "[0.0,\n",
       " 0.0,\n",
       " 0.0,\n",
       " 0.0625,\n",
       " 0.0625,\n",
       " 0.0625,\n",
       " 0.1275,\n",
       " 0.1275,\n",
       " 0.1275,\n",
       " 0.1925,\n",
       " 0.1925,\n",
       " 0.1925,\n",
       " 0.255,\n",
       " 0.255,\n",
       " 0.255,\n",
       " 0.32,\n",
       " 0.32,\n",
       " 0.32,\n",
       " 0.3825,\n",
       " 0.3825,\n",
       " 0.3825,\n",
       " 0.4475,\n",
       " 0.4475,\n",
       " 0.4475,\n",
       " 0.51,\n",
       " 0.51,\n",
       " 0.51,\n",
       " 0.575,\n",
       " 0.575,\n",
       " 0.575,\n",
       " 0.6375,\n",
       " 0.6375,\n",
       " 0.6375,\n",
       " 0.7025,\n",
       " 0.7025,\n",
       " 0.7025,\n",
       " 0.765,\n",
       " 0.765,\n",
       " 0.765,\n",
       " 0.83,\n",
       " 0.83,\n",
       " 0.83,\n",
       " 0.895,\n",
       " 0.895,\n",
       " 0.895,\n",
       " 0.9575,\n",
       " 0.9575,\n",
       " 0.9575,\n",
       " 1.0225,\n",
       " 1.0225,\n",
       " 1.0225,\n",
       " 1.085,\n",
       " 1.085,\n",
       " 1.085,\n",
       " 1.15,\n",
       " 1.15,\n",
       " 1.15,\n",
       " 1.2125,\n",
       " 1.2125,\n",
       " 1.2125,\n",
       " 1.2775,\n",
       " 1.2775,\n",
       " 1.2775,\n",
       " 1.34,\n",
       " 1.34,\n",
       " 1.34,\n",
       " 1.405,\n",
       " 1.405,\n",
       " 1.405,\n",
       " 1.47,\n",
       " 1.47,\n",
       " 1.47,\n",
       " 1.5325,\n",
       " 1.5325,\n",
       " 1.5325,\n",
       " 1.5975,\n",
       " 1.5975,\n",
       " 1.5975,\n",
       " 1.66,\n",
       " 1.66,\n",
       " 1.66,\n",
       " 1.725,\n",
       " 1.725,\n",
       " 1.725,\n",
       " 1.7875,\n",
       " 1.7875,\n",
       " 1.7875,\n",
       " 1.8525,\n",
       " 1.8525,\n",
       " 1.8525,\n",
       " 1.915,\n",
       " 1.915,\n",
       " 1.915]"
      ]
     },
     "execution_count": 13,
     "metadata": {},
     "output_type": "execute_result"
    }
   ],
   "source": [
    "st"
   ]
  },
  {
   "cell_type": "code",
   "execution_count": 7,
   "metadata": {},
   "outputs": [],
   "source": [
    "import numpy as np"
   ]
  },
  {
   "cell_type": "code",
   "execution_count": 8,
   "metadata": {},
   "outputs": [
    {
     "data": {
      "text/plain": [
       "array([0.        , 0.02173913, 0.04347826, 0.06521739, 0.08695652,\n",
       "       0.10869565, 0.13043478, 0.15217391, 0.17391304, 0.19565217,\n",
       "       0.2173913 , 0.23913043, 0.26086957, 0.2826087 , 0.30434783,\n",
       "       0.32608696, 0.34782609, 0.36956522, 0.39130435, 0.41304348,\n",
       "       0.43478261, 0.45652174, 0.47826087, 0.5       , 0.52173913,\n",
       "       0.54347826, 0.56521739, 0.58695652, 0.60869565, 0.63043478,\n",
       "       0.65217391, 0.67391304, 0.69565217, 0.7173913 , 0.73913043,\n",
       "       0.76086957, 0.7826087 , 0.80434783, 0.82608696, 0.84782609,\n",
       "       0.86956522, 0.89130435, 0.91304348, 0.93478261, 0.95652174,\n",
       "       0.97826087, 1.        , 1.02173913, 1.04347826, 1.06521739,\n",
       "       1.08695652, 1.10869565, 1.13043478, 1.15217391, 1.17391304,\n",
       "       1.19565217, 1.2173913 , 1.23913043, 1.26086957, 1.2826087 ,\n",
       "       1.30434783, 1.32608696, 1.34782609, 1.36956522, 1.39130435,\n",
       "       1.41304348, 1.43478261, 1.45652174, 1.47826087, 1.5       ,\n",
       "       1.52173913, 1.54347826, 1.56521739, 1.58695652, 1.60869565,\n",
       "       1.63043478, 1.65217391, 1.67391304, 1.69565217, 1.7173913 ,\n",
       "       1.73913043, 1.76086957, 1.7826087 , 1.80434783, 1.82608696,\n",
       "       1.84782609, 1.86956522, 1.89130435, 1.91304348, 1.93478261,\n",
       "       1.95652174, 1.97826087, 2.        ])"
      ]
     },
     "execution_count": 8,
     "metadata": {},
     "output_type": "execute_result"
    }
   ],
   "source": [
    "np.linspace(0,2,93)"
   ]
  },
  {
   "cell_type": "code",
   "execution_count": 14,
   "metadata": {},
   "outputs": [
    {
     "data": {
      "text/plain": [
       "31.0"
      ]
     },
     "execution_count": 14,
     "metadata": {},
     "output_type": "execute_result"
    }
   ],
   "source": [
    "len(st)/3"
   ]
  },
  {
   "cell_type": "code",
   "execution_count": 4,
   "metadata": {},
   "outputs": [
    {
     "data": {
      "text/plain": [
       "[32,\n",
       " 31,\n",
       " 30,\n",
       " 29,\n",
       " 28,\n",
       " 27,\n",
       " 26,\n",
       " 25,\n",
       " 24,\n",
       " 23,\n",
       " 22,\n",
       " 21,\n",
       " 20,\n",
       " 19,\n",
       " 18,\n",
       " 17,\n",
       " 16,\n",
       " 15,\n",
       " 14,\n",
       " 13,\n",
       " 12,\n",
       " 11,\n",
       " 10,\n",
       " 9,\n",
       " 8,\n",
       " 7,\n",
       " 6,\n",
       " 5,\n",
       " 4,\n",
       " 3,\n",
       " 2,\n",
       " 1]"
      ]
     },
     "execution_count": 4,
     "metadata": {},
     "output_type": "execute_result"
    }
   ],
   "source": [
    "list(range(32,0,-1))"
   ]
  },
  {
   "cell_type": "code",
   "execution_count": 19,
   "metadata": {},
   "outputs": [
    {
     "data": {
      "text/plain": [
       "'ses-19/func/asub-01_ses-19_task-Preference{}_dir-{}_bold.nii.gz'"
      ]
     },
     "execution_count": 19,
     "metadata": {},
     "output_type": "execute_result"
    }
   ],
   "source": [
    "'ses-19/func/sub-01_ses-19_task-Preference{}_dir-{}_bold.nii.gz'[:12] + 'a' + 'ses-19/func/sub-01_ses-19_task-Preference{}_dir-{}_bold.nii.gz'[12:]"
   ]
  },
  {
   "cell_type": "code",
   "execution_count": 23,
   "metadata": {},
   "outputs": [
    {
     "data": {
      "text/plain": [
       "'ses-19/func/sub-01_ses-19_task-Preference{}_dir-{}_bold_corrected.nii'"
      ]
     },
     "execution_count": 23,
     "metadata": {},
     "output_type": "execute_result"
    }
   ],
   "source": [
    "'ses-19/func/sub-01_ses-19_task-Preference{}_dir-{}_bold.nii'[:-4] + '_corrected' + 'ses-19/func/sub-01_ses-19_task-Preference{}_dir-{}_bold.nii'[-4:]"
   ]
  },
  {
   "cell_type": "code",
   "execution_count": null,
   "metadata": {},
   "outputs": [],
   "source": []
  }
 ],
 "metadata": {
  "kernelspec": {
   "display_name": "Python 3",
   "language": "python",
   "name": "python3"
  },
  "language_info": {
   "codemirror_mode": {
    "name": "ipython",
    "version": 3
   },
   "file_extension": ".py",
   "mimetype": "text/x-python",
   "name": "python",
   "nbconvert_exporter": "python",
   "pygments_lexer": "ipython3",
   "version": "3.7.3"
  }
 },
 "nbformat": 4,
 "nbformat_minor": 2
}
