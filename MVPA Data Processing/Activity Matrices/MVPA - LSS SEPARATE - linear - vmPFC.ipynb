{
 "cells": [
  {
   "cell_type": "markdown",
   "metadata": {
    "id": "bzixeMh7Ogko"
   },
   "source": [
    "# Implemented Algorithms and Function"
   ]
  },
  {
   "cell_type": "markdown",
   "metadata": {
    "id": "0f0CGvXiOgkp"
   },
   "source": [
    "These functions: routines and algorithms are used throughout this notebook for computation and statistical plotting.\n",
    "\n",
    "The computational / statistical algorithms and the parameters used are inspired from Poldrack, R., Mumford, J., & Nichols, T. (2011). *Handbook of Functional MRI Data Analysis*. Cambridge: Cambridge University Press. and  F., Gregory Ashby. (2019). *Statistical Analysis of fMRI Data*. MIT Press.\n",
    "\n"
   ]
  },
  {
   "cell_type": "markdown",
   "metadata": {
    "id": "A6j984FdOgkp"
   },
   "source": [
    "#### Imports"
   ]
  },
  {
   "cell_type": "code",
   "execution_count": 1,
   "metadata": {
    "colab": {
     "base_uri": "https://localhost:8080/"
    },
    "executionInfo": {
     "elapsed": 5688,
     "status": "ok",
     "timestamp": 1606826856802,
     "user": {
      "displayName": "Zakaria Bekkar",
      "photoUrl": "",
      "userId": "11013878220604787588"
     },
     "user_tz": -60
    },
    "id": "8k3ql2RzV6St",
    "outputId": "f6c52f03-ab10-4a0e-8658-f66b12984cb1"
   },
   "outputs": [
    {
     "name": "stdout",
     "output_type": "stream",
     "text": [
      "Collecting nilearn\n",
      "\u001b[?25l  Downloading https://files.pythonhosted.org/packages/e8/e7/59fcd3501f47b7a661a69e15ef417463fbc88dd334d9af2d9d6685710038/nilearn-0.7.0-py3-none-any.whl (3.0MB)\n",
      "\u001b[K     |████████████████████████████████| 3.0MB 4.2MB/s \n",
      "\u001b[?25hCollecting nistats\n",
      "\u001b[?25l  Downloading https://files.pythonhosted.org/packages/50/57/034f882afce11ee6d61dd3c8e94fac543e5210470bb01fc5c066e1ae30b5/nistats-0.0.1rc0-py2.py3-none-any.whl (121kB)\n",
      "\u001b[K     |████████████████████████████████| 122kB 48.6MB/s \n",
      "\u001b[?25hRequirement already satisfied: scikit-learn>=0.19 in /usr/local/lib/python3.6/dist-packages (from nilearn) (0.22.2.post1)\n",
      "Requirement already satisfied: nibabel>=2.0.2 in /usr/local/lib/python3.6/dist-packages (from nilearn) (3.0.2)\n",
      "Requirement already satisfied: pandas>=0.18.0 in /usr/local/lib/python3.6/dist-packages (from nilearn) (1.1.4)\n",
      "Requirement already satisfied: numpy>=1.11 in /usr/local/lib/python3.6/dist-packages (from nilearn) (1.18.5)\n",
      "Requirement already satisfied: scipy>=0.19 in /usr/local/lib/python3.6/dist-packages (from nilearn) (1.4.1)\n",
      "Requirement already satisfied: joblib>=0.12 in /usr/local/lib/python3.6/dist-packages (from nilearn) (0.17.0)\n",
      "Requirement already satisfied: requests>=2 in /usr/local/lib/python3.6/dist-packages (from nilearn) (2.23.0)\n",
      "Requirement already satisfied: pytz>=2017.2 in /usr/local/lib/python3.6/dist-packages (from pandas>=0.18.0->nilearn) (2018.9)\n",
      "Requirement already satisfied: python-dateutil>=2.7.3 in /usr/local/lib/python3.6/dist-packages (from pandas>=0.18.0->nilearn) (2.8.1)\n",
      "Requirement already satisfied: urllib3!=1.25.0,!=1.25.1,<1.26,>=1.21.1 in /usr/local/lib/python3.6/dist-packages (from requests>=2->nilearn) (1.24.3)\n",
      "Requirement already satisfied: certifi>=2017.4.17 in /usr/local/lib/python3.6/dist-packages (from requests>=2->nilearn) (2020.11.8)\n",
      "Requirement already satisfied: idna<3,>=2.5 in /usr/local/lib/python3.6/dist-packages (from requests>=2->nilearn) (2.10)\n",
      "Requirement already satisfied: chardet<4,>=3.0.2 in /usr/local/lib/python3.6/dist-packages (from requests>=2->nilearn) (3.0.4)\n",
      "Requirement already satisfied: six>=1.5 in /usr/local/lib/python3.6/dist-packages (from python-dateutil>=2.7.3->pandas>=0.18.0->nilearn) (1.15.0)\n",
      "Installing collected packages: nilearn, nistats\n",
      "Successfully installed nilearn-0.7.0 nistats-0.0.1rc0\n"
     ]
    }
   ],
   "source": [
    "! pip install nilearn nistats"
   ]
  },
  {
   "cell_type": "code",
   "execution_count": 2,
   "metadata": {
    "colab": {
     "base_uri": "https://localhost:8080/"
    },
    "executionInfo": {
     "elapsed": 2464,
     "status": "ok",
     "timestamp": 1606826861025,
     "user": {
      "displayName": "Zakaria Bekkar",
      "photoUrl": "",
      "userId": "11013878220604787588"
     },
     "user_tz": -60
    },
    "id": "bSUZyo46Ogkp",
    "outputId": "6c7c0468-11ad-4a55-88dd-68f5d489ed39"
   },
   "outputs": [
    {
     "name": "stderr",
     "output_type": "stream",
     "text": [
      "/usr/local/lib/python3.6/dist-packages/ipykernel_launcher.py:17: UserWarning: \n",
      "\n",
      " | Using Nistats with Nilearn versions >= 0.7.0 is redundant and potentially conflicting.\n",
      " | Nilearn versions 0.7.0 and up offer all the functionality of Nistats as well the latest features and fixes.\n",
      " | We strongly recommend uninstalling Nistats and using Nilearn's stats & reporting modules.\n",
      "\n"
     ]
    }
   ],
   "source": [
    "from warnings import filterwarnings\n",
    "filterwarnings('ignore')\n",
    "import numpy as np\n",
    "import pandas as pd\n",
    "from numpy import array\n",
    "import matplotlib.pyplot as plt\n",
    "\n",
    "\n",
    "import gzip, shutil\n",
    "import time\n",
    "import yaml\n",
    "import glob\n",
    "\n",
    "from nilearn import image, plotting\n",
    "from nilearn.plotting import plot_stat_map\n",
    "from nilearn.image import concat_imgs, mean_img\n",
    "from nistats.design_matrix import make_first_level_design_matrix\n",
    "from nistats.first_level_model import FirstLevelModel\n",
    "from nistats.second_level_model import SecondLevelModel\n",
    "from nilearn.plotting import plot_roi\n",
    "from nilearn.masking import compute_background_mask\n",
    "from nilearn.image import threshold_img\n",
    "\n",
    "\n",
    "\n",
    "from nilearn.image import math_img\n",
    "from nilearn import input_data\n",
    "from nilearn.input_data import NiftiMasker\n",
    "\n",
    "from nistats.reporting import plot_design_matrix,plot_contrast_matrix\n",
    "from nistats.thresholding import map_threshold\n",
    "from nistats.reporting import get_clusters_table\n",
    "from nistats.experimental_paradigm import check_events\n",
    "\n",
    "from sklearn.feature_selection import f_classif, mutual_info_classif, SelectFdr\n",
    "\n",
    "from sklearn.feature_selection import GenericUnivariateSelect\n",
    "from sklearn import svm\n",
    "from sklearn.model_selection import train_test_split\n",
    "from sklearn.ensemble import RandomForestClassifier        \n",
    "    \n",
    "%matplotlib inline"
   ]
  },
  {
   "cell_type": "markdown",
   "metadata": {
    "id": "yhggwQX2Ogkq"
   },
   "source": [
    "## GLM"
   ]
  },
  {
   "cell_type": "code",
   "execution_count": 3,
   "metadata": {
    "executionInfo": {
     "elapsed": 807,
     "status": "ok",
     "timestamp": 1606826864118,
     "user": {
      "displayName": "Zakaria Bekkar",
      "photoUrl": "",
      "userId": "11013878220604787588"
     },
     "user_tz": -60
    },
    "id": "Qc13wcjCOgkq"
   },
   "outputs": [],
   "source": [
    "def compute_core_fmri_glm(task,\n",
    "                          data_path,\n",
    "                          events_path,\n",
    "                          motion_param_path,\n",
    "                          cache_mem_path,\n",
    "                          analysis_type,\n",
    "                          param_modulation,\n",
    "                          t_r,\n",
    "                          slice_time_ref,\n",
    "                          hrf_model,\n",
    "                          drift_model,\n",
    "                          drift_order,\n",
    "                          fbr_expected_tr_delay,\n",
    "                          pre_whitening_spec,\n",
    "                          apply_trans_mask,\n",
    "                          roi_img,\n",
    "                          hpf_cut,\n",
    "                          smoothing_fwhm,\n",
    "                          standardize,\n",
    "                          detrend,minimize_memory):\n",
    "    \n",
    "                          \n",
    "                          \n",
    "    # Data processing                      \n",
    "\n",
    "    data = image.load_img(data_path)\n",
    "    m_img = mean_img(data) # mean niimg for plotting purposes\n",
    "    motion = pd.read_csv(motion_param_path,sep=',',header=None)\n",
    "    motion = motion[list(range(1,7))]\n",
    "    motion_col = ['tx', 'ty', 'tz', 'rx', 'ry', 'rz']\n",
    "    motion.columns = motion_col\n",
    "\n",
    "\n",
    "\n",
    "    #Experimental Paradigm Processing\n",
    "\n",
    "    events = pd.read_csv(events_path,sep='\\t')\n",
    "    events.columns = ['onset','duration','trial_type','modulation']\n",
    "    events.dropna(inplace=True)\n",
    "    events.index = range(len(events))\n",
    "    \n",
    "    \n",
    "    \n",
    "    if analysis_type == 'High_Low_Pleasance':\n",
    "        \n",
    "        events['trial_type_desc'] = ['High Pleasance' if x >=50 else 'Low Pleasance' for x in events['modulation'] ]\n",
    "        \n",
    "        if param_modulation:\n",
    "           \n",
    "            events = events[['onset','duration','trial_type_desc','modulation']]\n",
    "            events.columns = ['onset','duration','trial_type','modulation']\n",
    "        else:\n",
    "            events = events[['onset','duration','trial_type_desc']]\n",
    "            events.columns = ['onset','duration','trial_type']\n",
    "            \n",
    "\n",
    "\n",
    "    elif analysis_type == 'High_Mid_Low_Pleasance':\n",
    "        \n",
    "        events['trial_type_desc'] = ['High Pleasance' if x >=67 else 'Mid Pleasance' if x>=34 else 'Low Pleasance' for x in events['modulation'] ]\n",
    "        \n",
    "        if param_modulation:\n",
    "           \n",
    "            events = events[['onset','duration','trial_type_desc','modulation']]\n",
    "            events.columns = ['onset','duration','trial_type','modulation']\n",
    "        else:\n",
    "            events = events[['onset','duration','trial_type_desc']]\n",
    "            events.columns = ['onset','duration','trial_type']\n",
    "            \n",
    "    \n",
    "    # Design Matrix Computation + plotting\n",
    "    \n",
    "    frametimes = np.linspace(0, (data.shape[3] - 1) * t_r, data.shape[3])\n",
    "    \n",
    "    fir_delays = list(range(1,fbr_expected_tr_delay+1)) if fbr_expected_tr_delay != None else None\n",
    "    \n",
    "    design_matrix = make_first_level_design_matrix(frametimes,\n",
    "                       events=events,\n",
    "                       add_regs=motion,\n",
    "                       add_reg_names=motion_col,\n",
    "                       hrf_model=hrf_model,\n",
    "                       drift_model= drift_model,\n",
    "                       fir_delays= fir_delays, \n",
    "                       drift_order =drift_order)\n",
    "    \n",
    "    plot_design_matrix(design_matrix)\n",
    "    \n",
    "    # Statistically Enhancing Mask Computation\n",
    "    \n",
    "    if apply_trans_mask:\n",
    "    \n",
    "    \n",
    "        masker = input_data.NiftiMasker(mask_img=roi_img,smoothing_fwhm=smoothing_fwhm,\n",
    "                                standardize=standardize,detrend=detrend,\n",
    "                                high_pass=hpf_cut,t_r=t_r).fit(data)\n",
    "      \n",
    "    else :\n",
    "        \n",
    "        masker = input_data.NiftiMasker(mask_img=roi_img).fit(data)\n",
    "        \n",
    "        \n",
    "        \n",
    "    # GLM instantiation and fit\n",
    "    \n",
    "    glm = FirstLevelModel(t_r=t_r,\n",
    "                      slice_time_ref=slice_time_ref,\n",
    "                      mask_img=masker,\n",
    "                      noise_model= pre_whitening_spec,\n",
    "                      high_pass=hpf_cut,\n",
    "                      smoothing_fwhm = smoothing_fwhm,\n",
    "                      standardize=standardize,\n",
    "                      memory=cache_mem_path,\n",
    "                      minimize_memory=minimize_memory, \n",
    "                      verbose=1)\n",
    "\n",
    "    glm = glm.fit(data,design_matrices=design_matrix)\n",
    "    \n",
    "    return glm, design_matrix"
   ]
  },
  {
   "cell_type": "markdown",
   "metadata": {
    "id": "39mJy8HgOgkq"
   },
   "source": [
    "## Statistical Plotting"
   ]
  },
  {
   "cell_type": "code",
   "execution_count": 4,
   "metadata": {
    "executionInfo": {
     "elapsed": 764,
     "status": "ok",
     "timestamp": 1606826865946,
     "user": {
      "displayName": "Zakaria Bekkar",
      "photoUrl": "",
      "userId": "11013878220604787588"
     },
     "user_tz": -60
    },
    "id": "BntHmAarOgkq"
   },
   "outputs": [],
   "source": [
    "def top_cluster_stat_results(data,task,glm,z_map,threshold,table,bg_img):\n",
    "    \n",
    "    # Top Cluster Selection + Masking\n",
    "    coords = table.loc[range(1, 7), ['X', 'Y', 'Z']].values\n",
    "    masker = input_data.NiftiSpheresMasker(coords,standardize=True)\n",
    "    real_timeseries = masker.fit_transform(data)\n",
    "    predicted_timeseries = masker.fit_transform(glm.predicted[0])\n",
    "\n",
    "    \n",
    "    \n",
    "\n",
    "\n",
    "    # PLOT 1\n",
    "    fig1, axs1 = plt.subplots(2, 3)\n",
    "    for i in range(0, 3):\n",
    "        axs1[0, i].set_title(' Top {} Activated Cluster \\n(cluster peak voxel at coord {})'.format(i+1,coords[i]))\n",
    "        axs1[0, i].plot(real_timeseries[:, i], c='blue', lw=2,label = 'Actual Bold Signal')\n",
    "        axs1[0, i].plot(predicted_timeseries[:, i], c='r',  ls='-', lw=2,label= 'Predicted Bold Signal')\n",
    "        axs1[0, i].set_xlabel('Time')\n",
    "        axs1[0, i].set_ylabel('Signal intensity', labelpad=0)\n",
    "        axs1[0, i].legend()\n",
    "        roi_img = plotting.plot_stat_map(\n",
    "            z_map, cut_coords=[coords[i][2]], threshold=threshold, figure=fig1,\n",
    "            axes=axs1[1, i], display_mode='z', colorbar=False, bg_img=bg_img,title='{} Task : Low Pleasance (fdr=0.05, threshold = {})'.format(task,threshold))\n",
    "        roi_img.add_markers([coords[i]], 'green', 300)\n",
    "    fig1.set_size_inches(50, 19)\n",
    "    plt.show()\n",
    "\n",
    "\n",
    "    #PLOT 2\n",
    "    fig2, axs2 = plt.subplots(2, 3)\n",
    "    for i in range(3, 6):\n",
    "        axs2[0, i-3].set_title(' Top {} Activated Cluster \\n(cluster peak voxel at coord {})'.format(i+1,coords[i]))\n",
    "        axs2[0, i-3].plot(real_timeseries[:, i], c='blue', lw=2,label = 'Actual Bold Signal')\n",
    "        axs2[0, i-3].plot(predicted_timeseries[:, i], c='r',  ls='-', lw=2,label= 'Predicted Bold Signal')\n",
    "        axs2[0, i-3].set_xlabel('Time')\n",
    "        axs2[0, i-3].set_ylabel('Signal intensity', labelpad=0)\n",
    "        axs2[0, i-3].legend()\n",
    "        roi_img = plotting.plot_stat_map(\n",
    "            z_map, cut_coords=[coords[i][2]], threshold=threshold, figure=fig2,\n",
    "            axes=axs2[1, i-3], display_mode='z', colorbar=False, bg_img=bg_img,title='{} Task : Low Pleasance (fdr=0.05, threshold = {})'.format(task,threshold))\n",
    "        roi_img.add_markers([coords[i]], 'green', 300)\n",
    "    fig2.set_size_inches(50, 19)\n",
    "    plt.show()\n",
    "\n",
    "        "
   ]
  },
  {
   "cell_type": "code",
   "execution_count": 5,
   "metadata": {
    "executionInfo": {
     "elapsed": 1005,
     "status": "ok",
     "timestamp": 1606826867196,
     "user": {
      "displayName": "Zakaria Bekkar",
      "photoUrl": "",
      "userId": "11013878220604787588"
     },
     "user_tz": -60
    },
    "id": "7EEwfqZQOgkq"
   },
   "outputs": [],
   "source": [
    "def stat_result_long(z_map,contrast_name,task,alpha,method,bg_img):\n",
    "    \n",
    "    _, threshold = map_threshold(z_map, alpha=alpha, height_control=method)\n",
    "    table = get_clusters_table(z_map, stat_threshold=threshold)\n",
    "    plot_stat_map(z_map, bg_img=bg_img, threshold=threshold,\n",
    "                  display_mode = 'z', cut_coords=5,\n",
    "                   black_bg=True,\n",
    "                  title='{} Task : {} ({}={}, threshold = {})'.format(task,contrast_name,method,alpha,threshold))\n",
    "    plt.show()\n",
    "    return table, threshold"
   ]
  },
  {
   "cell_type": "code",
   "execution_count": 6,
   "metadata": {
    "executionInfo": {
     "elapsed": 858,
     "status": "ok",
     "timestamp": 1606826868370,
     "user": {
      "displayName": "Zakaria Bekkar",
      "photoUrl": "",
      "userId": "11013878220604787588"
     },
     "user_tz": -60
    },
    "id": "mDjqoIoHOgkq"
   },
   "outputs": [],
   "source": [
    "def stat_result(z_map,contrast_name,task,alpha,method,bg_img):\n",
    "    \n",
    "    _, threshold = map_threshold(z_map, alpha=alpha, height_control=method)\n",
    "    table = get_clusters_table(z_map, stat_threshold=threshold)\n",
    "    plot_stat_map(z_map, bg_img=bg_img, threshold=threshold,\n",
    "                   black_bg=True,\n",
    "                  title='{} Task : {} ({}={}, threshold = {})'.format(task,contrast_name,method,alpha,threshold))\n",
    "    plt.show()\n",
    "    return table, threshold"
   ]
  },
  {
   "cell_type": "markdown",
   "metadata": {
    "id": "p4JYibeZOgkr"
   },
   "source": [
    "## MVPA"
   ]
  },
  {
   "cell_type": "code",
   "execution_count": 7,
   "metadata": {
    "executionInfo": {
     "elapsed": 1160,
     "status": "ok",
     "timestamp": 1606826871170,
     "user": {
      "displayName": "Zakaria Bekkar",
      "photoUrl": "",
      "userId": "11013878220604787588"
     },
     "user_tz": -60
    },
    "id": "3pEY3mr4Ogkr"
   },
   "outputs": [],
   "source": [
    "def lss_separate_method_comp(task,\n",
    "                          data_path,\n",
    "                          events_path,\n",
    "                          motion_param_path,\n",
    "                          cache_mem_path,\n",
    "                          activity_mat_saving_path,\n",
    "                          analysis_type,\n",
    "                          param_modulation,\n",
    "                          t_r,\n",
    "                          drift_model,\n",
    "                          drift_order,\n",
    "                          hrf_model,\n",
    "                          pre_whitening_spec,\n",
    "                          apply_trans_mask,\n",
    "                          roi_img,  \n",
    "                          hpf_cut,\n",
    "                          smoothing_fwhm,\n",
    "                          standardize,\n",
    "                          detrend,minimize_memory):\n",
    "\n",
    "\n",
    "    output_activity_matrices = dict()                          \n",
    "    # Data processing                      \n",
    "\n",
    "    data = image.load_img(data_path)\n",
    "    m_img = mean_img(data) # mean niimg for plotting purposes\n",
    "    motion = pd.read_csv(motion_param_path,sep=',',header=None)\n",
    "    motion = motion[list(range(1,7))]\n",
    "    motion_col = ['tx', 'ty', 'tz', 'rx', 'ry', 'rz']\n",
    "    motion.columns = motion_col\n",
    "\n",
    "\n",
    "    #Experimental Paradigm Processing\n",
    "\n",
    "    events = pd.read_csv(events_path,sep='\\t')\n",
    "    events.columns = ['onset','duration','trial_type','modulation']\n",
    "    events.dropna(inplace=True)\n",
    "    events.index = range(len(events))\n",
    "\n",
    "\n",
    "\n",
    "    if analysis_type == 'High_Low_Pleasance':\n",
    "\n",
    "        events['trial_type_desc'] = ['High Pleasance' if x >=50 else 'Low Pleasance' for x in events['modulation'] ]\n",
    "\n",
    "        if param_modulation:\n",
    "\n",
    "            events = events[['onset','duration','trial_type_desc','modulation']]\n",
    "            events.columns = ['onset','duration','trial_type','modulation']\n",
    "        else:\n",
    "            events = events[['onset','duration','trial_type_desc']]\n",
    "            events.columns = ['onset','duration','trial_type']\n",
    "\n",
    "\n",
    "\n",
    "    elif analysis_type == 'High_Mid_Low_Pleasance':\n",
    "\n",
    "        events['trial_type_desc'] = ['High Pleasance' if x >=67 else 'Mid Pleasance' if x>=34 else 'Low Pleasance' for x in events['modulation'] ]\n",
    "\n",
    "        if param_modulation:\n",
    "\n",
    "            events = events[['onset','duration','trial_type_desc','modulation']]\n",
    "            events.columns = ['onset','duration','trial_type','modulation']\n",
    "        else:\n",
    "            events = events[['onset','duration','trial_type_desc']]\n",
    "            events.columns = ['onset','duration','trial_type']\n",
    "\n",
    "\n",
    "\n",
    "    #  LSS - Separate event matrices computation\n",
    "\n",
    "\n",
    "    mvpa_events_labels= list()\n",
    "    for i in range(len(events['trial_type'])):\n",
    "\n",
    "        mvpa_event_label = events['trial_type'][i]\n",
    "\n",
    "        vars()['events_{}_{}'.format(mvpa_event_label.replace(' ',''),i+1)] = events.copy()\n",
    "\n",
    "        mvpa_events_labels.append('{}_{}'.format(mvpa_event_label.replace(' ',''),i+1))\n",
    "\n",
    "        trial_type_treated = ['{}_{}'.format(mvpa_event_label,i+1) if k == i else 'Nuisance Event' for k in  range(len(events['trial_type']))]\n",
    "\n",
    "        vars()['events_{}_{}'.format(mvpa_event_label.replace(' ',''),i+1)]['trial_type'] = trial_type_treated\n",
    "\n",
    "\n",
    "\n",
    "        print('Event {}'.format(i))\n",
    "        print(vars()['events_{}_{}'.format(mvpa_event_label.replace(' ',''),i+1)])\n",
    "\n",
    "    # Multiple GLM fit\n",
    "\n",
    "\n",
    "    for mvpa_label in mvpa_events_labels:\n",
    "        print('GLM RUN {}'.format(mvpa_label))\n",
    "\n",
    "        # Design Matrix Computation + plotting\n",
    "\n",
    "        frametimes = np.linspace(0, (data.shape[3] - 1) * t_r, data.shape[3])\n",
    "\n",
    "\n",
    "\n",
    "\n",
    "        design_matrix = make_first_level_design_matrix(frametimes,\n",
    "                           events=vars()['events_{}'.format(mvpa_label)],\n",
    "                           add_regs=motion,\n",
    "                           add_reg_names=motion_col,\n",
    "                           hrf_model= hrf_model,\n",
    "                           fir_delays = None,\n",
    "                           drift_model= drift_model,\n",
    "                           drift_order =drift_order)\n",
    "\n",
    "        plot_design_matrix(design_matrix)\n",
    "\n",
    "        # Statistically Enhancing Mask Computation\n",
    "\n",
    "        if apply_trans_mask :\n",
    "\n",
    "\n",
    "            masker = input_data.NiftiMasker(mask_img=roi_img,smoothing_fwhm=smoothing_fwhm,\n",
    "                                standardize=standardize,detrend=detrend,\n",
    "                                high_pass=hpf_cut,t_r=t_r).fit(data)\n",
    "\n",
    "        else :\n",
    "\n",
    "            masker = input_data.NiftiMasker(mask_img=roi_img).fit(data)\n",
    "\n",
    "\n",
    "        # GLM instantiation and fit\n",
    "\n",
    "        glm = FirstLevelModel(t_r=t_r,\n",
    "                          mask_img=masker,\n",
    "                          noise_model= pre_whitening_spec,\n",
    "                          high_pass=hpf_cut,\n",
    "                          smoothing_fwhm = smoothing_fwhm,\n",
    "                          standardize=standardize,\n",
    "                          memory=cache_mem_path,\n",
    "                          minimize_memory=minimize_memory, \n",
    "                          verbose=1)\n",
    "\n",
    "        glm = glm.fit(data,design_matrices=design_matrix)\n",
    "\n",
    "\n",
    "\n",
    "        design_matrix = glm.design_matrices_[0]\n",
    "        plot_design_matrix(design_matrix)\n",
    "        plt.title('Design Matrix')\n",
    "        plt.show()\n",
    "\n",
    "        masker = NiftiMasker()\n",
    "\n",
    "        vars()['{}_activity_matrix'.format(mvpa_label)] = pd.DataFrame(None)\n",
    "\n",
    "\n",
    "        condition = np.eye(N=1,M=len(design_matrix.columns),k=0)\n",
    "        plot_contrast_matrix(condition,design_matrix=design_matrix)\n",
    "        z_map = glm.compute_contrast(condition,\n",
    "                                  stat_type='t',\n",
    "                                  output_type='z_score')\n",
    "        masked_map = masker.fit_transform(z_map)\n",
    "\n",
    "        vars()['{}_activity_matrix'.format(mvpa_label)] = vars()['{}_activity_matrix'.format(mvpa_label)].append(pd.DataFrame(masked_map))\n",
    "\n",
    "        print(vars()['{}_activity_matrix'.format(mvpa_label)])\n",
    "\n",
    "        print('ACTIVITY MATRIX {}'.format(mvpa_label))\n",
    "\n",
    "        if activity_mat_saving_path != None:\n",
    "\n",
    "            vars()['{}_activity_matrix'.format(mvpa_label)].to_csv('{}{}_activity_matrix.csv'.format(activity_mat_saving_path,mvpa_label)) \n",
    "\n",
    "\n",
    "\n",
    "    # Control Standardization\n",
    "\n",
    "\n",
    "\n",
    "    if analysis_type == 'High_Low_Pleasance':\n",
    "\n",
    "        HP_activity_matrix = list()\n",
    "        LP_activity_matrix = list()\n",
    "\n",
    "\n",
    "        for mvpa_label in mvpa_events_labels:\n",
    "\n",
    "            if mvpa_label[0] == 'H':\n",
    "                HP_activity_matrix.append(vars()['{}_activity_matrix'.format(mvpa_label)])\n",
    "            else:\n",
    "                LP_activity_matrix.append(vars()['{}_activity_matrix'.format(mvpa_label)])\n",
    "\n",
    "        for label in ['HP','LP'] :\n",
    "\n",
    "            activity_matrix = np.stack(vars()['{}_activity_matrix'.format(label)],axis=2)\n",
    "\n",
    "\n",
    "\n",
    "            activity_matrix_dim_voxel_mean = activity_matrix.mean(axis=2)\n",
    "            activity_matrix_dim_voxel_std = activity_matrix.std(axis=2)\n",
    "\n",
    "\n",
    "            activity_matrix_dim_voxel_mean.shape = (activity_matrix.shape[0],activity_matrix.shape[1],1)\n",
    "            activity_matrix_dim_voxel_std.shape = (activity_matrix.shape[0],activity_matrix.shape[1],1)\n",
    "\n",
    "\n",
    "            activity_matrix_c_standardized = (activity_matrix - activity_matrix_dim_voxel_mean)/activity_matrix_dim_voxel_std\n",
    "\n",
    "            output_activity_matrices[label] = activity_matrix_c_standardized\n",
    "\n",
    "\n",
    "\n",
    "\n",
    "    elif analysis_type == 'High_Mid_Low_Pleasance':\n",
    "\n",
    "\n",
    "\n",
    "        HP_activity_matrix = list()\n",
    "        MP_activity_matrix = list() \n",
    "        LP_activity_matrix = list()\n",
    "\n",
    "        for mvpa_label in mvpa_events_labels:\n",
    "            if mvpa_label[0] == 'H':\n",
    "                HP_activity_matrix.append(vars()['{}_activity_matrix'.format(mvpa_label)])\n",
    "            elif mvpa_label[0] == 'M' :\n",
    "                MP_activity_matrix.append(vars()['{}_activity_matrix'.format(mvpa_label)])\n",
    "            else:\n",
    "                LP_activity_matrix.append(vars()['{}_activity_matrix'.format(mvpa_label)]) \n",
    "\n",
    "\n",
    "        for label in ['HP','LP'] :\n",
    "\n",
    "            activity_matrix = np.stack(vars()['{}_activity_matrix'.format(label)],axis=2)\n",
    "\n",
    "\n",
    "\n",
    "            activity_matrix_dim_voxel_mean = activity_matrix.mean(axis=2)\n",
    "            activity_matrix_dim_voxel_std = activity_matrix.std(axis=2)\n",
    "\n",
    "\n",
    "            activity_matrix_dim_voxel_mean.shape = (activity_matrix.shape[0],activity_matrix.shape[1],1)\n",
    "            activity_matrix_dim_voxel_std.shape = (activity_matrix.shape[0],activity_matrix.shape[1],1)\n",
    "\n",
    "\n",
    "            activity_matrix_c_standardized = (activity_matrix - activity_matrix_dim_voxel_mean)/activity_matrix_dim_voxel_std\n",
    "\n",
    "            output_activity_matrices[label] = activity_matrix_c_standardized\n",
    "\n",
    "\n",
    "    # Feature Matrix and Label Vector Computation    \n",
    "\n",
    "    label_vect = list()\n",
    "\n",
    "    for label in output_activity_matrices.keys():\n",
    "        vec = np.array([label for i in range(output_activity_matrices[label].shape[2])])\n",
    "        vec.shape = (output_activity_matrices[label].shape[2],1)\n",
    "        label_vect.append(vec)\n",
    "\n",
    "    y = np.vstack(label_vect)\n",
    "\n",
    "    features_mat = list()\n",
    "\n",
    "    for label in output_activity_matrices.keys():\n",
    "        mat = output_activity_matrices[label].copy()\n",
    "        features_mat.append(mat.reshape(mat.shape[0]*mat.shape[1],mat.shape[2]).T)\n",
    "\n",
    "\n",
    "\n",
    "        X = np.vstack(features_mat)\n",
    "\n",
    "\n",
    "    return  y, X"
   ]
  },
  {
   "cell_type": "code",
   "execution_count": 8,
   "metadata": {
    "executionInfo": {
     "elapsed": 1618,
     "status": "ok",
     "timestamp": 1606826871794,
     "user": {
      "displayName": "Zakaria Bekkar",
      "photoUrl": "",
      "userId": "11013878220604787588"
     },
     "user_tz": -60
    },
    "id": "FbKYOjxyOgkr"
   },
   "outputs": [],
   "source": [
    "def fbr_separate_method_comp(task,\n",
    "                          data_path,\n",
    "                          events_path,\n",
    "                          motion_param_path,\n",
    "                          cache_mem_path,\n",
    "                          activity_mat_saving_path,\n",
    "                          analysis_type,\n",
    "                          param_modulation,\n",
    "                          t_r,\n",
    "                          drift_model,\n",
    "                          drift_order,\n",
    "                          fbr_expected_tr_delay,\n",
    "                          pre_whitening_spec,\n",
    "                          apply_trans_mask,\n",
    "                          roi_img,  \n",
    "                          hpf_cut,\n",
    "                          smoothing_fwhm,\n",
    "                          standardize,\n",
    "                          detrend,minimize_memory):\n",
    "    \n",
    "    \n",
    "    output_activity_matrices = dict()                          \n",
    "    # Data processing                      \n",
    "\n",
    "    data = image.load_img(data_path)\n",
    "    m_img = mean_img(data) # mean niimg for plotting purposes\n",
    "    motion = pd.read_csv(motion_param_path,sep=',',header=None)\n",
    "    motion = motion[list(range(1,7))]\n",
    "    motion_col = ['tx', 'ty', 'tz', 'rx', 'ry', 'rz']\n",
    "    motion.columns = motion_col\n",
    "\n",
    "\n",
    "    #Experimental Paradigm Processing\n",
    "\n",
    "    events = pd.read_csv(events_path,sep='\\t')\n",
    "    events.columns = ['onset','duration','trial_type','modulation']\n",
    "    events.dropna(inplace=True)\n",
    "    events.index = range(len(events))\n",
    "    \n",
    "    \n",
    "    \n",
    "    if analysis_type == 'High_Low_Pleasance':\n",
    "        \n",
    "        events['trial_type_desc'] = ['High Pleasance' if x >=50 else 'Low Pleasance' for x in events['modulation'] ]\n",
    "        \n",
    "        if param_modulation:\n",
    "           \n",
    "            events = events[['onset','duration','trial_type_desc','modulation']]\n",
    "            events.columns = ['onset','duration','trial_type','modulation']\n",
    "        else:\n",
    "            events = events[['onset','duration','trial_type_desc']]\n",
    "            events.columns = ['onset','duration','trial_type']\n",
    "            \n",
    "\n",
    "\n",
    "    elif analysis_type == 'High_Mid_Low_Pleasance':\n",
    "        \n",
    "        events['trial_type_desc'] = ['High Pleasance' if x >=67 else 'Mid Pleasance' if x>=34 else 'Low Pleasance' for x in events['modulation'] ]\n",
    "        \n",
    "        if param_modulation:\n",
    "           \n",
    "            events = events[['onset','duration','trial_type_desc','modulation']]\n",
    "            events.columns = ['onset','duration','trial_type','modulation']\n",
    "        else:\n",
    "            events = events[['onset','duration','trial_type_desc']]\n",
    "            events.columns = ['onset','duration','trial_type']\n",
    "            \n",
    "            \n",
    "            \n",
    "    #  FBR - Separate event matrices computation\n",
    "\n",
    "    \n",
    "    mvpa_events_labels= list()\n",
    "    for i in range(len(events['trial_type'])):\n",
    "    \n",
    "        mvpa_event_label = events['trial_type'][i]\n",
    "\n",
    "        vars()['events_{}_{}'.format(mvpa_event_label.replace(' ',''),i+1)] = events.copy()\n",
    "\n",
    "        mvpa_events_labels.append('{}_{}'.format(mvpa_event_label.replace(' ',''),i+1))\n",
    "\n",
    "        trial_type_treated = ['{}_{}'.format(mvpa_event_label,i+1) if k == i else 'Nuisance Event' for k in  range(len(events['trial_type']))]\n",
    "\n",
    "        vars()['events_{}_{}'.format(mvpa_event_label.replace(' ',''),i+1)]['trial_type'] = trial_type_treated\n",
    "\n",
    "\n",
    "\n",
    "        print('Event {}'.format(i))\n",
    "        print(vars()['events_{}_{}'.format(mvpa_event_label.replace(' ',''),i+1)])\n",
    "            \n",
    "    # Multiple GLM fit\n",
    "    \n",
    "    \n",
    "    for mvpa_label in mvpa_events_labels:\n",
    "        print('GLM RUN {}'.format(mvpa_label))\n",
    "        \n",
    "        # Design Matrix Computation + plotting\n",
    "        \n",
    "        frametimes = np.linspace(0, (data.shape[3] - 1) * t_r, data.shape[3])\n",
    "    \n",
    "        fir_delays = list(range(1,fbr_expected_tr_delay+1)) if fbr_expected_tr_delay != None else None\n",
    "    \n",
    "\n",
    "        design_matrix = make_first_level_design_matrix(frametimes,\n",
    "                           events=vars()['events_{}'.format(mvpa_label)],\n",
    "                           add_regs=motion,\n",
    "                           add_reg_names=motion_col,\n",
    "                           hrf_model='fir',\n",
    "                           fir_delays = fir_delays,\n",
    "                           drift_model= drift_model,\n",
    "                           drift_order =drift_order)\n",
    "\n",
    "        plot_design_matrix(design_matrix)\n",
    "\n",
    "        # Statistically Enhancing Mask Computation\n",
    "\n",
    "        if apply_trans_mask :\n",
    "    \n",
    "    \n",
    "            masker = input_data.NiftiMasker(mask_img=roi_img,smoothing_fwhm=smoothing_fwhm,\n",
    "                                standardize=standardize,detrend=detrend,\n",
    "                                high_pass=hpf_cut,t_r=t_r).fit(data)\n",
    "      \n",
    "        else :\n",
    "        \n",
    "            masker = input_data.NiftiMasker(mask_img=roi_img).fit(data)\n",
    "\n",
    "\n",
    "        # GLM instantiation and fit\n",
    "\n",
    "        glm = FirstLevelModel(t_r=t_r,\n",
    "                          mask_img=masker,\n",
    "                          noise_model= pre_whitening_spec,\n",
    "                          high_pass=hpf_cut,\n",
    "                          smoothing_fwhm = smoothing_fwhm,\n",
    "                          standardize=standardize,\n",
    "                          memory=cache_mem_path,\n",
    "                          minimize_memory=minimize_memory, \n",
    "                          verbose=1)\n",
    "\n",
    "        glm = glm.fit(data,design_matrices=design_matrix)\n",
    "        \n",
    "    \n",
    "    \n",
    "        design_matrix = glm.design_matrices_[0]\n",
    "        plot_design_matrix(design_matrix)\n",
    "        plt.title('Design Matrix')\n",
    "        plt.show()\n",
    "\n",
    "        masker = NiftiMasker()\n",
    "\n",
    "        vars()['{}_activity_matrix'.format(mvpa_label)] = pd.DataFrame(None)\n",
    "\n",
    "        for i in range(fbr_expected_tr_delay):\n",
    "            condition_delay = np.eye(N=1,M=len(design_matrix.columns),k=i)\n",
    "            plot_contrast_matrix(condition_delay,design_matrix=design_matrix)\n",
    "            z_map = glm.compute_contrast(condition_delay,\n",
    "                                      stat_type='t',\n",
    "                                      output_type='z_score')\n",
    "            masked_map = masker.fit_transform(z_map)\n",
    "\n",
    "            vars()['{}_activity_matrix'.format(mvpa_label)] = vars()['{}_activity_matrix'.format(mvpa_label)].append(pd.DataFrame(masked_map))\n",
    "\n",
    "\n",
    "\n",
    "        print('ACTIVITY MATRIX {}'.format(mvpa_label))\n",
    "                                         \n",
    "        if activity_mat_saving_path != None:\n",
    "                                         \n",
    "            vars()['{}_activity_matrix'.format(mvpa_label)].to_csv('{}{}_activity_matrix.csv'.format(activity_mat_saving_path,mvpa_label)) \n",
    "        \n",
    "                                         \n",
    "                                         \n",
    "    # Control Standardization\n",
    "                                         \n",
    "                                         \n",
    "                                         \n",
    "    if analysis_type == 'High_Low_Pleasance':\n",
    "\n",
    "        HP_activity_matrix = list()\n",
    "        LP_activity_matrix = list()\n",
    "        \n",
    "                                         \n",
    "        for mvpa_label in mvpa_events_labels:\n",
    "                                         \n",
    "            if mvpa_label[0] == 'H':\n",
    "                HP_activity_matrix.append(vars()['{}_activity_matrix'.format(mvpa_label)])\n",
    "            else:\n",
    "                LP_activity_matrix.append(vars()['{}_activity_matrix'.format(mvpa_label)])\n",
    "         \n",
    "        for label in ['HP','LP'] :\n",
    "             \n",
    "            activity_matrix = np.stack(vars()['{}_activity_matrix'.format(label)],axis=2)\n",
    "             \n",
    "                                         \n",
    "                                         \n",
    "            activity_matrix_dim_voxel_mean = activity_matrix.mean(axis=2)\n",
    "            activity_matrix_dim_voxel_std = activity_matrix.std(axis=2)\n",
    "\n",
    "\n",
    "            activity_matrix_dim_voxel_mean.shape = (activity_matrix.shape[0],activity_matrix.shape[1],1)\n",
    "            activity_matrix_dim_voxel_std.shape = (activity_matrix.shape[0],activity_matrix.shape[1],1)\n",
    "\n",
    "\n",
    "            activity_matrix_c_standardized = (activity_matrix - activity_matrix_dim_voxel_mean)/activity_matrix_dim_voxel_std\n",
    "                                         \n",
    "            output_activity_matrices[label] = activity_matrix_c_standardized\n",
    "                                         \n",
    "            \n",
    "            \n",
    "                                         \n",
    "    elif analysis_type == 'High_Mid_Low_Pleasance':\n",
    "                                         \n",
    "                                         \n",
    "        \n",
    "        HP_activity_matrix = list()\n",
    "        MP_activity_matrix = list() \n",
    "        LP_activity_matrix = list()\n",
    "        \n",
    "        for mvpa_label in mvpa_events_labels:\n",
    "            if mvpa_label[0] == 'H':\n",
    "                HP_activity_matrix.append(vars()['{}_activity_matrix'.format(mvpa_label)])\n",
    "            elif mvpa_label[0] == 'M' :\n",
    "                MP_activity_matrix.append(vars()['{}_activity_matrix'.format(mvpa_label)])\n",
    "            else:\n",
    "                LP_activity_matrix.append(vars()['{}_activity_matrix'.format(mvpa_label)]) \n",
    "                                         \n",
    "         \n",
    "        for label in ['HP','LP'] :\n",
    "             \n",
    "            activity_matrix = np.stack(vars()['{}_activity_matrix'.format(label)],axis=2)\n",
    "             \n",
    "                                         \n",
    "                                         \n",
    "            activity_matrix_dim_voxel_mean = activity_matrix.mean(axis=2)\n",
    "            activity_matrix_dim_voxel_std = activity_matrix.std(axis=2)\n",
    "\n",
    "\n",
    "            activity_matrix_dim_voxel_mean.shape = (activity_matrix.shape[0],activity_matrix.shape[1],1)\n",
    "            activity_matrix_dim_voxel_std.shape = (activity_matrix.shape[0],activity_matrix.shape[1],1)\n",
    "\n",
    "\n",
    "            activity_matrix_c_standardized = (activity_matrix - activity_matrix_dim_voxel_mean)/activity_matrix_dim_voxel_std\n",
    "                                         \n",
    "            output_activity_matrices[label] = activity_matrix_c_standardized\n",
    "                                         \n",
    "                \n",
    "    # Feature Matrix and Label Vector Computation    \n",
    "                \n",
    "    label_vect = list()\n",
    "    \n",
    "    for label in output_activity_matrices.keys():\n",
    "        vec = np.array([label for i in range(output_activity_matrices[label].shape[2])])\n",
    "        vec.shape = (output_activity_matrices[label].shape[2],1)\n",
    "        label_vect.append(vec)\n",
    "        \n",
    "    y = np.vstack(label_vect)\n",
    "    \n",
    "    features_mat = list()\n",
    "\n",
    "    for label in output_activity_matrices.keys():\n",
    "        mat = output_activity_matrices[label].copy()\n",
    "        features_mat.append(mat.reshape(mat.shape[0]*mat.shape[1],mat.shape[2]).T)\n",
    "\n",
    "\n",
    "\n",
    "    X = np.vstack(features_mat)\n",
    "        \n",
    "    \n",
    "    return  y, X"
   ]
  },
  {
   "cell_type": "markdown",
   "metadata": {
    "id": "MQ5WiTG-Ogkr"
   },
   "source": [
    "# I/O"
   ]
  },
  {
   "cell_type": "markdown",
   "metadata": {
    "id": "cnhnR0UJS30O"
   },
   "source": [
    "####  Google Drive Path Initialization"
   ]
  },
  {
   "cell_type": "code",
   "execution_count": 9,
   "metadata": {
    "colab": {
     "base_uri": "https://localhost:8080/"
    },
    "executionInfo": {
     "elapsed": 22095,
     "status": "ok",
     "timestamp": 1606826955256,
     "user": {
      "displayName": "Zakaria Bekkar",
      "photoUrl": "",
      "userId": "11013878220604787588"
     },
     "user_tz": -60
    },
    "id": "87gEog3ZS30O",
    "outputId": "f61f8424-d085-470d-f6b6-b5cff84e11dd"
   },
   "outputs": [
    {
     "name": "stdout",
     "output_type": "stream",
     "text": [
      "Mounted at /content/drive\n"
     ]
    }
   ],
   "source": [
    "from google.colab import drive\n",
    "drive.mount('/content/drive')"
   ]
  },
  {
   "cell_type": "code",
   "execution_count": 10,
   "metadata": {
    "colab": {
     "base_uri": "https://localhost:8080/"
    },
    "executionInfo": {
     "elapsed": 2927,
     "status": "ok",
     "timestamp": 1606826955257,
     "user": {
      "displayName": "Zakaria Bekkar",
      "photoUrl": "",
      "userId": "11013878220604787588"
     },
     "user_tz": -60
    },
    "id": "KH3CkQ75TvC0",
    "outputId": "7c859ec6-9aaf-4a34-aa23-5a347ea3e080"
   },
   "outputs": [
    {
     "name": "stdout",
     "output_type": "stream",
     "text": [
      "/content/drive/MyDrive/CEA\n"
     ]
    }
   ],
   "source": [
    "cd drive/MyDrive/CEA/"
   ]
  },
  {
   "cell_type": "code",
   "execution_count": 11,
   "metadata": {
    "colab": {
     "base_uri": "https://localhost:8080/"
    },
    "executionInfo": {
     "elapsed": 1206,
     "status": "ok",
     "timestamp": 1606826955259,
     "user": {
      "displayName": "Zakaria Bekkar",
      "photoUrl": "",
      "userId": "11013878220604787588"
     },
     "user_tz": -60
    },
    "id": "Mle4rlkUULIx",
    "outputId": "a3f9038c-d4aa-4535-f022-752de267bb92"
   },
   "outputs": [
    {
     "name": "stdout",
     "output_type": "stream",
     "text": [
      "\u001b[0m\u001b[01;34mcache_mem\u001b[0m/  \u001b[01;34mdata\u001b[0m/  \u001b[01;34mmask\u001b[0m/  \u001b[01;34mmodels\u001b[0m/  \u001b[01;34mmvpa\u001b[0m/  \u001b[01;34mses-19\u001b[0m/\n"
     ]
    }
   ],
   "source": [
    "ls"
   ]
  },
  {
   "cell_type": "markdown",
   "metadata": {
    "id": "JMiQU7IAOgks"
   },
   "source": [
    "## Global  Statistical Computation Parameters"
   ]
  },
  {
   "cell_type": "code",
   "execution_count": 12,
   "metadata": {
    "executionInfo": {
     "elapsed": 782,
     "status": "ok",
     "timestamp": 1606826960428,
     "user": {
      "displayName": "Zakaria Bekkar",
      "photoUrl": "",
      "userId": "11013878220604787588"
     },
     "user_tz": -60
    },
    "id": "dW1CPeKQOgks"
   },
   "outputs": [],
   "source": [
    "voxel_dim = 1.5\n",
    "t_r = 2\n",
    "pre_whitening_spec = 'ar1'\n",
    "smoothing_fwhm = 2*voxel_dim \n",
    "slice_time_ref = 0. # Matching with STC done in preproc\n",
    "cache_mem_path = None"
   ]
  },
  {
   "cell_type": "markdown",
   "metadata": {
    "id": "6I129a44Ogks"
   },
   "source": [
    "# Multi Voxel Pattern Analysis"
   ]
  },
  {
   "cell_type": "markdown",
   "metadata": {
    "id": "hnOUYbw0Ogks"
   },
   "source": [
    "### To update"
   ]
  },
  {
   "cell_type": "markdown",
   "metadata": {
    "id": "2ySIbNTzOgks"
   },
   "source": [
    "![image.png](attachment:image.png)"
   ]
  },
  {
   "cell_type": "markdown",
   "metadata": {
    "id": "L5U4RdrBOgks"
   },
   "source": [
    "# ROI SELECTION"
   ]
  },
  {
   "cell_type": "markdown",
   "metadata": {
    "id": "DckCzeXtOgks"
   },
   "source": [
    "### Based on the global preference FFX ( across tasks and runs)"
   ]
  },
  {
   "cell_type": "markdown",
   "metadata": {
    "id": "FQ-icKetOgks"
   },
   "source": [
    "#### High Pleasance / Low Pleasance Classification"
   ]
  },
  {
   "cell_type": "code",
   "execution_count": 13,
   "metadata": {
    "executionInfo": {
     "elapsed": 2617,
     "status": "ok",
     "timestamp": 1606826981421,
     "user": {
      "displayName": "Zakaria Bekkar",
      "photoUrl": "",
      "userId": "11013878220604787588"
     },
     "user_tz": -60
    },
    "id": "YhJ1Q1GPURsl"
   },
   "outputs": [],
   "source": [
    "mask_img = image.load_img('mask/linear_vmpfc_mask.nii.gz')"
   ]
  },
  {
   "cell_type": "markdown",
   "metadata": {
    "id": "vxD3xgmSOgkt"
   },
   "source": [
    "## Activity Matrices Extraction ( LSS Separate Method )"
   ]
  },
  {
   "cell_type": "markdown",
   "metadata": {
    "id": "UBYqv8eVOgkt"
   },
   "source": [
    " - We extract the activity matrices/ label vector pair for each run, for each task\n",
    " - We perform an onset shift to capture the very moment of the decision, we set it to 1000 ms before the button press\n",
    " - We concatenate all this data to create a global dataset over all the preference battery of test"
   ]
  },
  {
   "cell_type": "code",
   "execution_count": 14,
   "metadata": {
    "executionInfo": {
     "elapsed": 729,
     "status": "ok",
     "timestamp": 1606827034766,
     "user": {
      "displayName": "Zakaria Bekkar",
      "photoUrl": "",
      "userId": "11013878220604787588"
     },
     "user_tz": -60
    },
    "id": "dg1Qp97mOgkt"
   },
   "outputs": [],
   "source": [
    "y_g = list()\n",
    "X_g = list()"
   ]
  },
  {
   "cell_type": "markdown",
   "metadata": {
    "id": "RRyj5LVVOgkt"
   },
   "source": [
    "### Faces Task"
   ]
  },
  {
   "cell_type": "markdown",
   "metadata": {
    "id": "9ZTyU7c7Ogkt"
   },
   "source": [
    "### Run AP"
   ]
  },
  {
   "cell_type": "code",
   "execution_count": 15,
   "metadata": {
    "executionInfo": {
     "elapsed": 720,
     "status": "ok",
     "timestamp": 1606827036497,
     "user": {
      "displayName": "Zakaria Bekkar",
      "photoUrl": "",
      "userId": "11013878220604787588"
     },
     "user_tz": -60
    },
    "id": "acTXm7hFOgkt"
   },
   "outputs": [],
   "source": [
    "data_path = 'ses-19/func/wrdcsub-01_ses-19_task-PreferenceFaces_dir-ap_bold.nii.gz'\n",
    "events_path = 'ses-19/func/sub-01_ses-19_task-PreferenceFaces_dir-ap_events.tsv'\n",
    "motion_param_path = 'ses-19/func/rp_dcsub-01_ses-19_task-PreferenceFaces_dir-ap_bold.txt'\n",
    "task = 'Faces'"
   ]
  },
  {
   "cell_type": "code",
   "execution_count": 16,
   "metadata": {
    "executionInfo": {
     "elapsed": 1784,
     "status": "ok",
     "timestamp": 1606827038220,
     "user": {
      "displayName": "Zakaria Bekkar",
      "photoUrl": "",
      "userId": "11013878220604787588"
     },
     "user_tz": -60
    },
    "id": "KZkUtjR7Ogkt"
   },
   "outputs": [],
   "source": [
    "analysis_type = 'High_Low_Pleasance'\n",
    "hrf_model = 'spm + derivative'\n",
    "param_modulation = False\n",
    "drift_model='cosine'\n",
    "t_r=2\n",
    "drift_order=None\n",
    "apply_trans_mask=True\n",
    "roi_img = mask_img\n",
    "standardize=True\n",
    "detrend=True\n",
    "minimize_memory = True\n",
    "activity_mat_saving_path = 'mvpa/test2'\n",
    "\n",
    "events = pd.read_csv(events_path,sep='\\t')\n",
    "\n",
    "# onset shift in order to capture the very moment of the appreciation decision\n",
    "events['onset'] = events['onset']-1\n",
    "\n",
    "\n",
    "onset_periods = [events['onset'][i+1] - events['onset'][i]  for i in range(len(events['onset']))if (i<len(events['onset'])-1)]\n",
    "onset_periods = np.array(onset_periods)\n",
    "onset_freq = np.reciprocal(onset_periods)\n",
    "\n",
    "hpf_cut = np.min(onset_freq)/2 # cf High Pass Filtering Rule of Thumb ( fMRI Handbook 2011)"
   ]
  },
  {
   "cell_type": "code",
   "execution_count": 17,
   "metadata": {
    "colab": {
     "base_uri": "https://localhost:8080/",
     "height": 1000,
     "output_embedded_package_id": "1x99cqIG63mLvaKEHk81ds6G-2m0gh-6F"
    },
    "executionInfo": {
     "elapsed": 1160068,
     "status": "ok",
     "timestamp": 1606828196935,
     "user": {
      "displayName": "Zakaria Bekkar",
      "photoUrl": "",
      "userId": "11013878220604787588"
     },
     "user_tz": -60
    },
    "id": "3Ar5zLaJOgkt",
    "outputId": "35827a21-e8d5-43ed-9b96-8bc586399dad"
   },
   "outputs": [
    {
     "data": {
      "text/plain": [
       "Output hidden; open in https://colab.research.google.com to view."
      ]
     },
     "metadata": {},
     "output_type": "display_data"
    }
   ],
   "source": [
    "y_fa_ap, X_fa_ap = lss_separate_method_comp(task =task,\n",
    "                          data_path=data_path,\n",
    "                          events_path=events_path,\n",
    "                          motion_param_path=motion_param_path,\n",
    "                          cache_mem_path=cache_mem_path,\n",
    "                          activity_mat_saving_path=activity_mat_saving_path,\n",
    "                          analysis_type=analysis_type,\n",
    "                          param_modulation=False,\n",
    "                          t_r=t_r,\n",
    "                          drift_model=drift_model,\n",
    "                          drift_order=drift_order,\n",
    "                          hrf_model=hrf_model,\n",
    "                          pre_whitening_spec=pre_whitening_spec,\n",
    "                          apply_trans_mask=apply_trans_mask,\n",
    "                          roi_img=roi_img,  \n",
    "                          hpf_cut=hpf_cut,\n",
    "                          smoothing_fwhm=smoothing_fwhm,\n",
    "                          standardize=standardize,\n",
    "                          detrend=detrend,minimize_memory=minimize_memory)"
   ]
  },
  {
   "cell_type": "code",
   "execution_count": 18,
   "metadata": {
    "executionInfo": {
     "elapsed": 1159315,
     "status": "ok",
     "timestamp": 1606828196938,
     "user": {
      "displayName": "Zakaria Bekkar",
      "photoUrl": "",
      "userId": "11013878220604787588"
     },
     "user_tz": -60
    },
    "id": "YmQSacAzOgku"
   },
   "outputs": [],
   "source": [
    "y_g.append(y_fa_ap)\n",
    "X_g.append(X_fa_ap)"
   ]
  },
  {
   "cell_type": "code",
   "execution_count": 19,
   "metadata": {
    "colab": {
     "base_uri": "https://localhost:8080/"
    },
    "executionInfo": {
     "elapsed": 1158683,
     "status": "ok",
     "timestamp": 1606828196939,
     "user": {
      "displayName": "Zakaria Bekkar",
      "photoUrl": "",
      "userId": "11013878220604787588"
     },
     "user_tz": -60
    },
    "id": "SAE2_SY6Ogku",
    "outputId": "e0901ba7-edb1-4f95-9485-8588af4798f5"
   },
   "outputs": [
    {
     "data": {
      "text/plain": [
       "(60, 3)"
      ]
     },
     "execution_count": 19,
     "metadata": {
      "tags": []
     },
     "output_type": "execute_result"
    }
   ],
   "source": [
    "X_fa_ap.shape"
   ]
  },
  {
   "cell_type": "markdown",
   "metadata": {
    "id": "j0I-zCAfOgku"
   },
   "source": [
    "### Run PA"
   ]
  },
  {
   "cell_type": "code",
   "execution_count": 20,
   "metadata": {
    "executionInfo": {
     "elapsed": 1158117,
     "status": "ok",
     "timestamp": 1606828196940,
     "user": {
      "displayName": "Zakaria Bekkar",
      "photoUrl": "",
      "userId": "11013878220604787588"
     },
     "user_tz": -60
    },
    "id": "ZEZCgljIOgku"
   },
   "outputs": [],
   "source": [
    "data_path = 'ses-19/func/wrdcsub-01_ses-19_task-PreferenceFaces_dir-pa_bold.nii.gz'\n",
    "events_path = 'ses-19/func/sub-01_ses-19_task-PreferenceFaces_dir-pa_events.tsv'\n",
    "motion_param_path = 'ses-19/func/rp_dcsub-01_ses-19_task-PreferenceFaces_dir-pa_bold.txt'\n",
    "task = 'Faces'"
   ]
  },
  {
   "cell_type": "code",
   "execution_count": 21,
   "metadata": {
    "executionInfo": {
     "elapsed": 1158289,
     "status": "ok",
     "timestamp": 1606828197299,
     "user": {
      "displayName": "Zakaria Bekkar",
      "photoUrl": "",
      "userId": "11013878220604787588"
     },
     "user_tz": -60
    },
    "id": "zRLqY_0_Ogku"
   },
   "outputs": [],
   "source": [
    "analysis_type = 'High_Low_Pleasance'\n",
    "hrf_model = 'spm + derivative'\n",
    "param_modulation = False\n",
    "drift_model='cosine'\n",
    "t_r=2\n",
    "drift_order=None\n",
    "apply_trans_mask=True\n",
    "roi_img = mask_img\n",
    "standardize=True\n",
    "detrend=True\n",
    "minimize_memory = True\n",
    "activity_mat_saving_path = 'mvpa/test2'\n",
    "\n",
    "events = pd.read_csv(events_path,sep='\\t')\n",
    "\n",
    "# onset shift in order to capture the very moment of the appreciation decision\n",
    "events['onset'] = events['onset']-1\n",
    "\n",
    "onset_periods = [events['onset'][i+1] - events['onset'][i]  for i in range(len(events['onset']))if (i<len(events['onset'])-1)]\n",
    "onset_periods = np.array(onset_periods)\n",
    "onset_freq = np.reciprocal(onset_periods)\n",
    "hpf_cut = np.min(onset_freq)/2 # cf High Pass Filtering Rule of Thumb ( fMRI Handbook 2011)"
   ]
  },
  {
   "cell_type": "code",
   "execution_count": 22,
   "metadata": {
    "colab": {
     "base_uri": "https://localhost:8080/",
     "height": 1000,
     "output_embedded_package_id": "1LVCf4OCCz9fLlPFfTe4wQs1RRRln-yHk"
    },
    "executionInfo": {
     "elapsed": 1978650,
     "status": "ok",
     "timestamp": 1606829017817,
     "user": {
      "displayName": "Zakaria Bekkar",
      "photoUrl": "",
      "userId": "11013878220604787588"
     },
     "user_tz": -60
    },
    "id": "H1AaQdLuOgku",
    "outputId": "6fac6107-14e2-40c8-faba-c50fc34ab3e4"
   },
   "outputs": [
    {
     "data": {
      "text/plain": [
       "Output hidden; open in https://colab.research.google.com to view."
      ]
     },
     "metadata": {},
     "output_type": "display_data"
    }
   ],
   "source": [
    "y_fa_pa, X_fa_pa = lss_separate_method_comp(task =task,\n",
    "                          data_path=data_path,\n",
    "                          events_path=events_path,\n",
    "                          motion_param_path=motion_param_path,\n",
    "                          cache_mem_path=cache_mem_path,\n",
    "                          activity_mat_saving_path=activity_mat_saving_path,\n",
    "                          analysis_type=analysis_type,\n",
    "                          param_modulation=False,\n",
    "                          t_r=t_r,\n",
    "                          drift_model=drift_model,\n",
    "                          drift_order=drift_order,\n",
    "                          hrf_model=hrf_model,\n",
    "                          pre_whitening_spec=pre_whitening_spec,\n",
    "                          apply_trans_mask=apply_trans_mask,\n",
    "                          roi_img=roi_img,  \n",
    "                          hpf_cut=hpf_cut,\n",
    "                          smoothing_fwhm=smoothing_fwhm,\n",
    "                          standardize=standardize,\n",
    "                          detrend=detrend,minimize_memory=minimize_memory)"
   ]
  },
  {
   "cell_type": "code",
   "execution_count": 23,
   "metadata": {
    "executionInfo": {
     "elapsed": 1978449,
     "status": "ok",
     "timestamp": 1606829017818,
     "user": {
      "displayName": "Zakaria Bekkar",
      "photoUrl": "",
      "userId": "11013878220604787588"
     },
     "user_tz": -60
    },
    "id": "2DV2ZMynOgkv"
   },
   "outputs": [],
   "source": [
    "y_g.append(y_fa_pa)\n",
    "X_g.append(X_fa_pa)"
   ]
  },
  {
   "cell_type": "code",
   "execution_count": 24,
   "metadata": {
    "colab": {
     "base_uri": "https://localhost:8080/"
    },
    "executionInfo": {
     "elapsed": 1978304,
     "status": "ok",
     "timestamp": 1606829017819,
     "user": {
      "displayName": "Zakaria Bekkar",
      "photoUrl": "",
      "userId": "11013878220604787588"
     },
     "user_tz": -60
    },
    "id": "mS7yDZ8WOgkv",
    "outputId": "da764fc6-b10e-4633-ddd9-bf2b0e1aed9d"
   },
   "outputs": [
    {
     "data": {
      "text/plain": [
       "(60, 3)"
      ]
     },
     "execution_count": 24,
     "metadata": {
      "tags": []
     },
     "output_type": "execute_result"
    }
   ],
   "source": [
    "X_fa_pa.shape"
   ]
  },
  {
   "cell_type": "markdown",
   "metadata": {
    "id": "ZIS2AqwVOgkv"
   },
   "source": [
    "### Food Task"
   ]
  },
  {
   "cell_type": "markdown",
   "metadata": {
    "id": "H4pZf7KjOgkv"
   },
   "source": [
    "### Run AP"
   ]
  },
  {
   "cell_type": "code",
   "execution_count": 25,
   "metadata": {
    "executionInfo": {
     "elapsed": 1977740,
     "status": "ok",
     "timestamp": 1606829017820,
     "user": {
      "displayName": "Zakaria Bekkar",
      "photoUrl": "",
      "userId": "11013878220604787588"
     },
     "user_tz": -60
    },
    "id": "2HRuJGW8Ogkv"
   },
   "outputs": [],
   "source": [
    "data_path = 'ses-19/func/wrdcsub-01_ses-19_task-PreferenceFood_dir-ap_bold.nii.gz'\n",
    "events_path = 'ses-19/func/sub-01_ses-19_task-PreferenceFood_dir-ap_events.tsv'\n",
    "motion_param_path = 'ses-19/func/rp_dcsub-01_ses-19_task-PreferenceFood_dir-ap_bold.txt'\n",
    "task = 'Food'"
   ]
  },
  {
   "cell_type": "code",
   "execution_count": 26,
   "metadata": {
    "executionInfo": {
     "elapsed": 1977966,
     "status": "ok",
     "timestamp": 1606829018168,
     "user": {
      "displayName": "Zakaria Bekkar",
      "photoUrl": "",
      "userId": "11013878220604787588"
     },
     "user_tz": -60
    },
    "id": "SgSwsO8iOgkv"
   },
   "outputs": [],
   "source": [
    "analysis_type = 'High_Low_Pleasance'\n",
    "hrf_model = 'spm + derivative'\n",
    "param_modulation = False\n",
    "drift_model='cosine'\n",
    "t_r=2\n",
    "drift_order=None\n",
    "apply_trans_mask=True\n",
    "roi_img = mask_img\n",
    "standardize=True\n",
    "detrend=True\n",
    "minimize_memory = True\n",
    "activity_mat_saving_path = 'mvpa/test2'\n",
    "\n",
    "events = pd.read_csv(events_path,sep='\\t')\n",
    "\n",
    "# onset shift in order to capture the very moment of the appreciation decision\n",
    "events['onset'] = events['onset']-1\n",
    "\n",
    "onset_periods = [events['onset'][i+1] - events['onset'][i]  for i in range(len(events['onset']))if (i<len(events['onset'])-1)]\n",
    "onset_periods = np.array(onset_periods)\n",
    "onset_freq = np.reciprocal(onset_periods)\n",
    "hpf_cut = np.min(onset_freq)/2 # cf High Pass Filtering Rule of Thumb ( fMRI Handbook 2011)"
   ]
  },
  {
   "cell_type": "code",
   "execution_count": 27,
   "metadata": {
    "colab": {
     "base_uri": "https://localhost:8080/",
     "height": 1000,
     "output_embedded_package_id": "1JYw8Yhx6wsqN8f0Pt9ur-9gbbFLDOtNW"
    },
    "executionInfo": {
     "elapsed": 2854980,
     "status": "ok",
     "timestamp": 1606829895341,
     "user": {
      "displayName": "Zakaria Bekkar",
      "photoUrl": "",
      "userId": "11013878220604787588"
     },
     "user_tz": -60
    },
    "id": "9RHixBCNOgkv",
    "outputId": "38902c64-85bc-4818-8666-154e03647853"
   },
   "outputs": [
    {
     "data": {
      "text/plain": [
       "Output hidden; open in https://colab.research.google.com to view."
      ]
     },
     "metadata": {},
     "output_type": "display_data"
    }
   ],
   "source": [
    "y_fo_ap, X_fo_ap = lss_separate_method_comp(task =task,\n",
    "                          data_path=data_path,\n",
    "                          events_path=events_path,\n",
    "                          motion_param_path=motion_param_path,\n",
    "                          cache_mem_path=cache_mem_path,\n",
    "                          activity_mat_saving_path=activity_mat_saving_path,\n",
    "                          analysis_type=analysis_type,\n",
    "                          param_modulation=False,\n",
    "                          t_r=t_r,\n",
    "                          drift_model=drift_model,\n",
    "                          drift_order=drift_order,\n",
    "                          hrf_model=hrf_model,\n",
    "                          pre_whitening_spec=pre_whitening_spec,\n",
    "                          apply_trans_mask=apply_trans_mask,\n",
    "                          roi_img=roi_img,  \n",
    "                          hpf_cut=hpf_cut,\n",
    "                          smoothing_fwhm=smoothing_fwhm,\n",
    "                          standardize=standardize,\n",
    "                          detrend=detrend,minimize_memory=minimize_memory)"
   ]
  },
  {
   "cell_type": "code",
   "execution_count": 28,
   "metadata": {
    "executionInfo": {
     "elapsed": 2854840,
     "status": "ok",
     "timestamp": 1606829895343,
     "user": {
      "displayName": "Zakaria Bekkar",
      "photoUrl": "",
      "userId": "11013878220604787588"
     },
     "user_tz": -60
    },
    "id": "PTQ1gcKDOgkw"
   },
   "outputs": [],
   "source": [
    "y_g.append(y_fo_ap)\n",
    "X_g.append(X_fo_ap)"
   ]
  },
  {
   "cell_type": "code",
   "execution_count": 29,
   "metadata": {
    "colab": {
     "base_uri": "https://localhost:8080/"
    },
    "executionInfo": {
     "elapsed": 2854651,
     "status": "ok",
     "timestamp": 1606829895344,
     "user": {
      "displayName": "Zakaria Bekkar",
      "photoUrl": "",
      "userId": "11013878220604787588"
     },
     "user_tz": -60
    },
    "id": "_hishZdQOgkw",
    "outputId": "28dd18e5-6e81-4f54-8ba8-abbcfe3039e3"
   },
   "outputs": [
    {
     "data": {
      "text/plain": [
       "(60, 3)"
      ]
     },
     "execution_count": 29,
     "metadata": {
      "tags": []
     },
     "output_type": "execute_result"
    }
   ],
   "source": [
    "X_fo_ap.shape"
   ]
  },
  {
   "cell_type": "markdown",
   "metadata": {
    "id": "_btxN9C0Ogkw"
   },
   "source": [
    "### Run PA"
   ]
  },
  {
   "cell_type": "code",
   "execution_count": 30,
   "metadata": {
    "executionInfo": {
     "elapsed": 2854244,
     "status": "ok",
     "timestamp": 1606829895345,
     "user": {
      "displayName": "Zakaria Bekkar",
      "photoUrl": "",
      "userId": "11013878220604787588"
     },
     "user_tz": -60
    },
    "id": "PjGRKEXuOgkw"
   },
   "outputs": [],
   "source": [
    "data_path = 'ses-19/func/wrdcsub-01_ses-19_task-PreferenceFood_dir-pa_bold.nii.gz'\n",
    "events_path = 'ses-19/func/sub-01_ses-19_task-PreferenceFood_dir-pa_events.tsv'\n",
    "motion_param_path = 'ses-19/func/rp_dcsub-01_ses-19_task-PreferenceFood_dir-pa_bold.txt'\n",
    "task = 'Food'"
   ]
  },
  {
   "cell_type": "code",
   "execution_count": 31,
   "metadata": {
    "executionInfo": {
     "elapsed": 2854788,
     "status": "ok",
     "timestamp": 1606829895980,
     "user": {
      "displayName": "Zakaria Bekkar",
      "photoUrl": "",
      "userId": "11013878220604787588"
     },
     "user_tz": -60
    },
    "id": "jK66uFeyOgkw"
   },
   "outputs": [],
   "source": [
    "analysis_type = 'High_Low_Pleasance'\n",
    "hrf_model = 'spm + derivative'\n",
    "param_modulation = False\n",
    "drift_model='cosine'\n",
    "t_r=2\n",
    "drift_order=None\n",
    "apply_trans_mask=True\n",
    "roi_img = mask_img\n",
    "standardize=True\n",
    "detrend=True\n",
    "minimize_memory = True\n",
    "activity_mat_saving_path = 'mvpa/test2'\n",
    "\n",
    "events = pd.read_csv(events_path,sep='\\t')\n",
    "\n",
    "# onset shift in order to capture the very moment of the appreciation decision\n",
    "events['onset'] = events['onset']-1\n",
    "\n",
    "onset_periods = [events['onset'][i+1] - events['onset'][i]  for i in range(len(events['onset']))if (i<len(events['onset'])-1)]\n",
    "onset_periods = np.array(onset_periods)\n",
    "onset_freq = np.reciprocal(onset_periods)\n",
    "hpf_cut = np.min(onset_freq)/2 # cf High Pass Filtering Rule of Thumb ( fMRI Handbook 2011)"
   ]
  },
  {
   "cell_type": "code",
   "execution_count": 32,
   "metadata": {
    "colab": {
     "base_uri": "https://localhost:8080/",
     "height": 1000,
     "output_embedded_package_id": "10tpxPAwT4_IHsS_WDCUxC-JY0DLuvah3"
    },
    "executionInfo": {
     "elapsed": 3675459,
     "status": "ok",
     "timestamp": 1606830716795,
     "user": {
      "displayName": "Zakaria Bekkar",
      "photoUrl": "",
      "userId": "11013878220604787588"
     },
     "user_tz": -60
    },
    "id": "ZLVi-w4OOgkw",
    "outputId": "86e83d40-fea2-48d1-ee10-da931e440f47"
   },
   "outputs": [
    {
     "data": {
      "text/plain": [
       "Output hidden; open in https://colab.research.google.com to view."
      ]
     },
     "metadata": {},
     "output_type": "display_data"
    }
   ],
   "source": [
    "y_fo_pa, X_fo_pa = lss_separate_method_comp(task =task,\n",
    "                          data_path=data_path,\n",
    "                          events_path=events_path,\n",
    "                          motion_param_path=motion_param_path,\n",
    "                          cache_mem_path=cache_mem_path,\n",
    "                          activity_mat_saving_path=activity_mat_saving_path,\n",
    "                          analysis_type=analysis_type,\n",
    "                          param_modulation=False,\n",
    "                          t_r=t_r,\n",
    "                          drift_model=drift_model,\n",
    "                          drift_order=drift_order,\n",
    "                          hrf_model=hrf_model,\n",
    "                          pre_whitening_spec=pre_whitening_spec,\n",
    "                          apply_trans_mask=apply_trans_mask,\n",
    "                          roi_img=roi_img,  \n",
    "                          hpf_cut=hpf_cut,\n",
    "                          smoothing_fwhm=smoothing_fwhm,\n",
    "                          standardize=standardize,\n",
    "                          detrend=detrend,minimize_memory=minimize_memory)"
   ]
  },
  {
   "cell_type": "code",
   "execution_count": 33,
   "metadata": {
    "executionInfo": {
     "elapsed": 3675275,
     "status": "ok",
     "timestamp": 1606830716797,
     "user": {
      "displayName": "Zakaria Bekkar",
      "photoUrl": "",
      "userId": "11013878220604787588"
     },
     "user_tz": -60
    },
    "id": "pK8oFhdCOgkx"
   },
   "outputs": [],
   "source": [
    "y_g.append(y_fo_pa)\n",
    "X_g.append(X_fo_pa)"
   ]
  },
  {
   "cell_type": "code",
   "execution_count": 34,
   "metadata": {
    "colab": {
     "base_uri": "https://localhost:8080/"
    },
    "executionInfo": {
     "elapsed": 3675104,
     "status": "ok",
     "timestamp": 1606830716797,
     "user": {
      "displayName": "Zakaria Bekkar",
      "photoUrl": "",
      "userId": "11013878220604787588"
     },
     "user_tz": -60
    },
    "id": "IZe7ePGEOgkx",
    "outputId": "3ba358d0-70af-4003-9081-999d06a2a77e"
   },
   "outputs": [
    {
     "data": {
      "text/plain": [
       "(60, 3)"
      ]
     },
     "execution_count": 34,
     "metadata": {
      "tags": []
     },
     "output_type": "execute_result"
    }
   ],
   "source": [
    "X_fo_pa.shape"
   ]
  },
  {
   "cell_type": "markdown",
   "metadata": {
    "id": "DEE_yQzaOgkx"
   },
   "source": [
    "### Houses Task"
   ]
  },
  {
   "cell_type": "markdown",
   "metadata": {
    "id": "v5o5pm64Ogkx"
   },
   "source": [
    "### Run AP"
   ]
  },
  {
   "cell_type": "code",
   "execution_count": 35,
   "metadata": {
    "executionInfo": {
     "elapsed": 3674589,
     "status": "ok",
     "timestamp": 1606830716799,
     "user": {
      "displayName": "Zakaria Bekkar",
      "photoUrl": "",
      "userId": "11013878220604787588"
     },
     "user_tz": -60
    },
    "id": "P5UdJ1ltOgkx"
   },
   "outputs": [],
   "source": [
    "data_path = 'ses-19/func/wrdcsub-01_ses-19_task-PreferenceHouses_dir-ap_bold.nii.gz'\n",
    "events_path = 'ses-19/func/sub-01_ses-19_task-PreferenceHouses_dir-ap_events.tsv'\n",
    "motion_param_path = 'ses-19/func/rp_dcsub-01_ses-19_task-PreferenceHouses_dir-ap_bold.txt'\n",
    "task = 'Houses'"
   ]
  },
  {
   "cell_type": "code",
   "execution_count": 36,
   "metadata": {
    "executionInfo": {
     "elapsed": 3675579,
     "status": "ok",
     "timestamp": 1606830717914,
     "user": {
      "displayName": "Zakaria Bekkar",
      "photoUrl": "",
      "userId": "11013878220604787588"
     },
     "user_tz": -60
    },
    "id": "NK-MaV2xOgkx"
   },
   "outputs": [],
   "source": [
    "analysis_type = 'High_Low_Pleasance'\n",
    "hrf_model = 'spm + derivative'\n",
    "param_modulation = False\n",
    "drift_model='cosine'\n",
    "t_r=2\n",
    "drift_order=None\n",
    "apply_trans_mask=True\n",
    "roi_img = mask_img\n",
    "standardize=True\n",
    "detrend=True\n",
    "minimize_memory = True\n",
    "activity_mat_saving_path = 'mvpa/test2'\n",
    "\n",
    "events = pd.read_csv(events_path,sep='\\t')\n",
    "\n",
    "# onset shift in order to capture the very moment of the appreciation decision\n",
    "events['onset'] = events['onset']-1\n",
    "\n",
    "onset_periods = [events['onset'][i+1] - events['onset'][i]  for i in range(len(events['onset']))if (i<len(events['onset'])-1)]\n",
    "onset_periods = np.array(onset_periods)\n",
    "onset_freq = np.reciprocal(onset_periods)\n",
    "hpf_cut = np.min(onset_freq)/2 # cf High Pass Filtering Rule of Thumb ( fMRI Handbook 2011)"
   ]
  },
  {
   "cell_type": "code",
   "execution_count": 37,
   "metadata": {
    "colab": {
     "base_uri": "https://localhost:8080/",
     "height": 1000,
     "output_embedded_package_id": "1xr6PUPDDl20r0SXy9MxW-CdhYHDanBVI"
    },
    "executionInfo": {
     "elapsed": 4500468,
     "status": "ok",
     "timestamp": 1606831543022,
     "user": {
      "displayName": "Zakaria Bekkar",
      "photoUrl": "",
      "userId": "11013878220604787588"
     },
     "user_tz": -60
    },
    "id": "wNaCPdTHOgkx",
    "outputId": "4dc54c57-1a5c-4c80-d754-5fb229f0c2dd"
   },
   "outputs": [
    {
     "data": {
      "text/plain": [
       "Output hidden; open in https://colab.research.google.com to view."
      ]
     },
     "metadata": {},
     "output_type": "display_data"
    }
   ],
   "source": [
    "y_ho_ap, X_ho_ap = lss_separate_method_comp(task =task,\n",
    "                          data_path=data_path,\n",
    "                          events_path=events_path,\n",
    "                          motion_param_path=motion_param_path,\n",
    "                          cache_mem_path=cache_mem_path,\n",
    "                          activity_mat_saving_path=activity_mat_saving_path,\n",
    "                          analysis_type=analysis_type,\n",
    "                          param_modulation=False,\n",
    "                          t_r=t_r,\n",
    "                          drift_model=drift_model,\n",
    "                          drift_order=drift_order,\n",
    "                          hrf_model=hrf_model,\n",
    "                          pre_whitening_spec=pre_whitening_spec,\n",
    "                          apply_trans_mask=apply_trans_mask,\n",
    "                          roi_img=roi_img,  \n",
    "                          hpf_cut=hpf_cut,\n",
    "                          smoothing_fwhm=smoothing_fwhm,\n",
    "                          standardize=standardize,\n",
    "                          detrend=detrend,minimize_memory=minimize_memory)"
   ]
  },
  {
   "cell_type": "code",
   "execution_count": 38,
   "metadata": {
    "executionInfo": {
     "elapsed": 4500352,
     "status": "ok",
     "timestamp": 1606831543024,
     "user": {
      "displayName": "Zakaria Bekkar",
      "photoUrl": "",
      "userId": "11013878220604787588"
     },
     "user_tz": -60
    },
    "id": "u2ehliqUOgkx"
   },
   "outputs": [],
   "source": [
    "y_g.append(y_ho_ap)\n",
    "X_g.append(X_ho_ap)"
   ]
  },
  {
   "cell_type": "code",
   "execution_count": 39,
   "metadata": {
    "colab": {
     "base_uri": "https://localhost:8080/"
    },
    "executionInfo": {
     "elapsed": 4500187,
     "status": "ok",
     "timestamp": 1606831543024,
     "user": {
      "displayName": "Zakaria Bekkar",
      "photoUrl": "",
      "userId": "11013878220604787588"
     },
     "user_tz": -60
    },
    "id": "ee2dJdVTOgkx",
    "outputId": "ed049ca8-5d8b-4bfe-f172-bbecbaba1a58"
   },
   "outputs": [
    {
     "data": {
      "text/plain": [
       "(60, 3)"
      ]
     },
     "execution_count": 39,
     "metadata": {
      "tags": []
     },
     "output_type": "execute_result"
    }
   ],
   "source": [
    "X_ho_ap.shape"
   ]
  },
  {
   "cell_type": "markdown",
   "metadata": {
    "id": "-No_SCy2Ogky"
   },
   "source": [
    "### Run PA"
   ]
  },
  {
   "cell_type": "code",
   "execution_count": 40,
   "metadata": {
    "executionInfo": {
     "elapsed": 4499778,
     "status": "ok",
     "timestamp": 1606831543025,
     "user": {
      "displayName": "Zakaria Bekkar",
      "photoUrl": "",
      "userId": "11013878220604787588"
     },
     "user_tz": -60
    },
    "id": "YqCoCF8iOgky"
   },
   "outputs": [],
   "source": [
    "data_path = 'ses-19/func/wrdcsub-01_ses-19_task-PreferenceHouses_dir-pa_bold.nii.gz'\n",
    "events_path = 'ses-19/func/sub-01_ses-19_task-PreferenceHouses_dir-pa_events.tsv'\n",
    "motion_param_path = 'ses-19/func/rp_dcsub-01_ses-19_task-PreferenceHouses_dir-pa_bold.txt'\n",
    "task = 'Houses'"
   ]
  },
  {
   "cell_type": "code",
   "execution_count": 41,
   "metadata": {
    "executionInfo": {
     "elapsed": 4500957,
     "status": "ok",
     "timestamp": 1606831544354,
     "user": {
      "displayName": "Zakaria Bekkar",
      "photoUrl": "",
      "userId": "11013878220604787588"
     },
     "user_tz": -60
    },
    "id": "3HrOOKQDOgky"
   },
   "outputs": [],
   "source": [
    "analysis_type = 'High_Low_Pleasance'\n",
    "hrf_model = 'spm + derivative'\n",
    "param_modulation = False\n",
    "drift_model='cosine'\n",
    "t_r=2\n",
    "drift_order=None\n",
    "apply_trans_mask=True\n",
    "roi_img = mask_img\n",
    "standardize=True\n",
    "detrend=True\n",
    "minimize_memory = True\n",
    "activity_mat_saving_path = 'mvpa/test2'\n",
    "\n",
    "events = pd.read_csv(events_path,sep='\\t')\n",
    "\n",
    "# onset shift in order to capture the very moment of the appreciation decision\n",
    "events['onset'] = events['onset']-1\n",
    "\n",
    "onset_periods = [events['onset'][i+1] - events['onset'][i]  for i in range(len(events['onset']))if (i<len(events['onset'])-1)]\n",
    "onset_periods = np.array(onset_periods)\n",
    "onset_freq = np.reciprocal(onset_periods)\n",
    "hpf_cut = np.min(onset_freq)/2 # cf High Pass Filtering Rule of Thumb ( fMRI Handbook 2011)"
   ]
  },
  {
   "cell_type": "code",
   "execution_count": 42,
   "metadata": {
    "colab": {
     "base_uri": "https://localhost:8080/",
     "height": 1000,
     "output_embedded_package_id": "1IM6Ktukzctwfi9XspeBDQZ70YuMaxaLW"
    },
    "executionInfo": {
     "elapsed": 5318747,
     "status": "ok",
     "timestamp": 1606832362306,
     "user": {
      "displayName": "Zakaria Bekkar",
      "photoUrl": "",
      "userId": "11013878220604787588"
     },
     "user_tz": -60
    },
    "id": "m0zRGCMdOgky",
    "outputId": "62c16213-95df-4f87-9b83-8b5560a74716"
   },
   "outputs": [
    {
     "data": {
      "text/plain": [
       "Output hidden; open in https://colab.research.google.com to view."
      ]
     },
     "metadata": {},
     "output_type": "display_data"
    }
   ],
   "source": [
    "y_ho_pa, X_ho_pa = lss_separate_method_comp(task =task,\n",
    "                          data_path=data_path,\n",
    "                          events_path=events_path,\n",
    "                          motion_param_path=motion_param_path,\n",
    "                          cache_mem_path=cache_mem_path,\n",
    "                          activity_mat_saving_path=activity_mat_saving_path,\n",
    "                          analysis_type=analysis_type,\n",
    "                          param_modulation=False,\n",
    "                          t_r=t_r,\n",
    "                          drift_model=drift_model,\n",
    "                          drift_order=drift_order,\n",
    "                          hrf_model=hrf_model,\n",
    "                          pre_whitening_spec=pre_whitening_spec,\n",
    "                          apply_trans_mask=apply_trans_mask,\n",
    "                          roi_img=roi_img,  \n",
    "                          hpf_cut=hpf_cut,\n",
    "                          smoothing_fwhm=smoothing_fwhm,\n",
    "                          standardize=standardize,\n",
    "                          detrend=detrend,minimize_memory=minimize_memory)"
   ]
  },
  {
   "cell_type": "code",
   "execution_count": 43,
   "metadata": {
    "executionInfo": {
     "elapsed": 5318540,
     "status": "ok",
     "timestamp": 1606832362309,
     "user": {
      "displayName": "Zakaria Bekkar",
      "photoUrl": "",
      "userId": "11013878220604787588"
     },
     "user_tz": -60
    },
    "id": "rSx8K4-KOgky"
   },
   "outputs": [],
   "source": [
    "y_g.append(y_ho_pa)\n",
    "X_g.append(X_ho_pa)"
   ]
  },
  {
   "cell_type": "code",
   "execution_count": 44,
   "metadata": {
    "colab": {
     "base_uri": "https://localhost:8080/"
    },
    "executionInfo": {
     "elapsed": 5318973,
     "status": "ok",
     "timestamp": 1606832362839,
     "user": {
      "displayName": "Zakaria Bekkar",
      "photoUrl": "",
      "userId": "11013878220604787588"
     },
     "user_tz": -60
    },
    "id": "jD1xreCGOgky",
    "outputId": "212eadc6-d809-4fb5-8b52-0bafa821e289"
   },
   "outputs": [
    {
     "data": {
      "text/plain": [
       "(60, 3)"
      ]
     },
     "execution_count": 44,
     "metadata": {
      "tags": []
     },
     "output_type": "execute_result"
    }
   ],
   "source": [
    "X_ho_pa.shape"
   ]
  },
  {
   "cell_type": "markdown",
   "metadata": {
    "id": "F3gEdkaEOgky"
   },
   "source": [
    "### Paintings Task"
   ]
  },
  {
   "cell_type": "markdown",
   "metadata": {
    "id": "bWLLT41YOgky"
   },
   "source": [
    "### Run AP"
   ]
  },
  {
   "cell_type": "code",
   "execution_count": 45,
   "metadata": {
    "executionInfo": {
     "elapsed": 5318443,
     "status": "ok",
     "timestamp": 1606832362842,
     "user": {
      "displayName": "Zakaria Bekkar",
      "photoUrl": "",
      "userId": "11013878220604787588"
     },
     "user_tz": -60
    },
    "id": "DzTAHos_Ogky"
   },
   "outputs": [],
   "source": [
    "data_path = 'ses-19/func/wrdcsub-01_ses-19_task-PreferencePaintings_dir-ap_bold.nii.gz'\n",
    "events_path = 'ses-19/func/sub-01_ses-19_task-PreferencePaintings_dir-ap_events.tsv'\n",
    "motion_param_path = 'ses-19/func/rp_dcsub-01_ses-19_task-PreferencePaintings_dir-ap_bold.txt'\n",
    "task = 'Paintings'"
   ]
  },
  {
   "cell_type": "code",
   "execution_count": 46,
   "metadata": {
    "executionInfo": {
     "elapsed": 5318754,
     "status": "ok",
     "timestamp": 1606832363332,
     "user": {
      "displayName": "Zakaria Bekkar",
      "photoUrl": "",
      "userId": "11013878220604787588"
     },
     "user_tz": -60
    },
    "id": "uzt-1_m8Ogky"
   },
   "outputs": [],
   "source": [
    "analysis_type = 'High_Low_Pleasance'\n",
    "hrf_model = 'spm + derivative'\n",
    "param_modulation = False\n",
    "drift_model='cosine'\n",
    "t_r=2\n",
    "drift_order=None\n",
    "apply_trans_mask=True\n",
    "roi_img = mask_img\n",
    "standardize=True\n",
    "detrend=True\n",
    "minimize_memory = True\n",
    "activity_mat_saving_path = 'mvpa/test2'\n",
    "\n",
    "events = pd.read_csv(events_path,sep='\\t')\n",
    "\n",
    "# onset shift in order to capture the very moment of the appreciation decision\n",
    "events['onset'] = events['onset']-1\n",
    "\n",
    "onset_periods = [events['onset'][i+1] - events['onset'][i]  for i in range(len(events['onset']))if (i<len(events['onset'])-1)]\n",
    "onset_periods = np.array(onset_periods)\n",
    "onset_freq = np.reciprocal(onset_periods)\n",
    "hpf_cut = np.min(onset_freq)/2 # cf High Pass Filtering Rule of Thumb ( fMRI Handbook 2011)"
   ]
  },
  {
   "cell_type": "code",
   "execution_count": 47,
   "metadata": {
    "colab": {
     "base_uri": "https://localhost:8080/",
     "height": 1000,
     "output_embedded_package_id": "13VO6BhK8JI5K3vtVFO7GAHW9RGA-nQ-T"
    },
    "executionInfo": {
     "elapsed": 6136373,
     "status": "ok",
     "timestamp": 1606833181129,
     "user": {
      "displayName": "Zakaria Bekkar",
      "photoUrl": "",
      "userId": "11013878220604787588"
     },
     "user_tz": -60
    },
    "id": "rvaawOvZOgky",
    "outputId": "2171607c-0b79-482a-bbb9-fc0448aa6293"
   },
   "outputs": [
    {
     "data": {
      "text/plain": [
       "Output hidden; open in https://colab.research.google.com to view."
      ]
     },
     "metadata": {},
     "output_type": "display_data"
    }
   ],
   "source": [
    "y_p_ap, X_p_ap = lss_separate_method_comp(task =task,\n",
    "                          data_path=data_path,\n",
    "                          events_path=events_path,\n",
    "                          motion_param_path=motion_param_path,\n",
    "                          cache_mem_path=cache_mem_path,\n",
    "                          activity_mat_saving_path=activity_mat_saving_path,\n",
    "                          analysis_type=analysis_type,\n",
    "                          param_modulation=False,\n",
    "                          t_r=t_r,\n",
    "                          drift_model=drift_model,\n",
    "                          drift_order=drift_order,\n",
    "                          hrf_model=hrf_model,\n",
    "                          pre_whitening_spec=pre_whitening_spec,\n",
    "                          apply_trans_mask=apply_trans_mask,\n",
    "                          roi_img=roi_img,  \n",
    "                          hpf_cut=hpf_cut,\n",
    "                          smoothing_fwhm=smoothing_fwhm,\n",
    "                          standardize=standardize,\n",
    "                          detrend=detrend,minimize_memory=minimize_memory)"
   ]
  },
  {
   "cell_type": "code",
   "execution_count": 48,
   "metadata": {
    "executionInfo": {
     "elapsed": 6136264,
     "status": "ok",
     "timestamp": 1606833181144,
     "user": {
      "displayName": "Zakaria Bekkar",
      "photoUrl": "",
      "userId": "11013878220604787588"
     },
     "user_tz": -60
    },
    "id": "eHnGAIIlOgkz"
   },
   "outputs": [],
   "source": [
    "y_g.append(y_p_ap)\n",
    "X_g.append(X_p_ap)"
   ]
  },
  {
   "cell_type": "markdown",
   "metadata": {
    "id": "VojdNQPXOgkz"
   },
   "source": [
    "### Run PA"
   ]
  },
  {
   "cell_type": "code",
   "execution_count": 49,
   "metadata": {
    "executionInfo": {
     "elapsed": 6135849,
     "status": "ok",
     "timestamp": 1606833181144,
     "user": {
      "displayName": "Zakaria Bekkar",
      "photoUrl": "",
      "userId": "11013878220604787588"
     },
     "user_tz": -60
    },
    "id": "EfYBvC6TOgkz"
   },
   "outputs": [],
   "source": [
    "data_path = 'ses-19/func/wrdcsub-01_ses-19_task-PreferencePaintings_dir-pa_bold.nii.gz'\n",
    "events_path = 'ses-19/func/sub-01_ses-19_task-PreferencePaintings_dir-pa_events.tsv'\n",
    "motion_param_path = 'ses-19/func/rp_dcsub-01_ses-19_task-PreferencePaintings_dir-pa_bold.txt'\n",
    "task = 'Paintings'"
   ]
  },
  {
   "cell_type": "code",
   "execution_count": 50,
   "metadata": {
    "executionInfo": {
     "elapsed": 6135775,
     "status": "ok",
     "timestamp": 1606833181572,
     "user": {
      "displayName": "Zakaria Bekkar",
      "photoUrl": "",
      "userId": "11013878220604787588"
     },
     "user_tz": -60
    },
    "id": "2ZOY_kKbOgkz"
   },
   "outputs": [],
   "source": [
    "analysis_type = 'High_Low_Pleasance'\n",
    "hrf_model = 'spm + derivative'\n",
    "param_modulation = False\n",
    "drift_model='cosine'\n",
    "t_r=2\n",
    "drift_order=None\n",
    "apply_trans_mask=True\n",
    "roi_img = mask_img\n",
    "standardize=True\n",
    "detrend=True\n",
    "minimize_memory = True\n",
    "activity_mat_saving_path = 'mvpa/test2'\n",
    "\n",
    "events = pd.read_csv(events_path,sep='\\t')\n",
    "\n",
    "# onset shift in order to capture the very moment of the appreciation decision\n",
    "events['onset'] = events['onset']-1\n",
    "\n",
    "onset_periods = [events['onset'][i+1] - events['onset'][i]  for i in range(len(events['onset']))if (i<len(events['onset'])-1)]\n",
    "onset_periods = np.array(onset_periods)\n",
    "onset_freq = np.reciprocal(onset_periods)\n",
    "hpf_cut = np.min(onset_freq)/2 # cf High Pass Filtering Rule of Thumb ( fMRI Handbook 2011)"
   ]
  },
  {
   "cell_type": "code",
   "execution_count": 51,
   "metadata": {
    "colab": {
     "base_uri": "https://localhost:8080/",
     "height": 1000,
     "output_embedded_package_id": "1-AcEK8Do7sG51dgu0f7pzZTPQQAr1Uzj"
    },
    "executionInfo": {
     "elapsed": 6955913,
     "status": "ok",
     "timestamp": 1606834001889,
     "user": {
      "displayName": "Zakaria Bekkar",
      "photoUrl": "",
      "userId": "11013878220604787588"
     },
     "user_tz": -60
    },
    "id": "CxYYQ2Q5Ogkz",
    "outputId": "645f012d-4476-4c16-d61c-d5231664535c"
   },
   "outputs": [
    {
     "data": {
      "text/plain": [
       "Output hidden; open in https://colab.research.google.com to view."
      ]
     },
     "metadata": {},
     "output_type": "display_data"
    }
   ],
   "source": [
    "y_p_pa, X_p_pa = lss_separate_method_comp(task =task,\n",
    "                          data_path=data_path,\n",
    "                          events_path=events_path,\n",
    "                          motion_param_path=motion_param_path,\n",
    "                          cache_mem_path=cache_mem_path,\n",
    "                          activity_mat_saving_path=activity_mat_saving_path,\n",
    "                          analysis_type=analysis_type,\n",
    "                          param_modulation=False,\n",
    "                          t_r=t_r,\n",
    "                          drift_model=drift_model,\n",
    "                          drift_order=drift_order,\n",
    "                          hrf_model=hrf_model,\n",
    "                          pre_whitening_spec=pre_whitening_spec,\n",
    "                          apply_trans_mask=apply_trans_mask,\n",
    "                          roi_img=roi_img,  \n",
    "                          hpf_cut=hpf_cut,\n",
    "                          smoothing_fwhm=smoothing_fwhm,\n",
    "                          standardize=standardize,\n",
    "                          detrend=detrend,minimize_memory=minimize_memory)"
   ]
  },
  {
   "cell_type": "code",
   "execution_count": 52,
   "metadata": {
    "executionInfo": {
     "elapsed": 6955688,
     "status": "ok",
     "timestamp": 1606834001890,
     "user": {
      "displayName": "Zakaria Bekkar",
      "photoUrl": "",
      "userId": "11013878220604787588"
     },
     "user_tz": -60
    },
    "id": "yPduJmo3Ogk0"
   },
   "outputs": [],
   "source": [
    "y_g.append(y_p_pa)\n",
    "X_g.append(X_p_pa)"
   ]
  },
  {
   "cell_type": "markdown",
   "metadata": {
    "id": "nOKHhR-HOgk0"
   },
   "source": [
    "### Global Dataset Construction"
   ]
  },
  {
   "cell_type": "code",
   "execution_count": 53,
   "metadata": {
    "executionInfo": {
     "elapsed": 6955375,
     "status": "ok",
     "timestamp": 1606834001890,
     "user": {
      "displayName": "Zakaria Bekkar",
      "photoUrl": "",
      "userId": "11013878220604787588"
     },
     "user_tz": -60
    },
    "id": "O-7xPJduOgk0"
   },
   "outputs": [],
   "source": [
    "y = np.vstack(y_g)\n",
    "X = np.vstack(X_g)"
   ]
  },
  {
   "cell_type": "code",
   "execution_count": 54,
   "metadata": {
    "colab": {
     "base_uri": "https://localhost:8080/"
    },
    "executionInfo": {
     "elapsed": 6955193,
     "status": "ok",
     "timestamp": 1606834001891,
     "user": {
      "displayName": "Zakaria Bekkar",
      "photoUrl": "",
      "userId": "11013878220604787588"
     },
     "user_tz": -60
    },
    "id": "0Unf2I_SOgk0",
    "outputId": "63ca962f-2084-4894-83c2-010cdaf9bfa2"
   },
   "outputs": [
    {
     "data": {
      "text/plain": [
       "(480, 3)"
      ]
     },
     "execution_count": 54,
     "metadata": {
      "tags": []
     },
     "output_type": "execute_result"
    }
   ],
   "source": [
    "X.shape"
   ]
  },
  {
   "cell_type": "code",
   "execution_count": 55,
   "metadata": {
    "colab": {
     "base_uri": "https://localhost:8080/"
    },
    "executionInfo": {
     "elapsed": 6955022,
     "status": "ok",
     "timestamp": 1606834001892,
     "user": {
      "displayName": "Zakaria Bekkar",
      "photoUrl": "",
      "userId": "11013878220604787588"
     },
     "user_tz": -60
    },
    "id": "n85rH6a_Ogk0",
    "outputId": "df402dfe-ebec-4b7d-9ae3-d2b82d6843a9"
   },
   "outputs": [
    {
     "data": {
      "text/plain": [
       "array([[ 2.33376215,  2.17963908,  1.48816649],\n",
       "       [-0.44597196,  0.07732953,  0.40238784],\n",
       "       [-0.01551307,  0.18509338,  0.60893397],\n",
       "       ...,\n",
       "       [-0.97798119, -0.67005892, -1.2307879 ],\n",
       "       [ 0.26154514,  0.29808347,  0.39118863],\n",
       "       [-2.14594286, -2.19705447, -2.25353248]])"
      ]
     },
     "execution_count": 55,
     "metadata": {
      "tags": []
     },
     "output_type": "execute_result"
    }
   ],
   "source": [
    "X"
   ]
  },
  {
   "cell_type": "code",
   "execution_count": 56,
   "metadata": {
    "colab": {
     "base_uri": "https://localhost:8080/"
    },
    "executionInfo": {
     "elapsed": 6954858,
     "status": "ok",
     "timestamp": 1606834001892,
     "user": {
      "displayName": "Zakaria Bekkar",
      "photoUrl": "",
      "userId": "11013878220604787588"
     },
     "user_tz": -60
    },
    "id": "YxNYYAF9Ogk0",
    "outputId": "3cbc71b7-b5af-4657-c151-93aad06547ce"
   },
   "outputs": [
    {
     "data": {
      "text/plain": [
       "(480, 1)"
      ]
     },
     "execution_count": 56,
     "metadata": {
      "tags": []
     },
     "output_type": "execute_result"
    }
   ],
   "source": [
    "y.shape"
   ]
  },
  {
   "cell_type": "code",
   "execution_count": 57,
   "metadata": {
    "colab": {
     "base_uri": "https://localhost:8080/"
    },
    "executionInfo": {
     "elapsed": 6954150,
     "status": "ok",
     "timestamp": 1606834001893,
     "user": {
      "displayName": "Zakaria Bekkar",
      "photoUrl": "",
      "userId": "11013878220604787588"
     },
     "user_tz": -60
    },
    "id": "i2ngbPFfOgk0",
    "outputId": "119e4b4e-9d9b-4390-8882-a5c4762c2a04"
   },
   "outputs": [
    {
     "data": {
      "text/plain": [
       "array([['HP'],\n",
       "       ['HP'],\n",
       "       ['HP'],\n",
       "       ['HP'],\n",
       "       ['HP'],\n",
       "       ['HP'],\n",
       "       ['HP'],\n",
       "       ['HP'],\n",
       "       ['HP'],\n",
       "       ['HP'],\n",
       "       ['HP'],\n",
       "       ['HP'],\n",
       "       ['HP'],\n",
       "       ['HP'],\n",
       "       ['HP'],\n",
       "       ['HP'],\n",
       "       ['HP'],\n",
       "       ['HP'],\n",
       "       ['HP'],\n",
       "       ['HP'],\n",
       "       ['HP'],\n",
       "       ['HP'],\n",
       "       ['LP'],\n",
       "       ['LP'],\n",
       "       ['LP'],\n",
       "       ['LP'],\n",
       "       ['LP'],\n",
       "       ['LP'],\n",
       "       ['LP'],\n",
       "       ['LP'],\n",
       "       ['LP'],\n",
       "       ['LP'],\n",
       "       ['LP'],\n",
       "       ['LP'],\n",
       "       ['LP'],\n",
       "       ['LP'],\n",
       "       ['LP'],\n",
       "       ['LP'],\n",
       "       ['LP'],\n",
       "       ['LP'],\n",
       "       ['LP'],\n",
       "       ['LP'],\n",
       "       ['LP'],\n",
       "       ['LP'],\n",
       "       ['LP'],\n",
       "       ['LP'],\n",
       "       ['LP'],\n",
       "       ['LP'],\n",
       "       ['LP'],\n",
       "       ['LP'],\n",
       "       ['LP'],\n",
       "       ['LP'],\n",
       "       ['LP'],\n",
       "       ['LP'],\n",
       "       ['LP'],\n",
       "       ['LP'],\n",
       "       ['LP'],\n",
       "       ['LP'],\n",
       "       ['LP'],\n",
       "       ['LP'],\n",
       "       ['HP'],\n",
       "       ['HP'],\n",
       "       ['HP'],\n",
       "       ['HP'],\n",
       "       ['HP'],\n",
       "       ['HP'],\n",
       "       ['HP'],\n",
       "       ['HP'],\n",
       "       ['HP'],\n",
       "       ['HP'],\n",
       "       ['HP'],\n",
       "       ['HP'],\n",
       "       ['HP'],\n",
       "       ['HP'],\n",
       "       ['HP'],\n",
       "       ['HP'],\n",
       "       ['HP'],\n",
       "       ['HP'],\n",
       "       ['HP'],\n",
       "       ['HP'],\n",
       "       ['HP'],\n",
       "       ['HP'],\n",
       "       ['HP'],\n",
       "       ['HP'],\n",
       "       ['HP'],\n",
       "       ['HP'],\n",
       "       ['HP'],\n",
       "       ['HP'],\n",
       "       ['HP'],\n",
       "       ['HP'],\n",
       "       ['HP'],\n",
       "       ['LP'],\n",
       "       ['LP'],\n",
       "       ['LP'],\n",
       "       ['LP'],\n",
       "       ['LP'],\n",
       "       ['LP'],\n",
       "       ['LP'],\n",
       "       ['LP'],\n",
       "       ['LP'],\n",
       "       ['LP'],\n",
       "       ['LP'],\n",
       "       ['LP'],\n",
       "       ['LP'],\n",
       "       ['LP'],\n",
       "       ['LP'],\n",
       "       ['LP'],\n",
       "       ['LP'],\n",
       "       ['LP'],\n",
       "       ['LP'],\n",
       "       ['LP'],\n",
       "       ['LP'],\n",
       "       ['LP'],\n",
       "       ['LP'],\n",
       "       ['LP'],\n",
       "       ['LP'],\n",
       "       ['LP'],\n",
       "       ['LP'],\n",
       "       ['LP'],\n",
       "       ['LP'],\n",
       "       ['HP'],\n",
       "       ['HP'],\n",
       "       ['HP'],\n",
       "       ['HP'],\n",
       "       ['HP'],\n",
       "       ['HP'],\n",
       "       ['HP'],\n",
       "       ['HP'],\n",
       "       ['HP'],\n",
       "       ['HP'],\n",
       "       ['HP'],\n",
       "       ['HP'],\n",
       "       ['HP'],\n",
       "       ['HP'],\n",
       "       ['HP'],\n",
       "       ['HP'],\n",
       "       ['HP'],\n",
       "       ['HP'],\n",
       "       ['HP'],\n",
       "       ['HP'],\n",
       "       ['HP'],\n",
       "       ['HP'],\n",
       "       ['HP'],\n",
       "       ['HP'],\n",
       "       ['HP'],\n",
       "       ['HP'],\n",
       "       ['HP'],\n",
       "       ['HP'],\n",
       "       ['HP'],\n",
       "       ['HP'],\n",
       "       ['HP'],\n",
       "       ['HP'],\n",
       "       ['HP'],\n",
       "       ['HP'],\n",
       "       ['HP'],\n",
       "       ['HP'],\n",
       "       ['HP'],\n",
       "       ['HP'],\n",
       "       ['HP'],\n",
       "       ['LP'],\n",
       "       ['LP'],\n",
       "       ['LP'],\n",
       "       ['LP'],\n",
       "       ['LP'],\n",
       "       ['LP'],\n",
       "       ['LP'],\n",
       "       ['LP'],\n",
       "       ['LP'],\n",
       "       ['LP'],\n",
       "       ['LP'],\n",
       "       ['LP'],\n",
       "       ['LP'],\n",
       "       ['LP'],\n",
       "       ['LP'],\n",
       "       ['LP'],\n",
       "       ['LP'],\n",
       "       ['LP'],\n",
       "       ['LP'],\n",
       "       ['LP'],\n",
       "       ['LP'],\n",
       "       ['HP'],\n",
       "       ['HP'],\n",
       "       ['HP'],\n",
       "       ['HP'],\n",
       "       ['HP'],\n",
       "       ['HP'],\n",
       "       ['HP'],\n",
       "       ['HP'],\n",
       "       ['HP'],\n",
       "       ['HP'],\n",
       "       ['HP'],\n",
       "       ['HP'],\n",
       "       ['HP'],\n",
       "       ['HP'],\n",
       "       ['HP'],\n",
       "       ['HP'],\n",
       "       ['HP'],\n",
       "       ['HP'],\n",
       "       ['HP'],\n",
       "       ['HP'],\n",
       "       ['HP'],\n",
       "       ['HP'],\n",
       "       ['HP'],\n",
       "       ['HP'],\n",
       "       ['HP'],\n",
       "       ['HP'],\n",
       "       ['HP'],\n",
       "       ['HP'],\n",
       "       ['HP'],\n",
       "       ['HP'],\n",
       "       ['HP'],\n",
       "       ['HP'],\n",
       "       ['HP'],\n",
       "       ['HP'],\n",
       "       ['HP'],\n",
       "       ['HP'],\n",
       "       ['HP'],\n",
       "       ['LP'],\n",
       "       ['LP'],\n",
       "       ['LP'],\n",
       "       ['LP'],\n",
       "       ['LP'],\n",
       "       ['LP'],\n",
       "       ['LP'],\n",
       "       ['LP'],\n",
       "       ['LP'],\n",
       "       ['LP'],\n",
       "       ['LP'],\n",
       "       ['LP'],\n",
       "       ['LP'],\n",
       "       ['LP'],\n",
       "       ['LP'],\n",
       "       ['LP'],\n",
       "       ['LP'],\n",
       "       ['LP'],\n",
       "       ['LP'],\n",
       "       ['LP'],\n",
       "       ['LP'],\n",
       "       ['LP'],\n",
       "       ['LP'],\n",
       "       ['HP'],\n",
       "       ['HP'],\n",
       "       ['HP'],\n",
       "       ['HP'],\n",
       "       ['HP'],\n",
       "       ['HP'],\n",
       "       ['HP'],\n",
       "       ['HP'],\n",
       "       ['HP'],\n",
       "       ['HP'],\n",
       "       ['HP'],\n",
       "       ['HP'],\n",
       "       ['HP'],\n",
       "       ['HP'],\n",
       "       ['HP'],\n",
       "       ['HP'],\n",
       "       ['HP'],\n",
       "       ['HP'],\n",
       "       ['HP'],\n",
       "       ['HP'],\n",
       "       ['HP'],\n",
       "       ['HP'],\n",
       "       ['HP'],\n",
       "       ['HP'],\n",
       "       ['HP'],\n",
       "       ['HP'],\n",
       "       ['HP'],\n",
       "       ['HP'],\n",
       "       ['HP'],\n",
       "       ['HP'],\n",
       "       ['LP'],\n",
       "       ['LP'],\n",
       "       ['LP'],\n",
       "       ['LP'],\n",
       "       ['LP'],\n",
       "       ['LP'],\n",
       "       ['LP'],\n",
       "       ['LP'],\n",
       "       ['LP'],\n",
       "       ['LP'],\n",
       "       ['LP'],\n",
       "       ['LP'],\n",
       "       ['LP'],\n",
       "       ['LP'],\n",
       "       ['LP'],\n",
       "       ['LP'],\n",
       "       ['LP'],\n",
       "       ['LP'],\n",
       "       ['LP'],\n",
       "       ['LP'],\n",
       "       ['LP'],\n",
       "       ['LP'],\n",
       "       ['LP'],\n",
       "       ['LP'],\n",
       "       ['LP'],\n",
       "       ['LP'],\n",
       "       ['LP'],\n",
       "       ['LP'],\n",
       "       ['LP'],\n",
       "       ['LP'],\n",
       "       ['HP'],\n",
       "       ['HP'],\n",
       "       ['HP'],\n",
       "       ['HP'],\n",
       "       ['HP'],\n",
       "       ['HP'],\n",
       "       ['HP'],\n",
       "       ['HP'],\n",
       "       ['HP'],\n",
       "       ['HP'],\n",
       "       ['HP'],\n",
       "       ['HP'],\n",
       "       ['HP'],\n",
       "       ['HP'],\n",
       "       ['HP'],\n",
       "       ['HP'],\n",
       "       ['HP'],\n",
       "       ['HP'],\n",
       "       ['HP'],\n",
       "       ['HP'],\n",
       "       ['HP'],\n",
       "       ['HP'],\n",
       "       ['HP'],\n",
       "       ['HP'],\n",
       "       ['HP'],\n",
       "       ['HP'],\n",
       "       ['HP'],\n",
       "       ['HP'],\n",
       "       ['HP'],\n",
       "       ['LP'],\n",
       "       ['LP'],\n",
       "       ['LP'],\n",
       "       ['LP'],\n",
       "       ['LP'],\n",
       "       ['LP'],\n",
       "       ['LP'],\n",
       "       ['LP'],\n",
       "       ['LP'],\n",
       "       ['LP'],\n",
       "       ['LP'],\n",
       "       ['LP'],\n",
       "       ['LP'],\n",
       "       ['LP'],\n",
       "       ['LP'],\n",
       "       ['LP'],\n",
       "       ['LP'],\n",
       "       ['LP'],\n",
       "       ['LP'],\n",
       "       ['LP'],\n",
       "       ['LP'],\n",
       "       ['LP'],\n",
       "       ['LP'],\n",
       "       ['LP'],\n",
       "       ['LP'],\n",
       "       ['LP'],\n",
       "       ['LP'],\n",
       "       ['LP'],\n",
       "       ['LP'],\n",
       "       ['LP'],\n",
       "       ['LP'],\n",
       "       ['HP'],\n",
       "       ['HP'],\n",
       "       ['HP'],\n",
       "       ['HP'],\n",
       "       ['HP'],\n",
       "       ['HP'],\n",
       "       ['HP'],\n",
       "       ['HP'],\n",
       "       ['HP'],\n",
       "       ['HP'],\n",
       "       ['HP'],\n",
       "       ['HP'],\n",
       "       ['LP'],\n",
       "       ['LP'],\n",
       "       ['LP'],\n",
       "       ['LP'],\n",
       "       ['LP'],\n",
       "       ['LP'],\n",
       "       ['LP'],\n",
       "       ['LP'],\n",
       "       ['LP'],\n",
       "       ['LP'],\n",
       "       ['LP'],\n",
       "       ['LP'],\n",
       "       ['LP'],\n",
       "       ['LP'],\n",
       "       ['LP'],\n",
       "       ['LP'],\n",
       "       ['LP'],\n",
       "       ['LP'],\n",
       "       ['LP'],\n",
       "       ['LP'],\n",
       "       ['LP'],\n",
       "       ['LP'],\n",
       "       ['LP'],\n",
       "       ['LP'],\n",
       "       ['LP'],\n",
       "       ['LP'],\n",
       "       ['LP'],\n",
       "       ['LP'],\n",
       "       ['LP'],\n",
       "       ['LP'],\n",
       "       ['LP'],\n",
       "       ['LP'],\n",
       "       ['LP'],\n",
       "       ['LP'],\n",
       "       ['LP'],\n",
       "       ['LP'],\n",
       "       ['LP'],\n",
       "       ['LP'],\n",
       "       ['LP'],\n",
       "       ['LP'],\n",
       "       ['LP'],\n",
       "       ['LP'],\n",
       "       ['LP'],\n",
       "       ['LP'],\n",
       "       ['LP'],\n",
       "       ['LP'],\n",
       "       ['LP'],\n",
       "       ['LP'],\n",
       "       ['HP'],\n",
       "       ['HP'],\n",
       "       ['HP'],\n",
       "       ['HP'],\n",
       "       ['HP'],\n",
       "       ['HP'],\n",
       "       ['HP'],\n",
       "       ['HP'],\n",
       "       ['HP'],\n",
       "       ['HP'],\n",
       "       ['HP'],\n",
       "       ['HP'],\n",
       "       ['HP'],\n",
       "       ['HP'],\n",
       "       ['HP'],\n",
       "       ['HP'],\n",
       "       ['LP'],\n",
       "       ['LP'],\n",
       "       ['LP'],\n",
       "       ['LP'],\n",
       "       ['LP'],\n",
       "       ['LP'],\n",
       "       ['LP'],\n",
       "       ['LP'],\n",
       "       ['LP'],\n",
       "       ['LP'],\n",
       "       ['LP'],\n",
       "       ['LP'],\n",
       "       ['LP'],\n",
       "       ['LP'],\n",
       "       ['LP'],\n",
       "       ['LP'],\n",
       "       ['LP'],\n",
       "       ['LP'],\n",
       "       ['LP'],\n",
       "       ['LP'],\n",
       "       ['LP'],\n",
       "       ['LP'],\n",
       "       ['LP'],\n",
       "       ['LP'],\n",
       "       ['LP'],\n",
       "       ['LP'],\n",
       "       ['LP'],\n",
       "       ['LP'],\n",
       "       ['LP'],\n",
       "       ['LP'],\n",
       "       ['LP'],\n",
       "       ['LP'],\n",
       "       ['LP'],\n",
       "       ['LP'],\n",
       "       ['LP'],\n",
       "       ['LP'],\n",
       "       ['LP'],\n",
       "       ['LP'],\n",
       "       ['LP'],\n",
       "       ['LP'],\n",
       "       ['LP'],\n",
       "       ['LP'],\n",
       "       ['LP'],\n",
       "       ['LP']], dtype='<U2')"
      ]
     },
     "execution_count": 57,
     "metadata": {
      "tags": []
     },
     "output_type": "execute_result"
    }
   ],
   "source": [
    "y"
   ]
  },
  {
   "cell_type": "code",
   "execution_count": 58,
   "metadata": {
    "executionInfo": {
     "elapsed": 6953956,
     "status": "ok",
     "timestamp": 1606834001893,
     "user": {
      "displayName": "Zakaria Bekkar",
      "photoUrl": "",
      "userId": "11013878220604787588"
     },
     "user_tz": -60
    },
    "id": "JFWUovynOgk0"
   },
   "outputs": [],
   "source": [
    "np.save('mvpa/X_pref_lss_shift_linear_vmpfc',X)\n",
    "np.save('mvpa/y_pref_lss_shift_linear_vmpfc',y)\n"
   ]
  },
  {
   "cell_type": "code",
   "execution_count": 58,
   "metadata": {
    "executionInfo": {
     "elapsed": 6953879,
     "status": "ok",
     "timestamp": 1606834001894,
     "user": {
      "displayName": "Zakaria Bekkar",
      "photoUrl": "",
      "userId": "11013878220604787588"
     },
     "user_tz": -60
    },
    "id": "aQrx1wS_Wvu7"
   },
   "outputs": [],
   "source": []
  }
 ],
 "metadata": {
  "colab": {
   "name": "MVPA - LSS SEPARATE - linear - vmPFC",
   "provenance": [
    {
     "file_id": "1nbdbeZCDzoZ62y7vgpDC6_nCHCmOIaSA",
     "timestamp": 1606825073390
    },
    {
     "file_id": "19k9TsYM2HP-1QPZWE2tR8zxn3L6W-0py",
     "timestamp": 1606825033122
    },
    {
     "file_id": "1UdNmt20P2ZWaTmzZLXsjTIiXYmSd1qbR",
     "timestamp": 1606824961684
    }
   ]
  },
  "kernelspec": {
   "display_name": "Python 3",
   "language": "python",
   "name": "python3"
  },
  "language_info": {
   "codemirror_mode": {
    "name": "ipython",
    "version": 3
   },
   "file_extension": ".py",
   "mimetype": "text/x-python",
   "name": "python",
   "nbconvert_exporter": "python",
   "pygments_lexer": "ipython3",
   "version": "3.8.5"
  }
 },
 "nbformat": 4,
 "nbformat_minor": 1
}
