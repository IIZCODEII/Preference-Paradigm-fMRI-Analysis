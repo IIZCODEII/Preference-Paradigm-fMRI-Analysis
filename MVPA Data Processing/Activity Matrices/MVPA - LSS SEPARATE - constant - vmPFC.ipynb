{
 "cells": [
  {
   "cell_type": "markdown",
   "metadata": {
    "id": "bzixeMh7Ogko"
   },
   "source": [
    "# Implemented Algorithms and Function"
   ]
  },
  {
   "cell_type": "markdown",
   "metadata": {
    "id": "0f0CGvXiOgkp"
   },
   "source": [
    "These functions: routines and algorithms are used throughout this notebook for computation and statistical plotting.\n",
    "\n",
    "The computational / statistical algorithms and the parameters used are inspired from Poldrack, R., Mumford, J., & Nichols, T. (2011). *Handbook of Functional MRI Data Analysis*. Cambridge: Cambridge University Press. and  F., Gregory Ashby. (2019). *Statistical Analysis of fMRI Data*. MIT Press.\n",
    "\n"
   ]
  },
  {
   "cell_type": "markdown",
   "metadata": {
    "id": "A6j984FdOgkp"
   },
   "source": [
    "#### Imports"
   ]
  },
  {
   "cell_type": "code",
   "execution_count": 5,
   "metadata": {
    "colab": {
     "base_uri": "https://localhost:8080/"
    },
    "executionInfo": {
     "elapsed": 2666,
     "status": "ok",
     "timestamp": 1606826298380,
     "user": {
      "displayName": "Zakaria Bekkar",
      "photoUrl": "",
      "userId": "11013878220604787588"
     },
     "user_tz": -60
    },
    "id": "bSUZyo46Ogkp",
    "outputId": "3fccd92a-f450-42a2-fbd3-85aa8f4fb205"
   },
   "outputs": [
    {
     "name": "stderr",
     "output_type": "stream",
     "text": [
      "/usr/local/lib/python3.6/dist-packages/ipykernel_launcher.py:17: UserWarning: \n",
      "\n",
      " | Using Nistats with Nilearn versions >= 0.7.0 is redundant and potentially conflicting.\n",
      " | Nilearn versions 0.7.0 and up offer all the functionality of Nistats as well the latest features and fixes.\n",
      " | We strongly recommend uninstalling Nistats and using Nilearn's stats & reporting modules.\n",
      "\n"
     ]
    }
   ],
   "source": [
    "from warnings import filterwarnings\n",
    "filterwarnings('ignore')\n",
    "import numpy as np\n",
    "import pandas as pd\n",
    "from numpy import array\n",
    "import matplotlib.pyplot as plt\n",
    "\n",
    "\n",
    "import gzip, shutil\n",
    "import time\n",
    "import yaml\n",
    "import glob\n",
    "\n",
    "from nilearn import image, plotting\n",
    "from nilearn.plotting import plot_stat_map\n",
    "from nilearn.image import concat_imgs, mean_img\n",
    "from nistats.design_matrix import make_first_level_design_matrix\n",
    "from nistats.first_level_model import FirstLevelModel\n",
    "from nistats.second_level_model import SecondLevelModel\n",
    "from nilearn.plotting import plot_roi\n",
    "from nilearn.masking import compute_background_mask\n",
    "from nilearn.image import threshold_img\n",
    "\n",
    "\n",
    "\n",
    "from nilearn.image import math_img\n",
    "from nilearn import input_data\n",
    "from nilearn.input_data import NiftiMasker\n",
    "\n",
    "from nistats.reporting import plot_design_matrix,plot_contrast_matrix\n",
    "from nistats.thresholding import map_threshold\n",
    "from nistats.reporting import get_clusters_table\n",
    "from nistats.experimental_paradigm import check_events\n",
    "\n",
    "from sklearn.feature_selection import f_classif, mutual_info_classif, SelectFdr\n",
    "\n",
    "from sklearn.feature_selection import GenericUnivariateSelect\n",
    "from sklearn import svm\n",
    "from sklearn.model_selection import train_test_split\n",
    "from sklearn.ensemble import RandomForestClassifier        \n",
    "    \n",
    "%matplotlib inline"
   ]
  },
  {
   "cell_type": "markdown",
   "metadata": {
    "id": "yhggwQX2Ogkq"
   },
   "source": [
    "## GLM"
   ]
  },
  {
   "cell_type": "code",
   "execution_count": 6,
   "metadata": {
    "executionInfo": {
     "elapsed": 767,
     "status": "ok",
     "timestamp": 1606826302656,
     "user": {
      "displayName": "Zakaria Bekkar",
      "photoUrl": "",
      "userId": "11013878220604787588"
     },
     "user_tz": -60
    },
    "id": "Qc13wcjCOgkq"
   },
   "outputs": [],
   "source": [
    "def compute_core_fmri_glm(task,\n",
    "                          data_path,\n",
    "                          events_path,\n",
    "                          motion_param_path,\n",
    "                          cache_mem_path,\n",
    "                          analysis_type,\n",
    "                          param_modulation,\n",
    "                          t_r,\n",
    "                          slice_time_ref,\n",
    "                          hrf_model,\n",
    "                          drift_model,\n",
    "                          drift_order,\n",
    "                          fbr_expected_tr_delay,\n",
    "                          pre_whitening_spec,\n",
    "                          apply_trans_mask,\n",
    "                          roi_img,\n",
    "                          hpf_cut,\n",
    "                          smoothing_fwhm,\n",
    "                          standardize,\n",
    "                          detrend,minimize_memory):\n",
    "    \n",
    "                          \n",
    "                          \n",
    "    # Data processing                      \n",
    "\n",
    "    data = image.load_img(data_path)\n",
    "    m_img = mean_img(data) # mean niimg for plotting purposes\n",
    "    motion = pd.read_csv(motion_param_path,sep=',',header=None)\n",
    "    motion = motion[list(range(1,7))]\n",
    "    motion_col = ['tx', 'ty', 'tz', 'rx', 'ry', 'rz']\n",
    "    motion.columns = motion_col\n",
    "\n",
    "\n",
    "\n",
    "    #Experimental Paradigm Processing\n",
    "\n",
    "    events = pd.read_csv(events_path,sep='\\t')\n",
    "    events.columns = ['onset','duration','trial_type','modulation']\n",
    "    events.dropna(inplace=True)\n",
    "    events.index = range(len(events))\n",
    "    \n",
    "    \n",
    "    \n",
    "    if analysis_type == 'High_Low_Pleasance':\n",
    "        \n",
    "        events['trial_type_desc'] = ['High Pleasance' if x >=50 else 'Low Pleasance' for x in events['modulation'] ]\n",
    "        \n",
    "        if param_modulation:\n",
    "           \n",
    "            events = events[['onset','duration','trial_type_desc','modulation']]\n",
    "            events.columns = ['onset','duration','trial_type','modulation']\n",
    "        else:\n",
    "            events = events[['onset','duration','trial_type_desc']]\n",
    "            events.columns = ['onset','duration','trial_type']\n",
    "            \n",
    "\n",
    "\n",
    "    elif analysis_type == 'High_Mid_Low_Pleasance':\n",
    "        \n",
    "        events['trial_type_desc'] = ['High Pleasance' if x >=67 else 'Mid Pleasance' if x>=34 else 'Low Pleasance' for x in events['modulation'] ]\n",
    "        \n",
    "        if param_modulation:\n",
    "           \n",
    "            events = events[['onset','duration','trial_type_desc','modulation']]\n",
    "            events.columns = ['onset','duration','trial_type','modulation']\n",
    "        else:\n",
    "            events = events[['onset','duration','trial_type_desc']]\n",
    "            events.columns = ['onset','duration','trial_type']\n",
    "            \n",
    "    \n",
    "    # Design Matrix Computation + plotting\n",
    "    \n",
    "    frametimes = np.linspace(0, (data.shape[3] - 1) * t_r, data.shape[3])\n",
    "    \n",
    "    fir_delays = list(range(1,fbr_expected_tr_delay+1)) if fbr_expected_tr_delay != None else None\n",
    "    \n",
    "    design_matrix = make_first_level_design_matrix(frametimes,\n",
    "                       events=events,\n",
    "                       add_regs=motion,\n",
    "                       add_reg_names=motion_col,\n",
    "                       hrf_model=hrf_model,\n",
    "                       drift_model= drift_model,\n",
    "                       fir_delays= fir_delays, \n",
    "                       drift_order =drift_order)\n",
    "    \n",
    "    plot_design_matrix(design_matrix)\n",
    "    \n",
    "    # Statistically Enhancing Mask Computation\n",
    "    \n",
    "    if apply_trans_mask:\n",
    "    \n",
    "    \n",
    "        masker = input_data.NiftiMasker(mask_img=roi_img,smoothing_fwhm=smoothing_fwhm,\n",
    "                                standardize=standardize,detrend=detrend,\n",
    "                                high_pass=hpf_cut,t_r=t_r).fit(data)\n",
    "      \n",
    "    else :\n",
    "        \n",
    "        masker = input_data.NiftiMasker(mask_img=roi_img).fit(data)\n",
    "        \n",
    "        \n",
    "        \n",
    "    # GLM instantiation and fit\n",
    "    \n",
    "    glm = FirstLevelModel(t_r=t_r,\n",
    "                      slice_time_ref=slice_time_ref,\n",
    "                      mask_img=masker,\n",
    "                      noise_model= pre_whitening_spec,\n",
    "                      high_pass=hpf_cut,\n",
    "                      smoothing_fwhm = smoothing_fwhm,\n",
    "                      standardize=standardize,\n",
    "                      memory=cache_mem_path,\n",
    "                      minimize_memory=minimize_memory, \n",
    "                      verbose=1)\n",
    "\n",
    "    glm = glm.fit(data,design_matrices=design_matrix)\n",
    "    \n",
    "    return glm, design_matrix"
   ]
  },
  {
   "cell_type": "markdown",
   "metadata": {
    "id": "39mJy8HgOgkq"
   },
   "source": [
    "## Statistical Plotting"
   ]
  },
  {
   "cell_type": "code",
   "execution_count": 7,
   "metadata": {
    "executionInfo": {
     "elapsed": 688,
     "status": "ok",
     "timestamp": 1606826305028,
     "user": {
      "displayName": "Zakaria Bekkar",
      "photoUrl": "",
      "userId": "11013878220604787588"
     },
     "user_tz": -60
    },
    "id": "BntHmAarOgkq"
   },
   "outputs": [],
   "source": [
    "def top_cluster_stat_results(data,task,glm,z_map,threshold,table,bg_img):\n",
    "    \n",
    "    # Top Cluster Selection + Masking\n",
    "    coords = table.loc[range(1, 7), ['X', 'Y', 'Z']].values\n",
    "    masker = input_data.NiftiSpheresMasker(coords,standardize=True)\n",
    "    real_timeseries = masker.fit_transform(data)\n",
    "    predicted_timeseries = masker.fit_transform(glm.predicted[0])\n",
    "\n",
    "    \n",
    "    \n",
    "\n",
    "\n",
    "    # PLOT 1\n",
    "    fig1, axs1 = plt.subplots(2, 3)\n",
    "    for i in range(0, 3):\n",
    "        axs1[0, i].set_title(' Top {} Activated Cluster \\n(cluster peak voxel at coord {})'.format(i+1,coords[i]))\n",
    "        axs1[0, i].plot(real_timeseries[:, i], c='blue', lw=2,label = 'Actual Bold Signal')\n",
    "        axs1[0, i].plot(predicted_timeseries[:, i], c='r',  ls='-', lw=2,label= 'Predicted Bold Signal')\n",
    "        axs1[0, i].set_xlabel('Time')\n",
    "        axs1[0, i].set_ylabel('Signal intensity', labelpad=0)\n",
    "        axs1[0, i].legend()\n",
    "        roi_img = plotting.plot_stat_map(\n",
    "            z_map, cut_coords=[coords[i][2]], threshold=threshold, figure=fig1,\n",
    "            axes=axs1[1, i], display_mode='z', colorbar=False, bg_img=bg_img,title='{} Task : Low Pleasance (fdr=0.05, threshold = {})'.format(task,threshold))\n",
    "        roi_img.add_markers([coords[i]], 'green', 300)\n",
    "    fig1.set_size_inches(50, 19)\n",
    "    plt.show()\n",
    "\n",
    "\n",
    "    #PLOT 2\n",
    "    fig2, axs2 = plt.subplots(2, 3)\n",
    "    for i in range(3, 6):\n",
    "        axs2[0, i-3].set_title(' Top {} Activated Cluster \\n(cluster peak voxel at coord {})'.format(i+1,coords[i]))\n",
    "        axs2[0, i-3].plot(real_timeseries[:, i], c='blue', lw=2,label = 'Actual Bold Signal')\n",
    "        axs2[0, i-3].plot(predicted_timeseries[:, i], c='r',  ls='-', lw=2,label= 'Predicted Bold Signal')\n",
    "        axs2[0, i-3].set_xlabel('Time')\n",
    "        axs2[0, i-3].set_ylabel('Signal intensity', labelpad=0)\n",
    "        axs2[0, i-3].legend()\n",
    "        roi_img = plotting.plot_stat_map(\n",
    "            z_map, cut_coords=[coords[i][2]], threshold=threshold, figure=fig2,\n",
    "            axes=axs2[1, i-3], display_mode='z', colorbar=False, bg_img=bg_img,title='{} Task : Low Pleasance (fdr=0.05, threshold = {})'.format(task,threshold))\n",
    "        roi_img.add_markers([coords[i]], 'green', 300)\n",
    "    fig2.set_size_inches(50, 19)\n",
    "    plt.show()\n",
    "\n",
    "        "
   ]
  },
  {
   "cell_type": "code",
   "execution_count": 8,
   "metadata": {
    "executionInfo": {
     "elapsed": 743,
     "status": "ok",
     "timestamp": 1606826305387,
     "user": {
      "displayName": "Zakaria Bekkar",
      "photoUrl": "",
      "userId": "11013878220604787588"
     },
     "user_tz": -60
    },
    "id": "7EEwfqZQOgkq"
   },
   "outputs": [],
   "source": [
    "def stat_result_long(z_map,contrast_name,task,alpha,method,bg_img):\n",
    "    \n",
    "    _, threshold = map_threshold(z_map, alpha=alpha, height_control=method)\n",
    "    table = get_clusters_table(z_map, stat_threshold=threshold)\n",
    "    plot_stat_map(z_map, bg_img=bg_img, threshold=threshold,\n",
    "                  display_mode = 'z', cut_coords=5,\n",
    "                   black_bg=True,\n",
    "                  title='{} Task : {} ({}={}, threshold = {})'.format(task,contrast_name,method,alpha,threshold))\n",
    "    plt.show()\n",
    "    return table, threshold"
   ]
  },
  {
   "cell_type": "code",
   "execution_count": 9,
   "metadata": {
    "executionInfo": {
     "elapsed": 1647,
     "status": "ok",
     "timestamp": 1606826307090,
     "user": {
      "displayName": "Zakaria Bekkar",
      "photoUrl": "",
      "userId": "11013878220604787588"
     },
     "user_tz": -60
    },
    "id": "mDjqoIoHOgkq"
   },
   "outputs": [],
   "source": [
    "def stat_result(z_map,contrast_name,task,alpha,method,bg_img):\n",
    "    \n",
    "    _, threshold = map_threshold(z_map, alpha=alpha, height_control=method)\n",
    "    table = get_clusters_table(z_map, stat_threshold=threshold)\n",
    "    plot_stat_map(z_map, bg_img=bg_img, threshold=threshold,\n",
    "                   black_bg=True,\n",
    "                  title='{} Task : {} ({}={}, threshold = {})'.format(task,contrast_name,method,alpha,threshold))\n",
    "    plt.show()\n",
    "    return table, threshold"
   ]
  },
  {
   "cell_type": "markdown",
   "metadata": {
    "id": "p4JYibeZOgkr"
   },
   "source": [
    "## MVPA"
   ]
  },
  {
   "cell_type": "code",
   "execution_count": 10,
   "metadata": {
    "executionInfo": {
     "elapsed": 1588,
     "status": "ok",
     "timestamp": 1606826309313,
     "user": {
      "displayName": "Zakaria Bekkar",
      "photoUrl": "",
      "userId": "11013878220604787588"
     },
     "user_tz": -60
    },
    "id": "3pEY3mr4Ogkr"
   },
   "outputs": [],
   "source": [
    "def lss_separate_method_comp(task,\n",
    "                          data_path,\n",
    "                          events_path,\n",
    "                          motion_param_path,\n",
    "                          cache_mem_path,\n",
    "                          activity_mat_saving_path,\n",
    "                          analysis_type,\n",
    "                          param_modulation,\n",
    "                          t_r,\n",
    "                          drift_model,\n",
    "                          drift_order,\n",
    "                          hrf_model,\n",
    "                          pre_whitening_spec,\n",
    "                          apply_trans_mask,\n",
    "                          roi_img,  \n",
    "                          hpf_cut,\n",
    "                          smoothing_fwhm,\n",
    "                          standardize,\n",
    "                          detrend,minimize_memory):\n",
    "\n",
    "\n",
    "    output_activity_matrices = dict()                          \n",
    "    # Data processing                      \n",
    "\n",
    "    data = image.load_img(data_path)\n",
    "    m_img = mean_img(data) # mean niimg for plotting purposes\n",
    "    motion = pd.read_csv(motion_param_path,sep=',',header=None)\n",
    "    motion = motion[list(range(1,7))]\n",
    "    motion_col = ['tx', 'ty', 'tz', 'rx', 'ry', 'rz']\n",
    "    motion.columns = motion_col\n",
    "\n",
    "\n",
    "    #Experimental Paradigm Processing\n",
    "\n",
    "    events = pd.read_csv(events_path,sep='\\t')\n",
    "    events.columns = ['onset','duration','trial_type','modulation']\n",
    "    events.dropna(inplace=True)\n",
    "    events.index = range(len(events))\n",
    "\n",
    "\n",
    "\n",
    "    if analysis_type == 'High_Low_Pleasance':\n",
    "\n",
    "        events['trial_type_desc'] = ['High Pleasance' if x >=50 else 'Low Pleasance' for x in events['modulation'] ]\n",
    "\n",
    "        if param_modulation:\n",
    "\n",
    "            events = events[['onset','duration','trial_type_desc','modulation']]\n",
    "            events.columns = ['onset','duration','trial_type','modulation']\n",
    "        else:\n",
    "            events = events[['onset','duration','trial_type_desc']]\n",
    "            events.columns = ['onset','duration','trial_type']\n",
    "\n",
    "\n",
    "\n",
    "    elif analysis_type == 'High_Mid_Low_Pleasance':\n",
    "\n",
    "        events['trial_type_desc'] = ['High Pleasance' if x >=67 else 'Mid Pleasance' if x>=34 else 'Low Pleasance' for x in events['modulation'] ]\n",
    "\n",
    "        if param_modulation:\n",
    "\n",
    "            events = events[['onset','duration','trial_type_desc','modulation']]\n",
    "            events.columns = ['onset','duration','trial_type','modulation']\n",
    "        else:\n",
    "            events = events[['onset','duration','trial_type_desc']]\n",
    "            events.columns = ['onset','duration','trial_type']\n",
    "\n",
    "\n",
    "\n",
    "    #  LSS - Separate event matrices computation\n",
    "\n",
    "\n",
    "    mvpa_events_labels= list()\n",
    "    for i in range(len(events['trial_type'])):\n",
    "\n",
    "        mvpa_event_label = events['trial_type'][i]\n",
    "\n",
    "        vars()['events_{}_{}'.format(mvpa_event_label.replace(' ',''),i+1)] = events.copy()\n",
    "\n",
    "        mvpa_events_labels.append('{}_{}'.format(mvpa_event_label.replace(' ',''),i+1))\n",
    "\n",
    "        trial_type_treated = ['{}_{}'.format(mvpa_event_label,i+1) if k == i else 'Nuisance Event' for k in  range(len(events['trial_type']))]\n",
    "\n",
    "        vars()['events_{}_{}'.format(mvpa_event_label.replace(' ',''),i+1)]['trial_type'] = trial_type_treated\n",
    "\n",
    "\n",
    "\n",
    "        print('Event {}'.format(i))\n",
    "        print(vars()['events_{}_{}'.format(mvpa_event_label.replace(' ',''),i+1)])\n",
    "\n",
    "    # Multiple GLM fit\n",
    "\n",
    "\n",
    "    for mvpa_label in mvpa_events_labels:\n",
    "        print('GLM RUN {}'.format(mvpa_label))\n",
    "\n",
    "        # Design Matrix Computation + plotting\n",
    "\n",
    "        frametimes = np.linspace(0, (data.shape[3] - 1) * t_r, data.shape[3])\n",
    "\n",
    "\n",
    "\n",
    "\n",
    "        design_matrix = make_first_level_design_matrix(frametimes,\n",
    "                           events=vars()['events_{}'.format(mvpa_label)],\n",
    "                           add_regs=motion,\n",
    "                           add_reg_names=motion_col,\n",
    "                           hrf_model= hrf_model,\n",
    "                           fir_delays = None,\n",
    "                           drift_model= drift_model,\n",
    "                           drift_order =drift_order)\n",
    "\n",
    "        plot_design_matrix(design_matrix)\n",
    "\n",
    "        # Statistically Enhancing Mask Computation\n",
    "\n",
    "        if apply_trans_mask :\n",
    "\n",
    "\n",
    "            masker = input_data.NiftiMasker(mask_img=roi_img,smoothing_fwhm=smoothing_fwhm,\n",
    "                                standardize=standardize,detrend=detrend,\n",
    "                                high_pass=hpf_cut,t_r=t_r).fit(data)\n",
    "\n",
    "        else :\n",
    "\n",
    "            masker = input_data.NiftiMasker(mask_img=roi_img).fit(data)\n",
    "\n",
    "\n",
    "        # GLM instantiation and fit\n",
    "\n",
    "        glm = FirstLevelModel(t_r=t_r,\n",
    "                          mask_img=masker,\n",
    "                          noise_model= pre_whitening_spec,\n",
    "                          high_pass=hpf_cut,\n",
    "                          smoothing_fwhm = smoothing_fwhm,\n",
    "                          standardize=standardize,\n",
    "                          memory=cache_mem_path,\n",
    "                          minimize_memory=minimize_memory, \n",
    "                          verbose=1)\n",
    "\n",
    "        glm = glm.fit(data,design_matrices=design_matrix)\n",
    "\n",
    "\n",
    "\n",
    "        design_matrix = glm.design_matrices_[0]\n",
    "        plot_design_matrix(design_matrix)\n",
    "        plt.title('Design Matrix')\n",
    "        plt.show()\n",
    "\n",
    "        masker = NiftiMasker()\n",
    "\n",
    "        vars()['{}_activity_matrix'.format(mvpa_label)] = pd.DataFrame(None)\n",
    "\n",
    "\n",
    "        condition = np.eye(N=1,M=len(design_matrix.columns),k=0)\n",
    "        plot_contrast_matrix(condition,design_matrix=design_matrix)\n",
    "        z_map = glm.compute_contrast(condition,\n",
    "                                  stat_type='t',\n",
    "                                  output_type='z_score')\n",
    "        masked_map = masker.fit_transform(z_map)\n",
    "\n",
    "        vars()['{}_activity_matrix'.format(mvpa_label)] = vars()['{}_activity_matrix'.format(mvpa_label)].append(pd.DataFrame(masked_map))\n",
    "\n",
    "        print(vars()['{}_activity_matrix'.format(mvpa_label)])\n",
    "\n",
    "        print('ACTIVITY MATRIX {}'.format(mvpa_label))\n",
    "\n",
    "        if activity_mat_saving_path != None:\n",
    "\n",
    "            vars()['{}_activity_matrix'.format(mvpa_label)].to_csv('{}{}_activity_matrix.csv'.format(activity_mat_saving_path,mvpa_label)) \n",
    "\n",
    "\n",
    "\n",
    "    # Control Standardization\n",
    "\n",
    "\n",
    "\n",
    "    if analysis_type == 'High_Low_Pleasance':\n",
    "\n",
    "        HP_activity_matrix = list()\n",
    "        LP_activity_matrix = list()\n",
    "\n",
    "\n",
    "        for mvpa_label in mvpa_events_labels:\n",
    "\n",
    "            if mvpa_label[0] == 'H':\n",
    "                HP_activity_matrix.append(vars()['{}_activity_matrix'.format(mvpa_label)])\n",
    "            else:\n",
    "                LP_activity_matrix.append(vars()['{}_activity_matrix'.format(mvpa_label)])\n",
    "\n",
    "        for label in ['HP','LP'] :\n",
    "\n",
    "            activity_matrix = np.stack(vars()['{}_activity_matrix'.format(label)],axis=2)\n",
    "\n",
    "\n",
    "\n",
    "            activity_matrix_dim_voxel_mean = activity_matrix.mean(axis=2)\n",
    "            activity_matrix_dim_voxel_std = activity_matrix.std(axis=2)\n",
    "\n",
    "\n",
    "            activity_matrix_dim_voxel_mean.shape = (activity_matrix.shape[0],activity_matrix.shape[1],1)\n",
    "            activity_matrix_dim_voxel_std.shape = (activity_matrix.shape[0],activity_matrix.shape[1],1)\n",
    "\n",
    "\n",
    "            activity_matrix_c_standardized = (activity_matrix - activity_matrix_dim_voxel_mean)/activity_matrix_dim_voxel_std\n",
    "\n",
    "            output_activity_matrices[label] = activity_matrix_c_standardized\n",
    "\n",
    "\n",
    "\n",
    "\n",
    "    elif analysis_type == 'High_Mid_Low_Pleasance':\n",
    "\n",
    "\n",
    "\n",
    "        HP_activity_matrix = list()\n",
    "        MP_activity_matrix = list() \n",
    "        LP_activity_matrix = list()\n",
    "\n",
    "        for mvpa_label in mvpa_events_labels:\n",
    "            if mvpa_label[0] == 'H':\n",
    "                HP_activity_matrix.append(vars()['{}_activity_matrix'.format(mvpa_label)])\n",
    "            elif mvpa_label[0] == 'M' :\n",
    "                MP_activity_matrix.append(vars()['{}_activity_matrix'.format(mvpa_label)])\n",
    "            else:\n",
    "                LP_activity_matrix.append(vars()['{}_activity_matrix'.format(mvpa_label)]) \n",
    "\n",
    "\n",
    "        for label in ['HP','LP'] :\n",
    "\n",
    "            activity_matrix = np.stack(vars()['{}_activity_matrix'.format(label)],axis=2)\n",
    "\n",
    "\n",
    "\n",
    "            activity_matrix_dim_voxel_mean = activity_matrix.mean(axis=2)\n",
    "            activity_matrix_dim_voxel_std = activity_matrix.std(axis=2)\n",
    "\n",
    "\n",
    "            activity_matrix_dim_voxel_mean.shape = (activity_matrix.shape[0],activity_matrix.shape[1],1)\n",
    "            activity_matrix_dim_voxel_std.shape = (activity_matrix.shape[0],activity_matrix.shape[1],1)\n",
    "\n",
    "\n",
    "            activity_matrix_c_standardized = (activity_matrix - activity_matrix_dim_voxel_mean)/activity_matrix_dim_voxel_std\n",
    "\n",
    "            output_activity_matrices[label] = activity_matrix_c_standardized\n",
    "\n",
    "\n",
    "    # Feature Matrix and Label Vector Computation    \n",
    "\n",
    "    label_vect = list()\n",
    "\n",
    "    for label in output_activity_matrices.keys():\n",
    "        vec = np.array([label for i in range(output_activity_matrices[label].shape[2])])\n",
    "        vec.shape = (output_activity_matrices[label].shape[2],1)\n",
    "        label_vect.append(vec)\n",
    "\n",
    "    y = np.vstack(label_vect)\n",
    "\n",
    "    features_mat = list()\n",
    "\n",
    "    for label in output_activity_matrices.keys():\n",
    "        mat = output_activity_matrices[label].copy()\n",
    "        features_mat.append(mat.reshape(mat.shape[0]*mat.shape[1],mat.shape[2]).T)\n",
    "\n",
    "\n",
    "\n",
    "        X = np.vstack(features_mat)\n",
    "\n",
    "\n",
    "    return  y, X"
   ]
  },
  {
   "cell_type": "code",
   "execution_count": 11,
   "metadata": {
    "executionInfo": {
     "elapsed": 1137,
     "status": "ok",
     "timestamp": 1606826309788,
     "user": {
      "displayName": "Zakaria Bekkar",
      "photoUrl": "",
      "userId": "11013878220604787588"
     },
     "user_tz": -60
    },
    "id": "FbKYOjxyOgkr"
   },
   "outputs": [],
   "source": [
    "def fbr_separate_method_comp(task,\n",
    "                          data_path,\n",
    "                          events_path,\n",
    "                          motion_param_path,\n",
    "                          cache_mem_path,\n",
    "                          activity_mat_saving_path,\n",
    "                          analysis_type,\n",
    "                          param_modulation,\n",
    "                          t_r,\n",
    "                          drift_model,\n",
    "                          drift_order,\n",
    "                          fbr_expected_tr_delay,\n",
    "                          pre_whitening_spec,\n",
    "                          apply_trans_mask,\n",
    "                          roi_img,  \n",
    "                          hpf_cut,\n",
    "                          smoothing_fwhm,\n",
    "                          standardize,\n",
    "                          detrend,minimize_memory):\n",
    "    \n",
    "    \n",
    "    output_activity_matrices = dict()                          \n",
    "    # Data processing                      \n",
    "\n",
    "    data = image.load_img(data_path)\n",
    "    m_img = mean_img(data) # mean niimg for plotting purposes\n",
    "    motion = pd.read_csv(motion_param_path,sep=',',header=None)\n",
    "    motion = motion[list(range(1,7))]\n",
    "    motion_col = ['tx', 'ty', 'tz', 'rx', 'ry', 'rz']\n",
    "    motion.columns = motion_col\n",
    "\n",
    "\n",
    "    #Experimental Paradigm Processing\n",
    "\n",
    "    events = pd.read_csv(events_path,sep='\\t')\n",
    "    events.columns = ['onset','duration','trial_type','modulation']\n",
    "    events.dropna(inplace=True)\n",
    "    events.index = range(len(events))\n",
    "    \n",
    "    \n",
    "    \n",
    "    if analysis_type == 'High_Low_Pleasance':\n",
    "        \n",
    "        events['trial_type_desc'] = ['High Pleasance' if x >=50 else 'Low Pleasance' for x in events['modulation'] ]\n",
    "        \n",
    "        if param_modulation:\n",
    "           \n",
    "            events = events[['onset','duration','trial_type_desc','modulation']]\n",
    "            events.columns = ['onset','duration','trial_type','modulation']\n",
    "        else:\n",
    "            events = events[['onset','duration','trial_type_desc']]\n",
    "            events.columns = ['onset','duration','trial_type']\n",
    "            \n",
    "\n",
    "\n",
    "    elif analysis_type == 'High_Mid_Low_Pleasance':\n",
    "        \n",
    "        events['trial_type_desc'] = ['High Pleasance' if x >=67 else 'Mid Pleasance' if x>=34 else 'Low Pleasance' for x in events['modulation'] ]\n",
    "        \n",
    "        if param_modulation:\n",
    "           \n",
    "            events = events[['onset','duration','trial_type_desc','modulation']]\n",
    "            events.columns = ['onset','duration','trial_type','modulation']\n",
    "        else:\n",
    "            events = events[['onset','duration','trial_type_desc']]\n",
    "            events.columns = ['onset','duration','trial_type']\n",
    "            \n",
    "            \n",
    "            \n",
    "    #  FBR - Separate event matrices computation\n",
    "\n",
    "    \n",
    "    mvpa_events_labels= list()\n",
    "    for i in range(len(events['trial_type'])):\n",
    "    \n",
    "        mvpa_event_label = events['trial_type'][i]\n",
    "\n",
    "        vars()['events_{}_{}'.format(mvpa_event_label.replace(' ',''),i+1)] = events.copy()\n",
    "\n",
    "        mvpa_events_labels.append('{}_{}'.format(mvpa_event_label.replace(' ',''),i+1))\n",
    "\n",
    "        trial_type_treated = ['{}_{}'.format(mvpa_event_label,i+1) if k == i else 'Nuisance Event' for k in  range(len(events['trial_type']))]\n",
    "\n",
    "        vars()['events_{}_{}'.format(mvpa_event_label.replace(' ',''),i+1)]['trial_type'] = trial_type_treated\n",
    "\n",
    "\n",
    "\n",
    "        print('Event {}'.format(i))\n",
    "        print(vars()['events_{}_{}'.format(mvpa_event_label.replace(' ',''),i+1)])\n",
    "            \n",
    "    # Multiple GLM fit\n",
    "    \n",
    "    \n",
    "    for mvpa_label in mvpa_events_labels:\n",
    "        print('GLM RUN {}'.format(mvpa_label))\n",
    "        \n",
    "        # Design Matrix Computation + plotting\n",
    "        \n",
    "        frametimes = np.linspace(0, (data.shape[3] - 1) * t_r, data.shape[3])\n",
    "    \n",
    "        fir_delays = list(range(1,fbr_expected_tr_delay+1)) if fbr_expected_tr_delay != None else None\n",
    "    \n",
    "\n",
    "        design_matrix = make_first_level_design_matrix(frametimes,\n",
    "                           events=vars()['events_{}'.format(mvpa_label)],\n",
    "                           add_regs=motion,\n",
    "                           add_reg_names=motion_col,\n",
    "                           hrf_model='fir',\n",
    "                           fir_delays = fir_delays,\n",
    "                           drift_model= drift_model,\n",
    "                           drift_order =drift_order)\n",
    "\n",
    "        plot_design_matrix(design_matrix)\n",
    "\n",
    "        # Statistically Enhancing Mask Computation\n",
    "\n",
    "        if apply_trans_mask :\n",
    "    \n",
    "    \n",
    "            masker = input_data.NiftiMasker(mask_img=roi_img,smoothing_fwhm=smoothing_fwhm,\n",
    "                                standardize=standardize,detrend=detrend,\n",
    "                                high_pass=hpf_cut,t_r=t_r).fit(data)\n",
    "      \n",
    "        else :\n",
    "        \n",
    "            masker = input_data.NiftiMasker(mask_img=roi_img).fit(data)\n",
    "\n",
    "\n",
    "        # GLM instantiation and fit\n",
    "\n",
    "        glm = FirstLevelModel(t_r=t_r,\n",
    "                          mask_img=masker,\n",
    "                          noise_model= pre_whitening_spec,\n",
    "                          high_pass=hpf_cut,\n",
    "                          smoothing_fwhm = smoothing_fwhm,\n",
    "                          standardize=standardize,\n",
    "                          memory=cache_mem_path,\n",
    "                          minimize_memory=minimize_memory, \n",
    "                          verbose=1)\n",
    "\n",
    "        glm = glm.fit(data,design_matrices=design_matrix)\n",
    "        \n",
    "    \n",
    "    \n",
    "        design_matrix = glm.design_matrices_[0]\n",
    "        plot_design_matrix(design_matrix)\n",
    "        plt.title('Design Matrix')\n",
    "        plt.show()\n",
    "\n",
    "        masker = NiftiMasker()\n",
    "\n",
    "        vars()['{}_activity_matrix'.format(mvpa_label)] = pd.DataFrame(None)\n",
    "\n",
    "        for i in range(fbr_expected_tr_delay):\n",
    "            condition_delay = np.eye(N=1,M=len(design_matrix.columns),k=i)\n",
    "            plot_contrast_matrix(condition_delay,design_matrix=design_matrix)\n",
    "            z_map = glm.compute_contrast(condition_delay,\n",
    "                                      stat_type='t',\n",
    "                                      output_type='z_score')\n",
    "            masked_map = masker.fit_transform(z_map)\n",
    "\n",
    "            vars()['{}_activity_matrix'.format(mvpa_label)] = vars()['{}_activity_matrix'.format(mvpa_label)].append(pd.DataFrame(masked_map))\n",
    "\n",
    "\n",
    "\n",
    "        print('ACTIVITY MATRIX {}'.format(mvpa_label))\n",
    "                                         \n",
    "        if activity_mat_saving_path != None:\n",
    "                                         \n",
    "            vars()['{}_activity_matrix'.format(mvpa_label)].to_csv('{}{}_activity_matrix.csv'.format(activity_mat_saving_path,mvpa_label)) \n",
    "        \n",
    "                                         \n",
    "                                         \n",
    "    # Control Standardization\n",
    "                                         \n",
    "                                         \n",
    "                                         \n",
    "    if analysis_type == 'High_Low_Pleasance':\n",
    "\n",
    "        HP_activity_matrix = list()\n",
    "        LP_activity_matrix = list()\n",
    "        \n",
    "                                         \n",
    "        for mvpa_label in mvpa_events_labels:\n",
    "                                         \n",
    "            if mvpa_label[0] == 'H':\n",
    "                HP_activity_matrix.append(vars()['{}_activity_matrix'.format(mvpa_label)])\n",
    "            else:\n",
    "                LP_activity_matrix.append(vars()['{}_activity_matrix'.format(mvpa_label)])\n",
    "         \n",
    "        for label in ['HP','LP'] :\n",
    "             \n",
    "            activity_matrix = np.stack(vars()['{}_activity_matrix'.format(label)],axis=2)\n",
    "             \n",
    "                                         \n",
    "                                         \n",
    "            activity_matrix_dim_voxel_mean = activity_matrix.mean(axis=2)\n",
    "            activity_matrix_dim_voxel_std = activity_matrix.std(axis=2)\n",
    "\n",
    "\n",
    "            activity_matrix_dim_voxel_mean.shape = (activity_matrix.shape[0],activity_matrix.shape[1],1)\n",
    "            activity_matrix_dim_voxel_std.shape = (activity_matrix.shape[0],activity_matrix.shape[1],1)\n",
    "\n",
    "\n",
    "            activity_matrix_c_standardized = (activity_matrix - activity_matrix_dim_voxel_mean)/activity_matrix_dim_voxel_std\n",
    "                                         \n",
    "            output_activity_matrices[label] = activity_matrix_c_standardized\n",
    "                                         \n",
    "            \n",
    "            \n",
    "                                         \n",
    "    elif analysis_type == 'High_Mid_Low_Pleasance':\n",
    "                                         \n",
    "                                         \n",
    "        \n",
    "        HP_activity_matrix = list()\n",
    "        MP_activity_matrix = list() \n",
    "        LP_activity_matrix = list()\n",
    "        \n",
    "        for mvpa_label in mvpa_events_labels:\n",
    "            if mvpa_label[0] == 'H':\n",
    "                HP_activity_matrix.append(vars()['{}_activity_matrix'.format(mvpa_label)])\n",
    "            elif mvpa_label[0] == 'M' :\n",
    "                MP_activity_matrix.append(vars()['{}_activity_matrix'.format(mvpa_label)])\n",
    "            else:\n",
    "                LP_activity_matrix.append(vars()['{}_activity_matrix'.format(mvpa_label)]) \n",
    "                                         \n",
    "         \n",
    "        for label in ['HP','LP'] :\n",
    "             \n",
    "            activity_matrix = np.stack(vars()['{}_activity_matrix'.format(label)],axis=2)\n",
    "             \n",
    "                                         \n",
    "                                         \n",
    "            activity_matrix_dim_voxel_mean = activity_matrix.mean(axis=2)\n",
    "            activity_matrix_dim_voxel_std = activity_matrix.std(axis=2)\n",
    "\n",
    "\n",
    "            activity_matrix_dim_voxel_mean.shape = (activity_matrix.shape[0],activity_matrix.shape[1],1)\n",
    "            activity_matrix_dim_voxel_std.shape = (activity_matrix.shape[0],activity_matrix.shape[1],1)\n",
    "\n",
    "\n",
    "            activity_matrix_c_standardized = (activity_matrix - activity_matrix_dim_voxel_mean)/activity_matrix_dim_voxel_std\n",
    "                                         \n",
    "            output_activity_matrices[label] = activity_matrix_c_standardized\n",
    "                                         \n",
    "                \n",
    "    # Feature Matrix and Label Vector Computation    \n",
    "                \n",
    "    label_vect = list()\n",
    "    \n",
    "    for label in output_activity_matrices.keys():\n",
    "        vec = np.array([label for i in range(output_activity_matrices[label].shape[2])])\n",
    "        vec.shape = (output_activity_matrices[label].shape[2],1)\n",
    "        label_vect.append(vec)\n",
    "        \n",
    "    y = np.vstack(label_vect)\n",
    "    \n",
    "    features_mat = list()\n",
    "\n",
    "    for label in output_activity_matrices.keys():\n",
    "        mat = output_activity_matrices[label].copy()\n",
    "        features_mat.append(mat.reshape(mat.shape[0]*mat.shape[1],mat.shape[2]).T)\n",
    "\n",
    "\n",
    "\n",
    "    X = np.vstack(features_mat)\n",
    "        \n",
    "    \n",
    "    return  y, X"
   ]
  },
  {
   "cell_type": "markdown",
   "metadata": {
    "id": "MQ5WiTG-Ogkr"
   },
   "source": [
    "# I/O"
   ]
  },
  {
   "cell_type": "markdown",
   "metadata": {
    "id": "cnhnR0UJS30O"
   },
   "source": [
    "####  Google Drive Path Initialization"
   ]
  },
  {
   "cell_type": "code",
   "execution_count": 12,
   "metadata": {
    "colab": {
     "base_uri": "https://localhost:8080/"
    },
    "executionInfo": {
     "elapsed": 21426,
     "status": "ok",
     "timestamp": 1606826355700,
     "user": {
      "displayName": "Zakaria Bekkar",
      "photoUrl": "",
      "userId": "11013878220604787588"
     },
     "user_tz": -60
    },
    "id": "87gEog3ZS30O",
    "outputId": "ae2c1cc2-52cb-4273-eae2-251bde1c0d22"
   },
   "outputs": [
    {
     "name": "stdout",
     "output_type": "stream",
     "text": [
      "Mounted at /content/drive\n"
     ]
    }
   ],
   "source": [
    "from google.colab import drive\n",
    "drive.mount('/content/drive')"
   ]
  },
  {
   "cell_type": "code",
   "execution_count": 13,
   "metadata": {
    "colab": {
     "base_uri": "https://localhost:8080/"
    },
    "executionInfo": {
     "elapsed": 509,
     "status": "ok",
     "timestamp": 1606826356742,
     "user": {
      "displayName": "Zakaria Bekkar",
      "photoUrl": "",
      "userId": "11013878220604787588"
     },
     "user_tz": -60
    },
    "id": "KH3CkQ75TvC0",
    "outputId": "2fdd6a79-90a2-481c-b5e7-d7bd0cc1f9bb"
   },
   "outputs": [
    {
     "name": "stdout",
     "output_type": "stream",
     "text": [
      "/content/drive/MyDrive/CEA\n"
     ]
    }
   ],
   "source": [
    "cd drive/MyDrive/CEA/"
   ]
  },
  {
   "cell_type": "code",
   "execution_count": 14,
   "metadata": {
    "colab": {
     "base_uri": "https://localhost:8080/"
    },
    "executionInfo": {
     "elapsed": 1151,
     "status": "ok",
     "timestamp": 1606826358014,
     "user": {
      "displayName": "Zakaria Bekkar",
      "photoUrl": "",
      "userId": "11013878220604787588"
     },
     "user_tz": -60
    },
    "id": "Mle4rlkUULIx",
    "outputId": "56222fff-ff7f-4648-a192-51146fc5493a"
   },
   "outputs": [
    {
     "name": "stdout",
     "output_type": "stream",
     "text": [
      "\u001b[0m\u001b[01;34mcache_mem\u001b[0m/  \u001b[01;34mdata\u001b[0m/  \u001b[01;34mmask\u001b[0m/  \u001b[01;34mmodels\u001b[0m/  \u001b[01;34mmvpa\u001b[0m/  \u001b[01;34mses-19\u001b[0m/\n"
     ]
    }
   ],
   "source": [
    "ls"
   ]
  },
  {
   "cell_type": "markdown",
   "metadata": {
    "id": "JMiQU7IAOgks"
   },
   "source": [
    "## Global  Statistical Computation Parameters"
   ]
  },
  {
   "cell_type": "code",
   "execution_count": 15,
   "metadata": {
    "executionInfo": {
     "elapsed": 980,
     "status": "ok",
     "timestamp": 1606826359978,
     "user": {
      "displayName": "Zakaria Bekkar",
      "photoUrl": "",
      "userId": "11013878220604787588"
     },
     "user_tz": -60
    },
    "id": "dW1CPeKQOgks"
   },
   "outputs": [],
   "source": [
    "voxel_dim = 1.5\n",
    "t_r = 2\n",
    "pre_whitening_spec = 'ar1'\n",
    "smoothing_fwhm = 2*voxel_dim \n",
    "slice_time_ref = 0. # Matching with STC done in preproc\n",
    "cache_mem_path = None"
   ]
  },
  {
   "cell_type": "markdown",
   "metadata": {
    "id": "6I129a44Ogks"
   },
   "source": [
    "# Multi Voxel Pattern Analysis"
   ]
  },
  {
   "cell_type": "markdown",
   "metadata": {
    "id": "hnOUYbw0Ogks"
   },
   "source": [
    "### To update"
   ]
  },
  {
   "cell_type": "markdown",
   "metadata": {
    "id": "2ySIbNTzOgks"
   },
   "source": [
    "![image.png](attachment:image.png)"
   ]
  },
  {
   "cell_type": "markdown",
   "metadata": {
    "id": "L5U4RdrBOgks"
   },
   "source": [
    "# ROI SELECTION"
   ]
  },
  {
   "cell_type": "markdown",
   "metadata": {
    "id": "DckCzeXtOgks"
   },
   "source": [
    "### Based on the global preference FFX ( across tasks and runs)"
   ]
  },
  {
   "cell_type": "markdown",
   "metadata": {
    "id": "FQ-icKetOgks"
   },
   "source": [
    "#### High Pleasance / Low Pleasance Classification"
   ]
  },
  {
   "cell_type": "code",
   "execution_count": 16,
   "metadata": {
    "executionInfo": {
     "elapsed": 2230,
     "status": "ok",
     "timestamp": 1606826447830,
     "user": {
      "displayName": "Zakaria Bekkar",
      "photoUrl": "",
      "userId": "11013878220604787588"
     },
     "user_tz": -60
    },
    "id": "YhJ1Q1GPURsl"
   },
   "outputs": [],
   "source": [
    "mask_img = image.load_img('mask/constant_vmpfc_mask.nii.gz')"
   ]
  },
  {
   "cell_type": "markdown",
   "metadata": {
    "id": "vxD3xgmSOgkt"
   },
   "source": [
    "## Activity Matrices Extraction ( LSS Separate Method )"
   ]
  },
  {
   "cell_type": "markdown",
   "metadata": {
    "id": "UBYqv8eVOgkt"
   },
   "source": [
    " - We extract the activity matrices/ label vector pair for each run, for each task\n",
    " - We perform an onset shift to capture the very moment of the decision, we set it to 1000 ms before the button press\n",
    " - We concatenate all this data to create a global dataset over all the preference battery of test"
   ]
  },
  {
   "cell_type": "code",
   "execution_count": 17,
   "metadata": {
    "executionInfo": {
     "elapsed": 1317,
     "status": "ok",
     "timestamp": 1606826500155,
     "user": {
      "displayName": "Zakaria Bekkar",
      "photoUrl": "",
      "userId": "11013878220604787588"
     },
     "user_tz": -60
    },
    "id": "dg1Qp97mOgkt"
   },
   "outputs": [],
   "source": [
    "y_g = list()\n",
    "X_g = list()"
   ]
  },
  {
   "cell_type": "markdown",
   "metadata": {
    "id": "RRyj5LVVOgkt"
   },
   "source": [
    "### Faces Task"
   ]
  },
  {
   "cell_type": "markdown",
   "metadata": {
    "id": "9ZTyU7c7Ogkt"
   },
   "source": [
    "### Run AP"
   ]
  },
  {
   "cell_type": "code",
   "execution_count": 18,
   "metadata": {
    "executionInfo": {
     "elapsed": 709,
     "status": "ok",
     "timestamp": 1606826502968,
     "user": {
      "displayName": "Zakaria Bekkar",
      "photoUrl": "",
      "userId": "11013878220604787588"
     },
     "user_tz": -60
    },
    "id": "acTXm7hFOgkt"
   },
   "outputs": [],
   "source": [
    "data_path = 'ses-19/func/wrdcsub-01_ses-19_task-PreferenceFaces_dir-ap_bold.nii.gz'\n",
    "events_path = 'ses-19/func/sub-01_ses-19_task-PreferenceFaces_dir-ap_events.tsv'\n",
    "motion_param_path = 'ses-19/func/rp_dcsub-01_ses-19_task-PreferenceFaces_dir-ap_bold.txt'\n",
    "task = 'Faces'"
   ]
  },
  {
   "cell_type": "code",
   "execution_count": 19,
   "metadata": {
    "executionInfo": {
     "elapsed": 2169,
     "status": "ok",
     "timestamp": 1606826504848,
     "user": {
      "displayName": "Zakaria Bekkar",
      "photoUrl": "",
      "userId": "11013878220604787588"
     },
     "user_tz": -60
    },
    "id": "KZkUtjR7Ogkt"
   },
   "outputs": [],
   "source": [
    "analysis_type = 'High_Low_Pleasance'\n",
    "hrf_model = 'spm + derivative'\n",
    "param_modulation = False\n",
    "drift_model='cosine'\n",
    "t_r=2\n",
    "drift_order=None\n",
    "apply_trans_mask=True\n",
    "roi_img = mask_img\n",
    "standardize=True\n",
    "detrend=True\n",
    "minimize_memory = True\n",
    "activity_mat_saving_path = 'mvpa/test2'\n",
    "\n",
    "events = pd.read_csv(events_path,sep='\\t')\n",
    "\n",
    "# onset shift in order to capture the very moment of the appreciation decision\n",
    "events['onset'] = events['onset']-1\n",
    "\n",
    "\n",
    "onset_periods = [events['onset'][i+1] - events['onset'][i]  for i in range(len(events['onset']))if (i<len(events['onset'])-1)]\n",
    "onset_periods = np.array(onset_periods)\n",
    "onset_freq = np.reciprocal(onset_periods)\n",
    "\n",
    "hpf_cut = np.min(onset_freq)/2 # cf High Pass Filtering Rule of Thumb ( fMRI Handbook 2011)"
   ]
  },
  {
   "cell_type": "code",
   "execution_count": 20,
   "metadata": {
    "colab": {
     "base_uri": "https://localhost:8080/",
     "height": 1000,
     "output_embedded_package_id": "1SFLjjCMZ-hodbBHuAd8RWfNcagDSu1jx"
    },
    "executionInfo": {
     "elapsed": 1198145,
     "status": "ok",
     "timestamp": 1606827701488,
     "user": {
      "displayName": "Zakaria Bekkar",
      "photoUrl": "",
      "userId": "11013878220604787588"
     },
     "user_tz": -60
    },
    "id": "3Ar5zLaJOgkt",
    "outputId": "eeb09cb8-6733-4476-8c1d-00f3aff093e4"
   },
   "outputs": [
    {
     "data": {
      "text/plain": [
       "Output hidden; open in https://colab.research.google.com to view."
      ]
     },
     "metadata": {},
     "output_type": "display_data"
    }
   ],
   "source": [
    "y_fa_ap, X_fa_ap = lss_separate_method_comp(task =task,\n",
    "                          data_path=data_path,\n",
    "                          events_path=events_path,\n",
    "                          motion_param_path=motion_param_path,\n",
    "                          cache_mem_path=cache_mem_path,\n",
    "                          activity_mat_saving_path=activity_mat_saving_path,\n",
    "                          analysis_type=analysis_type,\n",
    "                          param_modulation=False,\n",
    "                          t_r=t_r,\n",
    "                          drift_model=drift_model,\n",
    "                          drift_order=drift_order,\n",
    "                          hrf_model=hrf_model,\n",
    "                          pre_whitening_spec=pre_whitening_spec,\n",
    "                          apply_trans_mask=apply_trans_mask,\n",
    "                          roi_img=roi_img,  \n",
    "                          hpf_cut=hpf_cut,\n",
    "                          smoothing_fwhm=smoothing_fwhm,\n",
    "                          standardize=standardize,\n",
    "                          detrend=detrend,minimize_memory=minimize_memory)"
   ]
  },
  {
   "cell_type": "code",
   "execution_count": 21,
   "metadata": {
    "executionInfo": {
     "elapsed": 1197030,
     "status": "ok",
     "timestamp": 1606827701492,
     "user": {
      "displayName": "Zakaria Bekkar",
      "photoUrl": "",
      "userId": "11013878220604787588"
     },
     "user_tz": -60
    },
    "id": "YmQSacAzOgku"
   },
   "outputs": [],
   "source": [
    "y_g.append(y_fa_ap)\n",
    "X_g.append(X_fa_ap)"
   ]
  },
  {
   "cell_type": "code",
   "execution_count": 22,
   "metadata": {
    "colab": {
     "base_uri": "https://localhost:8080/"
    },
    "executionInfo": {
     "elapsed": 1196151,
     "status": "ok",
     "timestamp": 1606827701493,
     "user": {
      "displayName": "Zakaria Bekkar",
      "photoUrl": "",
      "userId": "11013878220604787588"
     },
     "user_tz": -60
    },
    "id": "SAE2_SY6Ogku",
    "outputId": "334cb0b9-93b5-4761-dd95-63a5fc669e99"
   },
   "outputs": [
    {
     "data": {
      "text/plain": [
       "(60, 419)"
      ]
     },
     "execution_count": 22,
     "metadata": {
      "tags": []
     },
     "output_type": "execute_result"
    }
   ],
   "source": [
    "X_fa_ap.shape"
   ]
  },
  {
   "cell_type": "markdown",
   "metadata": {
    "id": "j0I-zCAfOgku"
   },
   "source": [
    "### Run PA"
   ]
  },
  {
   "cell_type": "code",
   "execution_count": 23,
   "metadata": {
    "executionInfo": {
     "elapsed": 1194285,
     "status": "ok",
     "timestamp": 1606827701494,
     "user": {
      "displayName": "Zakaria Bekkar",
      "photoUrl": "",
      "userId": "11013878220604787588"
     },
     "user_tz": -60
    },
    "id": "ZEZCgljIOgku"
   },
   "outputs": [],
   "source": [
    "data_path = 'ses-19/func/wrdcsub-01_ses-19_task-PreferenceFaces_dir-pa_bold.nii.gz'\n",
    "events_path = 'ses-19/func/sub-01_ses-19_task-PreferenceFaces_dir-pa_events.tsv'\n",
    "motion_param_path = 'ses-19/func/rp_dcsub-01_ses-19_task-PreferenceFaces_dir-pa_bold.txt'\n",
    "task = 'Faces'"
   ]
  },
  {
   "cell_type": "code",
   "execution_count": 24,
   "metadata": {
    "executionInfo": {
     "elapsed": 1194279,
     "status": "ok",
     "timestamp": 1606827701869,
     "user": {
      "displayName": "Zakaria Bekkar",
      "photoUrl": "",
      "userId": "11013878220604787588"
     },
     "user_tz": -60
    },
    "id": "zRLqY_0_Ogku"
   },
   "outputs": [],
   "source": [
    "analysis_type = 'High_Low_Pleasance'\n",
    "hrf_model = 'spm + derivative'\n",
    "param_modulation = False\n",
    "drift_model='cosine'\n",
    "t_r=2\n",
    "drift_order=None\n",
    "apply_trans_mask=True\n",
    "roi_img = mask_img\n",
    "standardize=True\n",
    "detrend=True\n",
    "minimize_memory = True\n",
    "activity_mat_saving_path = 'mvpa/test2'\n",
    "\n",
    "events = pd.read_csv(events_path,sep='\\t')\n",
    "\n",
    "# onset shift in order to capture the very moment of the appreciation decision\n",
    "events['onset'] = events['onset']-1\n",
    "\n",
    "onset_periods = [events['onset'][i+1] - events['onset'][i]  for i in range(len(events['onset']))if (i<len(events['onset'])-1)]\n",
    "onset_periods = np.array(onset_periods)\n",
    "onset_freq = np.reciprocal(onset_periods)\n",
    "hpf_cut = np.min(onset_freq)/2 # cf High Pass Filtering Rule of Thumb ( fMRI Handbook 2011)"
   ]
  },
  {
   "cell_type": "code",
   "execution_count": 25,
   "metadata": {
    "colab": {
     "base_uri": "https://localhost:8080/",
     "height": 1000,
     "output_embedded_package_id": "1zGApDGX7U14ZkhW3jIhsdV3T4h4C8Wcm"
    },
    "executionInfo": {
     "elapsed": 2388868,
     "status": "ok",
     "timestamp": 1606828896811,
     "user": {
      "displayName": "Zakaria Bekkar",
      "photoUrl": "",
      "userId": "11013878220604787588"
     },
     "user_tz": -60
    },
    "id": "H1AaQdLuOgku",
    "outputId": "4eb53ae3-ee15-4ad0-ca36-13254c85c5f7"
   },
   "outputs": [
    {
     "data": {
      "text/plain": [
       "Output hidden; open in https://colab.research.google.com to view."
      ]
     },
     "metadata": {},
     "output_type": "display_data"
    }
   ],
   "source": [
    "y_fa_pa, X_fa_pa = lss_separate_method_comp(task =task,\n",
    "                          data_path=data_path,\n",
    "                          events_path=events_path,\n",
    "                          motion_param_path=motion_param_path,\n",
    "                          cache_mem_path=cache_mem_path,\n",
    "                          activity_mat_saving_path=activity_mat_saving_path,\n",
    "                          analysis_type=analysis_type,\n",
    "                          param_modulation=False,\n",
    "                          t_r=t_r,\n",
    "                          drift_model=drift_model,\n",
    "                          drift_order=drift_order,\n",
    "                          hrf_model=hrf_model,\n",
    "                          pre_whitening_spec=pre_whitening_spec,\n",
    "                          apply_trans_mask=apply_trans_mask,\n",
    "                          roi_img=roi_img,  \n",
    "                          hpf_cut=hpf_cut,\n",
    "                          smoothing_fwhm=smoothing_fwhm,\n",
    "                          standardize=standardize,\n",
    "                          detrend=detrend,minimize_memory=minimize_memory)"
   ]
  },
  {
   "cell_type": "code",
   "execution_count": 26,
   "metadata": {
    "executionInfo": {
     "elapsed": 2388515,
     "status": "ok",
     "timestamp": 1606828896813,
     "user": {
      "displayName": "Zakaria Bekkar",
      "photoUrl": "",
      "userId": "11013878220604787588"
     },
     "user_tz": -60
    },
    "id": "2DV2ZMynOgkv"
   },
   "outputs": [],
   "source": [
    "y_g.append(y_fa_pa)\n",
    "X_g.append(X_fa_pa)"
   ]
  },
  {
   "cell_type": "code",
   "execution_count": 27,
   "metadata": {
    "colab": {
     "base_uri": "https://localhost:8080/"
    },
    "executionInfo": {
     "elapsed": 2388114,
     "status": "ok",
     "timestamp": 1606828896813,
     "user": {
      "displayName": "Zakaria Bekkar",
      "photoUrl": "",
      "userId": "11013878220604787588"
     },
     "user_tz": -60
    },
    "id": "mS7yDZ8WOgkv",
    "outputId": "908350db-58af-4421-a86a-eb0e7f541318"
   },
   "outputs": [
    {
     "data": {
      "text/plain": [
       "(60, 419)"
      ]
     },
     "execution_count": 27,
     "metadata": {
      "tags": []
     },
     "output_type": "execute_result"
    }
   ],
   "source": [
    "X_fa_pa.shape"
   ]
  },
  {
   "cell_type": "markdown",
   "metadata": {
    "id": "ZIS2AqwVOgkv"
   },
   "source": [
    "### Food Task"
   ]
  },
  {
   "cell_type": "markdown",
   "metadata": {
    "id": "H4pZf7KjOgkv"
   },
   "source": [
    "### Run AP"
   ]
  },
  {
   "cell_type": "code",
   "execution_count": 28,
   "metadata": {
    "executionInfo": {
     "elapsed": 2386951,
     "status": "ok",
     "timestamp": 1606828896814,
     "user": {
      "displayName": "Zakaria Bekkar",
      "photoUrl": "",
      "userId": "11013878220604787588"
     },
     "user_tz": -60
    },
    "id": "2HRuJGW8Ogkv"
   },
   "outputs": [],
   "source": [
    "data_path = 'ses-19/func/wrdcsub-01_ses-19_task-PreferenceFood_dir-ap_bold.nii.gz'\n",
    "events_path = 'ses-19/func/sub-01_ses-19_task-PreferenceFood_dir-ap_events.tsv'\n",
    "motion_param_path = 'ses-19/func/rp_dcsub-01_ses-19_task-PreferenceFood_dir-ap_bold.txt'\n",
    "task = 'Food'"
   ]
  },
  {
   "cell_type": "code",
   "execution_count": 29,
   "metadata": {
    "executionInfo": {
     "elapsed": 2386979,
     "status": "ok",
     "timestamp": 1606828897246,
     "user": {
      "displayName": "Zakaria Bekkar",
      "photoUrl": "",
      "userId": "11013878220604787588"
     },
     "user_tz": -60
    },
    "id": "SgSwsO8iOgkv"
   },
   "outputs": [],
   "source": [
    "analysis_type = 'High_Low_Pleasance'\n",
    "hrf_model = 'spm + derivative'\n",
    "param_modulation = False\n",
    "drift_model='cosine'\n",
    "t_r=2\n",
    "drift_order=None\n",
    "apply_trans_mask=True\n",
    "roi_img = mask_img\n",
    "standardize=True\n",
    "detrend=True\n",
    "minimize_memory = True\n",
    "activity_mat_saving_path = 'mvpa/test2'\n",
    "\n",
    "events = pd.read_csv(events_path,sep='\\t')\n",
    "\n",
    "# onset shift in order to capture the very moment of the appreciation decision\n",
    "events['onset'] = events['onset']-1\n",
    "\n",
    "onset_periods = [events['onset'][i+1] - events['onset'][i]  for i in range(len(events['onset']))if (i<len(events['onset'])-1)]\n",
    "onset_periods = np.array(onset_periods)\n",
    "onset_freq = np.reciprocal(onset_periods)\n",
    "hpf_cut = np.min(onset_freq)/2 # cf High Pass Filtering Rule of Thumb ( fMRI Handbook 2011)"
   ]
  },
  {
   "cell_type": "code",
   "execution_count": 30,
   "metadata": {
    "colab": {
     "base_uri": "https://localhost:8080/",
     "height": 1000,
     "output_embedded_package_id": "1uKHJ-xq23O0hQOSrFEqFQGTffQ7dSj_p"
    },
    "executionInfo": {
     "elapsed": 3565467,
     "status": "ok",
     "timestamp": 1606830076151,
     "user": {
      "displayName": "Zakaria Bekkar",
      "photoUrl": "",
      "userId": "11013878220604787588"
     },
     "user_tz": -60
    },
    "id": "9RHixBCNOgkv",
    "outputId": "6308b34a-0de4-4910-dc5b-139f0bfb3f56"
   },
   "outputs": [
    {
     "data": {
      "text/plain": [
       "Output hidden; open in https://colab.research.google.com to view."
      ]
     },
     "metadata": {},
     "output_type": "display_data"
    }
   ],
   "source": [
    "y_fo_ap, X_fo_ap = lss_separate_method_comp(task =task,\n",
    "                          data_path=data_path,\n",
    "                          events_path=events_path,\n",
    "                          motion_param_path=motion_param_path,\n",
    "                          cache_mem_path=cache_mem_path,\n",
    "                          activity_mat_saving_path=activity_mat_saving_path,\n",
    "                          analysis_type=analysis_type,\n",
    "                          param_modulation=False,\n",
    "                          t_r=t_r,\n",
    "                          drift_model=drift_model,\n",
    "                          drift_order=drift_order,\n",
    "                          hrf_model=hrf_model,\n",
    "                          pre_whitening_spec=pre_whitening_spec,\n",
    "                          apply_trans_mask=apply_trans_mask,\n",
    "                          roi_img=roi_img,  \n",
    "                          hpf_cut=hpf_cut,\n",
    "                          smoothing_fwhm=smoothing_fwhm,\n",
    "                          standardize=standardize,\n",
    "                          detrend=detrend,minimize_memory=minimize_memory)"
   ]
  },
  {
   "cell_type": "code",
   "execution_count": 31,
   "metadata": {
    "executionInfo": {
     "elapsed": 3565085,
     "status": "ok",
     "timestamp": 1606830076153,
     "user": {
      "displayName": "Zakaria Bekkar",
      "photoUrl": "",
      "userId": "11013878220604787588"
     },
     "user_tz": -60
    },
    "id": "PTQ1gcKDOgkw"
   },
   "outputs": [],
   "source": [
    "y_g.append(y_fo_ap)\n",
    "X_g.append(X_fo_ap)"
   ]
  },
  {
   "cell_type": "code",
   "execution_count": 32,
   "metadata": {
    "colab": {
     "base_uri": "https://localhost:8080/"
    },
    "executionInfo": {
     "elapsed": 3564671,
     "status": "ok",
     "timestamp": 1606830076153,
     "user": {
      "displayName": "Zakaria Bekkar",
      "photoUrl": "",
      "userId": "11013878220604787588"
     },
     "user_tz": -60
    },
    "id": "_hishZdQOgkw",
    "outputId": "fa66c6e4-4bfd-4859-b03d-f596a559f6e0"
   },
   "outputs": [
    {
     "data": {
      "text/plain": [
       "(60, 419)"
      ]
     },
     "execution_count": 32,
     "metadata": {
      "tags": []
     },
     "output_type": "execute_result"
    }
   ],
   "source": [
    "X_fo_ap.shape"
   ]
  },
  {
   "cell_type": "markdown",
   "metadata": {
    "id": "_btxN9C0Ogkw"
   },
   "source": [
    "### Run PA"
   ]
  },
  {
   "cell_type": "code",
   "execution_count": 33,
   "metadata": {
    "executionInfo": {
     "elapsed": 3563343,
     "status": "ok",
     "timestamp": 1606830076154,
     "user": {
      "displayName": "Zakaria Bekkar",
      "photoUrl": "",
      "userId": "11013878220604787588"
     },
     "user_tz": -60
    },
    "id": "PjGRKEXuOgkw"
   },
   "outputs": [],
   "source": [
    "data_path = 'ses-19/func/wrdcsub-01_ses-19_task-PreferenceFood_dir-pa_bold.nii.gz'\n",
    "events_path = 'ses-19/func/sub-01_ses-19_task-PreferenceFood_dir-pa_events.tsv'\n",
    "motion_param_path = 'ses-19/func/rp_dcsub-01_ses-19_task-PreferenceFood_dir-pa_bold.txt'\n",
    "task = 'Food'"
   ]
  },
  {
   "cell_type": "code",
   "execution_count": 34,
   "metadata": {
    "executionInfo": {
     "elapsed": 3563637,
     "status": "ok",
     "timestamp": 1606830076846,
     "user": {
      "displayName": "Zakaria Bekkar",
      "photoUrl": "",
      "userId": "11013878220604787588"
     },
     "user_tz": -60
    },
    "id": "jK66uFeyOgkw"
   },
   "outputs": [],
   "source": [
    "analysis_type = 'High_Low_Pleasance'\n",
    "hrf_model = 'spm + derivative'\n",
    "param_modulation = False\n",
    "drift_model='cosine'\n",
    "t_r=2\n",
    "drift_order=None\n",
    "apply_trans_mask=True\n",
    "roi_img = mask_img\n",
    "standardize=True\n",
    "detrend=True\n",
    "minimize_memory = True\n",
    "activity_mat_saving_path = 'mvpa/test2'\n",
    "\n",
    "events = pd.read_csv(events_path,sep='\\t')\n",
    "\n",
    "# onset shift in order to capture the very moment of the appreciation decision\n",
    "events['onset'] = events['onset']-1\n",
    "\n",
    "onset_periods = [events['onset'][i+1] - events['onset'][i]  for i in range(len(events['onset']))if (i<len(events['onset'])-1)]\n",
    "onset_periods = np.array(onset_periods)\n",
    "onset_freq = np.reciprocal(onset_periods)\n",
    "hpf_cut = np.min(onset_freq)/2 # cf High Pass Filtering Rule of Thumb ( fMRI Handbook 2011)"
   ]
  },
  {
   "cell_type": "code",
   "execution_count": 35,
   "metadata": {
    "colab": {
     "base_uri": "https://localhost:8080/",
     "height": 1000,
     "output_embedded_package_id": "1pbDq6CFcgZUemqUFLuF9vCzxTNYhMCyU"
    },
    "executionInfo": {
     "elapsed": 4742940,
     "status": "ok",
     "timestamp": 1606831256577,
     "user": {
      "displayName": "Zakaria Bekkar",
      "photoUrl": "",
      "userId": "11013878220604787588"
     },
     "user_tz": -60
    },
    "id": "ZLVi-w4OOgkw",
    "outputId": "77a19596-8fed-48eb-8466-7cdd4e5f1802"
   },
   "outputs": [
    {
     "data": {
      "text/plain": [
       "Output hidden; open in https://colab.research.google.com to view."
      ]
     },
     "metadata": {},
     "output_type": "display_data"
    }
   ],
   "source": [
    "y_fo_pa, X_fo_pa = lss_separate_method_comp(task =task,\n",
    "                          data_path=data_path,\n",
    "                          events_path=events_path,\n",
    "                          motion_param_path=motion_param_path,\n",
    "                          cache_mem_path=cache_mem_path,\n",
    "                          activity_mat_saving_path=activity_mat_saving_path,\n",
    "                          analysis_type=analysis_type,\n",
    "                          param_modulation=False,\n",
    "                          t_r=t_r,\n",
    "                          drift_model=drift_model,\n",
    "                          drift_order=drift_order,\n",
    "                          hrf_model=hrf_model,\n",
    "                          pre_whitening_spec=pre_whitening_spec,\n",
    "                          apply_trans_mask=apply_trans_mask,\n",
    "                          roi_img=roi_img,  \n",
    "                          hpf_cut=hpf_cut,\n",
    "                          smoothing_fwhm=smoothing_fwhm,\n",
    "                          standardize=standardize,\n",
    "                          detrend=detrend,minimize_memory=minimize_memory)"
   ]
  },
  {
   "cell_type": "code",
   "execution_count": 36,
   "metadata": {
    "executionInfo": {
     "elapsed": 4742519,
     "status": "ok",
     "timestamp": 1606831256580,
     "user": {
      "displayName": "Zakaria Bekkar",
      "photoUrl": "",
      "userId": "11013878220604787588"
     },
     "user_tz": -60
    },
    "id": "pK8oFhdCOgkx"
   },
   "outputs": [],
   "source": [
    "y_g.append(y_fo_pa)\n",
    "X_g.append(X_fo_pa)"
   ]
  },
  {
   "cell_type": "code",
   "execution_count": 37,
   "metadata": {
    "colab": {
     "base_uri": "https://localhost:8080/"
    },
    "executionInfo": {
     "elapsed": 4742071,
     "status": "ok",
     "timestamp": 1606831256581,
     "user": {
      "displayName": "Zakaria Bekkar",
      "photoUrl": "",
      "userId": "11013878220604787588"
     },
     "user_tz": -60
    },
    "id": "IZe7ePGEOgkx",
    "outputId": "6d7c60a3-df51-4856-8298-0b34e7adae2b"
   },
   "outputs": [
    {
     "data": {
      "text/plain": [
       "(60, 419)"
      ]
     },
     "execution_count": 37,
     "metadata": {
      "tags": []
     },
     "output_type": "execute_result"
    }
   ],
   "source": [
    "X_fo_pa.shape"
   ]
  },
  {
   "cell_type": "markdown",
   "metadata": {
    "id": "DEE_yQzaOgkx"
   },
   "source": [
    "### Houses Task"
   ]
  },
  {
   "cell_type": "markdown",
   "metadata": {
    "id": "v5o5pm64Ogkx"
   },
   "source": [
    "### Run AP"
   ]
  },
  {
   "cell_type": "code",
   "execution_count": 38,
   "metadata": {
    "executionInfo": {
     "elapsed": 4740972,
     "status": "ok",
     "timestamp": 1606831256582,
     "user": {
      "displayName": "Zakaria Bekkar",
      "photoUrl": "",
      "userId": "11013878220604787588"
     },
     "user_tz": -60
    },
    "id": "P5UdJ1ltOgkx"
   },
   "outputs": [],
   "source": [
    "data_path = 'ses-19/func/wrdcsub-01_ses-19_task-PreferenceHouses_dir-ap_bold.nii.gz'\n",
    "events_path = 'ses-19/func/sub-01_ses-19_task-PreferenceHouses_dir-ap_events.tsv'\n",
    "motion_param_path = 'ses-19/func/rp_dcsub-01_ses-19_task-PreferenceHouses_dir-ap_bold.txt'\n",
    "task = 'Houses'"
   ]
  },
  {
   "cell_type": "code",
   "execution_count": 39,
   "metadata": {
    "executionInfo": {
     "elapsed": 4741062,
     "status": "ok",
     "timestamp": 1606831256927,
     "user": {
      "displayName": "Zakaria Bekkar",
      "photoUrl": "",
      "userId": "11013878220604787588"
     },
     "user_tz": -60
    },
    "id": "NK-MaV2xOgkx"
   },
   "outputs": [],
   "source": [
    "analysis_type = 'High_Low_Pleasance'\n",
    "hrf_model = 'spm + derivative'\n",
    "param_modulation = False\n",
    "drift_model='cosine'\n",
    "t_r=2\n",
    "drift_order=None\n",
    "apply_trans_mask=True\n",
    "roi_img = mask_img\n",
    "standardize=True\n",
    "detrend=True\n",
    "minimize_memory = True\n",
    "activity_mat_saving_path = 'mvpa/test2'\n",
    "\n",
    "events = pd.read_csv(events_path,sep='\\t')\n",
    "\n",
    "# onset shift in order to capture the very moment of the appreciation decision\n",
    "events['onset'] = events['onset']-1\n",
    "\n",
    "onset_periods = [events['onset'][i+1] - events['onset'][i]  for i in range(len(events['onset']))if (i<len(events['onset'])-1)]\n",
    "onset_periods = np.array(onset_periods)\n",
    "onset_freq = np.reciprocal(onset_periods)\n",
    "hpf_cut = np.min(onset_freq)/2 # cf High Pass Filtering Rule of Thumb ( fMRI Handbook 2011)"
   ]
  },
  {
   "cell_type": "code",
   "execution_count": 40,
   "metadata": {
    "colab": {
     "base_uri": "https://localhost:8080/",
     "height": 1000,
     "output_embedded_package_id": "1PQ3g536XzbfAPRiX3U1S4OhWgcPZu8Js"
    },
    "executionInfo": {
     "elapsed": 5922625,
     "status": "ok",
     "timestamp": 1606832438722,
     "user": {
      "displayName": "Zakaria Bekkar",
      "photoUrl": "",
      "userId": "11013878220604787588"
     },
     "user_tz": -60
    },
    "id": "wNaCPdTHOgkx",
    "outputId": "1c2f0dd1-b8ba-4f0b-ff5e-bbc167c45e5d"
   },
   "outputs": [
    {
     "data": {
      "text/plain": [
       "Output hidden; open in https://colab.research.google.com to view."
      ]
     },
     "metadata": {},
     "output_type": "display_data"
    }
   ],
   "source": [
    "y_ho_ap, X_ho_ap = lss_separate_method_comp(task =task,\n",
    "                          data_path=data_path,\n",
    "                          events_path=events_path,\n",
    "                          motion_param_path=motion_param_path,\n",
    "                          cache_mem_path=cache_mem_path,\n",
    "                          activity_mat_saving_path=activity_mat_saving_path,\n",
    "                          analysis_type=analysis_type,\n",
    "                          param_modulation=False,\n",
    "                          t_r=t_r,\n",
    "                          drift_model=drift_model,\n",
    "                          drift_order=drift_order,\n",
    "                          hrf_model=hrf_model,\n",
    "                          pre_whitening_spec=pre_whitening_spec,\n",
    "                          apply_trans_mask=apply_trans_mask,\n",
    "                          roi_img=roi_img,  \n",
    "                          hpf_cut=hpf_cut,\n",
    "                          smoothing_fwhm=smoothing_fwhm,\n",
    "                          standardize=standardize,\n",
    "                          detrend=detrend,minimize_memory=minimize_memory)"
   ]
  },
  {
   "cell_type": "code",
   "execution_count": 41,
   "metadata": {
    "executionInfo": {
     "elapsed": 5922368,
     "status": "ok",
     "timestamp": 1606832438724,
     "user": {
      "displayName": "Zakaria Bekkar",
      "photoUrl": "",
      "userId": "11013878220604787588"
     },
     "user_tz": -60
    },
    "id": "u2ehliqUOgkx"
   },
   "outputs": [],
   "source": [
    "y_g.append(y_ho_ap)\n",
    "X_g.append(X_ho_ap)"
   ]
  },
  {
   "cell_type": "code",
   "execution_count": 42,
   "metadata": {
    "colab": {
     "base_uri": "https://localhost:8080/"
    },
    "executionInfo": {
     "elapsed": 5922172,
     "status": "ok",
     "timestamp": 1606832438725,
     "user": {
      "displayName": "Zakaria Bekkar",
      "photoUrl": "",
      "userId": "11013878220604787588"
     },
     "user_tz": -60
    },
    "id": "ee2dJdVTOgkx",
    "outputId": "b5eb69d5-aa2b-4db5-b81b-46ec6414d90d"
   },
   "outputs": [
    {
     "data": {
      "text/plain": [
       "(60, 419)"
      ]
     },
     "execution_count": 42,
     "metadata": {
      "tags": []
     },
     "output_type": "execute_result"
    }
   ],
   "source": [
    "X_ho_ap.shape"
   ]
  },
  {
   "cell_type": "markdown",
   "metadata": {
    "id": "-No_SCy2Ogky"
   },
   "source": [
    "### Run PA"
   ]
  },
  {
   "cell_type": "code",
   "execution_count": 43,
   "metadata": {
    "executionInfo": {
     "elapsed": 5921639,
     "status": "ok",
     "timestamp": 1606832438726,
     "user": {
      "displayName": "Zakaria Bekkar",
      "photoUrl": "",
      "userId": "11013878220604787588"
     },
     "user_tz": -60
    },
    "id": "YqCoCF8iOgky"
   },
   "outputs": [],
   "source": [
    "data_path = 'ses-19/func/wrdcsub-01_ses-19_task-PreferenceHouses_dir-pa_bold.nii.gz'\n",
    "events_path = 'ses-19/func/sub-01_ses-19_task-PreferenceHouses_dir-pa_events.tsv'\n",
    "motion_param_path = 'ses-19/func/rp_dcsub-01_ses-19_task-PreferenceHouses_dir-pa_bold.txt'\n",
    "task = 'Houses'"
   ]
  },
  {
   "cell_type": "code",
   "execution_count": 44,
   "metadata": {
    "executionInfo": {
     "elapsed": 5921529,
     "status": "ok",
     "timestamp": 1606832439106,
     "user": {
      "displayName": "Zakaria Bekkar",
      "photoUrl": "",
      "userId": "11013878220604787588"
     },
     "user_tz": -60
    },
    "id": "3HrOOKQDOgky"
   },
   "outputs": [],
   "source": [
    "analysis_type = 'High_Low_Pleasance'\n",
    "hrf_model = 'spm + derivative'\n",
    "param_modulation = False\n",
    "drift_model='cosine'\n",
    "t_r=2\n",
    "drift_order=None\n",
    "apply_trans_mask=True\n",
    "roi_img = mask_img\n",
    "standardize=True\n",
    "detrend=True\n",
    "minimize_memory = True\n",
    "activity_mat_saving_path = 'mvpa/test2'\n",
    "\n",
    "events = pd.read_csv(events_path,sep='\\t')\n",
    "\n",
    "# onset shift in order to capture the very moment of the appreciation decision\n",
    "events['onset'] = events['onset']-1\n",
    "\n",
    "onset_periods = [events['onset'][i+1] - events['onset'][i]  for i in range(len(events['onset']))if (i<len(events['onset'])-1)]\n",
    "onset_periods = np.array(onset_periods)\n",
    "onset_freq = np.reciprocal(onset_periods)\n",
    "hpf_cut = np.min(onset_freq)/2 # cf High Pass Filtering Rule of Thumb ( fMRI Handbook 2011)"
   ]
  },
  {
   "cell_type": "code",
   "execution_count": 45,
   "metadata": {
    "colab": {
     "base_uri": "https://localhost:8080/",
     "height": 1000,
     "output_embedded_package_id": "1xcf79aOBJy4IKhSDjitF20D6x7HapOTp"
    },
    "executionInfo": {
     "elapsed": 7096417,
     "status": "ok",
     "timestamp": 1606833614301,
     "user": {
      "displayName": "Zakaria Bekkar",
      "photoUrl": "",
      "userId": "11013878220604787588"
     },
     "user_tz": -60
    },
    "id": "m0zRGCMdOgky",
    "outputId": "17cda6d6-2a57-4bdd-cb28-0123881971ff"
   },
   "outputs": [
    {
     "data": {
      "text/plain": [
       "Output hidden; open in https://colab.research.google.com to view."
      ]
     },
     "metadata": {},
     "output_type": "display_data"
    }
   ],
   "source": [
    "y_ho_pa, X_ho_pa = lss_separate_method_comp(task =task,\n",
    "                          data_path=data_path,\n",
    "                          events_path=events_path,\n",
    "                          motion_param_path=motion_param_path,\n",
    "                          cache_mem_path=cache_mem_path,\n",
    "                          activity_mat_saving_path=activity_mat_saving_path,\n",
    "                          analysis_type=analysis_type,\n",
    "                          param_modulation=False,\n",
    "                          t_r=t_r,\n",
    "                          drift_model=drift_model,\n",
    "                          drift_order=drift_order,\n",
    "                          hrf_model=hrf_model,\n",
    "                          pre_whitening_spec=pre_whitening_spec,\n",
    "                          apply_trans_mask=apply_trans_mask,\n",
    "                          roi_img=roi_img,  \n",
    "                          hpf_cut=hpf_cut,\n",
    "                          smoothing_fwhm=smoothing_fwhm,\n",
    "                          standardize=standardize,\n",
    "                          detrend=detrend,minimize_memory=minimize_memory)"
   ]
  },
  {
   "cell_type": "code",
   "execution_count": 46,
   "metadata": {
    "executionInfo": {
     "elapsed": 7096011,
     "status": "ok",
     "timestamp": 1606833614304,
     "user": {
      "displayName": "Zakaria Bekkar",
      "photoUrl": "",
      "userId": "11013878220604787588"
     },
     "user_tz": -60
    },
    "id": "rSx8K4-KOgky"
   },
   "outputs": [],
   "source": [
    "y_g.append(y_ho_pa)\n",
    "X_g.append(X_ho_pa)"
   ]
  },
  {
   "cell_type": "code",
   "execution_count": 47,
   "metadata": {
    "colab": {
     "base_uri": "https://localhost:8080/"
    },
    "executionInfo": {
     "elapsed": 7095489,
     "status": "ok",
     "timestamp": 1606833614304,
     "user": {
      "displayName": "Zakaria Bekkar",
      "photoUrl": "",
      "userId": "11013878220604787588"
     },
     "user_tz": -60
    },
    "id": "jD1xreCGOgky",
    "outputId": "3114df0b-46b8-4194-c69d-dbdca3905aa9"
   },
   "outputs": [
    {
     "data": {
      "text/plain": [
       "(60, 419)"
      ]
     },
     "execution_count": 47,
     "metadata": {
      "tags": []
     },
     "output_type": "execute_result"
    }
   ],
   "source": [
    "X_ho_pa.shape"
   ]
  },
  {
   "cell_type": "markdown",
   "metadata": {
    "id": "F3gEdkaEOgky"
   },
   "source": [
    "### Paintings Task"
   ]
  },
  {
   "cell_type": "markdown",
   "metadata": {
    "id": "bWLLT41YOgky"
   },
   "source": [
    "### Run AP"
   ]
  },
  {
   "cell_type": "code",
   "execution_count": 48,
   "metadata": {
    "executionInfo": {
     "elapsed": 7093991,
     "status": "ok",
     "timestamp": 1606833614305,
     "user": {
      "displayName": "Zakaria Bekkar",
      "photoUrl": "",
      "userId": "11013878220604787588"
     },
     "user_tz": -60
    },
    "id": "DzTAHos_Ogky"
   },
   "outputs": [],
   "source": [
    "data_path = 'ses-19/func/wrdcsub-01_ses-19_task-PreferencePaintings_dir-ap_bold.nii.gz'\n",
    "events_path = 'ses-19/func/sub-01_ses-19_task-PreferencePaintings_dir-ap_events.tsv'\n",
    "motion_param_path = 'ses-19/func/rp_dcsub-01_ses-19_task-PreferencePaintings_dir-ap_bold.txt'\n",
    "task = 'Paintings'"
   ]
  },
  {
   "cell_type": "code",
   "execution_count": 49,
   "metadata": {
    "executionInfo": {
     "elapsed": 7093667,
     "status": "ok",
     "timestamp": 1606833614623,
     "user": {
      "displayName": "Zakaria Bekkar",
      "photoUrl": "",
      "userId": "11013878220604787588"
     },
     "user_tz": -60
    },
    "id": "uzt-1_m8Ogky"
   },
   "outputs": [],
   "source": [
    "analysis_type = 'High_Low_Pleasance'\n",
    "hrf_model = 'spm + derivative'\n",
    "param_modulation = False\n",
    "drift_model='cosine'\n",
    "t_r=2\n",
    "drift_order=None\n",
    "apply_trans_mask=True\n",
    "roi_img = mask_img\n",
    "standardize=True\n",
    "detrend=True\n",
    "minimize_memory = True\n",
    "activity_mat_saving_path = 'mvpa/test2'\n",
    "\n",
    "events = pd.read_csv(events_path,sep='\\t')\n",
    "\n",
    "# onset shift in order to capture the very moment of the appreciation decision\n",
    "events['onset'] = events['onset']-1\n",
    "\n",
    "onset_periods = [events['onset'][i+1] - events['onset'][i]  for i in range(len(events['onset']))if (i<len(events['onset'])-1)]\n",
    "onset_periods = np.array(onset_periods)\n",
    "onset_freq = np.reciprocal(onset_periods)\n",
    "hpf_cut = np.min(onset_freq)/2 # cf High Pass Filtering Rule of Thumb ( fMRI Handbook 2011)"
   ]
  },
  {
   "cell_type": "code",
   "execution_count": 50,
   "metadata": {
    "colab": {
     "base_uri": "https://localhost:8080/",
     "height": 1000,
     "output_embedded_package_id": "13nVeRm1eZ2IjIjAlbDry_9vcEM5IWF5Y"
    },
    "executionInfo": {
     "elapsed": 8269285,
     "status": "ok",
     "timestamp": 1606834790876,
     "user": {
      "displayName": "Zakaria Bekkar",
      "photoUrl": "",
      "userId": "11013878220604787588"
     },
     "user_tz": -60
    },
    "id": "rvaawOvZOgky",
    "outputId": "a3930ff3-4134-4137-d2d6-72b51ea57c41"
   },
   "outputs": [
    {
     "data": {
      "text/plain": [
       "Output hidden; open in https://colab.research.google.com to view."
      ]
     },
     "metadata": {},
     "output_type": "display_data"
    }
   ],
   "source": [
    "y_p_ap, X_p_ap = lss_separate_method_comp(task =task,\n",
    "                          data_path=data_path,\n",
    "                          events_path=events_path,\n",
    "                          motion_param_path=motion_param_path,\n",
    "                          cache_mem_path=cache_mem_path,\n",
    "                          activity_mat_saving_path=activity_mat_saving_path,\n",
    "                          analysis_type=analysis_type,\n",
    "                          param_modulation=False,\n",
    "                          t_r=t_r,\n",
    "                          drift_model=drift_model,\n",
    "                          drift_order=drift_order,\n",
    "                          hrf_model=hrf_model,\n",
    "                          pre_whitening_spec=pre_whitening_spec,\n",
    "                          apply_trans_mask=apply_trans_mask,\n",
    "                          roi_img=roi_img,  \n",
    "                          hpf_cut=hpf_cut,\n",
    "                          smoothing_fwhm=smoothing_fwhm,\n",
    "                          standardize=standardize,\n",
    "                          detrend=detrend,minimize_memory=minimize_memory)"
   ]
  },
  {
   "cell_type": "code",
   "execution_count": 51,
   "metadata": {
    "executionInfo": {
     "elapsed": 8268431,
     "status": "ok",
     "timestamp": 1606834790877,
     "user": {
      "displayName": "Zakaria Bekkar",
      "photoUrl": "",
      "userId": "11013878220604787588"
     },
     "user_tz": -60
    },
    "id": "eHnGAIIlOgkz"
   },
   "outputs": [],
   "source": [
    "y_g.append(y_p_ap)\n",
    "X_g.append(X_p_ap)"
   ]
  },
  {
   "cell_type": "markdown",
   "metadata": {
    "id": "VojdNQPXOgkz"
   },
   "source": [
    "### Run PA"
   ]
  },
  {
   "cell_type": "code",
   "execution_count": 52,
   "metadata": {
    "executionInfo": {
     "elapsed": 8266750,
     "status": "ok",
     "timestamp": 1606834790878,
     "user": {
      "displayName": "Zakaria Bekkar",
      "photoUrl": "",
      "userId": "11013878220604787588"
     },
     "user_tz": -60
    },
    "id": "EfYBvC6TOgkz"
   },
   "outputs": [],
   "source": [
    "data_path = 'ses-19/func/wrdcsub-01_ses-19_task-PreferencePaintings_dir-pa_bold.nii.gz'\n",
    "events_path = 'ses-19/func/sub-01_ses-19_task-PreferencePaintings_dir-pa_events.tsv'\n",
    "motion_param_path = 'ses-19/func/rp_dcsub-01_ses-19_task-PreferencePaintings_dir-pa_bold.txt'\n",
    "task = 'Paintings'"
   ]
  },
  {
   "cell_type": "code",
   "execution_count": 53,
   "metadata": {
    "executionInfo": {
     "elapsed": 8266862,
     "status": "ok",
     "timestamp": 1606834791561,
     "user": {
      "displayName": "Zakaria Bekkar",
      "photoUrl": "",
      "userId": "11013878220604787588"
     },
     "user_tz": -60
    },
    "id": "2ZOY_kKbOgkz"
   },
   "outputs": [],
   "source": [
    "analysis_type = 'High_Low_Pleasance'\n",
    "hrf_model = 'spm + derivative'\n",
    "param_modulation = False\n",
    "drift_model='cosine'\n",
    "t_r=2\n",
    "drift_order=None\n",
    "apply_trans_mask=True\n",
    "roi_img = mask_img\n",
    "standardize=True\n",
    "detrend=True\n",
    "minimize_memory = True\n",
    "activity_mat_saving_path = 'mvpa/test2'\n",
    "\n",
    "events = pd.read_csv(events_path,sep='\\t')\n",
    "\n",
    "# onset shift in order to capture the very moment of the appreciation decision\n",
    "events['onset'] = events['onset']-1\n",
    "\n",
    "onset_periods = [events['onset'][i+1] - events['onset'][i]  for i in range(len(events['onset']))if (i<len(events['onset'])-1)]\n",
    "onset_periods = np.array(onset_periods)\n",
    "onset_freq = np.reciprocal(onset_periods)\n",
    "hpf_cut = np.min(onset_freq)/2 # cf High Pass Filtering Rule of Thumb ( fMRI Handbook 2011)"
   ]
  },
  {
   "cell_type": "code",
   "execution_count": 54,
   "metadata": {
    "colab": {
     "base_uri": "https://localhost:8080/",
     "height": 1000,
     "output_embedded_package_id": "1gQPU91EwTEsPzeghFBaulxgQYPaK1F8i"
    },
    "executionInfo": {
     "elapsed": 9458152,
     "status": "ok",
     "timestamp": 1606835983344,
     "user": {
      "displayName": "Zakaria Bekkar",
      "photoUrl": "",
      "userId": "11013878220604787588"
     },
     "user_tz": -60
    },
    "id": "CxYYQ2Q5Ogkz",
    "outputId": "769c1517-7f60-46de-a602-a3a03984c910"
   },
   "outputs": [
    {
     "data": {
      "text/plain": [
       "Output hidden; open in https://colab.research.google.com to view."
      ]
     },
     "metadata": {},
     "output_type": "display_data"
    }
   ],
   "source": [
    "y_p_pa, X_p_pa = lss_separate_method_comp(task =task,\n",
    "                          data_path=data_path,\n",
    "                          events_path=events_path,\n",
    "                          motion_param_path=motion_param_path,\n",
    "                          cache_mem_path=cache_mem_path,\n",
    "                          activity_mat_saving_path=activity_mat_saving_path,\n",
    "                          analysis_type=analysis_type,\n",
    "                          param_modulation=False,\n",
    "                          t_r=t_r,\n",
    "                          drift_model=drift_model,\n",
    "                          drift_order=drift_order,\n",
    "                          hrf_model=hrf_model,\n",
    "                          pre_whitening_spec=pre_whitening_spec,\n",
    "                          apply_trans_mask=apply_trans_mask,\n",
    "                          roi_img=roi_img,  \n",
    "                          hpf_cut=hpf_cut,\n",
    "                          smoothing_fwhm=smoothing_fwhm,\n",
    "                          standardize=standardize,\n",
    "                          detrend=detrend,minimize_memory=minimize_memory)"
   ]
  },
  {
   "cell_type": "code",
   "execution_count": 55,
   "metadata": {
    "executionInfo": {
     "elapsed": 9457162,
     "status": "ok",
     "timestamp": 1606835983346,
     "user": {
      "displayName": "Zakaria Bekkar",
      "photoUrl": "",
      "userId": "11013878220604787588"
     },
     "user_tz": -60
    },
    "id": "yPduJmo3Ogk0"
   },
   "outputs": [],
   "source": [
    "y_g.append(y_p_pa)\n",
    "X_g.append(X_p_pa)"
   ]
  },
  {
   "cell_type": "markdown",
   "metadata": {
    "id": "nOKHhR-HOgk0"
   },
   "source": [
    "### Global Dataset Construction"
   ]
  },
  {
   "cell_type": "code",
   "execution_count": 56,
   "metadata": {
    "executionInfo": {
     "elapsed": 9455330,
     "status": "ok",
     "timestamp": 1606835983346,
     "user": {
      "displayName": "Zakaria Bekkar",
      "photoUrl": "",
      "userId": "11013878220604787588"
     },
     "user_tz": -60
    },
    "id": "O-7xPJduOgk0"
   },
   "outputs": [],
   "source": [
    "y = np.vstack(y_g)\n",
    "X = np.vstack(X_g)"
   ]
  },
  {
   "cell_type": "code",
   "execution_count": 57,
   "metadata": {
    "colab": {
     "base_uri": "https://localhost:8080/"
    },
    "executionInfo": {
     "elapsed": 9454569,
     "status": "ok",
     "timestamp": 1606835983347,
     "user": {
      "displayName": "Zakaria Bekkar",
      "photoUrl": "",
      "userId": "11013878220604787588"
     },
     "user_tz": -60
    },
    "id": "0Unf2I_SOgk0",
    "outputId": "61536009-e858-4bd1-d94f-84b60543379a"
   },
   "outputs": [
    {
     "data": {
      "text/plain": [
       "(480, 419)"
      ]
     },
     "execution_count": 57,
     "metadata": {
      "tags": []
     },
     "output_type": "execute_result"
    }
   ],
   "source": [
    "X.shape"
   ]
  },
  {
   "cell_type": "code",
   "execution_count": 58,
   "metadata": {
    "colab": {
     "base_uri": "https://localhost:8080/"
    },
    "executionInfo": {
     "elapsed": 9453783,
     "status": "ok",
     "timestamp": 1606835983348,
     "user": {
      "displayName": "Zakaria Bekkar",
      "photoUrl": "",
      "userId": "11013878220604787588"
     },
     "user_tz": -60
    },
    "id": "n85rH6a_Ogk0",
    "outputId": "d66df28e-dcb1-4a9c-e47f-615e2a62b801"
   },
   "outputs": [
    {
     "data": {
      "text/plain": [
       "array([[ 1.00620139,  0.91337193,  0.54629895, ...,  0.67847235,\n",
       "         0.61899622, -0.42831131],\n",
       "       [-0.68480556, -1.1568001 , -1.53464582, ..., -0.01942868,\n",
       "        -0.7583772 , -1.25290124],\n",
       "       [-1.1994338 , -0.01367773, -0.20605007, ...,  1.02716037,\n",
       "         1.12637635, -0.85956316],\n",
       "       ...,\n",
       "       [-2.0193216 , -0.65321685,  0.6645793 , ..., -0.7328387 ,\n",
       "        -1.05438298, -1.54787692],\n",
       "       [ 1.71189886,  1.08917469,  0.21640225, ...,  2.0377567 ,\n",
       "         1.4789918 ,  1.39594905],\n",
       "       [-0.13012454, -1.4256977 , -0.68877881, ..., -0.55413558,\n",
       "         0.43212135, -1.02214869]])"
      ]
     },
     "execution_count": 58,
     "metadata": {
      "tags": []
     },
     "output_type": "execute_result"
    }
   ],
   "source": [
    "X"
   ]
  },
  {
   "cell_type": "code",
   "execution_count": 59,
   "metadata": {
    "colab": {
     "base_uri": "https://localhost:8080/"
    },
    "executionInfo": {
     "elapsed": 9453040,
     "status": "ok",
     "timestamp": 1606835983349,
     "user": {
      "displayName": "Zakaria Bekkar",
      "photoUrl": "",
      "userId": "11013878220604787588"
     },
     "user_tz": -60
    },
    "id": "YxNYYAF9Ogk0",
    "outputId": "82c01957-d036-4752-da31-e4f78f0748cb"
   },
   "outputs": [
    {
     "data": {
      "text/plain": [
       "(480, 1)"
      ]
     },
     "execution_count": 59,
     "metadata": {
      "tags": []
     },
     "output_type": "execute_result"
    }
   ],
   "source": [
    "y.shape"
   ]
  },
  {
   "cell_type": "code",
   "execution_count": 60,
   "metadata": {
    "colab": {
     "base_uri": "https://localhost:8080/"
    },
    "executionInfo": {
     "elapsed": 9452311,
     "status": "ok",
     "timestamp": 1606835983349,
     "user": {
      "displayName": "Zakaria Bekkar",
      "photoUrl": "",
      "userId": "11013878220604787588"
     },
     "user_tz": -60
    },
    "id": "i2ngbPFfOgk0",
    "outputId": "039300eb-f17b-4639-8e8c-7f5ef9746e99"
   },
   "outputs": [
    {
     "data": {
      "text/plain": [
       "array([['HP'],\n",
       "       ['HP'],\n",
       "       ['HP'],\n",
       "       ['HP'],\n",
       "       ['HP'],\n",
       "       ['HP'],\n",
       "       ['HP'],\n",
       "       ['HP'],\n",
       "       ['HP'],\n",
       "       ['HP'],\n",
       "       ['HP'],\n",
       "       ['HP'],\n",
       "       ['HP'],\n",
       "       ['HP'],\n",
       "       ['HP'],\n",
       "       ['HP'],\n",
       "       ['HP'],\n",
       "       ['HP'],\n",
       "       ['HP'],\n",
       "       ['HP'],\n",
       "       ['HP'],\n",
       "       ['HP'],\n",
       "       ['LP'],\n",
       "       ['LP'],\n",
       "       ['LP'],\n",
       "       ['LP'],\n",
       "       ['LP'],\n",
       "       ['LP'],\n",
       "       ['LP'],\n",
       "       ['LP'],\n",
       "       ['LP'],\n",
       "       ['LP'],\n",
       "       ['LP'],\n",
       "       ['LP'],\n",
       "       ['LP'],\n",
       "       ['LP'],\n",
       "       ['LP'],\n",
       "       ['LP'],\n",
       "       ['LP'],\n",
       "       ['LP'],\n",
       "       ['LP'],\n",
       "       ['LP'],\n",
       "       ['LP'],\n",
       "       ['LP'],\n",
       "       ['LP'],\n",
       "       ['LP'],\n",
       "       ['LP'],\n",
       "       ['LP'],\n",
       "       ['LP'],\n",
       "       ['LP'],\n",
       "       ['LP'],\n",
       "       ['LP'],\n",
       "       ['LP'],\n",
       "       ['LP'],\n",
       "       ['LP'],\n",
       "       ['LP'],\n",
       "       ['LP'],\n",
       "       ['LP'],\n",
       "       ['LP'],\n",
       "       ['LP'],\n",
       "       ['HP'],\n",
       "       ['HP'],\n",
       "       ['HP'],\n",
       "       ['HP'],\n",
       "       ['HP'],\n",
       "       ['HP'],\n",
       "       ['HP'],\n",
       "       ['HP'],\n",
       "       ['HP'],\n",
       "       ['HP'],\n",
       "       ['HP'],\n",
       "       ['HP'],\n",
       "       ['HP'],\n",
       "       ['HP'],\n",
       "       ['HP'],\n",
       "       ['HP'],\n",
       "       ['HP'],\n",
       "       ['HP'],\n",
       "       ['HP'],\n",
       "       ['HP'],\n",
       "       ['HP'],\n",
       "       ['HP'],\n",
       "       ['HP'],\n",
       "       ['HP'],\n",
       "       ['HP'],\n",
       "       ['HP'],\n",
       "       ['HP'],\n",
       "       ['HP'],\n",
       "       ['HP'],\n",
       "       ['HP'],\n",
       "       ['HP'],\n",
       "       ['LP'],\n",
       "       ['LP'],\n",
       "       ['LP'],\n",
       "       ['LP'],\n",
       "       ['LP'],\n",
       "       ['LP'],\n",
       "       ['LP'],\n",
       "       ['LP'],\n",
       "       ['LP'],\n",
       "       ['LP'],\n",
       "       ['LP'],\n",
       "       ['LP'],\n",
       "       ['LP'],\n",
       "       ['LP'],\n",
       "       ['LP'],\n",
       "       ['LP'],\n",
       "       ['LP'],\n",
       "       ['LP'],\n",
       "       ['LP'],\n",
       "       ['LP'],\n",
       "       ['LP'],\n",
       "       ['LP'],\n",
       "       ['LP'],\n",
       "       ['LP'],\n",
       "       ['LP'],\n",
       "       ['LP'],\n",
       "       ['LP'],\n",
       "       ['LP'],\n",
       "       ['LP'],\n",
       "       ['HP'],\n",
       "       ['HP'],\n",
       "       ['HP'],\n",
       "       ['HP'],\n",
       "       ['HP'],\n",
       "       ['HP'],\n",
       "       ['HP'],\n",
       "       ['HP'],\n",
       "       ['HP'],\n",
       "       ['HP'],\n",
       "       ['HP'],\n",
       "       ['HP'],\n",
       "       ['HP'],\n",
       "       ['HP'],\n",
       "       ['HP'],\n",
       "       ['HP'],\n",
       "       ['HP'],\n",
       "       ['HP'],\n",
       "       ['HP'],\n",
       "       ['HP'],\n",
       "       ['HP'],\n",
       "       ['HP'],\n",
       "       ['HP'],\n",
       "       ['HP'],\n",
       "       ['HP'],\n",
       "       ['HP'],\n",
       "       ['HP'],\n",
       "       ['HP'],\n",
       "       ['HP'],\n",
       "       ['HP'],\n",
       "       ['HP'],\n",
       "       ['HP'],\n",
       "       ['HP'],\n",
       "       ['HP'],\n",
       "       ['HP'],\n",
       "       ['HP'],\n",
       "       ['HP'],\n",
       "       ['HP'],\n",
       "       ['HP'],\n",
       "       ['LP'],\n",
       "       ['LP'],\n",
       "       ['LP'],\n",
       "       ['LP'],\n",
       "       ['LP'],\n",
       "       ['LP'],\n",
       "       ['LP'],\n",
       "       ['LP'],\n",
       "       ['LP'],\n",
       "       ['LP'],\n",
       "       ['LP'],\n",
       "       ['LP'],\n",
       "       ['LP'],\n",
       "       ['LP'],\n",
       "       ['LP'],\n",
       "       ['LP'],\n",
       "       ['LP'],\n",
       "       ['LP'],\n",
       "       ['LP'],\n",
       "       ['LP'],\n",
       "       ['LP'],\n",
       "       ['HP'],\n",
       "       ['HP'],\n",
       "       ['HP'],\n",
       "       ['HP'],\n",
       "       ['HP'],\n",
       "       ['HP'],\n",
       "       ['HP'],\n",
       "       ['HP'],\n",
       "       ['HP'],\n",
       "       ['HP'],\n",
       "       ['HP'],\n",
       "       ['HP'],\n",
       "       ['HP'],\n",
       "       ['HP'],\n",
       "       ['HP'],\n",
       "       ['HP'],\n",
       "       ['HP'],\n",
       "       ['HP'],\n",
       "       ['HP'],\n",
       "       ['HP'],\n",
       "       ['HP'],\n",
       "       ['HP'],\n",
       "       ['HP'],\n",
       "       ['HP'],\n",
       "       ['HP'],\n",
       "       ['HP'],\n",
       "       ['HP'],\n",
       "       ['HP'],\n",
       "       ['HP'],\n",
       "       ['HP'],\n",
       "       ['HP'],\n",
       "       ['HP'],\n",
       "       ['HP'],\n",
       "       ['HP'],\n",
       "       ['HP'],\n",
       "       ['HP'],\n",
       "       ['HP'],\n",
       "       ['LP'],\n",
       "       ['LP'],\n",
       "       ['LP'],\n",
       "       ['LP'],\n",
       "       ['LP'],\n",
       "       ['LP'],\n",
       "       ['LP'],\n",
       "       ['LP'],\n",
       "       ['LP'],\n",
       "       ['LP'],\n",
       "       ['LP'],\n",
       "       ['LP'],\n",
       "       ['LP'],\n",
       "       ['LP'],\n",
       "       ['LP'],\n",
       "       ['LP'],\n",
       "       ['LP'],\n",
       "       ['LP'],\n",
       "       ['LP'],\n",
       "       ['LP'],\n",
       "       ['LP'],\n",
       "       ['LP'],\n",
       "       ['LP'],\n",
       "       ['HP'],\n",
       "       ['HP'],\n",
       "       ['HP'],\n",
       "       ['HP'],\n",
       "       ['HP'],\n",
       "       ['HP'],\n",
       "       ['HP'],\n",
       "       ['HP'],\n",
       "       ['HP'],\n",
       "       ['HP'],\n",
       "       ['HP'],\n",
       "       ['HP'],\n",
       "       ['HP'],\n",
       "       ['HP'],\n",
       "       ['HP'],\n",
       "       ['HP'],\n",
       "       ['HP'],\n",
       "       ['HP'],\n",
       "       ['HP'],\n",
       "       ['HP'],\n",
       "       ['HP'],\n",
       "       ['HP'],\n",
       "       ['HP'],\n",
       "       ['HP'],\n",
       "       ['HP'],\n",
       "       ['HP'],\n",
       "       ['HP'],\n",
       "       ['HP'],\n",
       "       ['HP'],\n",
       "       ['HP'],\n",
       "       ['LP'],\n",
       "       ['LP'],\n",
       "       ['LP'],\n",
       "       ['LP'],\n",
       "       ['LP'],\n",
       "       ['LP'],\n",
       "       ['LP'],\n",
       "       ['LP'],\n",
       "       ['LP'],\n",
       "       ['LP'],\n",
       "       ['LP'],\n",
       "       ['LP'],\n",
       "       ['LP'],\n",
       "       ['LP'],\n",
       "       ['LP'],\n",
       "       ['LP'],\n",
       "       ['LP'],\n",
       "       ['LP'],\n",
       "       ['LP'],\n",
       "       ['LP'],\n",
       "       ['LP'],\n",
       "       ['LP'],\n",
       "       ['LP'],\n",
       "       ['LP'],\n",
       "       ['LP'],\n",
       "       ['LP'],\n",
       "       ['LP'],\n",
       "       ['LP'],\n",
       "       ['LP'],\n",
       "       ['LP'],\n",
       "       ['HP'],\n",
       "       ['HP'],\n",
       "       ['HP'],\n",
       "       ['HP'],\n",
       "       ['HP'],\n",
       "       ['HP'],\n",
       "       ['HP'],\n",
       "       ['HP'],\n",
       "       ['HP'],\n",
       "       ['HP'],\n",
       "       ['HP'],\n",
       "       ['HP'],\n",
       "       ['HP'],\n",
       "       ['HP'],\n",
       "       ['HP'],\n",
       "       ['HP'],\n",
       "       ['HP'],\n",
       "       ['HP'],\n",
       "       ['HP'],\n",
       "       ['HP'],\n",
       "       ['HP'],\n",
       "       ['HP'],\n",
       "       ['HP'],\n",
       "       ['HP'],\n",
       "       ['HP'],\n",
       "       ['HP'],\n",
       "       ['HP'],\n",
       "       ['HP'],\n",
       "       ['HP'],\n",
       "       ['LP'],\n",
       "       ['LP'],\n",
       "       ['LP'],\n",
       "       ['LP'],\n",
       "       ['LP'],\n",
       "       ['LP'],\n",
       "       ['LP'],\n",
       "       ['LP'],\n",
       "       ['LP'],\n",
       "       ['LP'],\n",
       "       ['LP'],\n",
       "       ['LP'],\n",
       "       ['LP'],\n",
       "       ['LP'],\n",
       "       ['LP'],\n",
       "       ['LP'],\n",
       "       ['LP'],\n",
       "       ['LP'],\n",
       "       ['LP'],\n",
       "       ['LP'],\n",
       "       ['LP'],\n",
       "       ['LP'],\n",
       "       ['LP'],\n",
       "       ['LP'],\n",
       "       ['LP'],\n",
       "       ['LP'],\n",
       "       ['LP'],\n",
       "       ['LP'],\n",
       "       ['LP'],\n",
       "       ['LP'],\n",
       "       ['LP'],\n",
       "       ['HP'],\n",
       "       ['HP'],\n",
       "       ['HP'],\n",
       "       ['HP'],\n",
       "       ['HP'],\n",
       "       ['HP'],\n",
       "       ['HP'],\n",
       "       ['HP'],\n",
       "       ['HP'],\n",
       "       ['HP'],\n",
       "       ['HP'],\n",
       "       ['HP'],\n",
       "       ['LP'],\n",
       "       ['LP'],\n",
       "       ['LP'],\n",
       "       ['LP'],\n",
       "       ['LP'],\n",
       "       ['LP'],\n",
       "       ['LP'],\n",
       "       ['LP'],\n",
       "       ['LP'],\n",
       "       ['LP'],\n",
       "       ['LP'],\n",
       "       ['LP'],\n",
       "       ['LP'],\n",
       "       ['LP'],\n",
       "       ['LP'],\n",
       "       ['LP'],\n",
       "       ['LP'],\n",
       "       ['LP'],\n",
       "       ['LP'],\n",
       "       ['LP'],\n",
       "       ['LP'],\n",
       "       ['LP'],\n",
       "       ['LP'],\n",
       "       ['LP'],\n",
       "       ['LP'],\n",
       "       ['LP'],\n",
       "       ['LP'],\n",
       "       ['LP'],\n",
       "       ['LP'],\n",
       "       ['LP'],\n",
       "       ['LP'],\n",
       "       ['LP'],\n",
       "       ['LP'],\n",
       "       ['LP'],\n",
       "       ['LP'],\n",
       "       ['LP'],\n",
       "       ['LP'],\n",
       "       ['LP'],\n",
       "       ['LP'],\n",
       "       ['LP'],\n",
       "       ['LP'],\n",
       "       ['LP'],\n",
       "       ['LP'],\n",
       "       ['LP'],\n",
       "       ['LP'],\n",
       "       ['LP'],\n",
       "       ['LP'],\n",
       "       ['LP'],\n",
       "       ['HP'],\n",
       "       ['HP'],\n",
       "       ['HP'],\n",
       "       ['HP'],\n",
       "       ['HP'],\n",
       "       ['HP'],\n",
       "       ['HP'],\n",
       "       ['HP'],\n",
       "       ['HP'],\n",
       "       ['HP'],\n",
       "       ['HP'],\n",
       "       ['HP'],\n",
       "       ['HP'],\n",
       "       ['HP'],\n",
       "       ['HP'],\n",
       "       ['HP'],\n",
       "       ['LP'],\n",
       "       ['LP'],\n",
       "       ['LP'],\n",
       "       ['LP'],\n",
       "       ['LP'],\n",
       "       ['LP'],\n",
       "       ['LP'],\n",
       "       ['LP'],\n",
       "       ['LP'],\n",
       "       ['LP'],\n",
       "       ['LP'],\n",
       "       ['LP'],\n",
       "       ['LP'],\n",
       "       ['LP'],\n",
       "       ['LP'],\n",
       "       ['LP'],\n",
       "       ['LP'],\n",
       "       ['LP'],\n",
       "       ['LP'],\n",
       "       ['LP'],\n",
       "       ['LP'],\n",
       "       ['LP'],\n",
       "       ['LP'],\n",
       "       ['LP'],\n",
       "       ['LP'],\n",
       "       ['LP'],\n",
       "       ['LP'],\n",
       "       ['LP'],\n",
       "       ['LP'],\n",
       "       ['LP'],\n",
       "       ['LP'],\n",
       "       ['LP'],\n",
       "       ['LP'],\n",
       "       ['LP'],\n",
       "       ['LP'],\n",
       "       ['LP'],\n",
       "       ['LP'],\n",
       "       ['LP'],\n",
       "       ['LP'],\n",
       "       ['LP'],\n",
       "       ['LP'],\n",
       "       ['LP'],\n",
       "       ['LP'],\n",
       "       ['LP']], dtype='<U2')"
      ]
     },
     "execution_count": 60,
     "metadata": {
      "tags": []
     },
     "output_type": "execute_result"
    }
   ],
   "source": [
    "y"
   ]
  },
  {
   "cell_type": "code",
   "execution_count": 61,
   "metadata": {
    "executionInfo": {
     "elapsed": 9450268,
     "status": "ok",
     "timestamp": 1606835983350,
     "user": {
      "displayName": "Zakaria Bekkar",
      "photoUrl": "",
      "userId": "11013878220604787588"
     },
     "user_tz": -60
    },
    "id": "JFWUovynOgk0"
   },
   "outputs": [],
   "source": [
    "np.save('mvpa/X_pref_lss_shift_constant_vmpfc',X)\n",
    "np.save('mvpa/y_pref_lss_shift_constant_vmpfc',y)\n"
   ]
  },
  {
   "cell_type": "code",
   "execution_count": null,
   "metadata": {
    "id": "_6uRKLQJUyCS"
   },
   "outputs": [],
   "source": []
  }
 ],
 "metadata": {
  "colab": {
   "name": "MVPA - LSS SEPARATE - constant - vmPFC",
   "provenance": [
    {
     "file_id": "1UdNmt20P2ZWaTmzZLXsjTIiXYmSd1qbR",
     "timestamp": 1606824961684
    }
   ]
  },
  "kernelspec": {
   "display_name": "Python 3",
   "language": "python",
   "name": "python3"
  },
  "language_info": {
   "codemirror_mode": {
    "name": "ipython",
    "version": 3
   },
   "file_extension": ".py",
   "mimetype": "text/x-python",
   "name": "python",
   "nbconvert_exporter": "python",
   "pygments_lexer": "ipython3",
   "version": "3.8.5"
  }
 },
 "nbformat": 4,
 "nbformat_minor": 1
}
